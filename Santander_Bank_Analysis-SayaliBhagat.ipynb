{
 "cells": [
  {
   "cell_type": "markdown",
   "metadata": {},
   "source": [
    "Below is the code for my best submission in the Santander Product Recommendation Kaggle Competition (a link to the competition: https://www.kaggle.com/c/santander-product-recommendation). This competition interested me because I had never created a recommendation model before, and it seemed like a good challenge. The goal of this competition is to recommend new products to customers.\n",
    "\n",
    "The section of the analysis are:\n",
    "-Inspecting the data\n",
    "-Cleaning a sample of the data\n",
    "-Feature Engineering a sample of the data\n",
    "-Cleaning and Feature Engineering the data to be used to train the model and make predictions with\n",
    "-Building the Model\n",
    "-A summary of my findings"
   ]
  },
  {
   "cell_type": "code",
   "execution_count": 1,
   "metadata": {},
   "outputs": [
    {
     "name": "stderr",
     "output_type": "stream",
     "text": [
      "/Library/Frameworks/Python.framework/Versions/2.7/lib/python2.7/site-packages/sklearn/cross_validation.py:44: DeprecationWarning: This module was deprecated in version 0.18 in favor of the model_selection module into which all the refactored classes and functions are moved. Also note that the interface of the new CV iterators are different from that of this module. This module will be removed in 0.20.\n",
      "  \"This module will be removed in 0.20.\", DeprecationWarning)\n"
     ]
    }
   ],
   "source": [
    "import pandas as pd\n",
    "import numpy as np\n",
    "import matplotlib.pyplot as plt\n",
    "import seaborn as sns\n",
    "from sklearn.model_selection import train_test_split\n",
    "from datetime import datetime\n",
    "from sklearn.metrics import accuracy_score\n",
    "import xgboost as xgb"
   ]
  },
  {
   "cell_type": "markdown",
   "metadata": {
    "collapsed": true
   },
   "source": [
    "Load the datasets"
   ]
  },
  {
   "cell_type": "code",
   "execution_count": 2,
   "metadata": {},
   "outputs": [
    {
     "name": "stderr",
     "output_type": "stream",
     "text": [
      "/Library/Frameworks/Python.framework/Versions/2.7/lib/python2.7/site-packages/IPython/core/interactiveshell.py:2717: DtypeWarning: Columns (5,8,11,15) have mixed types. Specify dtype option on import or set low_memory=False.\n",
      "  interactivity=interactivity, compiler=compiler, result=result)\n",
      "/Library/Frameworks/Python.framework/Versions/2.7/lib/python2.7/site-packages/IPython/core/interactiveshell.py:2717: DtypeWarning: Columns (15) have mixed types. Specify dtype option on import or set low_memory=False.\n",
      "  interactivity=interactivity, compiler=compiler, result=result)\n"
     ]
    }
   ],
   "source": [
    "train = pd.read_csv(\"/Users/Dave/Desktop/Programming/Personal Projects/Santander-Kaggle/train.csv\")\n",
    "test = pd.read_csv(\"/Users/Dave/Desktop/Programming/Personal Projects/Santander-Kaggle/test.csv\")"
   ]
  },
  {
   "cell_type": "markdown",
   "metadata": {},
   "source": [
    "Convert all the dates to datetime"
   ]
  },
  {
   "cell_type": "code",
   "execution_count": 3,
   "metadata": {
    "collapsed": true
   },
   "outputs": [],
   "source": [
    "train.fecha_dato = pd.to_datetime(train.fecha_dato, format=\"%Y-%m-%d\")\n",
    "train.fecha_alta = pd.to_datetime(train.fecha_alta, format=\"%Y-%m-%d\")\n",
    "test.fecha_dato = pd.to_datetime(test.fecha_dato, format=\"%m/%d/%y\")\n",
    "test.fecha_alta = pd.to_datetime(test.fecha_alta, format=\"%m/%d/%y\")"
   ]
  },
  {
   "cell_type": "markdown",
   "metadata": {},
   "source": [
    "# Inspect the Data"
   ]
  },
  {
   "cell_type": "markdown",
   "metadata": {},
   "source": [
    "Let's take a preview at the data we are working with"
   ]
  },
  {
   "cell_type": "code",
   "execution_count": 4,
   "metadata": {
    "scrolled": true
   },
   "outputs": [
    {
     "data": {
      "text/html": [
       "<div>\n",
       "<table border=\"1\" class=\"dataframe\">\n",
       "  <thead>\n",
       "    <tr style=\"text-align: right;\">\n",
       "      <th></th>\n",
       "      <th>fecha_dato</th>\n",
       "      <th>ncodpers</th>\n",
       "      <th>ind_empleado</th>\n",
       "      <th>pais_residencia</th>\n",
       "      <th>sexo</th>\n",
       "      <th>age</th>\n",
       "      <th>fecha_alta</th>\n",
       "      <th>ind_nuevo</th>\n",
       "      <th>antiguedad</th>\n",
       "      <th>indrel</th>\n",
       "      <th>ult_fec_cli_1t</th>\n",
       "      <th>indrel_1mes</th>\n",
       "      <th>tiprel_1mes</th>\n",
       "      <th>indresi</th>\n",
       "      <th>indext</th>\n",
       "      <th>conyuemp</th>\n",
       "      <th>canal_entrada</th>\n",
       "      <th>indfall</th>\n",
       "      <th>tipodom</th>\n",
       "      <th>cod_prov</th>\n",
       "      <th>nomprov</th>\n",
       "      <th>ind_actividad_cliente</th>\n",
       "      <th>renta</th>\n",
       "      <th>segmento</th>\n",
       "      <th>ind_ahor_fin_ult1</th>\n",
       "      <th>ind_aval_fin_ult1</th>\n",
       "      <th>ind_cco_fin_ult1</th>\n",
       "      <th>ind_cder_fin_ult1</th>\n",
       "      <th>ind_cno_fin_ult1</th>\n",
       "      <th>ind_ctju_fin_ult1</th>\n",
       "      <th>ind_ctma_fin_ult1</th>\n",
       "      <th>ind_ctop_fin_ult1</th>\n",
       "      <th>ind_ctpp_fin_ult1</th>\n",
       "      <th>ind_deco_fin_ult1</th>\n",
       "      <th>ind_deme_fin_ult1</th>\n",
       "      <th>ind_dela_fin_ult1</th>\n",
       "      <th>ind_ecue_fin_ult1</th>\n",
       "      <th>ind_fond_fin_ult1</th>\n",
       "      <th>ind_hip_fin_ult1</th>\n",
       "      <th>ind_plan_fin_ult1</th>\n",
       "      <th>ind_pres_fin_ult1</th>\n",
       "      <th>ind_reca_fin_ult1</th>\n",
       "      <th>ind_tjcr_fin_ult1</th>\n",
       "      <th>ind_valo_fin_ult1</th>\n",
       "      <th>ind_viv_fin_ult1</th>\n",
       "      <th>ind_nomina_ult1</th>\n",
       "      <th>ind_nom_pens_ult1</th>\n",
       "      <th>ind_recibo_ult1</th>\n",
       "    </tr>\n",
       "  </thead>\n",
       "  <tbody>\n",
       "    <tr>\n",
       "      <th>0</th>\n",
       "      <td>2015-01-28</td>\n",
       "      <td>1375586</td>\n",
       "      <td>N</td>\n",
       "      <td>ES</td>\n",
       "      <td>H</td>\n",
       "      <td>35</td>\n",
       "      <td>2015-01-12</td>\n",
       "      <td>0.0</td>\n",
       "      <td>6</td>\n",
       "      <td>1.0</td>\n",
       "      <td>NaN</td>\n",
       "      <td>1</td>\n",
       "      <td>A</td>\n",
       "      <td>S</td>\n",
       "      <td>N</td>\n",
       "      <td>NaN</td>\n",
       "      <td>KHL</td>\n",
       "      <td>N</td>\n",
       "      <td>1.0</td>\n",
       "      <td>29.0</td>\n",
       "      <td>MALAGA</td>\n",
       "      <td>1.0</td>\n",
       "      <td>87218.10</td>\n",
       "      <td>02 - PARTICULARES</td>\n",
       "      <td>0</td>\n",
       "      <td>0</td>\n",
       "      <td>1</td>\n",
       "      <td>0</td>\n",
       "      <td>0</td>\n",
       "      <td>0</td>\n",
       "      <td>0</td>\n",
       "      <td>0</td>\n",
       "      <td>0</td>\n",
       "      <td>0</td>\n",
       "      <td>0</td>\n",
       "      <td>0</td>\n",
       "      <td>0</td>\n",
       "      <td>0</td>\n",
       "      <td>0</td>\n",
       "      <td>0</td>\n",
       "      <td>0</td>\n",
       "      <td>0</td>\n",
       "      <td>0</td>\n",
       "      <td>0</td>\n",
       "      <td>0</td>\n",
       "      <td>0.0</td>\n",
       "      <td>0.0</td>\n",
       "      <td>0</td>\n",
       "    </tr>\n",
       "    <tr>\n",
       "      <th>1</th>\n",
       "      <td>2015-01-28</td>\n",
       "      <td>1050611</td>\n",
       "      <td>N</td>\n",
       "      <td>ES</td>\n",
       "      <td>V</td>\n",
       "      <td>23</td>\n",
       "      <td>2012-08-10</td>\n",
       "      <td>0.0</td>\n",
       "      <td>35</td>\n",
       "      <td>1.0</td>\n",
       "      <td>NaN</td>\n",
       "      <td>1</td>\n",
       "      <td>I</td>\n",
       "      <td>S</td>\n",
       "      <td>S</td>\n",
       "      <td>NaN</td>\n",
       "      <td>KHE</td>\n",
       "      <td>N</td>\n",
       "      <td>1.0</td>\n",
       "      <td>13.0</td>\n",
       "      <td>CIUDAD REAL</td>\n",
       "      <td>0.0</td>\n",
       "      <td>35548.74</td>\n",
       "      <td>03 - UNIVERSITARIO</td>\n",
       "      <td>0</td>\n",
       "      <td>0</td>\n",
       "      <td>1</td>\n",
       "      <td>0</td>\n",
       "      <td>0</td>\n",
       "      <td>0</td>\n",
       "      <td>0</td>\n",
       "      <td>0</td>\n",
       "      <td>0</td>\n",
       "      <td>0</td>\n",
       "      <td>0</td>\n",
       "      <td>0</td>\n",
       "      <td>0</td>\n",
       "      <td>0</td>\n",
       "      <td>0</td>\n",
       "      <td>0</td>\n",
       "      <td>0</td>\n",
       "      <td>0</td>\n",
       "      <td>0</td>\n",
       "      <td>0</td>\n",
       "      <td>0</td>\n",
       "      <td>0.0</td>\n",
       "      <td>0.0</td>\n",
       "      <td>0</td>\n",
       "    </tr>\n",
       "    <tr>\n",
       "      <th>2</th>\n",
       "      <td>2015-01-28</td>\n",
       "      <td>1050612</td>\n",
       "      <td>N</td>\n",
       "      <td>ES</td>\n",
       "      <td>V</td>\n",
       "      <td>23</td>\n",
       "      <td>2012-08-10</td>\n",
       "      <td>0.0</td>\n",
       "      <td>35</td>\n",
       "      <td>1.0</td>\n",
       "      <td>NaN</td>\n",
       "      <td>1</td>\n",
       "      <td>I</td>\n",
       "      <td>S</td>\n",
       "      <td>N</td>\n",
       "      <td>NaN</td>\n",
       "      <td>KHE</td>\n",
       "      <td>N</td>\n",
       "      <td>1.0</td>\n",
       "      <td>13.0</td>\n",
       "      <td>CIUDAD REAL</td>\n",
       "      <td>0.0</td>\n",
       "      <td>122179.11</td>\n",
       "      <td>03 - UNIVERSITARIO</td>\n",
       "      <td>0</td>\n",
       "      <td>0</td>\n",
       "      <td>1</td>\n",
       "      <td>0</td>\n",
       "      <td>0</td>\n",
       "      <td>0</td>\n",
       "      <td>0</td>\n",
       "      <td>0</td>\n",
       "      <td>0</td>\n",
       "      <td>0</td>\n",
       "      <td>0</td>\n",
       "      <td>0</td>\n",
       "      <td>0</td>\n",
       "      <td>0</td>\n",
       "      <td>0</td>\n",
       "      <td>0</td>\n",
       "      <td>0</td>\n",
       "      <td>0</td>\n",
       "      <td>0</td>\n",
       "      <td>0</td>\n",
       "      <td>0</td>\n",
       "      <td>0.0</td>\n",
       "      <td>0.0</td>\n",
       "      <td>0</td>\n",
       "    </tr>\n",
       "    <tr>\n",
       "      <th>3</th>\n",
       "      <td>2015-01-28</td>\n",
       "      <td>1050613</td>\n",
       "      <td>N</td>\n",
       "      <td>ES</td>\n",
       "      <td>H</td>\n",
       "      <td>22</td>\n",
       "      <td>2012-08-10</td>\n",
       "      <td>0.0</td>\n",
       "      <td>35</td>\n",
       "      <td>1.0</td>\n",
       "      <td>NaN</td>\n",
       "      <td>1</td>\n",
       "      <td>I</td>\n",
       "      <td>S</td>\n",
       "      <td>N</td>\n",
       "      <td>NaN</td>\n",
       "      <td>KHD</td>\n",
       "      <td>N</td>\n",
       "      <td>1.0</td>\n",
       "      <td>50.0</td>\n",
       "      <td>ZARAGOZA</td>\n",
       "      <td>0.0</td>\n",
       "      <td>119775.54</td>\n",
       "      <td>03 - UNIVERSITARIO</td>\n",
       "      <td>0</td>\n",
       "      <td>0</td>\n",
       "      <td>0</td>\n",
       "      <td>0</td>\n",
       "      <td>0</td>\n",
       "      <td>0</td>\n",
       "      <td>0</td>\n",
       "      <td>0</td>\n",
       "      <td>0</td>\n",
       "      <td>1</td>\n",
       "      <td>0</td>\n",
       "      <td>0</td>\n",
       "      <td>0</td>\n",
       "      <td>0</td>\n",
       "      <td>0</td>\n",
       "      <td>0</td>\n",
       "      <td>0</td>\n",
       "      <td>0</td>\n",
       "      <td>0</td>\n",
       "      <td>0</td>\n",
       "      <td>0</td>\n",
       "      <td>0.0</td>\n",
       "      <td>0.0</td>\n",
       "      <td>0</td>\n",
       "    </tr>\n",
       "    <tr>\n",
       "      <th>4</th>\n",
       "      <td>2015-01-28</td>\n",
       "      <td>1050614</td>\n",
       "      <td>N</td>\n",
       "      <td>ES</td>\n",
       "      <td>V</td>\n",
       "      <td>23</td>\n",
       "      <td>2012-08-10</td>\n",
       "      <td>0.0</td>\n",
       "      <td>35</td>\n",
       "      <td>1.0</td>\n",
       "      <td>NaN</td>\n",
       "      <td>1</td>\n",
       "      <td>A</td>\n",
       "      <td>S</td>\n",
       "      <td>N</td>\n",
       "      <td>NaN</td>\n",
       "      <td>KHE</td>\n",
       "      <td>N</td>\n",
       "      <td>1.0</td>\n",
       "      <td>50.0</td>\n",
       "      <td>ZARAGOZA</td>\n",
       "      <td>1.0</td>\n",
       "      <td>NaN</td>\n",
       "      <td>03 - UNIVERSITARIO</td>\n",
       "      <td>0</td>\n",
       "      <td>0</td>\n",
       "      <td>1</td>\n",
       "      <td>0</td>\n",
       "      <td>0</td>\n",
       "      <td>0</td>\n",
       "      <td>0</td>\n",
       "      <td>0</td>\n",
       "      <td>0</td>\n",
       "      <td>0</td>\n",
       "      <td>0</td>\n",
       "      <td>0</td>\n",
       "      <td>0</td>\n",
       "      <td>0</td>\n",
       "      <td>0</td>\n",
       "      <td>0</td>\n",
       "      <td>0</td>\n",
       "      <td>0</td>\n",
       "      <td>0</td>\n",
       "      <td>0</td>\n",
       "      <td>0</td>\n",
       "      <td>0.0</td>\n",
       "      <td>0.0</td>\n",
       "      <td>0</td>\n",
       "    </tr>\n",
       "  </tbody>\n",
       "</table>\n",
       "</div>"
      ],
      "text/plain": [
       "  fecha_dato  ncodpers ind_empleado pais_residencia sexo  age fecha_alta  \\\n",
       "0 2015-01-28   1375586            N              ES    H   35 2015-01-12   \n",
       "1 2015-01-28   1050611            N              ES    V   23 2012-08-10   \n",
       "2 2015-01-28   1050612            N              ES    V   23 2012-08-10   \n",
       "3 2015-01-28   1050613            N              ES    H   22 2012-08-10   \n",
       "4 2015-01-28   1050614            N              ES    V   23 2012-08-10   \n",
       "\n",
       "   ind_nuevo antiguedad  indrel ult_fec_cli_1t indrel_1mes tiprel_1mes  \\\n",
       "0        0.0          6     1.0            NaN           1           A   \n",
       "1        0.0         35     1.0            NaN           1           I   \n",
       "2        0.0         35     1.0            NaN           1           I   \n",
       "3        0.0         35     1.0            NaN           1           I   \n",
       "4        0.0         35     1.0            NaN           1           A   \n",
       "\n",
       "  indresi indext conyuemp canal_entrada indfall  tipodom  cod_prov  \\\n",
       "0       S      N      NaN           KHL       N      1.0      29.0   \n",
       "1       S      S      NaN           KHE       N      1.0      13.0   \n",
       "2       S      N      NaN           KHE       N      1.0      13.0   \n",
       "3       S      N      NaN           KHD       N      1.0      50.0   \n",
       "4       S      N      NaN           KHE       N      1.0      50.0   \n",
       "\n",
       "       nomprov  ind_actividad_cliente      renta            segmento  \\\n",
       "0       MALAGA                    1.0   87218.10   02 - PARTICULARES   \n",
       "1  CIUDAD REAL                    0.0   35548.74  03 - UNIVERSITARIO   \n",
       "2  CIUDAD REAL                    0.0  122179.11  03 - UNIVERSITARIO   \n",
       "3     ZARAGOZA                    0.0  119775.54  03 - UNIVERSITARIO   \n",
       "4     ZARAGOZA                    1.0        NaN  03 - UNIVERSITARIO   \n",
       "\n",
       "   ind_ahor_fin_ult1  ind_aval_fin_ult1  ind_cco_fin_ult1  ind_cder_fin_ult1  \\\n",
       "0                  0                  0                 1                  0   \n",
       "1                  0                  0                 1                  0   \n",
       "2                  0                  0                 1                  0   \n",
       "3                  0                  0                 0                  0   \n",
       "4                  0                  0                 1                  0   \n",
       "\n",
       "   ind_cno_fin_ult1  ind_ctju_fin_ult1  ind_ctma_fin_ult1  ind_ctop_fin_ult1  \\\n",
       "0                 0                  0                  0                  0   \n",
       "1                 0                  0                  0                  0   \n",
       "2                 0                  0                  0                  0   \n",
       "3                 0                  0                  0                  0   \n",
       "4                 0                  0                  0                  0   \n",
       "\n",
       "   ind_ctpp_fin_ult1  ind_deco_fin_ult1  ind_deme_fin_ult1  ind_dela_fin_ult1  \\\n",
       "0                  0                  0                  0                  0   \n",
       "1                  0                  0                  0                  0   \n",
       "2                  0                  0                  0                  0   \n",
       "3                  0                  1                  0                  0   \n",
       "4                  0                  0                  0                  0   \n",
       "\n",
       "   ind_ecue_fin_ult1  ind_fond_fin_ult1  ind_hip_fin_ult1  ind_plan_fin_ult1  \\\n",
       "0                  0                  0                 0                  0   \n",
       "1                  0                  0                 0                  0   \n",
       "2                  0                  0                 0                  0   \n",
       "3                  0                  0                 0                  0   \n",
       "4                  0                  0                 0                  0   \n",
       "\n",
       "   ind_pres_fin_ult1  ind_reca_fin_ult1  ind_tjcr_fin_ult1  ind_valo_fin_ult1  \\\n",
       "0                  0                  0                  0                  0   \n",
       "1                  0                  0                  0                  0   \n",
       "2                  0                  0                  0                  0   \n",
       "3                  0                  0                  0                  0   \n",
       "4                  0                  0                  0                  0   \n",
       "\n",
       "   ind_viv_fin_ult1  ind_nomina_ult1  ind_nom_pens_ult1  ind_recibo_ult1  \n",
       "0                 0              0.0                0.0                0  \n",
       "1                 0              0.0                0.0                0  \n",
       "2                 0              0.0                0.0                0  \n",
       "3                 0              0.0                0.0                0  \n",
       "4                 0              0.0                0.0                0  "
      ]
     },
     "execution_count": 4,
     "metadata": {},
     "output_type": "execute_result"
    }
   ],
   "source": [
    "pd.set_option('display.max_columns', 50)\n",
    "train.head()"
   ]
  },
  {
   "cell_type": "code",
   "execution_count": 5,
   "metadata": {},
   "outputs": [
    {
     "name": "stderr",
     "output_type": "stream",
     "text": [
      "/Library/Frameworks/Python.framework/Versions/2.7/lib/python2.7/site-packages/numpy/lib/function_base.py:3834: RuntimeWarning: Invalid value encountered in percentile\n",
      "  RuntimeWarning)\n"
     ]
    },
    {
     "data": {
      "text/html": [
       "<div>\n",
       "<table border=\"1\" class=\"dataframe\">\n",
       "  <thead>\n",
       "    <tr style=\"text-align: right;\">\n",
       "      <th></th>\n",
       "      <th>ncodpers</th>\n",
       "      <th>ind_nuevo</th>\n",
       "      <th>indrel</th>\n",
       "      <th>tipodom</th>\n",
       "      <th>cod_prov</th>\n",
       "      <th>ind_actividad_cliente</th>\n",
       "      <th>renta</th>\n",
       "      <th>ind_ahor_fin_ult1</th>\n",
       "      <th>ind_aval_fin_ult1</th>\n",
       "      <th>ind_cco_fin_ult1</th>\n",
       "      <th>ind_cder_fin_ult1</th>\n",
       "      <th>ind_cno_fin_ult1</th>\n",
       "      <th>ind_ctju_fin_ult1</th>\n",
       "      <th>ind_ctma_fin_ult1</th>\n",
       "      <th>ind_ctop_fin_ult1</th>\n",
       "      <th>ind_ctpp_fin_ult1</th>\n",
       "      <th>ind_deco_fin_ult1</th>\n",
       "      <th>ind_deme_fin_ult1</th>\n",
       "      <th>ind_dela_fin_ult1</th>\n",
       "      <th>ind_ecue_fin_ult1</th>\n",
       "      <th>ind_fond_fin_ult1</th>\n",
       "      <th>ind_hip_fin_ult1</th>\n",
       "      <th>ind_plan_fin_ult1</th>\n",
       "      <th>ind_pres_fin_ult1</th>\n",
       "      <th>ind_reca_fin_ult1</th>\n",
       "      <th>ind_tjcr_fin_ult1</th>\n",
       "      <th>ind_valo_fin_ult1</th>\n",
       "      <th>ind_viv_fin_ult1</th>\n",
       "      <th>ind_nomina_ult1</th>\n",
       "      <th>ind_nom_pens_ult1</th>\n",
       "      <th>ind_recibo_ult1</th>\n",
       "    </tr>\n",
       "  </thead>\n",
       "  <tbody>\n",
       "    <tr>\n",
       "      <th>count</th>\n",
       "      <td>1.364731e+07</td>\n",
       "      <td>1.361958e+07</td>\n",
       "      <td>1.361958e+07</td>\n",
       "      <td>13619574.0</td>\n",
       "      <td>1.355372e+07</td>\n",
       "      <td>1.361958e+07</td>\n",
       "      <td>1.085293e+07</td>\n",
       "      <td>1.364731e+07</td>\n",
       "      <td>1.364731e+07</td>\n",
       "      <td>1.364731e+07</td>\n",
       "      <td>1.364731e+07</td>\n",
       "      <td>1.364731e+07</td>\n",
       "      <td>1.364731e+07</td>\n",
       "      <td>1.364731e+07</td>\n",
       "      <td>1.364731e+07</td>\n",
       "      <td>1.364731e+07</td>\n",
       "      <td>1.364731e+07</td>\n",
       "      <td>1.364731e+07</td>\n",
       "      <td>1.364731e+07</td>\n",
       "      <td>1.364731e+07</td>\n",
       "      <td>1.364731e+07</td>\n",
       "      <td>1.364731e+07</td>\n",
       "      <td>1.364731e+07</td>\n",
       "      <td>1.364731e+07</td>\n",
       "      <td>1.364731e+07</td>\n",
       "      <td>1.364731e+07</td>\n",
       "      <td>1.364731e+07</td>\n",
       "      <td>1.364731e+07</td>\n",
       "      <td>1.363125e+07</td>\n",
       "      <td>1.363125e+07</td>\n",
       "      <td>1.364731e+07</td>\n",
       "    </tr>\n",
       "    <tr>\n",
       "      <th>mean</th>\n",
       "      <td>8.349042e+05</td>\n",
       "      <td>5.956184e-02</td>\n",
       "      <td>1.178399e+00</td>\n",
       "      <td>1.0</td>\n",
       "      <td>2.657147e+01</td>\n",
       "      <td>4.578105e-01</td>\n",
       "      <td>1.342543e+05</td>\n",
       "      <td>1.022912e-04</td>\n",
       "      <td>2.315475e-05</td>\n",
       "      <td>6.554837e-01</td>\n",
       "      <td>3.939238e-04</td>\n",
       "      <td>8.086722e-02</td>\n",
       "      <td>9.474175e-03</td>\n",
       "      <td>9.726606e-03</td>\n",
       "      <td>1.290083e-01</td>\n",
       "      <td>4.330583e-02</td>\n",
       "      <td>1.778739e-03</td>\n",
       "      <td>1.660987e-03</td>\n",
       "      <td>4.296679e-02</td>\n",
       "      <td>8.274357e-02</td>\n",
       "      <td>1.848599e-02</td>\n",
       "      <td>5.886582e-03</td>\n",
       "      <td>9.170965e-03</td>\n",
       "      <td>2.627404e-03</td>\n",
       "      <td>5.253636e-02</td>\n",
       "      <td>4.438868e-02</td>\n",
       "      <td>2.560761e-02</td>\n",
       "      <td>3.847718e-03</td>\n",
       "      <td>5.472434e-02</td>\n",
       "      <td>5.942854e-02</td>\n",
       "      <td>1.279162e-01</td>\n",
       "    </tr>\n",
       "    <tr>\n",
       "      <th>std</th>\n",
       "      <td>4.315650e+05</td>\n",
       "      <td>2.366733e-01</td>\n",
       "      <td>4.177469e+00</td>\n",
       "      <td>0.0</td>\n",
       "      <td>1.278402e+01</td>\n",
       "      <td>4.982169e-01</td>\n",
       "      <td>2.306202e+05</td>\n",
       "      <td>1.011340e-02</td>\n",
       "      <td>4.811883e-03</td>\n",
       "      <td>4.752103e-01</td>\n",
       "      <td>1.984361e-02</td>\n",
       "      <td>2.726311e-01</td>\n",
       "      <td>9.687320e-02</td>\n",
       "      <td>9.814275e-02</td>\n",
       "      <td>3.352091e-01</td>\n",
       "      <td>2.035447e-01</td>\n",
       "      <td>4.213757e-02</td>\n",
       "      <td>4.072135e-02</td>\n",
       "      <td>2.027823e-01</td>\n",
       "      <td>2.754942e-01</td>\n",
       "      <td>1.347006e-01</td>\n",
       "      <td>7.649791e-02</td>\n",
       "      <td>9.532502e-02</td>\n",
       "      <td>5.119083e-02</td>\n",
       "      <td>2.231060e-01</td>\n",
       "      <td>2.059571e-01</td>\n",
       "      <td>1.579616e-01</td>\n",
       "      <td>6.191053e-02</td>\n",
       "      <td>2.274414e-01</td>\n",
       "      <td>2.364250e-01</td>\n",
       "      <td>3.339965e-01</td>\n",
       "    </tr>\n",
       "    <tr>\n",
       "      <th>min</th>\n",
       "      <td>1.588900e+04</td>\n",
       "      <td>0.000000e+00</td>\n",
       "      <td>1.000000e+00</td>\n",
       "      <td>1.0</td>\n",
       "      <td>1.000000e+00</td>\n",
       "      <td>0.000000e+00</td>\n",
       "      <td>1.202730e+03</td>\n",
       "      <td>0.000000e+00</td>\n",
       "      <td>0.000000e+00</td>\n",
       "      <td>0.000000e+00</td>\n",
       "      <td>0.000000e+00</td>\n",
       "      <td>0.000000e+00</td>\n",
       "      <td>0.000000e+00</td>\n",
       "      <td>0.000000e+00</td>\n",
       "      <td>0.000000e+00</td>\n",
       "      <td>0.000000e+00</td>\n",
       "      <td>0.000000e+00</td>\n",
       "      <td>0.000000e+00</td>\n",
       "      <td>0.000000e+00</td>\n",
       "      <td>0.000000e+00</td>\n",
       "      <td>0.000000e+00</td>\n",
       "      <td>0.000000e+00</td>\n",
       "      <td>0.000000e+00</td>\n",
       "      <td>0.000000e+00</td>\n",
       "      <td>0.000000e+00</td>\n",
       "      <td>0.000000e+00</td>\n",
       "      <td>0.000000e+00</td>\n",
       "      <td>0.000000e+00</td>\n",
       "      <td>0.000000e+00</td>\n",
       "      <td>0.000000e+00</td>\n",
       "      <td>0.000000e+00</td>\n",
       "    </tr>\n",
       "    <tr>\n",
       "      <th>25%</th>\n",
       "      <td>4.528130e+05</td>\n",
       "      <td>NaN</td>\n",
       "      <td>NaN</td>\n",
       "      <td>NaN</td>\n",
       "      <td>NaN</td>\n",
       "      <td>NaN</td>\n",
       "      <td>NaN</td>\n",
       "      <td>0.000000e+00</td>\n",
       "      <td>0.000000e+00</td>\n",
       "      <td>0.000000e+00</td>\n",
       "      <td>0.000000e+00</td>\n",
       "      <td>0.000000e+00</td>\n",
       "      <td>0.000000e+00</td>\n",
       "      <td>0.000000e+00</td>\n",
       "      <td>0.000000e+00</td>\n",
       "      <td>0.000000e+00</td>\n",
       "      <td>0.000000e+00</td>\n",
       "      <td>0.000000e+00</td>\n",
       "      <td>0.000000e+00</td>\n",
       "      <td>0.000000e+00</td>\n",
       "      <td>0.000000e+00</td>\n",
       "      <td>0.000000e+00</td>\n",
       "      <td>0.000000e+00</td>\n",
       "      <td>0.000000e+00</td>\n",
       "      <td>0.000000e+00</td>\n",
       "      <td>0.000000e+00</td>\n",
       "      <td>0.000000e+00</td>\n",
       "      <td>0.000000e+00</td>\n",
       "      <td>NaN</td>\n",
       "      <td>NaN</td>\n",
       "      <td>0.000000e+00</td>\n",
       "    </tr>\n",
       "    <tr>\n",
       "      <th>50%</th>\n",
       "      <td>9.318930e+05</td>\n",
       "      <td>NaN</td>\n",
       "      <td>NaN</td>\n",
       "      <td>NaN</td>\n",
       "      <td>NaN</td>\n",
       "      <td>NaN</td>\n",
       "      <td>NaN</td>\n",
       "      <td>0.000000e+00</td>\n",
       "      <td>0.000000e+00</td>\n",
       "      <td>1.000000e+00</td>\n",
       "      <td>0.000000e+00</td>\n",
       "      <td>0.000000e+00</td>\n",
       "      <td>0.000000e+00</td>\n",
       "      <td>0.000000e+00</td>\n",
       "      <td>0.000000e+00</td>\n",
       "      <td>0.000000e+00</td>\n",
       "      <td>0.000000e+00</td>\n",
       "      <td>0.000000e+00</td>\n",
       "      <td>0.000000e+00</td>\n",
       "      <td>0.000000e+00</td>\n",
       "      <td>0.000000e+00</td>\n",
       "      <td>0.000000e+00</td>\n",
       "      <td>0.000000e+00</td>\n",
       "      <td>0.000000e+00</td>\n",
       "      <td>0.000000e+00</td>\n",
       "      <td>0.000000e+00</td>\n",
       "      <td>0.000000e+00</td>\n",
       "      <td>0.000000e+00</td>\n",
       "      <td>NaN</td>\n",
       "      <td>NaN</td>\n",
       "      <td>0.000000e+00</td>\n",
       "    </tr>\n",
       "    <tr>\n",
       "      <th>75%</th>\n",
       "      <td>1.199286e+06</td>\n",
       "      <td>NaN</td>\n",
       "      <td>NaN</td>\n",
       "      <td>NaN</td>\n",
       "      <td>NaN</td>\n",
       "      <td>NaN</td>\n",
       "      <td>NaN</td>\n",
       "      <td>0.000000e+00</td>\n",
       "      <td>0.000000e+00</td>\n",
       "      <td>1.000000e+00</td>\n",
       "      <td>0.000000e+00</td>\n",
       "      <td>0.000000e+00</td>\n",
       "      <td>0.000000e+00</td>\n",
       "      <td>0.000000e+00</td>\n",
       "      <td>0.000000e+00</td>\n",
       "      <td>0.000000e+00</td>\n",
       "      <td>0.000000e+00</td>\n",
       "      <td>0.000000e+00</td>\n",
       "      <td>0.000000e+00</td>\n",
       "      <td>0.000000e+00</td>\n",
       "      <td>0.000000e+00</td>\n",
       "      <td>0.000000e+00</td>\n",
       "      <td>0.000000e+00</td>\n",
       "      <td>0.000000e+00</td>\n",
       "      <td>0.000000e+00</td>\n",
       "      <td>0.000000e+00</td>\n",
       "      <td>0.000000e+00</td>\n",
       "      <td>0.000000e+00</td>\n",
       "      <td>NaN</td>\n",
       "      <td>NaN</td>\n",
       "      <td>0.000000e+00</td>\n",
       "    </tr>\n",
       "    <tr>\n",
       "      <th>max</th>\n",
       "      <td>1.553689e+06</td>\n",
       "      <td>1.000000e+00</td>\n",
       "      <td>9.900000e+01</td>\n",
       "      <td>1.0</td>\n",
       "      <td>5.200000e+01</td>\n",
       "      <td>1.000000e+00</td>\n",
       "      <td>2.889440e+07</td>\n",
       "      <td>1.000000e+00</td>\n",
       "      <td>1.000000e+00</td>\n",
       "      <td>1.000000e+00</td>\n",
       "      <td>1.000000e+00</td>\n",
       "      <td>1.000000e+00</td>\n",
       "      <td>1.000000e+00</td>\n",
       "      <td>1.000000e+00</td>\n",
       "      <td>1.000000e+00</td>\n",
       "      <td>1.000000e+00</td>\n",
       "      <td>1.000000e+00</td>\n",
       "      <td>1.000000e+00</td>\n",
       "      <td>1.000000e+00</td>\n",
       "      <td>1.000000e+00</td>\n",
       "      <td>1.000000e+00</td>\n",
       "      <td>1.000000e+00</td>\n",
       "      <td>1.000000e+00</td>\n",
       "      <td>1.000000e+00</td>\n",
       "      <td>1.000000e+00</td>\n",
       "      <td>1.000000e+00</td>\n",
       "      <td>1.000000e+00</td>\n",
       "      <td>1.000000e+00</td>\n",
       "      <td>1.000000e+00</td>\n",
       "      <td>1.000000e+00</td>\n",
       "      <td>1.000000e+00</td>\n",
       "    </tr>\n",
       "  </tbody>\n",
       "</table>\n",
       "</div>"
      ],
      "text/plain": [
       "           ncodpers     ind_nuevo        indrel     tipodom      cod_prov  \\\n",
       "count  1.364731e+07  1.361958e+07  1.361958e+07  13619574.0  1.355372e+07   \n",
       "mean   8.349042e+05  5.956184e-02  1.178399e+00         1.0  2.657147e+01   \n",
       "std    4.315650e+05  2.366733e-01  4.177469e+00         0.0  1.278402e+01   \n",
       "min    1.588900e+04  0.000000e+00  1.000000e+00         1.0  1.000000e+00   \n",
       "25%    4.528130e+05           NaN           NaN         NaN           NaN   \n",
       "50%    9.318930e+05           NaN           NaN         NaN           NaN   \n",
       "75%    1.199286e+06           NaN           NaN         NaN           NaN   \n",
       "max    1.553689e+06  1.000000e+00  9.900000e+01         1.0  5.200000e+01   \n",
       "\n",
       "       ind_actividad_cliente         renta  ind_ahor_fin_ult1  \\\n",
       "count           1.361958e+07  1.085293e+07       1.364731e+07   \n",
       "mean            4.578105e-01  1.342543e+05       1.022912e-04   \n",
       "std             4.982169e-01  2.306202e+05       1.011340e-02   \n",
       "min             0.000000e+00  1.202730e+03       0.000000e+00   \n",
       "25%                      NaN           NaN       0.000000e+00   \n",
       "50%                      NaN           NaN       0.000000e+00   \n",
       "75%                      NaN           NaN       0.000000e+00   \n",
       "max             1.000000e+00  2.889440e+07       1.000000e+00   \n",
       "\n",
       "       ind_aval_fin_ult1  ind_cco_fin_ult1  ind_cder_fin_ult1  \\\n",
       "count       1.364731e+07      1.364731e+07       1.364731e+07   \n",
       "mean        2.315475e-05      6.554837e-01       3.939238e-04   \n",
       "std         4.811883e-03      4.752103e-01       1.984361e-02   \n",
       "min         0.000000e+00      0.000000e+00       0.000000e+00   \n",
       "25%         0.000000e+00      0.000000e+00       0.000000e+00   \n",
       "50%         0.000000e+00      1.000000e+00       0.000000e+00   \n",
       "75%         0.000000e+00      1.000000e+00       0.000000e+00   \n",
       "max         1.000000e+00      1.000000e+00       1.000000e+00   \n",
       "\n",
       "       ind_cno_fin_ult1  ind_ctju_fin_ult1  ind_ctma_fin_ult1  \\\n",
       "count      1.364731e+07       1.364731e+07       1.364731e+07   \n",
       "mean       8.086722e-02       9.474175e-03       9.726606e-03   \n",
       "std        2.726311e-01       9.687320e-02       9.814275e-02   \n",
       "min        0.000000e+00       0.000000e+00       0.000000e+00   \n",
       "25%        0.000000e+00       0.000000e+00       0.000000e+00   \n",
       "50%        0.000000e+00       0.000000e+00       0.000000e+00   \n",
       "75%        0.000000e+00       0.000000e+00       0.000000e+00   \n",
       "max        1.000000e+00       1.000000e+00       1.000000e+00   \n",
       "\n",
       "       ind_ctop_fin_ult1  ind_ctpp_fin_ult1  ind_deco_fin_ult1  \\\n",
       "count       1.364731e+07       1.364731e+07       1.364731e+07   \n",
       "mean        1.290083e-01       4.330583e-02       1.778739e-03   \n",
       "std         3.352091e-01       2.035447e-01       4.213757e-02   \n",
       "min         0.000000e+00       0.000000e+00       0.000000e+00   \n",
       "25%         0.000000e+00       0.000000e+00       0.000000e+00   \n",
       "50%         0.000000e+00       0.000000e+00       0.000000e+00   \n",
       "75%         0.000000e+00       0.000000e+00       0.000000e+00   \n",
       "max         1.000000e+00       1.000000e+00       1.000000e+00   \n",
       "\n",
       "       ind_deme_fin_ult1  ind_dela_fin_ult1  ind_ecue_fin_ult1  \\\n",
       "count       1.364731e+07       1.364731e+07       1.364731e+07   \n",
       "mean        1.660987e-03       4.296679e-02       8.274357e-02   \n",
       "std         4.072135e-02       2.027823e-01       2.754942e-01   \n",
       "min         0.000000e+00       0.000000e+00       0.000000e+00   \n",
       "25%         0.000000e+00       0.000000e+00       0.000000e+00   \n",
       "50%         0.000000e+00       0.000000e+00       0.000000e+00   \n",
       "75%         0.000000e+00       0.000000e+00       0.000000e+00   \n",
       "max         1.000000e+00       1.000000e+00       1.000000e+00   \n",
       "\n",
       "       ind_fond_fin_ult1  ind_hip_fin_ult1  ind_plan_fin_ult1  \\\n",
       "count       1.364731e+07      1.364731e+07       1.364731e+07   \n",
       "mean        1.848599e-02      5.886582e-03       9.170965e-03   \n",
       "std         1.347006e-01      7.649791e-02       9.532502e-02   \n",
       "min         0.000000e+00      0.000000e+00       0.000000e+00   \n",
       "25%         0.000000e+00      0.000000e+00       0.000000e+00   \n",
       "50%         0.000000e+00      0.000000e+00       0.000000e+00   \n",
       "75%         0.000000e+00      0.000000e+00       0.000000e+00   \n",
       "max         1.000000e+00      1.000000e+00       1.000000e+00   \n",
       "\n",
       "       ind_pres_fin_ult1  ind_reca_fin_ult1  ind_tjcr_fin_ult1  \\\n",
       "count       1.364731e+07       1.364731e+07       1.364731e+07   \n",
       "mean        2.627404e-03       5.253636e-02       4.438868e-02   \n",
       "std         5.119083e-02       2.231060e-01       2.059571e-01   \n",
       "min         0.000000e+00       0.000000e+00       0.000000e+00   \n",
       "25%         0.000000e+00       0.000000e+00       0.000000e+00   \n",
       "50%         0.000000e+00       0.000000e+00       0.000000e+00   \n",
       "75%         0.000000e+00       0.000000e+00       0.000000e+00   \n",
       "max         1.000000e+00       1.000000e+00       1.000000e+00   \n",
       "\n",
       "       ind_valo_fin_ult1  ind_viv_fin_ult1  ind_nomina_ult1  \\\n",
       "count       1.364731e+07      1.364731e+07     1.363125e+07   \n",
       "mean        2.560761e-02      3.847718e-03     5.472434e-02   \n",
       "std         1.579616e-01      6.191053e-02     2.274414e-01   \n",
       "min         0.000000e+00      0.000000e+00     0.000000e+00   \n",
       "25%         0.000000e+00      0.000000e+00              NaN   \n",
       "50%         0.000000e+00      0.000000e+00              NaN   \n",
       "75%         0.000000e+00      0.000000e+00              NaN   \n",
       "max         1.000000e+00      1.000000e+00     1.000000e+00   \n",
       "\n",
       "       ind_nom_pens_ult1  ind_recibo_ult1  \n",
       "count       1.363125e+07     1.364731e+07  \n",
       "mean        5.942854e-02     1.279162e-01  \n",
       "std         2.364250e-01     3.339965e-01  \n",
       "min         0.000000e+00     0.000000e+00  \n",
       "25%                  NaN     0.000000e+00  \n",
       "50%                  NaN     0.000000e+00  \n",
       "75%                  NaN     0.000000e+00  \n",
       "max         1.000000e+00     1.000000e+00  "
      ]
     },
     "execution_count": 5,
     "metadata": {},
     "output_type": "execute_result"
    }
   ],
   "source": [
    "train.describe()"
   ]
  },
  {
   "cell_type": "markdown",
   "metadata": {},
   "source": [
    "We can already see that we have some missing values."
   ]
  },
  {
   "cell_type": "code",
   "execution_count": 6,
   "metadata": {},
   "outputs": [
    {
     "data": {
      "text/html": [
       "<div>\n",
       "<table border=\"1\" class=\"dataframe\">\n",
       "  <thead>\n",
       "    <tr style=\"text-align: right;\">\n",
       "      <th></th>\n",
       "      <th>ind_empleado</th>\n",
       "      <th>pais_residencia</th>\n",
       "      <th>sexo</th>\n",
       "      <th>age</th>\n",
       "      <th>antiguedad</th>\n",
       "      <th>ult_fec_cli_1t</th>\n",
       "      <th>indrel_1mes</th>\n",
       "      <th>tiprel_1mes</th>\n",
       "      <th>indresi</th>\n",
       "      <th>indext</th>\n",
       "      <th>conyuemp</th>\n",
       "      <th>canal_entrada</th>\n",
       "      <th>indfall</th>\n",
       "      <th>nomprov</th>\n",
       "      <th>segmento</th>\n",
       "    </tr>\n",
       "  </thead>\n",
       "  <tbody>\n",
       "    <tr>\n",
       "      <th>count</th>\n",
       "      <td>13619575</td>\n",
       "      <td>13619575</td>\n",
       "      <td>13619505</td>\n",
       "      <td>13647309</td>\n",
       "      <td>13647309</td>\n",
       "      <td>24793</td>\n",
       "      <td>13497528.0</td>\n",
       "      <td>13497528</td>\n",
       "      <td>13619575</td>\n",
       "      <td>13619575</td>\n",
       "      <td>1808</td>\n",
       "      <td>13461183</td>\n",
       "      <td>13619575</td>\n",
       "      <td>13553718</td>\n",
       "      <td>13457941</td>\n",
       "    </tr>\n",
       "    <tr>\n",
       "      <th>unique</th>\n",
       "      <td>5</td>\n",
       "      <td>118</td>\n",
       "      <td>2</td>\n",
       "      <td>235</td>\n",
       "      <td>507</td>\n",
       "      <td>223</td>\n",
       "      <td>13.0</td>\n",
       "      <td>5</td>\n",
       "      <td>2</td>\n",
       "      <td>2</td>\n",
       "      <td>2</td>\n",
       "      <td>162</td>\n",
       "      <td>2</td>\n",
       "      <td>52</td>\n",
       "      <td>3</td>\n",
       "    </tr>\n",
       "    <tr>\n",
       "      <th>top</th>\n",
       "      <td>N</td>\n",
       "      <td>ES</td>\n",
       "      <td>V</td>\n",
       "      <td>23</td>\n",
       "      <td>0</td>\n",
       "      <td>2015-12-24</td>\n",
       "      <td>1.0</td>\n",
       "      <td>I</td>\n",
       "      <td>S</td>\n",
       "      <td>N</td>\n",
       "      <td>N</td>\n",
       "      <td>KHE</td>\n",
       "      <td>N</td>\n",
       "      <td>MADRID</td>\n",
       "      <td>02 - PARTICULARES</td>\n",
       "    </tr>\n",
       "    <tr>\n",
       "      <th>freq</th>\n",
       "      <td>13610977</td>\n",
       "      <td>13553710</td>\n",
       "      <td>7424252</td>\n",
       "      <td>542682</td>\n",
       "      <td>134335</td>\n",
       "      <td>763</td>\n",
       "      <td>7277607.0</td>\n",
       "      <td>7304875</td>\n",
       "      <td>13553711</td>\n",
       "      <td>12974839</td>\n",
       "      <td>1791</td>\n",
       "      <td>4055270</td>\n",
       "      <td>13584813</td>\n",
       "      <td>4409600</td>\n",
       "      <td>7960220</td>\n",
       "    </tr>\n",
       "  </tbody>\n",
       "</table>\n",
       "</div>"
      ],
      "text/plain": [
       "       ind_empleado pais_residencia      sexo       age  antiguedad  \\\n",
       "count      13619575        13619575  13619505  13647309    13647309   \n",
       "unique            5             118         2       235         507   \n",
       "top               N              ES         V        23           0   \n",
       "freq       13610977        13553710   7424252    542682      134335   \n",
       "\n",
       "       ult_fec_cli_1t  indrel_1mes tiprel_1mes   indresi    indext conyuemp  \\\n",
       "count           24793   13497528.0    13497528  13619575  13619575     1808   \n",
       "unique            223         13.0           5         2         2        2   \n",
       "top        2015-12-24          1.0           I         S         N        N   \n",
       "freq              763    7277607.0     7304875  13553711  12974839     1791   \n",
       "\n",
       "       canal_entrada   indfall   nomprov           segmento  \n",
       "count       13461183  13619575  13553718           13457941  \n",
       "unique           162         2        52                  3  \n",
       "top              KHE         N    MADRID  02 - PARTICULARES  \n",
       "freq         4055270  13584813   4409600            7960220  "
      ]
     },
     "execution_count": 6,
     "metadata": {},
     "output_type": "execute_result"
    }
   ],
   "source": [
    "train.describe(include = ['object'])"
   ]
  },
  {
   "cell_type": "code",
   "execution_count": 7,
   "metadata": {},
   "outputs": [
    {
     "data": {
      "text/html": [
       "<div>\n",
       "<table border=\"1\" class=\"dataframe\">\n",
       "  <thead>\n",
       "    <tr style=\"text-align: right;\">\n",
       "      <th></th>\n",
       "      <th>fecha_dato</th>\n",
       "      <th>ncodpers</th>\n",
       "      <th>ind_empleado</th>\n",
       "      <th>pais_residencia</th>\n",
       "      <th>sexo</th>\n",
       "      <th>age</th>\n",
       "      <th>fecha_alta</th>\n",
       "      <th>ind_nuevo</th>\n",
       "      <th>antiguedad</th>\n",
       "      <th>indrel</th>\n",
       "      <th>ult_fec_cli_1t</th>\n",
       "      <th>indrel_1mes</th>\n",
       "      <th>tiprel_1mes</th>\n",
       "      <th>indresi</th>\n",
       "      <th>indext</th>\n",
       "      <th>conyuemp</th>\n",
       "      <th>canal_entrada</th>\n",
       "      <th>indfall</th>\n",
       "      <th>tipodom</th>\n",
       "      <th>cod_prov</th>\n",
       "      <th>nomprov</th>\n",
       "      <th>ind_actividad_cliente</th>\n",
       "      <th>renta</th>\n",
       "      <th>segmento</th>\n",
       "    </tr>\n",
       "  </thead>\n",
       "  <tbody>\n",
       "    <tr>\n",
       "      <th>0</th>\n",
       "      <td>2016-06-28</td>\n",
       "      <td>15889</td>\n",
       "      <td>F</td>\n",
       "      <td>ES</td>\n",
       "      <td>V</td>\n",
       "      <td>56</td>\n",
       "      <td>1995-01-16</td>\n",
       "      <td>0</td>\n",
       "      <td>256</td>\n",
       "      <td>1</td>\n",
       "      <td>NaN</td>\n",
       "      <td>1.0</td>\n",
       "      <td>A</td>\n",
       "      <td>S</td>\n",
       "      <td>N</td>\n",
       "      <td>N</td>\n",
       "      <td>KAT</td>\n",
       "      <td>N</td>\n",
       "      <td>1</td>\n",
       "      <td>28.0</td>\n",
       "      <td>MADRID</td>\n",
       "      <td>1</td>\n",
       "      <td>326124.9</td>\n",
       "      <td>01 - TOP</td>\n",
       "    </tr>\n",
       "    <tr>\n",
       "      <th>1</th>\n",
       "      <td>2016-06-28</td>\n",
       "      <td>1170544</td>\n",
       "      <td>N</td>\n",
       "      <td>ES</td>\n",
       "      <td>H</td>\n",
       "      <td>36</td>\n",
       "      <td>2013-08-28</td>\n",
       "      <td>0</td>\n",
       "      <td>34</td>\n",
       "      <td>1</td>\n",
       "      <td>NaN</td>\n",
       "      <td>1.0</td>\n",
       "      <td>I</td>\n",
       "      <td>S</td>\n",
       "      <td>N</td>\n",
       "      <td>NaN</td>\n",
       "      <td>KAT</td>\n",
       "      <td>N</td>\n",
       "      <td>1</td>\n",
       "      <td>3.0</td>\n",
       "      <td>ALICANTE</td>\n",
       "      <td>0</td>\n",
       "      <td>NA</td>\n",
       "      <td>02 - PARTICULARES</td>\n",
       "    </tr>\n",
       "    <tr>\n",
       "      <th>2</th>\n",
       "      <td>2016-06-28</td>\n",
       "      <td>1170545</td>\n",
       "      <td>N</td>\n",
       "      <td>ES</td>\n",
       "      <td>V</td>\n",
       "      <td>22</td>\n",
       "      <td>2013-08-28</td>\n",
       "      <td>0</td>\n",
       "      <td>34</td>\n",
       "      <td>1</td>\n",
       "      <td>NaN</td>\n",
       "      <td>1.0</td>\n",
       "      <td>A</td>\n",
       "      <td>S</td>\n",
       "      <td>N</td>\n",
       "      <td>NaN</td>\n",
       "      <td>KHE</td>\n",
       "      <td>N</td>\n",
       "      <td>1</td>\n",
       "      <td>15.0</td>\n",
       "      <td>CORUÑA, A</td>\n",
       "      <td>1</td>\n",
       "      <td>NA</td>\n",
       "      <td>03 - UNIVERSITARIO</td>\n",
       "    </tr>\n",
       "    <tr>\n",
       "      <th>3</th>\n",
       "      <td>2016-06-28</td>\n",
       "      <td>1170547</td>\n",
       "      <td>N</td>\n",
       "      <td>ES</td>\n",
       "      <td>H</td>\n",
       "      <td>22</td>\n",
       "      <td>2013-08-28</td>\n",
       "      <td>0</td>\n",
       "      <td>34</td>\n",
       "      <td>1</td>\n",
       "      <td>NaN</td>\n",
       "      <td>1.0</td>\n",
       "      <td>I</td>\n",
       "      <td>S</td>\n",
       "      <td>N</td>\n",
       "      <td>NaN</td>\n",
       "      <td>KHE</td>\n",
       "      <td>N</td>\n",
       "      <td>1</td>\n",
       "      <td>8.0</td>\n",
       "      <td>BARCELONA</td>\n",
       "      <td>0</td>\n",
       "      <td>148402.98</td>\n",
       "      <td>03 - UNIVERSITARIO</td>\n",
       "    </tr>\n",
       "    <tr>\n",
       "      <th>4</th>\n",
       "      <td>2016-06-28</td>\n",
       "      <td>1170548</td>\n",
       "      <td>N</td>\n",
       "      <td>ES</td>\n",
       "      <td>H</td>\n",
       "      <td>22</td>\n",
       "      <td>2013-08-28</td>\n",
       "      <td>0</td>\n",
       "      <td>34</td>\n",
       "      <td>1</td>\n",
       "      <td>NaN</td>\n",
       "      <td>1.0</td>\n",
       "      <td>I</td>\n",
       "      <td>S</td>\n",
       "      <td>N</td>\n",
       "      <td>NaN</td>\n",
       "      <td>KHE</td>\n",
       "      <td>N</td>\n",
       "      <td>1</td>\n",
       "      <td>7.0</td>\n",
       "      <td>BALEARS, ILLES</td>\n",
       "      <td>0</td>\n",
       "      <td>106885.8</td>\n",
       "      <td>03 - UNIVERSITARIO</td>\n",
       "    </tr>\n",
       "  </tbody>\n",
       "</table>\n",
       "</div>"
      ],
      "text/plain": [
       "  fecha_dato  ncodpers ind_empleado pais_residencia sexo  age fecha_alta  \\\n",
       "0 2016-06-28     15889            F              ES    V   56 1995-01-16   \n",
       "1 2016-06-28   1170544            N              ES    H   36 2013-08-28   \n",
       "2 2016-06-28   1170545            N              ES    V   22 2013-08-28   \n",
       "3 2016-06-28   1170547            N              ES    H   22 2013-08-28   \n",
       "4 2016-06-28   1170548            N              ES    H   22 2013-08-28   \n",
       "\n",
       "   ind_nuevo  antiguedad  indrel ult_fec_cli_1t  indrel_1mes tiprel_1mes  \\\n",
       "0          0         256       1            NaN          1.0           A   \n",
       "1          0          34       1            NaN          1.0           I   \n",
       "2          0          34       1            NaN          1.0           A   \n",
       "3          0          34       1            NaN          1.0           I   \n",
       "4          0          34       1            NaN          1.0           I   \n",
       "\n",
       "  indresi indext conyuemp canal_entrada indfall  tipodom  cod_prov  \\\n",
       "0       S      N        N           KAT       N        1      28.0   \n",
       "1       S      N      NaN           KAT       N        1       3.0   \n",
       "2       S      N      NaN           KHE       N        1      15.0   \n",
       "3       S      N      NaN           KHE       N        1       8.0   \n",
       "4       S      N      NaN           KHE       N        1       7.0   \n",
       "\n",
       "          nomprov  ind_actividad_cliente        renta            segmento  \n",
       "0          MADRID                      1     326124.9            01 - TOP  \n",
       "1        ALICANTE                      0           NA   02 - PARTICULARES  \n",
       "2       CORUÑA, A                      1           NA  03 - UNIVERSITARIO  \n",
       "3       BARCELONA                      0    148402.98  03 - UNIVERSITARIO  \n",
       "4  BALEARS, ILLES                      0     106885.8  03 - UNIVERSITARIO  "
      ]
     },
     "execution_count": 7,
     "metadata": {},
     "output_type": "execute_result"
    }
   ],
   "source": [
    "test.head()"
   ]
  },
  {
   "cell_type": "code",
   "execution_count": 8,
   "metadata": {},
   "outputs": [
    {
     "name": "stdout",
     "output_type": "stream",
     "text": [
      "(13647309, 48)\n",
      "(929615, 24)\n"
     ]
    }
   ],
   "source": [
    "print train.shape\n",
    "print test.shape"
   ]
  },
  {
   "cell_type": "code",
   "execution_count": 9,
   "metadata": {},
   "outputs": [
    {
     "data": {
      "text/plain": [
       "fecha_dato                      0\n",
       "ncodpers                        0\n",
       "ind_empleado                27734\n",
       "pais_residencia             27734\n",
       "sexo                        27804\n",
       "age                             0\n",
       "fecha_alta                  27734\n",
       "ind_nuevo                   27734\n",
       "antiguedad                      0\n",
       "indrel                      27734\n",
       "ult_fec_cli_1t           13622516\n",
       "indrel_1mes                149781\n",
       "tiprel_1mes                149781\n",
       "indresi                     27734\n",
       "indext                      27734\n",
       "conyuemp                 13645501\n",
       "canal_entrada              186126\n",
       "indfall                     27734\n",
       "tipodom                     27735\n",
       "cod_prov                    93591\n",
       "nomprov                     93591\n",
       "ind_actividad_cliente       27734\n",
       "renta                     2794375\n",
       "segmento                   189368\n",
       "ind_ahor_fin_ult1               0\n",
       "ind_aval_fin_ult1               0\n",
       "ind_cco_fin_ult1                0\n",
       "ind_cder_fin_ult1               0\n",
       "ind_cno_fin_ult1                0\n",
       "ind_ctju_fin_ult1               0\n",
       "ind_ctma_fin_ult1               0\n",
       "ind_ctop_fin_ult1               0\n",
       "ind_ctpp_fin_ult1               0\n",
       "ind_deco_fin_ult1               0\n",
       "ind_deme_fin_ult1               0\n",
       "ind_dela_fin_ult1               0\n",
       "ind_ecue_fin_ult1               0\n",
       "ind_fond_fin_ult1               0\n",
       "ind_hip_fin_ult1                0\n",
       "ind_plan_fin_ult1               0\n",
       "ind_pres_fin_ult1               0\n",
       "ind_reca_fin_ult1               0\n",
       "ind_tjcr_fin_ult1               0\n",
       "ind_valo_fin_ult1               0\n",
       "ind_viv_fin_ult1                0\n",
       "ind_nomina_ult1             16063\n",
       "ind_nom_pens_ult1           16063\n",
       "ind_recibo_ult1                 0\n",
       "dtype: int64"
      ]
     },
     "execution_count": 9,
     "metadata": {},
     "output_type": "execute_result"
    }
   ],
   "source": [
    "train.isnull().sum()"
   ]
  },
  {
   "cell_type": "markdown",
   "metadata": {},
   "source": [
    "There are numerous features with the same number of missing values, I expect those relate to the same rows. ult_fec_cli_1t and conyuemp are missing most of their data, hopefully we can extract some use from those features."
   ]
  },
  {
   "cell_type": "markdown",
   "metadata": {},
   "source": [
    "Combine the train and test sets to explore and clean the data."
   ]
  },
  {
   "cell_type": "code",
   "execution_count": 4,
   "metadata": {},
   "outputs": [],
   "source": [
    "df = pd.concat([train,test], axis = 0, ignore_index = True)"
   ]
  },
  {
   "cell_type": "markdown",
   "metadata": {},
   "source": [
    "Let's drop all of the rows that we think have numerous missing features."
   ]
  },
  {
   "cell_type": "code",
   "execution_count": 5,
   "metadata": {
    "collapsed": true
   },
   "outputs": [],
   "source": [
    "badRows = train[train.ind_empleado.isnull()].index"
   ]
  },
  {
   "cell_type": "code",
   "execution_count": 6,
   "metadata": {},
   "outputs": [],
   "source": [
    "df = df.drop(badRows, axis = 0)"
   ]
  },
  {
   "cell_type": "code",
   "execution_count": 99,
   "metadata": {},
   "outputs": [
    {
     "data": {
      "text/plain": [
       "age                            0\n",
       "antiguedad                     0\n",
       "canal_entrada                  0\n",
       "ind_actividad_cliente          0\n",
       "ind_nuevo                      0\n",
       "indrel                         0\n",
       "ncodpers                       0\n",
       "nomprov                        0\n",
       "pais_residencia                0\n",
       "renta                          0\n",
       "tipodom                        0\n",
       "ageGroup                       0\n",
       "isSpanish                      0\n",
       "majorCity                      0\n",
       "fecha_alta_year                0\n",
       "fecha_dato_year                0\n",
       "fecha_alta_month               0\n",
       "fecha_dato_month               0\n",
       "antiguedad_years               0\n",
       "HAS_ult_fec_cli_1t             0\n",
       "rentaGroup                     0\n",
       "ind_empleado_A                 0\n",
       "ind_empleado_B                 0\n",
       "ind_empleado_F                 0\n",
       "ind_empleado_N                 0\n",
       "ind_empleado_S                 0\n",
       "sexo_H                         0\n",
       "sexo_V                         0\n",
       "tiprel_1mes_A                  0\n",
       "tiprel_1mes_I                  0\n",
       "tiprel_1mes_P                  0\n",
       "indresi_N                      0\n",
       "indresi_S                      0\n",
       "indext_N                       0\n",
       "indext_S                       0\n",
       "conyuemp_N                     0\n",
       "conyuemp_S                     0\n",
       "conyuemp_Unknown               0\n",
       "indfall_N                      0\n",
       "indfall_S                      0\n",
       "segmento_01 - TOP              0\n",
       "segmento_02 - PARTICULARES     0\n",
       "segmento_03 - UNIVERSITARIO    0\n",
       "indrel_1mes_Co-owner           0\n",
       "indrel_1mes_Former Primary     0\n",
       "indrel_1mes_Primary            0\n",
       "dtype: int64"
      ]
     },
     "execution_count": 99,
     "metadata": {},
     "output_type": "execute_result"
    }
   ],
   "source": [
    "df.isnull().sum()"
   ]
  },
  {
   "cell_type": "markdown",
   "metadata": {},
   "source": [
    "Although we have many new missing values bacause the test dataset does not include the target features, we have removed many of the nulls values that we had before."
   ]
  },
  {
   "cell_type": "markdown",
   "metadata": {},
   "source": [
    "To explore and clean the data quicker, let's take a sample of the dataset."
   ]
  },
  {
   "cell_type": "code",
   "execution_count": 7,
   "metadata": {},
   "outputs": [],
   "source": [
    "smallDF = df.sample(frac = 0.15, random_state = 2)"
   ]
  },
  {
   "cell_type": "code",
   "execution_count": 8,
   "metadata": {},
   "outputs": [
    {
     "data": {
      "text/plain": [
       "2182379"
      ]
     },
     "execution_count": 8,
     "metadata": {},
     "output_type": "execute_result"
    }
   ],
   "source": [
    "len(smallDF)"
   ]
  },
  {
   "cell_type": "markdown",
   "metadata": {},
   "source": [
    "Let's double check to make sure everything is alright before we start cleaning and exploring the data."
   ]
  },
  {
   "cell_type": "code",
   "execution_count": 174,
   "metadata": {},
   "outputs": [
    {
     "data": {
      "text/plain": [
       "age                            0\n",
       "antiguedad                     0\n",
       "canal_entrada                  0\n",
       "conyuemp                       0\n",
       "fecha_alta                     0\n",
       "fecha_dato                     0\n",
       "ind_actividad_cliente          0\n",
       "ind_ahor_fin_ult1         139579\n",
       "ind_aval_fin_ult1         139579\n",
       "ind_cco_fin_ult1          139579\n",
       "ind_cder_fin_ult1         139579\n",
       "ind_cno_fin_ult1          139579\n",
       "ind_ctju_fin_ult1         139579\n",
       "ind_ctma_fin_ult1         139579\n",
       "ind_ctop_fin_ult1         139579\n",
       "ind_ctpp_fin_ult1         139579\n",
       "ind_deco_fin_ult1         139579\n",
       "ind_dela_fin_ult1         139579\n",
       "ind_deme_fin_ult1         139579\n",
       "ind_ecue_fin_ult1         139579\n",
       "ind_empleado                   0\n",
       "ind_fond_fin_ult1         139579\n",
       "ind_hip_fin_ult1          139579\n",
       "ind_nom_pens_ult1         139601\n",
       "ind_nomina_ult1           139601\n",
       "ind_nuevo                      0\n",
       "ind_plan_fin_ult1         139579\n",
       "ind_pres_fin_ult1         139579\n",
       "ind_reca_fin_ult1         139579\n",
       "ind_recibo_ult1           139579\n",
       "ind_tjcr_fin_ult1         139579\n",
       "ind_valo_fin_ult1         139579\n",
       "ind_viv_fin_ult1          139579\n",
       "indext                         0\n",
       "indfall                        0\n",
       "indrel                         0\n",
       "indrel_1mes                    0\n",
       "indresi                        0\n",
       "ncodpers                       0\n",
       "nomprov                        0\n",
       "pais_residencia                0\n",
       "renta                          0\n",
       "segmento                   24419\n",
       "sexo                          11\n",
       "tipodom                        0\n",
       "tiprel_1mes                18243\n",
       "ult_fec_cli_1t           2178359\n",
       "dtype: int64"
      ]
     },
     "execution_count": 174,
     "metadata": {},
     "output_type": "execute_result"
    }
   ],
   "source": [
    "smallDF.isnull().sum()"
   ]
  },
  {
   "cell_type": "markdown",
   "metadata": {},
   "source": [
    "Everything looks good, let the cleaning begin!"
   ]
  },
  {
   "cell_type": "markdown",
   "metadata": {},
   "source": [
    "# Clean the Data"
   ]
  },
  {
   "cell_type": "code",
   "execution_count": 17,
   "metadata": {
    "collapsed": true
   },
   "outputs": [
    {
     "data": {
      "text/plain": [
       "KHE    646265\n",
       "KAT    519969\n",
       "KFC    494323\n",
       "KHQ    100054\n",
       "KFA     65233\n",
       "KHK     38723\n",
       "KHM     32555\n",
       "KHN     20220\n",
       "KHD     18628\n",
       "KAS     13658\n",
       "RED     12321\n",
       "KAG     11605\n",
       "KAY     10838\n",
       "KAA     10734\n",
       "KAB     10051\n",
       "KAE      8114\n",
       "KCC      7918\n",
       "KBZ      7402\n",
       "KHL      7394\n",
       "KFD      7056\n",
       "KAI      5940\n",
       "KEY      5576\n",
       "KAW      5415\n",
       "KAR      5242\n",
       "KAZ      5131\n",
       "KAF      4980\n",
       "007      4263\n",
       "KCI      4197\n",
       "013      4039\n",
       "KAH      3963\n",
       "        ...  \n",
       "004        35\n",
       "KBD        35\n",
       "KCQ        35\n",
       "KDH        34\n",
       "KCO        33\n",
       "KEC        32\n",
       "KBX        29\n",
       "KCV        27\n",
       "KCP        24\n",
       "K00        23\n",
       "KEQ        22\n",
       "KAV        20\n",
       "KBE        19\n",
       "KBP        18\n",
       "KCT        16\n",
       "KEM        14\n",
       "KFB        12\n",
       "KFV        11\n",
       "KCX        10\n",
       "KBN         9\n",
       "KDB         5\n",
       "KHA         5\n",
       "KGU         5\n",
       "KHS         3\n",
       "KDI         3\n",
       "KGC         3\n",
       "4           2\n",
       "KDL         2\n",
       "025         1\n",
       "KGN         1\n",
       "Name: canal_entrada, dtype: int64"
      ]
     },
     "execution_count": 17,
     "metadata": {},
     "output_type": "execute_result"
    }
   ],
   "source": [
    "smallDF.canal_entrada.value_counts()"
   ]
  },
  {
   "cell_type": "markdown",
   "metadata": {},
   "source": [
    "I think it would be too difficult to make a fair guess, so let's just set the missing values to Unknown."
   ]
  },
  {
   "cell_type": "code",
   "execution_count": 9,
   "metadata": {
    "collapsed": true
   },
   "outputs": [],
   "source": [
    "smallDF.canal_entrada = smallDF.canal_entrada.fillna(\"Unknown\")"
   ]
  },
  {
   "cell_type": "markdown",
   "metadata": {},
   "source": [
    "Since cod_prov is the province's code, we can drop this variable because we already have nomprov, the names of the provinces, which we can change to a categorical feature. You might be thinking, why not just keep cod_prov and save a step, but I think it would be easier to ensure that the data is correct and easier to feature engineer if we use the provinces' names instead."
   ]
  },
  {
   "cell_type": "code",
   "execution_count": 10,
   "metadata": {},
   "outputs": [],
   "source": [
    "smallDF = smallDF.drop(\"cod_prov\", 1)"
   ]
  },
  {
   "cell_type": "code",
   "execution_count": 20,
   "metadata": {},
   "outputs": [
    {
     "data": {
      "text/plain": [
       "N    280\n",
       "S      4\n",
       "Name: conyuemp, dtype: int64"
      ]
     },
     "execution_count": 20,
     "metadata": {},
     "output_type": "execute_result"
    }
   ],
   "source": [
    "smallDF.conyuemp.value_counts()"
   ]
  },
  {
   "cell_type": "markdown",
   "metadata": {},
   "source": [
    "To avoid making any grand assumptions, I will set the null values to Unknown. This avoids greatly altering the ratio of 'N' to 'S'."
   ]
  },
  {
   "cell_type": "code",
   "execution_count": 11,
   "metadata": {
    "collapsed": true
   },
   "outputs": [],
   "source": [
    "smallDF.conyuemp = smallDF.conyuemp.fillna(\"Unknown\")"
   ]
  },
  {
   "cell_type": "code",
   "execution_count": 12,
   "metadata": {},
   "outputs": [
    {
     "data": {
      "text/plain": [
       "1.0    1230234\n",
       "1.0     603469\n",
       "1       329371\n",
       "3.0        278\n",
       "3.0        203\n",
       "3          184\n",
       "P          142\n",
       "2.0         83\n",
       "2           73\n",
       "2.0         49\n",
       "4           20\n",
       "4.0         17\n",
       "4.0         13\n",
       "Name: indrel_1mes, dtype: int64"
      ]
     },
     "execution_count": 12,
     "metadata": {},
     "output_type": "execute_result"
    }
   ],
   "source": [
    "smallDF.indrel_1mes.value_counts()"
   ]
  },
  {
   "cell_type": "markdown",
   "metadata": {},
   "source": [
    "Since this feature describes types of customer, it would make more sense for it to be a categorical feature. Let's change the numeric features to string, then use one-hot-encoding later."
   ]
  },
  {
   "cell_type": "code",
   "execution_count": 13,
   "metadata": {},
   "outputs": [],
   "source": [
    "smallDF.loc[smallDF.indrel_1mes == '1', 'indrel_1mes'] = 'Primary'\n",
    "smallDF.loc[smallDF.indrel_1mes == '1.0', 'indrel_1mes'] = 'Primary'\n",
    "smallDF.loc[smallDF.indrel_1mes == 1, 'indrel_1mes'] = 'Primary'\n",
    "smallDF.loc[smallDF.indrel_1mes == 1.0, 'indrel_1mes'] = 'Primary'\n",
    "\n",
    "smallDF.loc[smallDF.indrel_1mes == '2', 'indrel_1mes'] = 'Co-owner'\n",
    "smallDF.loc[smallDF.indrel_1mes == '2.0', 'indrel_1mes'] = 'Co-owner'\n",
    "smallDF.loc[smallDF.indrel_1mes == 2, 'indrel_1mes'] = 'Co-owner'\n",
    "smallDF.loc[smallDF.indrel_1mes == 2.0, 'indrel_1mes'] = 'Co-owner'\n",
    "\n",
    "smallDF.loc[smallDF.indrel_1mes == '3', 'indrel_1mes'] = 'Former Primary'\n",
    "smallDF.loc[smallDF.indrel_1mes == '3.0', 'indrel_1mes'] = 'Former Primary'\n",
    "smallDF.loc[smallDF.indrel_1mes == 3, 'indrel_1mes'] = 'Former Primary'\n",
    "smallDF.loc[smallDF.indrel_1mes == 3.0, 'indrel_1mes'] = 'Former Primary'\n",
    "\n",
    "smallDF.loc[smallDF.indrel_1mes == '4', 'indrel_1mes'] = 'Former Co-owner'\n",
    "smallDF.loc[smallDF.indrel_1mes == '4.0', 'indrel_1mes'] = 'Former Co-owner'\n",
    "smallDF.loc[smallDF.indrel_1mes == 4, 'indrel_1mes'] = 'Former Co-owner'\n",
    "smallDF.loc[smallDF.indrel_1mes == 4.0, 'indrel_1mes'] = 'Former Co-owner'"
   ]
  },
  {
   "cell_type": "markdown",
   "metadata": {},
   "source": [
    "Let's see if everything worked out okay."
   ]
  },
  {
   "cell_type": "code",
   "execution_count": 172,
   "metadata": {},
   "outputs": [
    {
     "data": {
      "text/plain": [
       "Primary            2163074\n",
       "Former Primary         665\n",
       "Co-owner               205\n",
       "P                      142\n",
       "Former Co-owner         50\n",
       "Name: indrel_1mes, dtype: int64"
      ]
     },
     "execution_count": 172,
     "metadata": {},
     "output_type": "execute_result"
    }
   ],
   "source": [
    "smallDF.indrel_1mes.value_counts()"
   ]
  },
  {
   "cell_type": "markdown",
   "metadata": {},
   "source": [
    "Good, now let's set the missing values to the most common, Primary."
   ]
  },
  {
   "cell_type": "code",
   "execution_count": 14,
   "metadata": {
    "collapsed": true
   },
   "outputs": [],
   "source": [
    "smallDF.indrel_1mes = smallDF.indrel_1mes.fillna('Primary')"
   ]
  },
  {
   "cell_type": "code",
   "execution_count": 90,
   "metadata": {
    "collapsed": true
   },
   "outputs": [
    {
     "data": {
      "text/plain": [
       "MADRID                    705468\n",
       "BARCELONA                 204818\n",
       "VALENCIA                  109267\n",
       "SEVILLA                    96522\n",
       "CORUÑA, A                  68849\n",
       "MURCIA                     63912\n",
       "MALAGA                     59062\n",
       "ZARAGOZA                   54801\n",
       "ALICANTE                   50193\n",
       "CADIZ                      47196\n",
       "PONTEVEDRA                 45009\n",
       "ASTURIAS                   42097\n",
       "VALLADOLID                 38472\n",
       "PALMAS, LAS                37763\n",
       "BADAJOZ                    30828\n",
       "BIZKAIA                    29678\n",
       "TOLEDO                     29427\n",
       "GRANADA                    28531\n",
       "SALAMANCA                  26291\n",
       "CANTABRIA                  24898\n",
       "CORDOBA                    23071\n",
       "CACERES                    20972\n",
       "BALEARS, ILLES             20071\n",
       "HUELVA                     19630\n",
       "CIUDAD REAL                19108\n",
       "ALBACETE                   18101\n",
       "CASTELLON                  16669\n",
       "TARRAGONA                  16108\n",
       "BURGOS                     15485\n",
       "GIRONA                     14641\n",
       "NAVARRA                    14142\n",
       "OURENSE                    13648\n",
       "RIOJA, LA                  13554\n",
       "LUGO                       13508\n",
       "LEON                       13246\n",
       "LERIDA                     12447\n",
       "SANTA CRUZ DE TENERIFE     11587\n",
       "GIPUZKOA                   11555\n",
       "GUADALAJARA                10416\n",
       "JAEN                       10276\n",
       "ALMERIA                     9473\n",
       "CUENCA                      9134\n",
       "ZAMORA                      8146\n",
       "PALENCIA                    7782\n",
       "SEGOVIA                     6740\n",
       "HUESCA                      6462\n",
       "AVILA                       6174\n",
       "ALAVA                       5996\n",
       "TERUEL                      3587\n",
       "SORIA                       2843\n",
       "MELILLA                     1561\n",
       "CEUTA                       1197\n",
       "Name: nomprov, dtype: int64"
      ]
     },
     "execution_count": 90,
     "metadata": {},
     "output_type": "execute_result"
    }
   ],
   "source": [
    "smallDF.nomprov.value_counts()"
   ]
  },
  {
   "cell_type": "markdown",
   "metadata": {},
   "source": [
    "Let's change all the null values to the most common, MADRID."
   ]
  },
  {
   "cell_type": "code",
   "execution_count": 15,
   "metadata": {
    "collapsed": true
   },
   "outputs": [],
   "source": [
    "smallDF.nomprov = smallDF.nomprov.fillna(\"MADRID\")"
   ]
  },
  {
   "cell_type": "code",
   "execution_count": 136,
   "metadata": {
    "collapsed": true
   },
   "outputs": [
    {
     "data": {
      "text/plain": [
       "0.00         33742\n",
       "451931.22      936\n",
       "463625.16      278\n",
       "181042.20      236\n",
       "105260.88      212\n",
       "488798.49      211\n",
       "128318.52      206\n",
       "127141.50      196\n",
       "283325.67      184\n",
       "236690.34      170\n",
       "132335.73      157\n",
       "273387.54      148\n",
       "104563.80      147\n",
       "111933.69      142\n",
       "174407.10      135\n",
       "227267.49      133\n",
       "163432.47      125\n",
       "218030.01      123\n",
       "155930.43      120\n",
       "288997.44      116\n",
       "208961.79      115\n",
       "168733.62      112\n",
       "227397.72      110\n",
       "91673.25       108\n",
       "326853.09      105\n",
       "47550.39       104\n",
       "152601.99      103\n",
       "135522.15      102\n",
       "104040.18       98\n",
       "130423.44       98\n",
       "             ...  \n",
       "84985.23         1\n",
       "76396.20         1\n",
       "85438.08         1\n",
       "39066.09         1\n",
       "86382.57         1\n",
       "60370.98         1\n",
       "151318.44        1\n",
       "126575.61        1\n",
       "193155.96        1\n",
       "79990.08         1\n",
       "150589.17        1\n",
       "187229.61        1\n",
       "457312.68        1\n",
       "73288.53         1\n",
       "128790.39        1\n",
       "106697.49        1\n",
       "77561.46         1\n",
       "22572.27         1\n",
       "135491.28        1\n",
       "69376.98         1\n",
       "63944.19         1\n",
       "125107.77        1\n",
       "74664.57         1\n",
       "178499.61        1\n",
       "54986.64         1\n",
       "83269.02         1\n",
       "72865.59         1\n",
       "85537.47         1\n",
       "85089.99         1\n",
       "99257.64         1\n",
       "Name: renta, dtype: int64"
      ]
     },
     "execution_count": 136,
     "metadata": {},
     "output_type": "execute_result"
    }
   ],
   "source": [
    "smallDF.renta.value_counts()"
   ]
  },
  {
   "cell_type": "markdown",
   "metadata": {},
   "source": [
    "Maybe we can fill in the null values with the median renta for each province."
   ]
  },
  {
   "cell_type": "code",
   "execution_count": 16,
   "metadata": {},
   "outputs": [],
   "source": [
    "smallDF.loc[smallDF.renta == '         NA',\"renta\"] = 0\n",
    "smallDF.renta = smallDF.renta.astype(float)"
   ]
  },
  {
   "cell_type": "code",
   "execution_count": 156,
   "metadata": {},
   "outputs": [
    {
     "data": {
      "text/plain": [
       "415598"
      ]
     },
     "execution_count": 156,
     "metadata": {},
     "output_type": "execute_result"
    }
   ],
   "source": [
    "smallDF.renta.isnull().sum()"
   ]
  },
  {
   "cell_type": "code",
   "execution_count": 17,
   "metadata": {},
   "outputs": [],
   "source": [
    "smallDF.loc[smallDF.renta == 0, 'renta'] = smallDF[smallDF.renta > 0].groupby('nomprov').renta.transform('median')\n",
    "smallDF.loc[smallDF.renta.isnull(), \"renta\"] = smallDF.groupby('nomprov').renta.transform('median')"
   ]
  },
  {
   "cell_type": "code",
   "execution_count": 165,
   "metadata": {},
   "outputs": [
    {
     "data": {
      "text/plain": [
       "0"
      ]
     },
     "execution_count": 165,
     "metadata": {},
     "output_type": "execute_result"
    }
   ],
   "source": [
    "smallDF.renta.isnull().sum()"
   ]
  },
  {
   "cell_type": "markdown",
   "metadata": {},
   "source": [
    "Yup, that got everything cleared up."
   ]
  },
  {
   "cell_type": "code",
   "execution_count": 175,
   "metadata": {},
   "outputs": [
    {
     "data": {
      "text/plain": [
       "02 - PARTICULARES     1275744\n",
       "03 - UNIVERSITARIO     792495\n",
       "01 - TOP                89721\n",
       "Name: segmento, dtype: int64"
      ]
     },
     "execution_count": 175,
     "metadata": {},
     "output_type": "execute_result"
    }
   ],
   "source": [
    "smallDF.segmento.value_counts()"
   ]
  },
  {
   "cell_type": "markdown",
   "metadata": {},
   "source": [
    "Rather than setting all the null values to the most common, let's see if there's a relationship between renta and segmento that we could use."
   ]
  },
  {
   "cell_type": "code",
   "execution_count": 176,
   "metadata": {},
   "outputs": [
    {
     "data": {
      "text/plain": [
       "segmento\n",
       "01 - TOP              136726.62\n",
       "02 - PARTICULARES     103124.43\n",
       "03 - UNIVERSITARIO     89073.90\n",
       "Name: renta, dtype: float64"
      ]
     },
     "execution_count": 176,
     "metadata": {},
     "output_type": "execute_result"
    }
   ],
   "source": [
    "smallDF.renta.groupby([smallDF.segmento]).median()"
   ]
  },
  {
   "cell_type": "markdown",
   "metadata": {},
   "source": [
    "Good, there is! Let's use these values to help assign new values to the null values."
   ]
  },
  {
   "cell_type": "code",
   "execution_count": 18,
   "metadata": {},
   "outputs": [],
   "source": [
    "smallDF.segmento = smallDF[smallDF.renta <= 96000].segmento.fillna(\"03 - UNIVERSITARIO\")\n",
    "smallDF.segmento = smallDF[smallDF.renta <= 119500].segmento.fillna(\"02 - PARTICULARES\")\n",
    "smallDF.segmento = smallDF.segmento.fillna(\"01 - TOP\")"
   ]
  },
  {
   "cell_type": "code",
   "execution_count": 178,
   "metadata": {},
   "outputs": [
    {
     "data": {
      "text/plain": [
       "V    1189290\n",
       "H     993078\n",
       "Name: sexo, dtype: int64"
      ]
     },
     "execution_count": 178,
     "metadata": {},
     "output_type": "execute_result"
    }
   ],
   "source": [
    "smallDF.sexo.value_counts()"
   ]
  },
  {
   "cell_type": "markdown",
   "metadata": {},
   "source": [
    "There are not many missing values in sexo, so we can just set them to the majority, V."
   ]
  },
  {
   "cell_type": "code",
   "execution_count": 19,
   "metadata": {
    "collapsed": true
   },
   "outputs": [],
   "source": [
    "smallDF.sexo = smallDF.sexo.fillna(\"V\")"
   ]
  },
  {
   "cell_type": "code",
   "execution_count": 181,
   "metadata": {},
   "outputs": [
    {
     "data": {
      "text/plain": [
       "I    1177010\n",
       "A     986269\n",
       "P        715\n",
       "R        141\n",
       "N          1\n",
       "Name: tiprel_1mes, dtype: int64"
      ]
     },
     "execution_count": 181,
     "metadata": {},
     "output_type": "execute_result"
    }
   ],
   "source": [
    "smallDF.tiprel_1mes.value_counts()"
   ]
  },
  {
   "cell_type": "markdown",
   "metadata": {},
   "source": [
    "Perhaps there is also a relationship between renta and tiprel_1mes to help us better assign values to the null values."
   ]
  },
  {
   "cell_type": "code",
   "execution_count": 185,
   "metadata": {},
   "outputs": [
    {
     "data": {
      "text/plain": [
       "tiprel_1mes\n",
       "A    103917.18\n",
       "I     94918.47\n",
       "N    138965.46\n",
       "P    105225.24\n",
       "R     99740.88\n",
       "Name: renta, dtype: float64"
      ]
     },
     "execution_count": 185,
     "metadata": {},
     "output_type": "execute_result"
    }
   ],
   "source": [
    "smallDF.renta.groupby(smallDF.tiprel_1mes).median()"
   ]
  },
  {
   "cell_type": "code",
   "execution_count": 191,
   "metadata": {},
   "outputs": [
    {
     "data": {
      "text/plain": [
       "A    532720\n",
       "I    532295\n",
       "P       389\n",
       "R        76\n",
       "N         1\n",
       "Name: tiprel_1mes, dtype: int64"
      ]
     },
     "execution_count": 191,
     "metadata": {},
     "output_type": "execute_result"
    }
   ],
   "source": [
    "smallDF[smallDF.renta >= 99500].tiprel_1mes.value_counts()"
   ]
  },
  {
   "cell_type": "markdown",
   "metadata": {},
   "source": [
    "I am not too convinced that there is a strong enough of a relationship between renta and tiprel_1mes to be useful. To keep things simple, I going to assign the null values to the most popular, I."
   ]
  },
  {
   "cell_type": "code",
   "execution_count": 20,
   "metadata": {
    "collapsed": true
   },
   "outputs": [],
   "source": [
    "smallDF.tiprel_1mes = smallDF.tiprel_1mes.fillna('I')"
   ]
  },
  {
   "cell_type": "code",
   "execution_count": 193,
   "metadata": {
    "collapsed": true
   },
   "outputs": [
    {
     "data": {
      "text/plain": [
       "2015-12-24    133\n",
       "2015-12-28     73\n",
       "2015-07-21     70\n",
       "2015-07-09     67\n",
       "2015-07-06     64\n",
       "2015-07-07     51\n",
       "2015-07-10     51\n",
       "2015-07-24     51\n",
       "2015-07-22     49\n",
       "2015-07-01     48\n",
       "2015-07-17     45\n",
       "2015-07-03     45\n",
       "2015-07-23     44\n",
       "2015-07-20     44\n",
       "2015-07-29     43\n",
       "2015-07-15     43\n",
       "2015-07-28     40\n",
       "2015-07-27     36\n",
       "2015-07-14     35\n",
       "2015-07-30     34\n",
       "2015-07-02     29\n",
       "2015-07-13     29\n",
       "2015-12-17     29\n",
       "2015-12-21     28\n",
       "2015-12-18     26\n",
       "2015-12-16     26\n",
       "2015-07-08     26\n",
       "2016-01-05     25\n",
       "2016-05-02     24\n",
       "2015-07-16     24\n",
       "             ... \n",
       "2016-04-22      8\n",
       "06/28/16        8\n",
       "2016-03-24      8\n",
       "2016-04-26      7\n",
       "2015-09-09      7\n",
       "2016-05-09      7\n",
       "2015-10-02      7\n",
       "2015-08-19      6\n",
       "2015-09-21      6\n",
       "2015-12-23      6\n",
       "2016-04-20      6\n",
       "2015-08-26      6\n",
       "2015-11-05      6\n",
       "2016-03-03      6\n",
       "2015-08-06      6\n",
       "2015-11-26      5\n",
       "2016-03-15      5\n",
       "2016-01-04      5\n",
       "2015-08-20      5\n",
       "2016-03-07      5\n",
       "2016-01-22      5\n",
       "2015-08-14      5\n",
       "06/29/16        5\n",
       "2016-03-23      4\n",
       "2015-08-21      4\n",
       "2016-04-28      4\n",
       "2016-05-13      3\n",
       "2016-05-05      3\n",
       "06/08/16        1\n",
       "2015-08-11      1\n",
       "Name: ult_fec_cli_1t, dtype: int64"
      ]
     },
     "execution_count": 193,
     "metadata": {},
     "output_type": "execute_result"
    }
   ],
   "source": [
    "smallDF.ult_fec_cli_1t.value_counts()"
   ]
  },
  {
   "cell_type": "markdown",
   "metadata": {},
   "source": [
    "Given the number of missing values, I am not going to try and find values for them, but I am going to keep this feature, which will be used in the feature engineering section."
   ]
  },
  {
   "cell_type": "code",
   "execution_count": 194,
   "metadata": {},
   "outputs": [
    {
     "data": {
      "text/plain": [
       "0.0    1931268\n",
       "1.0     111510\n",
       "Name: ind_nomina_ult1, dtype: int64"
      ]
     },
     "execution_count": 194,
     "metadata": {},
     "output_type": "execute_result"
    }
   ],
   "source": [
    "smallDF.ind_nomina_ult1.value_counts()"
   ]
  },
  {
   "cell_type": "markdown",
   "metadata": {},
   "source": [
    "Assign nulls to the most popular, 0.0"
   ]
  },
  {
   "cell_type": "code",
   "execution_count": 21,
   "metadata": {
    "collapsed": true
   },
   "outputs": [],
   "source": [
    "smallDF.ind_nomina_ult1 = smallDF.ind_nomina_ult1.fillna(0.0)"
   ]
  },
  {
   "cell_type": "code",
   "execution_count": 196,
   "metadata": {},
   "outputs": [
    {
     "data": {
      "text/plain": [
       "0.0    1921793\n",
       "1.0     120985\n",
       "Name: ind_nom_pens_ult1, dtype: int64"
      ]
     },
     "execution_count": 196,
     "metadata": {},
     "output_type": "execute_result"
    }
   ],
   "source": [
    "smallDF.ind_nom_pens_ult1.value_counts()"
   ]
  },
  {
   "cell_type": "markdown",
   "metadata": {},
   "source": [
    "Assign nulls to the most popular, 0.0"
   ]
  },
  {
   "cell_type": "code",
   "execution_count": 22,
   "metadata": {
    "collapsed": true
   },
   "outputs": [],
   "source": [
    "smallDF.ind_nom_pens_ult1 = smallDF.ind_nom_pens_ult1.fillna(0.0)"
   ]
  },
  {
   "cell_type": "code",
   "execution_count": 202,
   "metadata": {},
   "outputs": [
    {
     "data": {
      "text/plain": [
       "1          20316\n",
       "0          20099\n",
       "12         20054\n",
       "3          19697\n",
       "2          19447\n",
       "5          19399\n",
       "8          18736\n",
       "7          18520\n",
       "4          18450\n",
       "     21    17950\n",
       "6          17432\n",
       "16         17421\n",
       "14         17405\n",
       "9          17165\n",
       "21         17140\n",
       "17         17129\n",
       "18         17083\n",
       "10         17030\n",
       "15         16934\n",
       "19         16928\n",
       "     12    16887\n",
       "23         16706\n",
       "11         16645\n",
       "20         16572\n",
       "13         16524\n",
       "24         16517\n",
       "26         16186\n",
       "25         15505\n",
       "22         15503\n",
       "27         15217\n",
       "           ...  \n",
       "    215      465\n",
       "    228      439\n",
       "    229      437\n",
       "    234      434\n",
       "    238      432\n",
       "    203      379\n",
       "249          359\n",
       "    230      350\n",
       "    236      338\n",
       "    226      308\n",
       "    240      297\n",
       "      1      296\n",
       "    241      294\n",
       "    233      292\n",
       "250          262\n",
       "251          214\n",
       "    227      183\n",
       "    242      165\n",
       "252          152\n",
       "    239      141\n",
       "    243      105\n",
       "253           98\n",
       "    246       94\n",
       "    244       61\n",
       "    245       61\n",
       "254           58\n",
       "255           37\n",
       "256           26\n",
       "      0       22\n",
       "257           13\n",
       "Name: antiguedad, dtype: int64"
      ]
     },
     "execution_count": 202,
     "metadata": {},
     "output_type": "execute_result"
    }
   ],
   "source": [
    "smallDF.antiguedad.value_counts()"
   ]
  },
  {
   "cell_type": "markdown",
   "metadata": {},
   "source": [
    "The values equalling -999999 don't look right. Let's substitute them for the median value."
   ]
  },
  {
   "cell_type": "code",
   "execution_count": 23,
   "metadata": {
    "collapsed": true
   },
   "outputs": [],
   "source": [
    "smallDF.loc[smallDF.antiguedad == -999999, 'antiguedad'] = smallDF[smallDF.antiguedad >= 0].antiguedad.median()"
   ]
  },
  {
   "cell_type": "code",
   "execution_count": 226,
   "metadata": {},
   "outputs": [
    {
     "data": {
      "text/plain": [
       "1.0     2178359\n",
       "99.0       4020\n",
       "Name: indrel, dtype: int64"
      ]
     },
     "execution_count": 226,
     "metadata": {},
     "output_type": "execute_result"
    }
   ],
   "source": [
    "smallDF.indrel.value_counts()"
   ]
  },
  {
   "cell_type": "markdown",
   "metadata": {},
   "source": [
    "Change 99.0 to 0.0 so that it is already scaled for gradient descent. "
   ]
  },
  {
   "cell_type": "code",
   "execution_count": 33,
   "metadata": {
    "collapsed": true
   },
   "outputs": [],
   "source": [
    "smallDF.loc[smallDF.indrel == 99.0, \"indrel\"] = 0.0"
   ]
  },
  {
   "cell_type": "markdown",
   "metadata": {},
   "source": [
    "Let's see if we have everything clean."
   ]
  },
  {
   "cell_type": "code",
   "execution_count": 199,
   "metadata": {
    "collapsed": true
   },
   "outputs": [
    {
     "data": {
      "text/plain": [
       "age                            0\n",
       "antiguedad                     0\n",
       "canal_entrada                  0\n",
       "conyuemp                       0\n",
       "fecha_alta                     0\n",
       "fecha_dato                     0\n",
       "ind_actividad_cliente          0\n",
       "ind_ahor_fin_ult1         139579\n",
       "ind_aval_fin_ult1         139579\n",
       "ind_cco_fin_ult1          139579\n",
       "ind_cder_fin_ult1         139579\n",
       "ind_cno_fin_ult1          139579\n",
       "ind_ctju_fin_ult1         139579\n",
       "ind_ctma_fin_ult1         139579\n",
       "ind_ctop_fin_ult1         139579\n",
       "ind_ctpp_fin_ult1         139579\n",
       "ind_deco_fin_ult1         139579\n",
       "ind_dela_fin_ult1         139579\n",
       "ind_deme_fin_ult1         139579\n",
       "ind_ecue_fin_ult1         139579\n",
       "ind_empleado                   0\n",
       "ind_fond_fin_ult1         139579\n",
       "ind_hip_fin_ult1          139579\n",
       "ind_nom_pens_ult1              0\n",
       "ind_nomina_ult1                0\n",
       "ind_nuevo                      0\n",
       "ind_plan_fin_ult1         139579\n",
       "ind_pres_fin_ult1         139579\n",
       "ind_reca_fin_ult1         139579\n",
       "ind_recibo_ult1           139579\n",
       "ind_tjcr_fin_ult1         139579\n",
       "ind_valo_fin_ult1         139579\n",
       "ind_viv_fin_ult1          139579\n",
       "indext                         0\n",
       "indfall                        0\n",
       "indrel                         0\n",
       "indrel_1mes                    0\n",
       "indresi                        0\n",
       "ncodpers                       0\n",
       "nomprov                        0\n",
       "pais_residencia                0\n",
       "renta                          0\n",
       "segmento                       0\n",
       "sexo                           0\n",
       "tipodom                        0\n",
       "tiprel_1mes                    0\n",
       "ult_fec_cli_1t           2178359\n",
       "dtype: int64"
      ]
     },
     "execution_count": 199,
     "metadata": {},
     "output_type": "execute_result"
    }
   ],
   "source": [
    "smallDF.isnull().sum()"
   ]
  },
  {
   "cell_type": "markdown",
   "metadata": {},
   "source": [
    "Yes we do! On to the feature engineering stage!"
   ]
  },
  {
   "cell_type": "markdown",
   "metadata": {},
   "source": [
    "# Feature Engineering"
   ]
  },
  {
   "cell_type": "markdown",
   "metadata": {},
   "source": [
    "Let's start off by taking a look at ages. "
   ]
  },
  {
   "cell_type": "code",
   "execution_count": 203,
   "metadata": {
    "collapsed": true
   },
   "outputs": [
    {
     "data": {
      "text/plain": [
       "2         88\n",
       "3        207\n",
       "4        262\n",
       "5        358\n",
       "6        413\n",
       "7        397\n",
       "8        506\n",
       "9        623\n",
       "10       865\n",
       "11      1129\n",
       "12      1362\n",
       "13      1470\n",
       "14      1413\n",
       "15      1465\n",
       "16      1344\n",
       "17      1350\n",
       "18      1295\n",
       "19      2702\n",
       "20     58710\n",
       "21     82473\n",
       "22     86357\n",
       "23     88949\n",
       "24     86748\n",
       "25     58293\n",
       "26     41453\n",
       "27     33644\n",
       "28     28680\n",
       "29     24748\n",
       "30     22295\n",
       "31     20359\n",
       "       ...  \n",
       " 86      959\n",
       " 87      982\n",
       " 88      893\n",
       " 89      767\n",
       " 90      685\n",
       " 91      610\n",
       " 92      511\n",
       " 93      442\n",
       " 94      370\n",
       " 95      311\n",
       " 96      272\n",
       " 97      225\n",
       " 98      146\n",
       " 99      152\n",
       "100      104\n",
       "101       97\n",
       "102       94\n",
       "103       54\n",
       "104       44\n",
       "105       45\n",
       "106       34\n",
       "107       24\n",
       "108        7\n",
       "109       12\n",
       "110        4\n",
       "111       10\n",
       "112        6\n",
       "113        3\n",
       "115        4\n",
       "116        2\n",
       "Name: age, dtype: int64"
      ]
     },
     "execution_count": 203,
     "metadata": {},
     "output_type": "execute_result"
    }
   ],
   "source": [
    "smallDF.age.value_counts().sort_index()"
   ]
  },
  {
   "cell_type": "code",
   "execution_count": 24,
   "metadata": {},
   "outputs": [],
   "source": [
    "smallDF.age = smallDF.age.astype(int)"
   ]
  },
  {
   "cell_type": "code",
   "execution_count": 207,
   "metadata": {},
   "outputs": [
    {
     "data": {
      "image/png": "[encoded data removed]",
      "text/plain": [
       "<matplotlib.figure.Figure at 0x1b162e0d0>"
      ]
     },
     "metadata": {},
     "output_type": "display_data"
    }
   ],
   "source": [
    "plt.hist(smallDF.age, bins = 50)\n",
    "plt.show()"
   ]
  },
  {
   "cell_type": "markdown",
   "metadata": {},
   "source": [
    "Some of these values are probably incorrect. I doubt most of the oldest people in the world are all banking with Santander. There are also quite a few, very young people, i.e. younger than 10. Because there is quite a jump in frequency between 19 and 20, I'm going to group everyone younger than 20 together. I'll also group people older than 90 together."
   ]
  },
  {
   "cell_type": "code",
   "execution_count": 25,
   "metadata": {},
   "outputs": [],
   "source": [
    "smallDF.loc[smallDF.age < 20,\"age\"] = 19\n",
    "smallDF.loc[smallDF.age > 90,\"age\"] = 91"
   ]
  },
  {
   "cell_type": "markdown",
   "metadata": {},
   "source": [
    "Group people in sets of 10 years. Subtract 1 so that the values start at 0."
   ]
  },
  {
   "cell_type": "code",
   "execution_count": 26,
   "metadata": {
    "collapsed": true
   },
   "outputs": [],
   "source": [
    "smallDF['ageGroup'] = (smallDF.age // 10) - 1"
   ]
  },
  {
   "cell_type": "code",
   "execution_count": 213,
   "metadata": {},
   "outputs": [
    {
     "data": {
      "image/png": "[encoded data removed]",
      "text/plain": [
       "<matplotlib.figure.Figure at 0x20e5f5910>"
      ]
     },
     "metadata": {},
     "output_type": "display_data"
    }
   ],
   "source": [
    "plt.hist(smallDF.ageGroup, bins = 9)\n",
    "plt.show()"
   ]
  },
  {
   "cell_type": "code",
   "execution_count": 214,
   "metadata": {},
   "outputs": [
    {
     "data": {
      "text/plain": [
       "0     23969\n",
       "1    785913\n",
       "2    313839\n",
       "3    477380\n",
       "4    284633\n",
       "5    144742\n",
       "6     87628\n",
       "7     46099\n",
       "8     18176\n",
       "Name: ageGroup, dtype: int64"
      ]
     },
     "execution_count": 214,
     "metadata": {},
     "output_type": "execute_result"
    }
   ],
   "source": [
    "smallDF.ageGroup.value_counts().sort_index()"
   ]
  },
  {
   "cell_type": "markdown",
   "metadata": {},
   "source": [
    "The top two customer age groups are 20s and 40s. It will be interesting to see if there is any difference between these two groups."
   ]
  },
  {
   "cell_type": "markdown",
   "metadata": {},
   "source": [
    "If a customer lives in Spain, for simplicity, they are considered Spanish."
   ]
  },
  {
   "cell_type": "code",
   "execution_count": 27,
   "metadata": {},
   "outputs": [],
   "source": [
    "smallDF['isSpanish'] = smallDF.pais_residencia.map(lambda x: 1 if x == \"ES\" else 0)"
   ]
  },
  {
   "cell_type": "code",
   "execution_count": 216,
   "metadata": {},
   "outputs": [
    {
     "data": {
      "text/plain": [
       "1    2172019\n",
       "0      10360\n",
       "Name: isSpanish, dtype: int64"
      ]
     },
     "execution_count": 216,
     "metadata": {},
     "output_type": "execute_result"
    }
   ],
   "source": [
    "smallDF.isSpanish.value_counts()"
   ]
  },
  {
   "cell_type": "markdown",
   "metadata": {},
   "source": [
    "Most customers live in Spain, over 99%."
   ]
  },
  {
   "cell_type": "markdown",
   "metadata": {},
   "source": [
    "If a customer lives in a Barcelona or Madrid, they are considered from a major city."
   ]
  },
  {
   "cell_type": "code",
   "execution_count": 28,
   "metadata": {},
   "outputs": [],
   "source": [
    "smallDF['majorCity'] = smallDF.nomprov.map(lambda x: 1 if x == \"MADRID\" or x == \"BARCELONA\" else 0)"
   ]
  },
  {
   "cell_type": "code",
   "execution_count": 218,
   "metadata": {},
   "outputs": [
    {
     "data": {
      "text/plain": [
       "0    1260869\n",
       "1     921510\n",
       "Name: majorCity, dtype: int64"
      ]
     },
     "execution_count": 218,
     "metadata": {},
     "output_type": "execute_result"
    }
   ],
   "source": [
    "smallDF.majorCity.value_counts()"
   ]
  },
  {
   "cell_type": "markdown",
   "metadata": {},
   "source": [
    "The majority of customers live in Barcelona or Madrid, about 58%."
   ]
  },
  {
   "cell_type": "markdown",
   "metadata": {},
   "source": [
    "Extract the year and month from the date features, and set the lowest value to 0."
   ]
  },
  {
   "cell_type": "code",
   "execution_count": 29,
   "metadata": {},
   "outputs": [],
   "source": [
    "smallDF['fecha_alta_year'] = pd.DatetimeIndex(smallDF.fecha_alta).year - 1995\n",
    "smallDF['fecha_dato_year'] = pd.DatetimeIndex(smallDF.fecha_dato).year - 2015"
   ]
  },
  {
   "cell_type": "code",
   "execution_count": 30,
   "metadata": {},
   "outputs": [],
   "source": [
    "smallDF['fecha_alta_month'] = pd.DatetimeIndex(smallDF.fecha_alta).month - 1\n",
    "smallDF['fecha_dato_month'] = pd.DatetimeIndex(smallDF.fecha_dato).month - 1"
   ]
  },
  {
   "cell_type": "code",
   "execution_count": 31,
   "metadata": {
    "collapsed": true
   },
   "outputs": [],
   "source": [
    "smallDF.antiguedad = smallDF.antiguedad.astype(int)"
   ]
  },
  {
   "cell_type": "code",
   "execution_count": 223,
   "metadata": {},
   "outputs": [
    {
     "data": {
      "image/png": "[encoded data removed]",
      "text/plain": [
       "<matplotlib.figure.Figure at 0x1f7ae2550>"
      ]
     },
     "metadata": {},
     "output_type": "display_data"
    }
   ],
   "source": [
    "plt.hist(smallDF.antiguedad)\n",
    "plt.xlabel(\"antiguedad (months)\")\n",
    "plt.show()"
   ]
  },
  {
   "cell_type": "code",
   "execution_count": 224,
   "metadata": {},
   "outputs": [
    {
     "name": "stdout",
     "output_type": "stream",
     "text": [
      "0\n",
      "257\n"
     ]
    }
   ],
   "source": [
    "print min(smallDF.antiguedad)\n",
    "print max(smallDF.antiguedad)"
   ]
  },
  {
   "cell_type": "markdown",
   "metadata": {},
   "source": [
    "Group antiguedad by years."
   ]
  },
  {
   "cell_type": "code",
   "execution_count": 32,
   "metadata": {},
   "outputs": [],
   "source": [
    "smallDF['antiguedad_years'] = smallDF.antiguedad // 12"
   ]
  },
  {
   "cell_type": "code",
   "execution_count": 228,
   "metadata": {
    "collapsed": true
   },
   "outputs": [
    {
     "data": {
      "text/plain": [
       "2015-12-24    133\n",
       "2015-12-28     73\n",
       "2015-07-21     70\n",
       "2015-07-09     67\n",
       "2015-07-06     64\n",
       "2015-07-07     51\n",
       "2015-07-10     51\n",
       "2015-07-24     51\n",
       "2015-07-22     49\n",
       "2015-07-01     48\n",
       "2015-07-17     45\n",
       "2015-07-03     45\n",
       "2015-07-23     44\n",
       "2015-07-20     44\n",
       "2015-07-29     43\n",
       "2015-07-15     43\n",
       "2015-07-28     40\n",
       "2015-07-27     36\n",
       "2015-07-14     35\n",
       "2015-07-30     34\n",
       "2015-07-02     29\n",
       "2015-07-13     29\n",
       "2015-12-17     29\n",
       "2015-12-21     28\n",
       "2015-12-18     26\n",
       "2015-12-16     26\n",
       "2015-07-08     26\n",
       "2016-01-05     25\n",
       "2016-05-02     24\n",
       "2015-07-16     24\n",
       "             ... \n",
       "2016-04-22      8\n",
       "06/28/16        8\n",
       "2016-03-24      8\n",
       "2016-04-26      7\n",
       "2015-09-09      7\n",
       "2016-05-09      7\n",
       "2015-10-02      7\n",
       "2015-08-19      6\n",
       "2015-09-21      6\n",
       "2015-12-23      6\n",
       "2016-04-20      6\n",
       "2015-08-26      6\n",
       "2015-11-05      6\n",
       "2016-03-03      6\n",
       "2015-08-06      6\n",
       "2015-11-26      5\n",
       "2016-03-15      5\n",
       "2016-01-04      5\n",
       "2015-08-20      5\n",
       "2016-03-07      5\n",
       "2016-01-22      5\n",
       "2015-08-14      5\n",
       "06/29/16        5\n",
       "2016-03-23      4\n",
       "2015-08-21      4\n",
       "2016-04-28      4\n",
       "2016-05-13      3\n",
       "2016-05-05      3\n",
       "06/08/16        1\n",
       "2015-08-11      1\n",
       "Name: ult_fec_cli_1t, dtype: int64"
      ]
     },
     "execution_count": 228,
     "metadata": {},
     "output_type": "execute_result"
    }
   ],
   "source": [
    "smallDF.ult_fec_cli_1t.value_counts()"
   ]
  },
  {
   "cell_type": "markdown",
   "metadata": {},
   "source": [
    "Given the number of missing values, I'm going to create a new feature 'HAS_ult_fec_cli_1t' based on if we have a value for this feature or not."
   ]
  },
  {
   "cell_type": "code",
   "execution_count": 34,
   "metadata": {
    "collapsed": true
   },
   "outputs": [],
   "source": [
    "smallDF['HAS_ult_fec_cli_1t'] = smallDF.ult_fec_cli_1t.map(lambda x: 1 if x > 0 else 0)"
   ]
  },
  {
   "cell_type": "code",
   "execution_count": 230,
   "metadata": {},
   "outputs": [
    {
     "data": {
      "text/plain": [
       "0    2178359\n",
       "1       4020\n",
       "Name: HAS_ult_fec_cli_1t, dtype: int64"
      ]
     },
     "execution_count": 230,
     "metadata": {},
     "output_type": "execute_result"
    }
   ],
   "source": [
    "smallDF.HAS_ult_fec_cli_1t.value_counts()"
   ]
  },
  {
   "cell_type": "markdown",
   "metadata": {},
   "source": [
    "This looks good. Now we can drop ult_fec_cli_1t because we won't need it anymore."
   ]
  },
  {
   "cell_type": "code",
   "execution_count": 35,
   "metadata": {
    "collapsed": true
   },
   "outputs": [],
   "source": [
    "smallDF = smallDF.drop('ult_fec_cli_1t', 1)"
   ]
  },
  {
   "cell_type": "code",
   "execution_count": 232,
   "metadata": {},
   "outputs": [
    {
     "data": {
      "text/plain": [
       "count    2.182379e+06\n",
       "mean     1.270332e+05\n",
       "std      2.044002e+05\n",
       "min      1.202730e+03\n",
       "25%      7.122996e+04\n",
       "50%      9.798357e+04\n",
       "75%      1.389655e+05\n",
       "max      2.889440e+07\n",
       "Name: renta, dtype: float64"
      ]
     },
     "execution_count": 232,
     "metadata": {},
     "output_type": "execute_result"
    }
   ],
   "source": [
    "smallDF.renta.describe()"
   ]
  },
  {
   "cell_type": "markdown",
   "metadata": {},
   "source": [
    "Group customers by renta in $50,000 increments."
   ]
  },
  {
   "cell_type": "code",
   "execution_count": 36,
   "metadata": {
    "collapsed": true
   },
   "outputs": [],
   "source": [
    "smallDF['rentaGroup'] = smallDF.renta // 50000"
   ]
  },
  {
   "cell_type": "markdown",
   "metadata": {},
   "source": [
    "Since renta values become less dense after 1,000,000, we will group people with values between 1M and > 10M together, as well as those with values greater than or equal to $10M."
   ]
  },
  {
   "cell_type": "code",
   "execution_count": 37,
   "metadata": {},
   "outputs": [],
   "source": [
    "smallDF.loc[smallDF.renta >= 1000000, \"rentaGroup\"] = 20\n",
    "smallDF.loc[smallDF.renta >= 10000000, \"rentaGroup\"] = 21"
   ]
  },
  {
   "cell_type": "code",
   "execution_count": 235,
   "metadata": {},
   "outputs": [
    {
     "data": {
      "image/png": "[encoded data removed]",
      "text/plain": [
       "<matplotlib.figure.Figure at 0x22219a110>"
      ]
     },
     "metadata": {},
     "output_type": "display_data"
    }
   ],
   "source": [
    "plt.hist(smallDF.rentaGroup, bins = 21)\n",
    "plt.show()"
   ]
  },
  {
   "cell_type": "code",
   "execution_count": 236,
   "metadata": {},
   "outputs": [
    {
     "data": {
      "text/plain": [
       "0.0     183826\n",
       "1.0     969540\n",
       "2.0     562775\n",
       "3.0     210545\n",
       "4.0     107850\n",
       "5.0      54095\n",
       "6.0      30817\n",
       "7.0      19131\n",
       "8.0      12525\n",
       "9.0       8998\n",
       "10.0      4764\n",
       "11.0      3253\n",
       "12.0      2396\n",
       "13.0      1863\n",
       "14.0      1427\n",
       "15.0      1242\n",
       "16.0      1026\n",
       "17.0       739\n",
       "18.0       729\n",
       "19.0       574\n",
       "20.0      4093\n",
       "21.0       171\n",
       "Name: rentaGroup, dtype: int64"
      ]
     },
     "execution_count": 236,
     "metadata": {},
     "output_type": "execute_result"
    }
   ],
   "source": [
    "smallDF.rentaGroup.value_counts().sort_index()"
   ]
  },
  {
   "cell_type": "code",
   "execution_count": 237,
   "metadata": {},
   "outputs": [
    {
     "data": {
      "text/plain": [
       "['age',\n",
       " 'antiguedad',\n",
       " 'canal_entrada',\n",
       " 'conyuemp',\n",
       " 'fecha_alta',\n",
       " 'fecha_dato',\n",
       " 'ind_actividad_cliente',\n",
       " 'ind_ahor_fin_ult1',\n",
       " 'ind_aval_fin_ult1',\n",
       " 'ind_cco_fin_ult1',\n",
       " 'ind_cder_fin_ult1',\n",
       " 'ind_cno_fin_ult1',\n",
       " 'ind_ctju_fin_ult1',\n",
       " 'ind_ctma_fin_ult1',\n",
       " 'ind_ctop_fin_ult1',\n",
       " 'ind_ctpp_fin_ult1',\n",
       " 'ind_deco_fin_ult1',\n",
       " 'ind_dela_fin_ult1',\n",
       " 'ind_deme_fin_ult1',\n",
       " 'ind_ecue_fin_ult1',\n",
       " 'ind_empleado',\n",
       " 'ind_fond_fin_ult1',\n",
       " 'ind_hip_fin_ult1',\n",
       " 'ind_nom_pens_ult1',\n",
       " 'ind_nomina_ult1',\n",
       " 'ind_nuevo',\n",
       " 'ind_plan_fin_ult1',\n",
       " 'ind_pres_fin_ult1',\n",
       " 'ind_reca_fin_ult1',\n",
       " 'ind_recibo_ult1',\n",
       " 'ind_tjcr_fin_ult1',\n",
       " 'ind_valo_fin_ult1',\n",
       " 'ind_viv_fin_ult1',\n",
       " 'indext',\n",
       " 'indfall',\n",
       " 'indrel',\n",
       " 'indrel_1mes',\n",
       " 'indresi',\n",
       " 'ncodpers',\n",
       " 'nomprov',\n",
       " 'pais_residencia',\n",
       " 'renta',\n",
       " 'segmento',\n",
       " 'sexo',\n",
       " 'tipodom',\n",
       " 'tiprel_1mes',\n",
       " 'ageGroup',\n",
       " 'isSpanish',\n",
       " 'majorCity',\n",
       " 'fecha_alta_year',\n",
       " 'fecha_dato_year',\n",
       " 'fecha_alta_month',\n",
       " 'fecha_dato_month',\n",
       " 'antiguedad_years',\n",
       " 'HAS_ult_fec_cli_1t',\n",
       " 'rentaGroup']"
      ]
     },
     "execution_count": 237,
     "metadata": {},
     "output_type": "execute_result"
    }
   ],
   "source": [
    "list(smallDF.columns.values)"
   ]
  },
  {
   "cell_type": "markdown",
   "metadata": {},
   "source": [
    "Okay, now that we have everything cleaned and new features have been created. We will repeat this process on the data that we want to model. \n",
    "You might be thinking, why not just clean and create the features on the data you want to model. It took a few iterations to choose the data I wanted to model and seperating these two steps simplified things. "
   ]
  },
  {
   "cell_type": "markdown",
   "metadata": {},
   "source": [
    "# Transform the Training Data"
   ]
  },
  {
   "cell_type": "markdown",
   "metadata": {},
   "source": [
    "The data we will be modeling with are the rows in the dataset where a customer has added a new product since the previous month. For example, if the customer did not have a credit card in March 2015, but received one in April 2015, we will use the customer's April 2015 data as the training features, and the credit card (ind_tjcr_fin_ult1) as the target feature."
   ]
  },
  {
   "cell_type": "markdown",
   "metadata": {},
   "source": [
    "months is all of the months in the dataset."
   ]
  },
  {
   "cell_type": "code",
   "execution_count": 38,
   "metadata": {},
   "outputs": [],
   "source": [
    "months = train.fecha_dato.unique()"
   ]
  },
  {
   "cell_type": "code",
   "execution_count": 39,
   "metadata": {
    "collapsed": true
   },
   "outputs": [],
   "source": [
    "train_final = pd.DataFrame()"
   ]
  },
  {
   "cell_type": "code",
   "execution_count": 40,
   "metadata": {},
   "outputs": [
    {
     "name": "stdout",
     "output_type": "stream",
     "text": [
      "('Original length of train1: ', 627394)\n",
      "('Original length of train2: ', 625457)\n",
      "\n",
      "('New length of train_new_month: ', 622926)\n",
      "('New length of train_previous_month: ', 622926)\n",
      "\n"
     ]
    },
    {
     "name": "stderr",
     "output_type": "stream",
     "text": [
      "/Library/Frameworks/Python.framework/Versions/2.7/lib/python2.7/site-packages/ipykernel/__main__.py:34: SettingWithCopyWarning: \n",
      "A value is trying to be set on a copy of a slice from a DataFrame.\n",
      "Try using .loc[row_indexer,col_indexer] = value instead\n",
      "\n",
      "See the caveats in the documentation: http://pandas.pydata.org/pandas-docs/stable/indexing.html#indexing-view-versus-copy\n",
      "/Library/Frameworks/Python.framework/Versions/2.7/lib/python2.7/site-packages/ipykernel/__main__.py:41: SettingWithCopyWarning: \n",
      "A value is trying to be set on a copy of a slice from a DataFrame.\n",
      "Try using .loc[row_indexer,col_indexer] = value instead\n",
      "\n",
      "See the caveats in the documentation: http://pandas.pydata.org/pandas-docs/stable/indexing.html#indexing-view-versus-copy\n",
      "/Library/Frameworks/Python.framework/Versions/2.7/lib/python2.7/site-packages/pandas/core/generic.py:2701: SettingWithCopyWarning: \n",
      "A value is trying to be set on a copy of a slice from a DataFrame.\n",
      "Try using .loc[row_indexer,col_indexer] = value instead\n",
      "\n",
      "See the caveats in the documentation: http://pandas.pydata.org/pandas-docs/stable/indexing.html#indexing-view-versus-copy\n",
      "  self[name] = value\n"
     ]
    },
    {
     "name": "stdout",
     "output_type": "stream",
     "text": [
      "Quantity of features to use:\n",
      "ind_ahor_fin_ult1    1.000000e+00\n",
      "ind_aval_fin_ult1    1.000000e+00\n",
      "ind_cco_fin_ult1     2.132000e+03\n",
      "ind_cder_fin_ult1    1.200000e+01\n",
      "ind_cno_fin_ult1     1.884000e+03\n",
      "ind_ctju_fin_ult1    7.000000e+00\n",
      "ind_ctma_fin_ult1    2.910000e+02\n",
      "ind_ctop_fin_ult1    2.490000e+02\n",
      "ind_ctpp_fin_ult1    1.710000e+02\n",
      "ind_deco_fin_ult1    3.480000e+02\n",
      "ind_dela_fin_ult1    7.240000e+02\n",
      "ind_deme_fin_ult1    3.300000e+01\n",
      "ind_ecue_fin_ult1    1.472000e+03\n",
      "ind_fond_fin_ult1    4.510000e+02\n",
      "ind_hip_fin_ult1     5.000000e+00\n",
      "ind_nom_pens_ult1    5.656000e+03\n",
      "ind_nomina_ult1      5.659000e+03\n",
      "ind_plan_fin_ult1    2.700000e+01\n",
      "ind_pres_fin_ult1    9.000000e+00\n",
      "ind_reca_fin_ult1    2.170000e+02\n",
      "ind_recibo_ult1      8.285000e+03\n",
      "ind_tjcr_fin_ult1    3.471000e+03\n",
      "ind_valo_fin_ult1    2.590000e+02\n",
      "ind_viv_fin_ult1     8.000000e+00\n",
      "ncodpers             4.831139e+11\n",
      "dtype: float64\n",
      "('Length of new dataframe:', 622926)\n",
      "\n",
      "('Percent finished:', 0)\n",
      "('Original length of train1: ', 629209)\n",
      "('Original length of train2: ', 627394)\n",
      "\n",
      "('New length of train_new_month: ', 625094)\n",
      "('New length of train_previous_month: ', 625094)\n",
      "\n",
      "Quantity of features to use:\n",
      "ind_ahor_fin_ult1    0.000000e+00\n",
      "ind_aval_fin_ult1    1.000000e+00\n",
      "ind_cco_fin_ult1     2.293000e+03\n",
      "ind_cder_fin_ult1    1.500000e+01\n",
      "ind_cno_fin_ult1     1.786000e+03\n",
      "ind_ctju_fin_ult1    1.800000e+01\n",
      "ind_ctma_fin_ult1    2.720000e+02\n",
      "ind_ctop_fin_ult1    2.840000e+02\n",
      "ind_ctpp_fin_ult1    1.650000e+02\n",
      "ind_deco_fin_ult1    4.810000e+02\n",
      "ind_dela_fin_ult1    8.140000e+02\n",
      "ind_deme_fin_ult1    2.300000e+01\n",
      "ind_ecue_fin_ult1    1.594000e+03\n",
      "ind_fond_fin_ult1    5.700000e+02\n",
      "ind_hip_fin_ult1     7.000000e+00\n",
      "ind_nom_pens_ult1    4.473000e+03\n",
      "ind_nomina_ult1      4.479000e+03\n",
      "ind_plan_fin_ult1    2.400000e+01\n",
      "ind_pres_fin_ult1    1.200000e+01\n",
      "ind_reca_fin_ult1    2.170000e+02\n",
      "ind_recibo_ult1      9.135000e+03\n",
      "ind_tjcr_fin_ult1    5.076000e+03\n",
      "ind_valo_fin_ult1    2.050000e+02\n",
      "ind_viv_fin_ult1     4.000000e+00\n",
      "ncodpers             4.866134e+11\n",
      "dtype: float64\n",
      "('Length of new dataframe:', 1248020)\n",
      "\n",
      "('Percent finished:', 0)\n",
      "('Original length of train1: ', 630367)\n",
      "('Original length of train2: ', 629209)\n",
      "\n",
      "('New length of train_new_month: ', 626698)\n",
      "('New length of train_previous_month: ', 626698)\n",
      "\n",
      "Quantity of features to use:\n",
      "ind_ahor_fin_ult1    0.000000e+00\n",
      "ind_aval_fin_ult1    1.000000e+00\n",
      "ind_cco_fin_ult1     2.366000e+03\n",
      "ind_cder_fin_ult1    1.200000e+01\n",
      "ind_cno_fin_ult1     1.984000e+03\n",
      "ind_ctju_fin_ult1    1.000000e+01\n",
      "ind_ctma_fin_ult1    2.170000e+02\n",
      "ind_ctop_fin_ult1    2.780000e+02\n",
      "ind_ctpp_fin_ult1    1.670000e+02\n",
      "ind_deco_fin_ult1    2.630000e+02\n",
      "ind_dela_fin_ult1    7.750000e+02\n",
      "ind_deme_fin_ult1    2.600000e+01\n",
      "ind_ecue_fin_ult1    1.459000e+03\n",
      "ind_fond_fin_ult1    4.920000e+02\n",
      "ind_hip_fin_ult1     4.000000e+00\n",
      "ind_nom_pens_ult1    5.628000e+03\n",
      "ind_nomina_ult1      2.663000e+03\n",
      "ind_plan_fin_ult1    2.200000e+01\n",
      "ind_pres_fin_ult1    1.700000e+01\n",
      "ind_reca_fin_ult1    8.710000e+02\n",
      "ind_recibo_ult1      8.346000e+03\n",
      "ind_tjcr_fin_ult1    4.627000e+03\n",
      "ind_valo_fin_ult1    1.940000e+02\n",
      "ind_viv_fin_ult1     5.000000e+00\n",
      "ncodpers             4.893967e+11\n",
      "dtype: float64\n",
      "('Length of new dataframe:', 1874718)\n",
      "\n",
      "('Percent finished:', 0)\n",
      "('Original length of train1: ', 631957)\n",
      "('Original length of train2: ', 630367)\n",
      "\n",
      "('New length of train_new_month: ', 628135)\n",
      "('New length of train_previous_month: ', 628135)\n",
      "\n",
      "Quantity of features to use:\n",
      "ind_ahor_fin_ult1    0.000000e+00\n",
      "ind_aval_fin_ult1    0.000000e+00\n",
      "ind_cco_fin_ult1     2.264000e+03\n",
      "ind_cder_fin_ult1    7.000000e+00\n",
      "ind_cno_fin_ult1     1.900000e+03\n",
      "ind_ctju_fin_ult1    1.000000e+01\n",
      "ind_ctma_fin_ult1    2.050000e+02\n",
      "ind_ctop_fin_ult1    2.890000e+02\n",
      "ind_ctpp_fin_ult1    1.720000e+02\n",
      "ind_deco_fin_ult1    2.380000e+02\n",
      "ind_dela_fin_ult1    8.850000e+02\n",
      "ind_deme_fin_ult1    2.500000e+01\n",
      "ind_ecue_fin_ult1    1.461000e+03\n",
      "ind_fond_fin_ult1    3.960000e+02\n",
      "ind_hip_fin_ult1     9.000000e+00\n",
      "ind_nom_pens_ult1    3.345000e+03\n",
      "ind_nomina_ult1      3.369000e+03\n",
      "ind_plan_fin_ult1    2.100000e+01\n",
      "ind_pres_fin_ult1    1.100000e+01\n",
      "ind_reca_fin_ult1    3.430000e+02\n",
      "ind_recibo_ult1      7.085000e+03\n",
      "ind_tjcr_fin_ult1    4.071000e+03\n",
      "ind_valo_fin_ult1    2.010000e+02\n",
      "ind_viv_fin_ult1     4.000000e+00\n",
      "ncodpers             4.919248e+11\n",
      "dtype: float64\n",
      "('Length of new dataframe:', 2502853)\n",
      "\n",
      "('Percent finished:', 0)\n",
      "('Original length of train1: ', 632110)\n",
      "('Original length of train2: ', 631957)\n",
      "\n",
      "('New length of train_new_month: ', 628603)\n",
      "('New length of train_previous_month: ', 628603)\n",
      "\n",
      "Quantity of features to use:\n",
      "ind_ahor_fin_ult1    0.000000e+00\n",
      "ind_aval_fin_ult1    0.000000e+00\n",
      "ind_cco_fin_ult1     6.588000e+03\n",
      "ind_cder_fin_ult1    9.000000e+00\n",
      "ind_cno_fin_ult1     1.857000e+03\n",
      "ind_ctju_fin_ult1    7.000000e+00\n",
      "ind_ctma_fin_ult1    2.100000e+02\n",
      "ind_ctop_fin_ult1    2.130000e+02\n",
      "ind_ctpp_fin_ult1    1.510000e+02\n",
      "ind_deco_fin_ult1    2.890000e+02\n",
      "ind_dela_fin_ult1    9.390000e+02\n",
      "ind_deme_fin_ult1    3.300000e+01\n",
      "ind_ecue_fin_ult1    1.204000e+03\n",
      "ind_fond_fin_ult1    2.450000e+02\n",
      "ind_hip_fin_ult1     4.000000e+00\n",
      "ind_nom_pens_ult1    8.135000e+03\n",
      "ind_nomina_ult1      5.070000e+03\n",
      "ind_plan_fin_ult1    1.900000e+01\n",
      "ind_pres_fin_ult1    8.000000e+00\n",
      "ind_reca_fin_ult1    2.931000e+03\n",
      "ind_recibo_ult1      9.023000e+03\n",
      "ind_tjcr_fin_ult1    4.655000e+03\n",
      "ind_valo_fin_ult1    1.520000e+02\n",
      "ind_viv_fin_ult1     3.000000e+00\n",
      "ncodpers             4.936798e+11\n",
      "dtype: float64\n",
      "('Length of new dataframe:', 3131456)\n",
      "\n",
      "('Percent finished:', 0)\n",
      "('Original length of train1: ', 829817)\n",
      "('Original length of train2: ', 632110)\n",
      "\n",
      "('New length of train_new_month: ', 630249)\n",
      "('New length of train_previous_month: ', 630249)\n",
      "\n",
      "Quantity of features to use:\n",
      "ind_ahor_fin_ult1    0.000000e+00\n",
      "ind_aval_fin_ult1    0.000000e+00\n",
      "ind_cco_fin_ult1     3.056000e+03\n",
      "ind_cder_fin_ult1    1.000000e+01\n",
      "ind_cno_fin_ult1     2.771000e+03\n",
      "ind_ctju_fin_ult1    1.800000e+01\n",
      "ind_ctma_fin_ult1    1.910000e+02\n",
      "ind_ctop_fin_ult1    2.520000e+02\n",
      "ind_ctpp_fin_ult1    1.640000e+02\n",
      "ind_deco_fin_ult1    2.650000e+02\n",
      "ind_dela_fin_ult1    1.138000e+03\n",
      "ind_deme_fin_ult1    2.400000e+01\n",
      "ind_ecue_fin_ult1    1.085000e+03\n",
      "ind_fond_fin_ult1    2.040000e+02\n",
      "ind_hip_fin_ult1     6.000000e+00\n",
      "ind_nom_pens_ult1    4.850000e+03\n",
      "ind_nomina_ult1      4.408000e+03\n",
      "ind_plan_fin_ult1    2.700000e+01\n",
      "ind_pres_fin_ult1    5.000000e+00\n",
      "ind_reca_fin_ult1    5.890000e+02\n",
      "ind_recibo_ult1      9.172000e+03\n",
      "ind_tjcr_fin_ult1    4.886000e+03\n",
      "ind_valo_fin_ult1    2.320000e+02\n",
      "ind_viv_fin_ult1     9.000000e+00\n",
      "ncodpers             4.969715e+11\n",
      "dtype: float64\n",
      "('Length of new dataframe:', 3761705)\n",
      "\n",
      "('Percent finished:', 0)\n",
      "('Original length of train1: ', 843201)\n",
      "('Original length of train2: ', 829817)\n",
      "\n",
      "('New length of train_new_month: ', 828361)\n",
      "('New length of train_previous_month: ', 828361)\n",
      "\n",
      "Quantity of features to use:\n",
      "ind_ahor_fin_ult1    0.000000e+00\n",
      "ind_aval_fin_ult1    0.000000e+00\n",
      "ind_cco_fin_ult1     5.730000e+03\n",
      "ind_cder_fin_ult1    1.000000e+01\n",
      "ind_cno_fin_ult1     2.412000e+03\n",
      "ind_ctju_fin_ult1    3.700000e+01\n",
      "ind_ctma_fin_ult1    2.400000e+02\n",
      "ind_ctop_fin_ult1    2.310000e+02\n",
      "ind_ctpp_fin_ult1    1.450000e+02\n",
      "ind_deco_fin_ult1    3.220000e+02\n",
      "ind_dela_fin_ult1    1.024000e+03\n",
      "ind_deme_fin_ult1    3.300000e+01\n",
      "ind_ecue_fin_ult1    9.240000e+02\n",
      "ind_fond_fin_ult1    2.230000e+02\n",
      "ind_hip_fin_ult1     1.000000e+00\n",
      "ind_nom_pens_ult1    2.968000e+03\n",
      "ind_nomina_ult1      2.950000e+03\n",
      "ind_plan_fin_ult1    2.200000e+01\n",
      "ind_pres_fin_ult1    1.300000e+01\n",
      "ind_reca_fin_ult1    2.640000e+02\n",
      "ind_recibo_ult1      7.115000e+03\n",
      "ind_tjcr_fin_ult1    4.379000e+03\n",
      "ind_valo_fin_ult1    4.450000e+02\n",
      "ind_viv_fin_ult1     2.000000e+00\n",
      "ncodpers             6.652480e+11\n",
      "dtype: float64\n",
      "('Length of new dataframe:', 4590066)\n",
      "\n",
      "('Percent finished:', 0)\n",
      "('Original length of train1: ', 865440)\n",
      "('Original length of train2: ', 843201)\n",
      "\n",
      "('New length of train_new_month: ', 841795)\n",
      "('New length of train_previous_month: ', 841795)\n",
      "\n",
      "Quantity of features to use:\n",
      "ind_ahor_fin_ult1    0.000000e+00\n",
      "ind_aval_fin_ult1    0.000000e+00\n",
      "ind_cco_fin_ult1     4.389000e+03\n",
      "ind_cder_fin_ult1    7.000000e+00\n",
      "ind_cno_fin_ult1     1.775000e+03\n",
      "ind_ctju_fin_ult1    2.200000e+01\n",
      "ind_ctma_fin_ult1    4.710000e+02\n",
      "ind_ctop_fin_ult1    1.910000e+02\n",
      "ind_ctpp_fin_ult1    1.220000e+02\n",
      "ind_deco_fin_ult1    3.870000e+02\n",
      "ind_dela_fin_ult1    1.348000e+03\n",
      "ind_deme_fin_ult1    3.000000e+01\n",
      "ind_ecue_fin_ult1    1.072000e+03\n",
      "ind_fond_fin_ult1    1.300000e+02\n",
      "ind_hip_fin_ult1     8.000000e+00\n",
      "ind_nom_pens_ult1    4.753000e+03\n",
      "ind_nomina_ult1      4.683000e+03\n",
      "ind_plan_fin_ult1    2.100000e+01\n",
      "ind_pres_fin_ult1    1.300000e+01\n",
      "ind_reca_fin_ult1    2.710000e+02\n",
      "ind_recibo_ult1      1.121000e+04\n",
      "ind_tjcr_fin_ult1    4.463000e+03\n",
      "ind_valo_fin_ult1    3.280000e+02\n",
      "ind_viv_fin_ult1     2.000000e+00\n",
      "ncodpers             6.846502e+11\n",
      "dtype: float64\n",
      "('Length of new dataframe:', 5431861)\n",
      "\n",
      "('Percent finished:', 0)\n",
      "('Original length of train1: ', 892251)\n",
      "('Original length of train2: ', 865440)\n",
      "\n",
      "('New length of train_new_month: ', 863690)\n",
      "('New length of train_previous_month: ', 863690)\n",
      "\n",
      "Quantity of features to use:\n",
      "ind_ahor_fin_ult1    0.000000e+00\n",
      "ind_aval_fin_ult1    0.000000e+00\n",
      "ind_cco_fin_ult1     5.682000e+03\n",
      "ind_cder_fin_ult1    3.000000e+00\n",
      "ind_cno_fin_ult1     2.409000e+03\n",
      "ind_ctju_fin_ult1    4.300000e+01\n",
      "ind_ctma_fin_ult1    4.680000e+02\n",
      "ind_ctop_fin_ult1    2.230000e+02\n",
      "ind_ctpp_fin_ult1    1.530000e+02\n",
      "ind_deco_fin_ult1    3.490000e+02\n",
      "ind_dela_fin_ult1    1.390000e+03\n",
      "ind_deme_fin_ult1    2.200000e+01\n",
      "ind_ecue_fin_ult1    1.205000e+03\n",
      "ind_fond_fin_ult1    1.460000e+02\n",
      "ind_hip_fin_ult1     7.000000e+00\n",
      "ind_nom_pens_ult1    4.790000e+03\n",
      "ind_nomina_ult1      4.818000e+03\n",
      "ind_plan_fin_ult1    1.900000e+01\n",
      "ind_pres_fin_ult1    9.000000e+00\n",
      "ind_reca_fin_ult1    5.930000e+02\n",
      "ind_recibo_ult1      1.210000e+04\n",
      "ind_tjcr_fin_ult1    4.461000e+03\n",
      "ind_valo_fin_ult1    9.110000e+02\n",
      "ind_viv_fin_ult1     2.000000e+00\n",
      "ncodpers             7.166470e+11\n",
      "dtype: float64\n",
      "('Length of new dataframe:', 6295551)\n",
      "\n",
      "('Percent finished:', 0)\n",
      "('Original length of train1: ', 906109)\n",
      "('Original length of train2: ', 892251)\n",
      "\n",
      "('New length of train_new_month: ', 890170)\n",
      "('New length of train_previous_month: ', 890170)\n",
      "\n",
      "Quantity of features to use:\n",
      "ind_ahor_fin_ult1    0.000000e+00\n",
      "ind_aval_fin_ult1    0.000000e+00\n",
      "ind_cco_fin_ult1     4.670000e+03\n",
      "ind_cder_fin_ult1    6.000000e+00\n",
      "ind_cno_fin_ult1     2.930000e+03\n",
      "ind_ctju_fin_ult1    3.100000e+01\n",
      "ind_ctma_fin_ult1    6.330000e+02\n",
      "ind_ctop_fin_ult1    2.090000e+02\n",
      "ind_ctpp_fin_ult1    1.400000e+02\n",
      "ind_deco_fin_ult1    1.100000e+02\n",
      "ind_dela_fin_ult1    9.080000e+02\n",
      "ind_deme_fin_ult1    1.000000e+00\n",
      "ind_ecue_fin_ult1    1.588000e+03\n",
      "ind_fond_fin_ult1    1.690000e+02\n",
      "ind_hip_fin_ult1     3.000000e+00\n",
      "ind_nom_pens_ult1    4.409000e+03\n",
      "ind_nomina_ult1      4.395000e+03\n",
      "ind_plan_fin_ult1    3.700000e+01\n",
      "ind_pres_fin_ult1    8.000000e+00\n",
      "ind_reca_fin_ult1    4.160000e+02\n",
      "ind_recibo_ult1      1.010200e+04\n",
      "ind_tjcr_fin_ult1    4.312000e+03\n",
      "ind_valo_fin_ult1    1.330000e+02\n",
      "ind_viv_fin_ult1     5.000000e+00\n",
      "ncodpers             7.560497e+11\n",
      "dtype: float64\n",
      "('Length of new dataframe:', 7185721)\n",
      "\n",
      "('Percent finished:', 0)\n",
      "('Original length of train1: ', 912021)\n",
      "('Original length of train2: ', 906109)\n",
      "\n",
      "('New length of train_new_month: ', 904294)\n",
      "('New length of train_previous_month: ', 904294)\n",
      "\n",
      "Quantity of features to use:\n",
      "ind_ahor_fin_ult1    0.000000e+00\n",
      "ind_aval_fin_ult1    0.000000e+00\n",
      "ind_cco_fin_ult1     9.077000e+03\n",
      "ind_cder_fin_ult1    9.000000e+00\n",
      "ind_cno_fin_ult1     3.869000e+03\n",
      "ind_ctju_fin_ult1    6.900000e+01\n",
      "ind_ctma_fin_ult1    5.920000e+02\n",
      "ind_ctop_fin_ult1    2.830000e+02\n",
      "ind_ctpp_fin_ult1    1.550000e+02\n",
      "ind_deco_fin_ult1    8.000000e+00\n",
      "ind_dela_fin_ult1    1.199000e+03\n",
      "ind_deme_fin_ult1    0.000000e+00\n",
      "ind_ecue_fin_ult1    1.816000e+03\n",
      "ind_fond_fin_ult1    2.050000e+02\n",
      "ind_hip_fin_ult1     3.000000e+00\n",
      "ind_nom_pens_ult1    5.148000e+03\n",
      "ind_nomina_ult1      5.071000e+03\n",
      "ind_plan_fin_ult1    1.570000e+02\n",
      "ind_pres_fin_ult1    1.100000e+01\n",
      "ind_reca_fin_ult1    2.350000e+02\n",
      "ind_recibo_ult1      9.888000e+03\n",
      "ind_tjcr_fin_ult1    4.295000e+03\n",
      "ind_valo_fin_ult1    2.550000e+02\n",
      "ind_viv_fin_ult1     8.000000e+00\n",
      "ncodpers             7.773680e+11\n",
      "dtype: float64\n",
      "('Length of new dataframe:', 8090015)\n",
      "\n",
      "('Percent finished:', 0)\n",
      "('Original length of train1: ', 916269)\n",
      "('Original length of train2: ', 912021)\n",
      "\n",
      "('New length of train_new_month: ', 908930)\n",
      "('New length of train_previous_month: ', 908930)\n",
      "\n",
      "Quantity of features to use:\n",
      "ind_ahor_fin_ult1    0.000000e+00\n",
      "ind_aval_fin_ult1    1.000000e+00\n",
      "ind_cco_fin_ult1     4.436000e+03\n",
      "ind_cder_fin_ult1    1.200000e+01\n",
      "ind_cno_fin_ult1     2.155000e+03\n",
      "ind_ctju_fin_ult1    3.700000e+01\n",
      "ind_ctma_fin_ult1    5.450000e+02\n",
      "ind_ctop_fin_ult1    2.590000e+02\n",
      "ind_ctpp_fin_ult1    1.490000e+02\n",
      "ind_deco_fin_ult1    0.000000e+00\n",
      "ind_dela_fin_ult1    4.470000e+02\n",
      "ind_deme_fin_ult1    0.000000e+00\n",
      "ind_ecue_fin_ult1    2.272000e+03\n",
      "ind_fond_fin_ult1    1.450000e+02\n",
      "ind_hip_fin_ult1     2.000000e+00\n",
      "ind_nom_pens_ult1    2.892000e+03\n",
      "ind_nomina_ult1      2.437000e+03\n",
      "ind_plan_fin_ult1    1.040000e+02\n",
      "ind_pres_fin_ult1    7.000000e+00\n",
      "ind_reca_fin_ult1    4.450000e+02\n",
      "ind_recibo_ult1      1.007800e+04\n",
      "ind_tjcr_fin_ult1    3.792000e+03\n",
      "ind_valo_fin_ult1    7.390000e+02\n",
      "ind_viv_fin_ult1     2.000000e+00\n",
      "ncodpers             7.847461e+11\n",
      "dtype: float64\n",
      "('Length of new dataframe:', 8998945)\n",
      "\n",
      "('Percent finished:', 0)\n",
      "('Original length of train1: ', 920904)\n",
      "('Original length of train2: ', 916269)\n",
      "\n",
      "('New length of train_new_month: ', 914329)\n",
      "('New length of train_previous_month: ', 914329)\n",
      "\n",
      "Quantity of features to use:\n",
      "ind_ahor_fin_ult1    0.000000e+00\n",
      "ind_aval_fin_ult1    0.000000e+00\n",
      "ind_cco_fin_ult1     3.988000e+03\n",
      "ind_cder_fin_ult1    9.000000e+00\n",
      "ind_cno_fin_ult1     2.211000e+03\n",
      "ind_ctju_fin_ult1    4.800000e+01\n",
      "ind_ctma_fin_ult1    7.700000e+02\n",
      "ind_ctop_fin_ult1    2.170000e+02\n",
      "ind_ctpp_fin_ult1    1.410000e+02\n",
      "ind_deco_fin_ult1    1.000000e+00\n",
      "ind_dela_fin_ult1    6.840000e+02\n",
      "ind_deme_fin_ult1    0.000000e+00\n",
      "ind_ecue_fin_ult1    2.342000e+03\n",
      "ind_fond_fin_ult1    8.200000e+01\n",
      "ind_hip_fin_ult1     6.000000e+00\n",
      "ind_nom_pens_ult1    1.268700e+04\n",
      "ind_nomina_ult1      9.499000e+03\n",
      "ind_plan_fin_ult1    4.500000e+01\n",
      "ind_pres_fin_ult1    6.000000e+00\n",
      "ind_reca_fin_ult1    5.570000e+02\n",
      "ind_recibo_ult1      1.152800e+04\n",
      "ind_tjcr_fin_ult1    3.881000e+03\n",
      "ind_valo_fin_ult1    3.200000e+02\n",
      "ind_viv_fin_ult1     2.000000e+00\n",
      "ncodpers             7.930849e+11\n",
      "dtype: float64\n",
      "('Length of new dataframe:', 9913274)\n",
      "\n",
      "('Percent finished:', 0)\n",
      "('Original length of train1: ', 925076)\n",
      "('Original length of train2: ', 920904)\n",
      "\n",
      "('New length of train_new_month: ', 919070)\n",
      "('New length of train_previous_month: ', 919070)\n",
      "\n",
      "Quantity of features to use:\n",
      "ind_ahor_fin_ult1    0.000000e+00\n",
      "ind_aval_fin_ult1    0.000000e+00\n",
      "ind_cco_fin_ult1     4.551000e+03\n",
      "ind_cder_fin_ult1    5.000000e+00\n",
      "ind_cno_fin_ult1     2.428000e+03\n",
      "ind_ctju_fin_ult1    4.500000e+01\n",
      "ind_ctma_fin_ult1    6.430000e+02\n",
      "ind_ctop_fin_ult1    2.250000e+02\n",
      "ind_ctpp_fin_ult1    1.310000e+02\n",
      "ind_deco_fin_ult1    0.000000e+00\n",
      "ind_dela_fin_ult1    2.390000e+02\n",
      "ind_deme_fin_ult1    0.000000e+00\n",
      "ind_ecue_fin_ult1    1.909000e+03\n",
      "ind_fond_fin_ult1    9.200000e+01\n",
      "ind_hip_fin_ult1     2.000000e+00\n",
      "ind_nom_pens_ult1    5.038000e+03\n",
      "ind_nomina_ult1      4.974000e+03\n",
      "ind_plan_fin_ult1    3.000000e+01\n",
      "ind_pres_fin_ult1    7.000000e+00\n",
      "ind_reca_fin_ult1    1.990000e+02\n",
      "ind_recibo_ult1      1.011700e+04\n",
      "ind_tjcr_fin_ult1    4.401000e+03\n",
      "ind_valo_fin_ult1    1.630000e+02\n",
      "ind_viv_fin_ult1     4.000000e+00\n",
      "ncodpers             8.005548e+11\n",
      "dtype: float64\n",
      "('Length of new dataframe:', 10832344)\n",
      "\n",
      "('Percent finished:', 0)\n",
      "('Original length of train1: ', 928274)\n",
      "('Original length of train2: ', 925076)\n",
      "\n",
      "('New length of train_new_month: ', 923414)\n",
      "('New length of train_previous_month: ', 923414)\n",
      "\n",
      "Quantity of features to use:\n",
      "ind_ahor_fin_ult1    0.000000e+00\n",
      "ind_aval_fin_ult1    0.000000e+00\n",
      "ind_cco_fin_ult1     4.027000e+03\n",
      "ind_cder_fin_ult1    5.000000e+00\n",
      "ind_cno_fin_ult1     2.381000e+03\n",
      "ind_ctju_fin_ult1    4.000000e+01\n",
      "ind_ctma_fin_ult1    5.960000e+02\n",
      "ind_ctop_fin_ult1    2.400000e+02\n",
      "ind_ctpp_fin_ult1    1.610000e+02\n",
      "ind_deco_fin_ult1    0.000000e+00\n",
      "ind_dela_fin_ult1    9.900000e+01\n",
      "ind_deme_fin_ult1    0.000000e+00\n",
      "ind_ecue_fin_ult1    2.249000e+03\n",
      "ind_fond_fin_ult1    8.300000e+01\n",
      "ind_hip_fin_ult1     5.000000e+00\n",
      "ind_nom_pens_ult1    4.424000e+03\n",
      "ind_nomina_ult1      3.790000e+03\n",
      "ind_plan_fin_ult1    2.100000e+01\n",
      "ind_pres_fin_ult1    4.000000e+00\n",
      "ind_reca_fin_ult1    8.070000e+02\n",
      "ind_recibo_ult1      9.799000e+03\n",
      "ind_tjcr_fin_ult1    4.100000e+03\n",
      "ind_valo_fin_ult1    1.280000e+02\n",
      "ind_viv_fin_ult1     3.000000e+00\n",
      "ncodpers             8.074297e+11\n",
      "dtype: float64\n",
      "('Length of new dataframe:', 11755758)\n",
      "\n",
      "('Percent finished:', 0)\n",
      "('Original length of train1: ', 931453)\n",
      "('Original length of train2: ', 928274)\n",
      "\n",
      "('New length of train_new_month: ', 926663)\n",
      "('New length of train_previous_month: ', 926663)\n",
      "\n",
      "Quantity of features to use:\n",
      "ind_ahor_fin_ult1    1.000000e+00\n",
      "ind_aval_fin_ult1    0.000000e+00\n",
      "ind_cco_fin_ult1     3.854000e+03\n",
      "ind_cder_fin_ult1    5.000000e+00\n",
      "ind_cno_fin_ult1     2.346000e+03\n",
      "ind_ctju_fin_ult1    4.000000e+01\n",
      "ind_ctma_fin_ult1    5.120000e+02\n",
      "ind_ctop_fin_ult1    2.260000e+02\n",
      "ind_ctpp_fin_ult1    1.310000e+02\n",
      "ind_deco_fin_ult1    0.000000e+00\n",
      "ind_dela_fin_ult1    4.600000e+01\n",
      "ind_deme_fin_ult1    0.000000e+00\n",
      "ind_ecue_fin_ult1    2.709000e+03\n",
      "ind_fond_fin_ult1    6.000000e+01\n",
      "ind_hip_fin_ult1     3.000000e+00\n",
      "ind_nom_pens_ult1    5.513000e+03\n",
      "ind_nomina_ult1      5.488000e+03\n",
      "ind_plan_fin_ult1    2.200000e+01\n",
      "ind_pres_fin_ult1    7.000000e+00\n",
      "ind_reca_fin_ult1    2.790000e+02\n",
      "ind_recibo_ult1      1.016300e+04\n",
      "ind_tjcr_fin_ult1    4.248000e+03\n",
      "ind_valo_fin_ult1    1.830000e+02\n",
      "ind_viv_fin_ult1     7.000000e+00\n",
      "ncodpers             8.126151e+11\n",
      "dtype: float64\n",
      "('Length of new dataframe:', 12682421)\n",
      "\n",
      "('Percent finished:', 0)\n"
     ]
    }
   ],
   "source": [
    "#Start with the second month because we need a previous month to compare data with.\n",
    "i = 1\n",
    "while i < len(months):\n",
    "    #Subset all of the data of the new month, which will be compared to the previous month.\n",
    "    train_new_month = train[train.fecha_dato == months[i]]\n",
    "    train_previous_month = train[train.fecha_dato == months[i-1]]\n",
    "    \n",
    "    print(\"Original length of train1: \", len(train_new_month))\n",
    "    print(\"Original length of train2: \", len(train_previous_month))\n",
    "    print\n",
    "    \n",
    "    #Only select the customers who have data in each month.\n",
    "    train_new_month = train_new_month.loc[train_new_month['ncodpers'].isin(train_previous_month.ncodpers)]\n",
    "    train_previous_month = train_previous_month.loc[train_previous_month['ncodpers'].isin(train_new_month.ncodpers)]\n",
    "    \n",
    "    print(\"New length of train_new_month: \", len(train_new_month))\n",
    "    print(\"New length of train_previous_month: \", len(train_previous_month))\n",
    "    print\n",
    "    \n",
    "    #Sort by ncodpers (Customer code) to allow for easy subtraction between dataframes later.\n",
    "    train_new_month.sort_values(by = 'ncodpers', inplace = True)\n",
    "    train_previous_month.sort_values(by = 'ncodpers', inplace = True)\n",
    "    \n",
    "    #These are all of the target features.\n",
    "    target_cols_all = ['ind_ahor_fin_ult1','ind_aval_fin_ult1','ind_cco_fin_ult1','ind_cder_fin_ult1',\n",
    "                'ind_cno_fin_ult1','ind_ctju_fin_ult1','ind_ctma_fin_ult1','ind_ctop_fin_ult1',\n",
    "                'ind_ctpp_fin_ult1','ind_deco_fin_ult1','ind_dela_fin_ult1','ind_deme_fin_ult1',\n",
    "                'ind_ecue_fin_ult1','ind_fond_fin_ult1','ind_hip_fin_ult1','ind_nom_pens_ult1',\n",
    "                'ind_nomina_ult1','ind_plan_fin_ult1','ind_pres_fin_ult1','ind_reca_fin_ult1',\n",
    "                'ind_recibo_ult1','ind_tjcr_fin_ult1','ind_valo_fin_ult1','ind_viv_fin_ult1']\n",
    "    \n",
    "    #Select only the target columns.\n",
    "    train_new_month_targets = train_new_month[target_cols_all]\n",
    "    #Add ncodpers to the dataframe.\n",
    "    train_new_month_targets['ncodpers'] = train_new_month.ncodpers\n",
    "    #Remove the index.\n",
    "    train_new_month_targets.reset_index(drop = True, inplace = True)\n",
    "\n",
    "    #Select only the target columns.\n",
    "    train_previous_month_targets = train_previous_month[target_cols_all]\n",
    "    #Add ncodpers to the dataframe.\n",
    "    train_previous_month_targets['ncodpers'] = train_previous_month.ncodpers\n",
    "    #Set ncodpers' values to 0, so that there is no effect to this feature when this dataframe is \n",
    "    #subtracted from train_new_month_targets.\n",
    "    train_previous_month_targets.ncodpers = 0\n",
    "    #Remove the index.\n",
    "    train_previous_month_targets.reset_index(drop = True, inplace = True)\n",
    "    \n",
    "    #Subtract the previous month from the current to find which new products the customers have.\n",
    "    train_new_products = train_new_month_targets.subtract(train_previous_month_targets)\n",
    "    #Values will be negative if the customer no longer has a product that they once did. \n",
    "    #Set these negative values to 0.\n",
    "    train_new_products[train_new_products < 0] = 0\n",
    "    print(\"Quantity of features to use:\")\n",
    "    #Sum columns to learn about the quantity of the types of new products.\n",
    "    print train_new_products.sum(axis = 0)\n",
    "    \n",
    "    train_new_products = train_new_products.fillna(0)\n",
    "    \n",
    "    #Merge the target features with the data we will use to train the model.\n",
    "    train_new_products = train_new_products.merge(train_new_month.ix[:,0:24], on = 'ncodpers')\n",
    "    \n",
    "    #Add each month's data to the same dataframe.\n",
    "    train_final = pd.concat([train_final,train_new_products], axis = 0)\n",
    "    \n",
    "    print(\"Length of new dataframe:\", len(train_final))\n",
    "    print\n",
    "    percent_finished = float(i/len(months))\n",
    "    print(\"Percent finished:\", percent_finished)\n",
    "    \n",
    "    i += 1"
   ]
  },
  {
   "cell_type": "code",
   "execution_count": 241,
   "metadata": {},
   "outputs": [
    {
     "data": {
      "text/html": [
       "<div>\n",
       "<table border=\"1\" class=\"dataframe\">\n",
       "  <thead>\n",
       "    <tr style=\"text-align: right;\">\n",
       "      <th></th>\n",
       "      <th>ind_ahor_fin_ult1</th>\n",
       "      <th>ind_aval_fin_ult1</th>\n",
       "      <th>ind_cco_fin_ult1</th>\n",
       "      <th>ind_cder_fin_ult1</th>\n",
       "      <th>ind_cno_fin_ult1</th>\n",
       "      <th>ind_ctju_fin_ult1</th>\n",
       "      <th>ind_ctma_fin_ult1</th>\n",
       "      <th>ind_ctop_fin_ult1</th>\n",
       "      <th>ind_ctpp_fin_ult1</th>\n",
       "      <th>ind_deco_fin_ult1</th>\n",
       "      <th>ind_dela_fin_ult1</th>\n",
       "      <th>ind_deme_fin_ult1</th>\n",
       "      <th>ind_ecue_fin_ult1</th>\n",
       "      <th>ind_fond_fin_ult1</th>\n",
       "      <th>ind_hip_fin_ult1</th>\n",
       "      <th>ind_nom_pens_ult1</th>\n",
       "      <th>ind_nomina_ult1</th>\n",
       "      <th>ind_plan_fin_ult1</th>\n",
       "      <th>ind_pres_fin_ult1</th>\n",
       "      <th>ind_reca_fin_ult1</th>\n",
       "      <th>ind_recibo_ult1</th>\n",
       "      <th>ind_tjcr_fin_ult1</th>\n",
       "      <th>ind_valo_fin_ult1</th>\n",
       "      <th>ind_viv_fin_ult1</th>\n",
       "      <th>ncodpers</th>\n",
       "      <th>fecha_dato</th>\n",
       "      <th>ind_empleado</th>\n",
       "      <th>pais_residencia</th>\n",
       "      <th>sexo</th>\n",
       "      <th>age</th>\n",
       "      <th>fecha_alta</th>\n",
       "      <th>ind_nuevo</th>\n",
       "      <th>antiguedad</th>\n",
       "      <th>indrel</th>\n",
       "      <th>ult_fec_cli_1t</th>\n",
       "      <th>indrel_1mes</th>\n",
       "      <th>tiprel_1mes</th>\n",
       "      <th>indresi</th>\n",
       "      <th>indext</th>\n",
       "      <th>conyuemp</th>\n",
       "      <th>canal_entrada</th>\n",
       "      <th>indfall</th>\n",
       "      <th>tipodom</th>\n",
       "      <th>cod_prov</th>\n",
       "      <th>nomprov</th>\n",
       "      <th>ind_actividad_cliente</th>\n",
       "      <th>renta</th>\n",
       "      <th>segmento</th>\n",
       "    </tr>\n",
       "  </thead>\n",
       "  <tbody>\n",
       "    <tr>\n",
       "      <th>0</th>\n",
       "      <td>0</td>\n",
       "      <td>0</td>\n",
       "      <td>0</td>\n",
       "      <td>0</td>\n",
       "      <td>0</td>\n",
       "      <td>0</td>\n",
       "      <td>0</td>\n",
       "      <td>0</td>\n",
       "      <td>0</td>\n",
       "      <td>0</td>\n",
       "      <td>0</td>\n",
       "      <td>0</td>\n",
       "      <td>0</td>\n",
       "      <td>0</td>\n",
       "      <td>0</td>\n",
       "      <td>0.0</td>\n",
       "      <td>0.0</td>\n",
       "      <td>0</td>\n",
       "      <td>0</td>\n",
       "      <td>0</td>\n",
       "      <td>0</td>\n",
       "      <td>0</td>\n",
       "      <td>0</td>\n",
       "      <td>0</td>\n",
       "      <td>15889</td>\n",
       "      <td>2015-02-28</td>\n",
       "      <td>F</td>\n",
       "      <td>ES</td>\n",
       "      <td>V</td>\n",
       "      <td>56</td>\n",
       "      <td>1995-01-16</td>\n",
       "      <td>0.0</td>\n",
       "      <td>245</td>\n",
       "      <td>1.0</td>\n",
       "      <td>NaN</td>\n",
       "      <td>1</td>\n",
       "      <td>A</td>\n",
       "      <td>S</td>\n",
       "      <td>N</td>\n",
       "      <td>N</td>\n",
       "      <td>KAT</td>\n",
       "      <td>N</td>\n",
       "      <td>1.0</td>\n",
       "      <td>28.0</td>\n",
       "      <td>MADRID</td>\n",
       "      <td>1.0</td>\n",
       "      <td>326124.90</td>\n",
       "      <td>01 - TOP</td>\n",
       "    </tr>\n",
       "    <tr>\n",
       "      <th>1</th>\n",
       "      <td>0</td>\n",
       "      <td>0</td>\n",
       "      <td>0</td>\n",
       "      <td>0</td>\n",
       "      <td>0</td>\n",
       "      <td>0</td>\n",
       "      <td>0</td>\n",
       "      <td>0</td>\n",
       "      <td>0</td>\n",
       "      <td>0</td>\n",
       "      <td>0</td>\n",
       "      <td>0</td>\n",
       "      <td>0</td>\n",
       "      <td>0</td>\n",
       "      <td>0</td>\n",
       "      <td>0.0</td>\n",
       "      <td>0.0</td>\n",
       "      <td>0</td>\n",
       "      <td>0</td>\n",
       "      <td>0</td>\n",
       "      <td>0</td>\n",
       "      <td>0</td>\n",
       "      <td>0</td>\n",
       "      <td>0</td>\n",
       "      <td>15890</td>\n",
       "      <td>2015-02-28</td>\n",
       "      <td>A</td>\n",
       "      <td>ES</td>\n",
       "      <td>V</td>\n",
       "      <td>62</td>\n",
       "      <td>1995-01-16</td>\n",
       "      <td>0.0</td>\n",
       "      <td>246</td>\n",
       "      <td>1.0</td>\n",
       "      <td>NaN</td>\n",
       "      <td>1</td>\n",
       "      <td>A</td>\n",
       "      <td>S</td>\n",
       "      <td>N</td>\n",
       "      <td>N</td>\n",
       "      <td>KAT</td>\n",
       "      <td>N</td>\n",
       "      <td>1.0</td>\n",
       "      <td>28.0</td>\n",
       "      <td>MADRID</td>\n",
       "      <td>1.0</td>\n",
       "      <td>71461.20</td>\n",
       "      <td>02 - PARTICULARES</td>\n",
       "    </tr>\n",
       "    <tr>\n",
       "      <th>2</th>\n",
       "      <td>0</td>\n",
       "      <td>0</td>\n",
       "      <td>0</td>\n",
       "      <td>0</td>\n",
       "      <td>0</td>\n",
       "      <td>0</td>\n",
       "      <td>0</td>\n",
       "      <td>0</td>\n",
       "      <td>0</td>\n",
       "      <td>0</td>\n",
       "      <td>0</td>\n",
       "      <td>0</td>\n",
       "      <td>0</td>\n",
       "      <td>0</td>\n",
       "      <td>0</td>\n",
       "      <td>0.0</td>\n",
       "      <td>0.0</td>\n",
       "      <td>0</td>\n",
       "      <td>0</td>\n",
       "      <td>0</td>\n",
       "      <td>0</td>\n",
       "      <td>0</td>\n",
       "      <td>0</td>\n",
       "      <td>0</td>\n",
       "      <td>15892</td>\n",
       "      <td>2015-02-28</td>\n",
       "      <td>F</td>\n",
       "      <td>ES</td>\n",
       "      <td>H</td>\n",
       "      <td>61</td>\n",
       "      <td>1995-01-16</td>\n",
       "      <td>0.0</td>\n",
       "      <td>246</td>\n",
       "      <td>1.0</td>\n",
       "      <td>NaN</td>\n",
       "      <td>1</td>\n",
       "      <td>A</td>\n",
       "      <td>S</td>\n",
       "      <td>N</td>\n",
       "      <td>N</td>\n",
       "      <td>KAT</td>\n",
       "      <td>N</td>\n",
       "      <td>1.0</td>\n",
       "      <td>28.0</td>\n",
       "      <td>MADRID</td>\n",
       "      <td>1.0</td>\n",
       "      <td>430477.41</td>\n",
       "      <td>01 - TOP</td>\n",
       "    </tr>\n",
       "    <tr>\n",
       "      <th>3</th>\n",
       "      <td>0</td>\n",
       "      <td>0</td>\n",
       "      <td>0</td>\n",
       "      <td>0</td>\n",
       "      <td>0</td>\n",
       "      <td>0</td>\n",
       "      <td>0</td>\n",
       "      <td>0</td>\n",
       "      <td>0</td>\n",
       "      <td>0</td>\n",
       "      <td>0</td>\n",
       "      <td>0</td>\n",
       "      <td>0</td>\n",
       "      <td>0</td>\n",
       "      <td>0</td>\n",
       "      <td>0.0</td>\n",
       "      <td>0.0</td>\n",
       "      <td>0</td>\n",
       "      <td>0</td>\n",
       "      <td>0</td>\n",
       "      <td>0</td>\n",
       "      <td>0</td>\n",
       "      <td>0</td>\n",
       "      <td>0</td>\n",
       "      <td>15893</td>\n",
       "      <td>2015-02-28</td>\n",
       "      <td>N</td>\n",
       "      <td>ES</td>\n",
       "      <td>V</td>\n",
       "      <td>62</td>\n",
       "      <td>1997-10-03</td>\n",
       "      <td>0.0</td>\n",
       "      <td>246</td>\n",
       "      <td>1.0</td>\n",
       "      <td>NaN</td>\n",
       "      <td>1</td>\n",
       "      <td>A</td>\n",
       "      <td>S</td>\n",
       "      <td>N</td>\n",
       "      <td>N</td>\n",
       "      <td>KAT</td>\n",
       "      <td>N</td>\n",
       "      <td>1.0</td>\n",
       "      <td>28.0</td>\n",
       "      <td>MADRID</td>\n",
       "      <td>1.0</td>\n",
       "      <td>430477.41</td>\n",
       "      <td>02 - PARTICULARES</td>\n",
       "    </tr>\n",
       "    <tr>\n",
       "      <th>4</th>\n",
       "      <td>0</td>\n",
       "      <td>0</td>\n",
       "      <td>0</td>\n",
       "      <td>0</td>\n",
       "      <td>0</td>\n",
       "      <td>0</td>\n",
       "      <td>0</td>\n",
       "      <td>0</td>\n",
       "      <td>0</td>\n",
       "      <td>0</td>\n",
       "      <td>0</td>\n",
       "      <td>0</td>\n",
       "      <td>0</td>\n",
       "      <td>0</td>\n",
       "      <td>0</td>\n",
       "      <td>0.0</td>\n",
       "      <td>0.0</td>\n",
       "      <td>0</td>\n",
       "      <td>0</td>\n",
       "      <td>0</td>\n",
       "      <td>0</td>\n",
       "      <td>0</td>\n",
       "      <td>0</td>\n",
       "      <td>0</td>\n",
       "      <td>15894</td>\n",
       "      <td>2015-02-28</td>\n",
       "      <td>A</td>\n",
       "      <td>ES</td>\n",
       "      <td>V</td>\n",
       "      <td>59</td>\n",
       "      <td>1995-01-16</td>\n",
       "      <td>0.0</td>\n",
       "      <td>246</td>\n",
       "      <td>1.0</td>\n",
       "      <td>NaN</td>\n",
       "      <td>1</td>\n",
       "      <td>A</td>\n",
       "      <td>S</td>\n",
       "      <td>N</td>\n",
       "      <td>N</td>\n",
       "      <td>KAT</td>\n",
       "      <td>N</td>\n",
       "      <td>1.0</td>\n",
       "      <td>28.0</td>\n",
       "      <td>MADRID</td>\n",
       "      <td>1.0</td>\n",
       "      <td>281757.72</td>\n",
       "      <td>01 - TOP</td>\n",
       "    </tr>\n",
       "  </tbody>\n",
       "</table>\n",
       "</div>"
      ],
      "text/plain": [
       "   ind_ahor_fin_ult1  ind_aval_fin_ult1  ind_cco_fin_ult1  ind_cder_fin_ult1  \\\n",
       "0                  0                  0                 0                  0   \n",
       "1                  0                  0                 0                  0   \n",
       "2                  0                  0                 0                  0   \n",
       "3                  0                  0                 0                  0   \n",
       "4                  0                  0                 0                  0   \n",
       "\n",
       "   ind_cno_fin_ult1  ind_ctju_fin_ult1  ind_ctma_fin_ult1  ind_ctop_fin_ult1  \\\n",
       "0                 0                  0                  0                  0   \n",
       "1                 0                  0                  0                  0   \n",
       "2                 0                  0                  0                  0   \n",
       "3                 0                  0                  0                  0   \n",
       "4                 0                  0                  0                  0   \n",
       "\n",
       "   ind_ctpp_fin_ult1  ind_deco_fin_ult1  ind_dela_fin_ult1  ind_deme_fin_ult1  \\\n",
       "0                  0                  0                  0                  0   \n",
       "1                  0                  0                  0                  0   \n",
       "2                  0                  0                  0                  0   \n",
       "3                  0                  0                  0                  0   \n",
       "4                  0                  0                  0                  0   \n",
       "\n",
       "   ind_ecue_fin_ult1  ind_fond_fin_ult1  ind_hip_fin_ult1  ind_nom_pens_ult1  \\\n",
       "0                  0                  0                 0                0.0   \n",
       "1                  0                  0                 0                0.0   \n",
       "2                  0                  0                 0                0.0   \n",
       "3                  0                  0                 0                0.0   \n",
       "4                  0                  0                 0                0.0   \n",
       "\n",
       "   ind_nomina_ult1  ind_plan_fin_ult1  ind_pres_fin_ult1  ind_reca_fin_ult1  \\\n",
       "0              0.0                  0                  0                  0   \n",
       "1              0.0                  0                  0                  0   \n",
       "2              0.0                  0                  0                  0   \n",
       "3              0.0                  0                  0                  0   \n",
       "4              0.0                  0                  0                  0   \n",
       "\n",
       "   ind_recibo_ult1  ind_tjcr_fin_ult1  ind_valo_fin_ult1  ind_viv_fin_ult1  \\\n",
       "0                0                  0                  0                 0   \n",
       "1                0                  0                  0                 0   \n",
       "2                0                  0                  0                 0   \n",
       "3                0                  0                  0                 0   \n",
       "4                0                  0                  0                 0   \n",
       "\n",
       "   ncodpers fecha_dato ind_empleado pais_residencia sexo  age fecha_alta  \\\n",
       "0     15889 2015-02-28            F              ES    V   56 1995-01-16   \n",
       "1     15890 2015-02-28            A              ES    V   62 1995-01-16   \n",
       "2     15892 2015-02-28            F              ES    H   61 1995-01-16   \n",
       "3     15893 2015-02-28            N              ES    V   62 1997-10-03   \n",
       "4     15894 2015-02-28            A              ES    V   59 1995-01-16   \n",
       "\n",
       "   ind_nuevo antiguedad  indrel ult_fec_cli_1t indrel_1mes tiprel_1mes  \\\n",
       "0        0.0        245     1.0            NaN           1           A   \n",
       "1        0.0        246     1.0            NaN           1           A   \n",
       "2        0.0        246     1.0            NaN           1           A   \n",
       "3        0.0        246     1.0            NaN           1           A   \n",
       "4        0.0        246     1.0            NaN           1           A   \n",
       "\n",
       "  indresi indext conyuemp canal_entrada indfall  tipodom  cod_prov nomprov  \\\n",
       "0       S      N        N           KAT       N      1.0      28.0  MADRID   \n",
       "1       S      N        N           KAT       N      1.0      28.0  MADRID   \n",
       "2       S      N        N           KAT       N      1.0      28.0  MADRID   \n",
       "3       S      N        N           KAT       N      1.0      28.0  MADRID   \n",
       "4       S      N        N           KAT       N      1.0      28.0  MADRID   \n",
       "\n",
       "   ind_actividad_cliente      renta           segmento  \n",
       "0                    1.0  326124.90           01 - TOP  \n",
       "1                    1.0   71461.20  02 - PARTICULARES  \n",
       "2                    1.0  430477.41           01 - TOP  \n",
       "3                    1.0  430477.41  02 - PARTICULARES  \n",
       "4                    1.0  281757.72           01 - TOP  "
      ]
     },
     "execution_count": 241,
     "metadata": {},
     "output_type": "execute_result"
    }
   ],
   "source": [
    "train_final.head()"
   ]
  },
  {
   "cell_type": "markdown",
   "metadata": {},
   "source": [
    "Only select the rows in the dataframe where there is a new product, i.e. where at least one target feature has a value of 1."
   ]
  },
  {
   "cell_type": "code",
   "execution_count": 41,
   "metadata": {
    "collapsed": true
   },
   "outputs": [],
   "source": [
    "train_final = train_final.loc[(train_final.ix[:,0:24] != 0).any(axis=1)]"
   ]
  },
  {
   "cell_type": "code",
   "execution_count": 42,
   "metadata": {},
   "outputs": [
    {
     "data": {
      "text/plain": [
       "446511"
      ]
     },
     "execution_count": 42,
     "metadata": {},
     "output_type": "execute_result"
    }
   ],
   "source": [
    "len(train_final)"
   ]
  },
  {
   "cell_type": "markdown",
   "metadata": {},
   "source": [
    "We need the data from May 2016 because we are only interested in building a model about which new products customers will have in June 2016. Therefore, we need to compare the model's prediction of reccommended products, versus the products the customer already has. "
   ]
  },
  {
   "cell_type": "code",
   "execution_count": 43,
   "metadata": {
    "collapsed": true
   },
   "outputs": [],
   "source": [
    "final_month = train[train.fecha_dato == '2016-05-28']"
   ]
  },
  {
   "cell_type": "code",
   "execution_count": 44,
   "metadata": {},
   "outputs": [
    {
     "data": {
      "text/plain": [
       "931453"
      ]
     },
     "execution_count": 44,
     "metadata": {},
     "output_type": "execute_result"
    }
   ],
   "source": [
    "len(final_month)"
   ]
  },
  {
   "cell_type": "markdown",
   "metadata": {},
   "source": [
    "Join the training and testing data to reduce repetitive code."
   ]
  },
  {
   "cell_type": "code",
   "execution_count": 45,
   "metadata": {},
   "outputs": [],
   "source": [
    "df = pd.concat([train_final,test], axis = 0, ignore_index = True)"
   ]
  },
  {
   "cell_type": "code",
   "execution_count": 46,
   "metadata": {},
   "outputs": [
    {
     "data": {
      "text/plain": [
       "age                            0\n",
       "antiguedad                     0\n",
       "canal_entrada               2847\n",
       "cod_prov                    5740\n",
       "conyuemp                 1375888\n",
       "fecha_alta                   489\n",
       "fecha_dato                     0\n",
       "ind_actividad_cliente        489\n",
       "ind_ahor_fin_ult1         929615\n",
       "ind_aval_fin_ult1         929615\n",
       "ind_cco_fin_ult1          929615\n",
       "ind_cder_fin_ult1         929615\n",
       "ind_cno_fin_ult1          929615\n",
       "ind_ctju_fin_ult1         929615\n",
       "ind_ctma_fin_ult1         929615\n",
       "ind_ctop_fin_ult1         929615\n",
       "ind_ctpp_fin_ult1         929615\n",
       "ind_deco_fin_ult1         929615\n",
       "ind_dela_fin_ult1         929615\n",
       "ind_deme_fin_ult1         929615\n",
       "ind_ecue_fin_ult1         929615\n",
       "ind_empleado                 489\n",
       "ind_fond_fin_ult1         929615\n",
       "ind_hip_fin_ult1          929615\n",
       "ind_nom_pens_ult1         929615\n",
       "ind_nomina_ult1           929615\n",
       "ind_nuevo                    489\n",
       "ind_plan_fin_ult1         929615\n",
       "ind_pres_fin_ult1         929615\n",
       "ind_reca_fin_ult1         929615\n",
       "ind_recibo_ult1           929615\n",
       "ind_tjcr_fin_ult1         929615\n",
       "ind_valo_fin_ult1         929615\n",
       "ind_viv_fin_ult1          929615\n",
       "indext                       489\n",
       "indfall                      489\n",
       "indrel                       489\n",
       "indrel_1mes                  519\n",
       "indresi                      489\n",
       "ncodpers                       0\n",
       "nomprov                     5740\n",
       "pais_residencia              489\n",
       "renta                      92660\n",
       "segmento                    2889\n",
       "sexo                         496\n",
       "tipodom                      489\n",
       "tiprel_1mes                  519\n",
       "ult_fec_cli_1t           1374046\n",
       "dtype: int64"
      ]
     },
     "execution_count": 46,
     "metadata": {},
     "output_type": "execute_result"
    }
   ],
   "source": [
    "df.isnull().sum()"
   ]
  },
  {
   "cell_type": "code",
   "execution_count": 47,
   "metadata": {},
   "outputs": [
    {
     "name": "stdout",
     "output_type": "stream",
     "text": [
      "Step 1/13\n",
      "Step 2/13\n",
      "Step 3/13\n",
      "Step 4/13\n",
      "Step 5/13\n",
      "Step 6/13\n",
      "Step 7/13\n",
      "Step 8/13\n",
      "Step 9/13\n",
      "Step 10/13\n",
      "Step 11/13\n",
      "Step 12/13\n",
      "Step 13/13\n"
     ]
    }
   ],
   "source": [
    "#Clean the data - we will follow the same steps as the 'smallDF'.\n",
    "print(\"Step 1/13\")\n",
    "badRows = df[df.ind_empleado.isnull()].index\n",
    "\n",
    "print(\"Step 2/13\")\n",
    "df = df.drop(badRows, axis = 0)\n",
    "\n",
    "print(\"Step 3/13\")\n",
    "df.canal_entrada = df.canal_entrada.fillna(\"Unknown\")\n",
    "\n",
    "print(\"Step 4/13\")\n",
    "df = df.drop(\"cod_prov\", 1)\n",
    "\n",
    "print(\"Step 5/13\")\n",
    "df.conyuemp = df.conyuemp.fillna(\"Unknown\")\n",
    "\n",
    "print(\"Step 6/13\")\n",
    "df.loc[df.indrel_1mes == '1', 'indrel_1mes'] = 'Primary'\n",
    "df.loc[df.indrel_1mes == '1.0', 'indrel_1mes'] = 'Primary'\n",
    "df.loc[df.indrel_1mes == 1, 'indrel_1mes'] = 'Primary'\n",
    "df.loc[df.indrel_1mes == 1.0, 'indrel_1mes'] = 'Primary'\n",
    "df.loc[df.indrel_1mes == '2', 'indrel_1mes'] = 'Co-owner'\n",
    "df.loc[df.indrel_1mes == '2.0', 'indrel_1mes'] = 'Co-owner'\n",
    "df.loc[df.indrel_1mes == 2, 'indrel_1mes'] = 'Co-owner'\n",
    "df.loc[df.indrel_1mes == 2.0, 'indrel_1mes'] = 'Co-owner'\n",
    "df.loc[df.indrel_1mes == '3', 'indrel_1mes'] = 'Former Primary'\n",
    "df.loc[df.indrel_1mes == '3.0', 'indrel_1mes'] = 'Former Primary'\n",
    "df.loc[df.indrel_1mes == 3, 'indrel_1mes'] = 'Former Primary'\n",
    "df.loc[df.indrel_1mes == 3.0, 'indrel_1mes'] = 'Former Primary'\n",
    "df.loc[df.indrel_1mes == '4', 'indrel_1mes'] = 'Former Co-owner'\n",
    "df.loc[df.indrel_1mes == '4.0', 'indrel_1mes'] = 'Former Co-owner'\n",
    "df.loc[df.indrel_1mes == 4, 'indrel_1mes'] = 'Former Co-owner'\n",
    "df.loc[df.indrel_1mes == 4.0, 'indrel_1mes'] = 'Former Co-owner'\n",
    "\n",
    "df.indrel_1mes = df.indrel_1mes.fillna('Primary')\n",
    "\n",
    "print(\"Step 7/13\")\n",
    "df.nomprov = df.nomprov.fillna(\"MADRID\")\n",
    "\n",
    "print(\"Step 8/13\")\n",
    "df.loc[df.renta == '         NA',\"renta\"] = 0\n",
    "df.renta = df.renta.astype(float)\n",
    "df.loc[df.renta == 0, 'renta'] = df[df.renta > 0].groupby('nomprov').renta.transform('median')\n",
    "df.loc[df.renta.isnull(), \"renta\"] = df.groupby('nomprov').renta.transform('median')\n",
    "\n",
    "print(\"Step 9/13\")\n",
    "df.segmento = df[df.renta <= 98000].segmento.fillna(\"03 - UNIVERSITARIO\")\n",
    "df.segmento = df[df.renta <= 125500].segmento.fillna(\"02 - PARTICULARES\")\n",
    "df.segmento = df.segmento.fillna(\"01 - TOP\")\n",
    "\n",
    "print(\"Step 10/13\")\n",
    "df.sexo = df.sexo.fillna(\"V\")\n",
    "\n",
    "print(\"Step 11/13\")\n",
    "df.tiprel_1mes = df.tiprel_1mes.fillna('I')\n",
    "\n",
    "print(\"Step 12/13\")\n",
    "df.ind_nomina_ult1 = df.ind_nomina_ult1.fillna(0.0)\n",
    "df.ind_nom_pens_ult1 = df.ind_nom_pens_ult1.fillna(0.0)\n",
    "\n",
    "print(\"Step 13/13\")\n",
    "df.loc[df.antiguedad == -999999, 'antiguedad'] = df[df.antiguedad >= 0].antiguedad.median()"
   ]
  },
  {
   "cell_type": "code",
   "execution_count": 48,
   "metadata": {},
   "outputs": [
    {
     "name": "stdout",
     "output_type": "stream",
     "text": [
      "Step 1/10\n",
      "Step 2/10\n",
      "Step 3/10\n",
      "Step 4/10\n",
      "Step 5/10\n",
      "Step 6/10\n",
      "Step 7/10\n",
      "Step 8/10\n",
      "Step 9/10\n",
      "Step 10/10\n"
     ]
    }
   ],
   "source": [
    "#Feature Engineering - follow the same steps as 'smallDF'.\n",
    "print(\"Step 1/10\")\n",
    "df.age = df.age.astype(int)\n",
    "df.loc[df.age < 20,\"age\"] = 19\n",
    "df.loc[df.age > 90,\"age\"] = 91\n",
    "\n",
    "print(\"Step 2/10\")\n",
    "df['ageGroup'] = (df.age // 10) - 1\n",
    "\n",
    "print(\"Step 3/10\")\n",
    "df['isSpanish'] = df.pais_residencia.map(lambda x: 1 if x == \"ES\" else 0)\n",
    "\n",
    "print(\"Step 4/10\")\n",
    "df['majorCity'] = df.nomprov.map(lambda x: 1 if x == \"MADRID\" or x == \"BARCELONA\" else 0)\n",
    "\n",
    "print(\"Step 5/10\")\n",
    "df['fecha_alta_year'] = pd.DatetimeIndex(df.fecha_alta).year - 1995\n",
    "df['fecha_dato_year'] = pd.DatetimeIndex(df.fecha_dato).year - 2015\n",
    "df['fecha_alta_month'] = pd.DatetimeIndex(df.fecha_alta).month - 1\n",
    "df['fecha_dato_month'] = pd.DatetimeIndex(df.fecha_dato).month - 1\n",
    "\n",
    "print(\"Step 6/10\")\n",
    "df.antiguedad = df.antiguedad.astype(int)\n",
    "df['antiguedad_years'] = df.antiguedad // 12\n",
    "\n",
    "print(\"Step 7/10\")\n",
    "df.loc[df.indrel == 99.0, \"indrel\"] = 0.0\n",
    "\n",
    "print(\"Step 8/10\")\n",
    "df['HAS_ult_fec_cli_1t'] = df.ult_fec_cli_1t.map(lambda x: 1 if x > 0 else 0)\n",
    "\n",
    "print(\"Step 9/10\")\n",
    "df = df.drop('ult_fec_cli_1t', 1)\n",
    "\n",
    "print(\"Step 10/10\")\n",
    "df['rentaGroup'] = df.renta.astype(float) // 50000\n",
    "df.loc[df.renta >= 1000000, \"rentaGroup\"] = 20\n",
    "df.loc[df.renta >= 10000000, \"rentaGroup\"] = 21"
   ]
  },
  {
   "cell_type": "markdown",
   "metadata": {},
   "source": [
    "Since we removed the 'badRows' from the data, we need to find the new length of the dataframe."
   ]
  },
  {
   "cell_type": "code",
   "execution_count": 49,
   "metadata": {},
   "outputs": [],
   "source": [
    "train_final_length = len(train_final) - len(badRows)"
   ]
  },
  {
   "cell_type": "code",
   "execution_count": 50,
   "metadata": {},
   "outputs": [],
   "source": [
    "train_final, test = df[:train_final_length], df[train_final_length:] "
   ]
  },
  {
   "cell_type": "code",
   "execution_count": 51,
   "metadata": {},
   "outputs": [
    {
     "name": "stdout",
     "output_type": "stream",
     "text": [
      "446022\n",
      "929615\n"
     ]
    }
   ],
   "source": [
    "print len(train_final)\n",
    "print len(test)"
   ]
  },
  {
   "cell_type": "markdown",
   "metadata": {},
   "source": [
    "The length looks good there."
   ]
  },
  {
   "cell_type": "markdown",
   "metadata": {},
   "source": [
    "Seperate the training columns from the dataframe as different transformations will be performed on these features, compared to the target columns."
   ]
  },
  {
   "cell_type": "code",
   "execution_count": 52,
   "metadata": {},
   "outputs": [],
   "source": [
    "train_final_training_cols = train_final\n",
    "train_final_training_cols = train_final_training_cols.drop(target_cols_all, axis=1)\n",
    "test = test.drop(target_cols_all, axis=1)"
   ]
  },
  {
   "cell_type": "code",
   "execution_count": 53,
   "metadata": {},
   "outputs": [],
   "source": [
    "df = pd.concat([train_final_training_cols, test], axis = 0)"
   ]
  },
  {
   "cell_type": "markdown",
   "metadata": {},
   "source": [
    "Some features need to be converted to integers with cat.codes. Some of these will then have dummy variables created from them, however features such as pais_residencia will not, because too many features would be created (there are over 100 countries in this dataset)."
   ]
  },
  {
   "cell_type": "code",
   "execution_count": 54,
   "metadata": {},
   "outputs": [
    {
     "name": "stdout",
     "output_type": "stream",
     "text": [
      "Step 1/6\n",
      "Step 2/6\n",
      "Step 3/6\n",
      "Step 4/6\n",
      "Step 5/6\n",
      "Step 6/6\n"
     ]
    }
   ],
   "source": [
    "print(\"Step 1/6\")\n",
    "df.pais_residencia = df.pais_residencia.astype('category').cat.codes\n",
    "print(\"Step 2/6\")\n",
    "df.canal_entrada = df.canal_entrada.astype('category').cat.codes\n",
    "print(\"Step 3/6\")\n",
    "df.nomprov = df.nomprov.astype('category').cat.codes\n",
    "print(\"Step 4/6\")\n",
    "final_month.nomprov = final_month.indrel_1mes.astype('category').cat.codes\n",
    "print(\"Step 5/6\")\n",
    "df = pd.get_dummies(df, columns = ['ind_empleado','sexo','tiprel_1mes','indresi',\n",
    "                                   'indext','conyuemp','indfall','segmento','indrel_1mes'])\n",
    "print(\"Step 6/6\")\n",
    "#Drop the date features because we can't use them to train the model.\n",
    "df = df.drop(['fecha_dato', 'fecha_alta'], axis = 1)"
   ]
  },
  {
   "cell_type": "code",
   "execution_count": 55,
   "metadata": {},
   "outputs": [],
   "source": [
    "train_final_training_cols, test = df[:train_final_length], df[train_final_length:] "
   ]
  },
  {
   "cell_type": "code",
   "execution_count": 56,
   "metadata": {},
   "outputs": [
    {
     "name": "stdout",
     "output_type": "stream",
     "text": [
      "Step 1/11\n",
      "Step 2/11\n",
      "Step 3/11\n",
      "Step 4/11\n"
     ]
    },
    {
     "name": "stderr",
     "output_type": "stream",
     "text": [
      "/Library/Frameworks/Python.framework/Versions/2.7/lib/python2.7/site-packages/ipykernel/__main__.py:7: SettingWithCopyWarning: \n",
      "A value is trying to be set on a copy of a slice from a DataFrame.\n",
      "Try using .loc[row_indexer,col_indexer] = value instead\n",
      "\n",
      "See the caveats in the documentation: http://pandas.pydata.org/pandas-docs/stable/indexing.html#indexing-view-versus-copy\n"
     ]
    },
    {
     "name": "stdout",
     "output_type": "stream",
     "text": [
      "Step 5/11\n",
      "Step 6/11\n",
      "Step 7/11\n",
      "Step 8/11\n",
      "Step 9/11\n",
      "Step 10/11\n",
      "Step 11/11\n"
     ]
    }
   ],
   "source": [
    "print(\"Step 1/11\")\n",
    "#Get the target columns\n",
    "labels = train_final[target_cols_all]\n",
    "\n",
    "print(\"Step 2/11\")\n",
    "#Add ncodpers to the dataframe\n",
    "labels['ncodpers'] = train_final.ncodpers\n",
    "\n",
    "print(\"Step 3/11\")\n",
    "labels = labels.set_index(\"ncodpers\")\n",
    "\n",
    "print(\"Step 4/11\")\n",
    "stacked_labels = labels.stack()\n",
    "\n",
    "print(\"Step 5/11\")\n",
    "filtered_labels = stacked_labels.reset_index()\n",
    "\n",
    "print(\"Step 6/11\")\n",
    "filtered_labels.columns = [\"ncodpers\", \"product\", \"newly_added\"]\n",
    "\n",
    "print(\"Step 7/11\")\n",
    "#Only select the rows where there are a new product.\n",
    "filtered_labels = filtered_labels[filtered_labels[\"newly_added\"] == 1]\n",
    "\n",
    "print(\"Step 8/11\")\n",
    "#Merge with the training features.\n",
    "multiclass_train = filtered_labels.merge(train_final_training_cols, on=\"ncodpers\", how=\"left\")\n",
    "\n",
    "print(\"Step 9/11\")\n",
    "train_final = multiclass_train.drop_duplicates(multiclass_train, keep='last')\n",
    "\n",
    "print(\"Step 10/11\")\n",
    "labels_final = train_final['product']\n",
    "\n",
    "print(\"Step 11/11\")\n",
    "train_final_ncodpers = train_final.ncodpers\n",
    "#Remove the columns that are not needed to train the model.\n",
    "train_final = train_final.drop(['ncodpers','newly_added','product'], axis = 1)"
   ]
  },
  {
   "cell_type": "markdown",
   "metadata": {},
   "source": [
    "Below we will perform similar, but not identical, tranformations to the 'final_month' dataframe."
   ]
  },
  {
   "cell_type": "code",
   "execution_count": 57,
   "metadata": {},
   "outputs": [
    {
     "name": "stdout",
     "output_type": "stream",
     "text": [
      "Step 1/13\n",
      "Step 2/13\n",
      "Step 3/13\n",
      "Step 4/13\n",
      "Step 5/13\n",
      "Step 6/13\n",
      "Step 7/13\n",
      "Step 8/13\n",
      "Step 9/13\n",
      "Step 10/13\n",
      "Step 11/13\n",
      "Step 12/13\n",
      "Step 13/13\n",
      "Step 1/10\n",
      "Step 2/10\n",
      "Step 3/10\n",
      "Step 4/10\n",
      "Step 5/10\n",
      "Step 6/10\n",
      "Step 7/10\n",
      "Step 8/10\n",
      "Step 9/10\n",
      "Step 10/10\n",
      "Step 1/6\n",
      "Step 2/6\n",
      "Step 3/6\n",
      "Step 4/6\n",
      "Step 5/6\n",
      "Step 6/6\n",
      "Step 1/11\n",
      "Step 2/11\n",
      "Step 3/11\n"
     ]
    },
    {
     "name": "stderr",
     "output_type": "stream",
     "text": [
      "/Library/Frameworks/Python.framework/Versions/2.7/lib/python2.7/site-packages/ipykernel/__main__.py:129: SettingWithCopyWarning: \n",
      "A value is trying to be set on a copy of a slice from a DataFrame.\n",
      "Try using .loc[row_indexer,col_indexer] = value instead\n",
      "\n",
      "See the caveats in the documentation: http://pandas.pydata.org/pandas-docs/stable/indexing.html#indexing-view-versus-copy\n"
     ]
    },
    {
     "name": "stdout",
     "output_type": "stream",
     "text": [
      "Step 4/11\n",
      "Step 5/11\n",
      "Step 6/11\n",
      "Step 7/11\n",
      "Step 8/11\n",
      "Step 9/11\n",
      "Step 10/11\n",
      "Step 11/11\n"
     ]
    }
   ],
   "source": [
    "#Clean the data\n",
    "print(\"Step 1/13\")\n",
    "badRows = final_month[final_month.ind_empleado.isnull()].index\n",
    "\n",
    "print(\"Step 2/13\")\n",
    "final_month = final_month.drop(badRows, axis = 0)\n",
    "\n",
    "print(\"Step 3/13\")\n",
    "final_month.canal_entrada = final_month.canal_entrada.fillna(\"Unknown\")\n",
    "\n",
    "print(\"Step 4/13\")\n",
    "final_month = final_month.drop(\"cod_prov\", 1)\n",
    "\n",
    "print(\"Step 5/13\")\n",
    "final_month.conyuemp = final_month.conyuemp.fillna(\"Unknown\")\n",
    "\n",
    "print(\"Step 6/13\")\n",
    "final_month.loc[final_month.indrel_1mes == '1', 'indrel_1mes'] = 'Primary'\n",
    "final_month.loc[final_month.indrel_1mes == '1.0', 'indrel_1mes'] = 'Primary'\n",
    "final_month.loc[final_month.indrel_1mes == 1, 'indrel_1mes'] = 'Primary'\n",
    "final_month.loc[final_month.indrel_1mes == 1.0, 'indrel_1mes'] = 'Primary'\n",
    "final_month.loc[final_month.indrel_1mes == '2', 'indrel_1mes'] = 'Co-owner'\n",
    "final_month.loc[final_month.indrel_1mes == '2.0', 'indrel_1mes'] = 'Co-owner'\n",
    "final_month.loc[final_month.indrel_1mes == 2, 'indrel_1mes'] = 'Co-owner'\n",
    "final_month.loc[final_month.indrel_1mes == 2.0, 'indrel_1mes'] = 'Co-owner'\n",
    "final_month.loc[final_month.indrel_1mes == '3', 'indrel_1mes'] = 'Former Primary'\n",
    "final_month.loc[final_month.indrel_1mes == '3.0', 'indrel_1mes'] = 'Former Primary'\n",
    "final_month.loc[final_month.indrel_1mes == 3, 'indrel_1mes'] = 'Former Primary'\n",
    "final_month.loc[final_month.indrel_1mes == 3.0, 'indrel_1mes'] = 'Former Primary'\n",
    "final_month.loc[final_month.indrel_1mes == '4', 'indrel_1mes'] = 'Former Co-owner'\n",
    "final_month.loc[final_month.indrel_1mes == '4.0', 'indrel_1mes'] = 'Former Co-owner'\n",
    "final_month.loc[final_month.indrel_1mes == 4, 'indrel_1mes'] = 'Former Co-owner'\n",
    "final_month.loc[final_month.indrel_1mes == 4.0, 'indrel_1mes'] = 'Former Co-owner'\n",
    "\n",
    "final_month.indrel_1mes = final_month.indrel_1mes.fillna('Primary')\n",
    "\n",
    "print(\"Step 7/13\")\n",
    "final_month.nomprov = final_month.nomprov.fillna(\"MADRID\")\n",
    "\n",
    "print(\"Step 8/13\")\n",
    "final_month.renta = final_month.renta.astype(float)\n",
    "final_month.loc[final_month.renta.isnull(), \"renta\"] = final_month.groupby('nomprov').renta.transform('median')\n",
    "\n",
    "print(\"Step 9/13\")\n",
    "final_month.segmento = final_month[final_month.renta <= 98000].segmento.fillna(\"03 - UNIVERSITARIO\")\n",
    "final_month.segmento = final_month[final_month.renta <= 125500].segmento.fillna(\"02 - PARTICULARES\")\n",
    "final_month.segmento = final_month.segmento.fillna(\"01 - TOP\")\n",
    "\n",
    "print(\"Step 10/13\")\n",
    "final_month.sexo = final_month.sexo.fillna(\"V\")\n",
    "\n",
    "print(\"Step 11/13\")\n",
    "final_month.tiprel_1mes = final_month.tiprel_1mes.fillna('I')\n",
    "\n",
    "print(\"Step 12/13\")\n",
    "final_month.ind_nomina_ult1 = final_month.ind_nomina_ult1.fillna(0.0)\n",
    "final_month.ind_nom_pens_ult1 = final_month.ind_nom_pens_ult1.fillna(0.0)\n",
    "\n",
    "print(\"Step 13/13\")\n",
    "final_month.loc[final_month.antiguedad == -999999, 'antiguedad'] = final_month[final_month.antiguedad >= 0].antiguedad.median()\n",
    "\n",
    "#Feature Engineering\n",
    "\n",
    "print(\"Step 1/10\")\n",
    "final_month.age = final_month.age.astype(int)\n",
    "final_month.loc[final_month.age < 20,\"age\"] = 19\n",
    "final_month.loc[final_month.age > 90,\"age\"] = 91\n",
    "\n",
    "print(\"Step 2/10\")\n",
    "final_month['ageGroup'] = (final_month.age // 10) - 1\n",
    "\n",
    "print(\"Step 3/10\")\n",
    "final_month['isSpanish'] = final_month.pais_residencia.map(lambda x: 1 if x == \"ES\" else 0)\n",
    "\n",
    "print(\"Step 4/10\")\n",
    "final_month['majorCity'] = final_month.nomprov.map(lambda x: 1 if x == \"MADRID\" or x == \"BARCELONA\" else 0)\n",
    "\n",
    "print(\"Step 5/10\")\n",
    "final_month['fecha_alta_year'] = pd.DatetimeIndex(final_month.fecha_alta).year - 1995\n",
    "final_month['fecha_dato_year'] = pd.DatetimeIndex(final_month.fecha_dato).year - 2015\n",
    "final_month['fecha_alta_month'] = pd.DatetimeIndex(final_month.fecha_alta).month - 1\n",
    "final_month['fecha_dato_month'] = pd.DatetimeIndex(final_month.fecha_dato).month - 1\n",
    "\n",
    "print(\"Step 6/10\")\n",
    "final_month.antiguedad = final_month.antiguedad.astype(int)\n",
    "final_month['antiguedad_years'] = final_month.antiguedad // 12\n",
    "\n",
    "print(\"Step 7/10\")\n",
    "final_month.loc[final_month.indrel == 99.0, \"indrel\"] = 0.0\n",
    "\n",
    "print(\"Step 8/10\")\n",
    "final_month['HAS_ult_fec_cli_1t'] = final_month.ult_fec_cli_1t.map(lambda x: 1 if x > 0 else 0)\n",
    "\n",
    "print(\"Step 9/10\")\n",
    "final_month = final_month.drop('ult_fec_cli_1t', 1)\n",
    "\n",
    "print(\"Step 10/10\")\n",
    "final_month['rentaGroup'] = final_month.renta.astype(float) // 50000\n",
    "final_month.loc[final_month.renta >= 1000000, \"rentaGroup\"] = 20\n",
    "final_month.loc[final_month.renta >= 10000000, \"rentaGroup\"] = 21\n",
    "\n",
    "\n",
    "final_month_training_cols = final_month\n",
    "final_month_training_cols = final_month_training_cols.drop(target_cols_all, axis=1)\n",
    "\n",
    "\n",
    "print(\"Step 1/6\")\n",
    "final_month.pais_residencia = final_month.pais_residencia.astype('category').cat.codes\n",
    "print(\"Step 2/6\")\n",
    "final_month.canal_entrada = final_month.canal_entrada.astype('category').cat.codes\n",
    "print(\"Step 3/6\")\n",
    "final_month.nomprov = final_month.nomprov.astype('category').cat.codes\n",
    "print(\"Step 4/6\")\n",
    "final_month.nomprov = final_month.indrel_1mes.astype('category').cat.codes\n",
    "print(\"Step 5/6\")\n",
    "final_month = pd.get_dummies(final_month, columns = ['ind_empleado','sexo','tiprel_1mes','indresi',\n",
    "                                   'indext','conyuemp','indfall','segmento','indrel_1mes'])\n",
    "print(\"Step 6/6\")\n",
    "final_month = final_month.drop(['fecha_dato', 'fecha_alta'], axis = 1)\n",
    "\n",
    "\n",
    "\n",
    "print(\"Step 1/11\")\n",
    "#Get the target columns\n",
    "labels_final_month = final_month[target_cols_all]\n",
    "\n",
    "print(\"Step 2/11\")\n",
    "#Add ncodpers to the dataframe\n",
    "labels_final_month['ncodpers'] = final_month.ncodpers\n",
    "\n",
    "print(\"Step 3/11\")\n",
    "labels_final_month = labels_final_month.set_index(\"ncodpers\")\n",
    "\n",
    "print(\"Step 4/11\")\n",
    "stacked_labels_final_month = labels_final_month.stack()\n",
    "\n",
    "print(\"Step 5/11\")\n",
    "filtered_labels_final_month = stacked_labels_final_month.reset_index()\n",
    "\n",
    "print(\"Step 6/11\")\n",
    "filtered_labels_final_month.columns = [\"ncodpers\", \"product\", \"newly_added\"]\n",
    "\n",
    "print(\"Step 7/11\")\n",
    "#Only select the rows where there is a new product.\n",
    "filtered_labels_final_month = filtered_labels_final_month[filtered_labels_final_month[\"newly_added\"] == 1]\n",
    "\n",
    "print(\"Step 8/11\")\n",
    "#Merge with the training features.\n",
    "multiclass_final_month = filtered_labels_final_month.merge(final_month_training_cols, on=\"ncodpers\", how=\"left\")\n",
    "\n",
    "print(\"Step 9/11\")\n",
    "final_month = multiclass_final_month.drop_duplicates(multiclass_final_month, keep='last')\n",
    "\n",
    "print(\"Step 10/11\")\n",
    "labels_final_month_final = final_month['product']\n",
    "\n",
    "print(\"Step 11/11\")\n",
    "final_month_ncodpers = final_month.ncodpers\n",
    "#Remove the columns that are not needed to train the model.\n",
    "final_month = final_month.drop(['ncodpers','newly_added','product'], axis = 1)"
   ]
  },
  {
   "cell_type": "markdown",
   "metadata": {},
   "source": [
    "Let's take a look at the length of our dataframes to help ensure that everything is still in order."
   ]
  },
  {
   "cell_type": "code",
   "execution_count": 58,
   "metadata": {},
   "outputs": [
    {
     "name": "stdout",
     "output_type": "stream",
     "text": [
      "1020853\n",
      "1020853\n",
      "1240538\n",
      "1240538\n"
     ]
    }
   ],
   "source": [
    "print len(train_final)\n",
    "print len(labels_final)\n",
    "print len(final_month)\n",
    "print len(labels_final_month_final)"
   ]
  },
  {
   "cell_type": "markdown",
   "metadata": {
    "collapsed": true
   },
   "source": [
    "Yup, everything is still looking good!"
   ]
  },
  {
   "cell_type": "markdown",
   "metadata": {},
   "source": [
    "Let's see what labels we are looking to train with."
   ]
  },
  {
   "cell_type": "code",
   "execution_count": 274,
   "metadata": {},
   "outputs": [
    {
     "data": {
      "text/plain": [
       "ind_recibo_ult1      225500\n",
       "ind_nom_pens_ult1    152456\n",
       "ind_nomina_ult1      136051\n",
       "ind_cco_fin_ult1     123302\n",
       "ind_tjcr_fin_ult1    116274\n",
       "ind_cno_fin_ult1      94198\n",
       "ind_ecue_fin_ult1     59774\n",
       "ind_dela_fin_ult1     26055\n",
       "ind_reca_fin_ult1     24505\n",
       "ind_ctma_fin_ult1     15895\n",
       "ind_valo_fin_ult1     12308\n",
       "ind_ctop_fin_ult1      8864\n",
       "ind_fond_fin_ult1      8788\n",
       "ind_ctpp_fin_ult1      6465\n",
       "ind_deco_fin_ult1      6343\n",
       "ind_plan_fin_ult1      1802\n",
       "ind_deme_fin_ult1       603\n",
       "ind_ctju_fin_ult1       521\n",
       "ind_pres_fin_ult1       406\n",
       "ind_cder_fin_ult1       344\n",
       "ind_hip_fin_ult1        199\n",
       "ind_viv_fin_ult1        191\n",
       "ind_aval_fin_ult1         6\n",
       "ind_ahor_fin_ult1         3\n",
       "Name: product, dtype: int64"
      ]
     },
     "execution_count": 274,
     "metadata": {},
     "output_type": "execute_result"
    }
   ],
   "source": [
    "labels_final.value_counts()"
   ]
  },
  {
   "cell_type": "markdown",
   "metadata": {},
   "source": [
    "# Build the Model"
   ]
  },
  {
   "cell_type": "markdown",
   "metadata": {},
   "source": [
    "Convert the values of labels_final to integers so that it can be used by xgboost."
   ]
  },
  {
   "cell_type": "code",
   "execution_count": 59,
   "metadata": {
    "collapsed": true
   },
   "outputs": [],
   "source": [
    "labels_final = labels_final.astype('category').cat.codes"
   ]
  },
  {
   "cell_type": "markdown",
   "metadata": {},
   "source": [
    "Check to make sure we have the same features in train_final and test."
   ]
  },
  {
   "cell_type": "code",
   "execution_count": 60,
   "metadata": {},
   "outputs": [
    {
     "name": "stdout",
     "output_type": "stream",
     "text": [
      "45\n",
      "46\n"
     ]
    }
   ],
   "source": [
    "print len(train_final.columns)\n",
    "print len(test.columns)"
   ]
  },
  {
   "cell_type": "markdown",
   "metadata": {},
   "source": [
    "Nope, we have an extra one, let's find it!"
   ]
  },
  {
   "cell_type": "code",
   "execution_count": 61,
   "metadata": {},
   "outputs": [
    {
     "name": "stdout",
     "output_type": "stream",
     "text": [
      "Index([u'age', u'antiguedad', u'canal_entrada', u'ind_actividad_cliente',\n",
      "       u'ind_nuevo', u'indrel', u'nomprov', u'pais_residencia', u'renta',\n",
      "       u'tipodom', u'ageGroup', u'isSpanish', u'majorCity', u'fecha_alta_year',\n",
      "       u'fecha_dato_year', u'fecha_alta_month', u'fecha_dato_month',\n",
      "       u'antiguedad_years', u'HAS_ult_fec_cli_1t', u'rentaGroup',\n",
      "       u'ind_empleado_A', u'ind_empleado_B', u'ind_empleado_F',\n",
      "       u'ind_empleado_N', u'ind_empleado_S', u'sexo_H', u'sexo_V',\n",
      "       u'tiprel_1mes_A', u'tiprel_1mes_I', u'tiprel_1mes_P', u'indresi_N',\n",
      "       u'indresi_S', u'indext_N', u'indext_S', u'conyuemp_N', u'conyuemp_S',\n",
      "       u'conyuemp_Unknown', u'indfall_N', u'indfall_S', u'segmento_01 - TOP',\n",
      "       u'segmento_02 - PARTICULARES', u'segmento_03 - UNIVERSITARIO',\n",
      "       u'indrel_1mes_Co-owner', u'indrel_1mes_Former Primary',\n",
      "       u'indrel_1mes_Primary'],\n",
      "      dtype='object')\n",
      "\n",
      "Index([u'age', u'antiguedad', u'canal_entrada', u'ind_actividad_cliente',\n",
      "       u'ind_nuevo', u'indrel', u'ncodpers', u'nomprov', u'pais_residencia',\n",
      "       u'renta', u'tipodom', u'ageGroup', u'isSpanish', u'majorCity',\n",
      "       u'fecha_alta_year', u'fecha_dato_year', u'fecha_alta_month',\n",
      "       u'fecha_dato_month', u'antiguedad_years', u'HAS_ult_fec_cli_1t',\n",
      "       u'rentaGroup', u'ind_empleado_A', u'ind_empleado_B', u'ind_empleado_F',\n",
      "       u'ind_empleado_N', u'ind_empleado_S', u'sexo_H', u'sexo_V',\n",
      "       u'tiprel_1mes_A', u'tiprel_1mes_I', u'tiprel_1mes_P', u'indresi_N',\n",
      "       u'indresi_S', u'indext_N', u'indext_S', u'conyuemp_N', u'conyuemp_S',\n",
      "       u'conyuemp_Unknown', u'indfall_N', u'indfall_S', u'segmento_01 - TOP',\n",
      "       u'segmento_02 - PARTICULARES', u'segmento_03 - UNIVERSITARIO',\n",
      "       u'indrel_1mes_Co-owner', u'indrel_1mes_Former Primary',\n",
      "       u'indrel_1mes_Primary'],\n",
      "      dtype='object')\n"
     ]
    }
   ],
   "source": [
    "print train_final.columns\n",
    "print\n",
    "print test.columns"
   ]
  },
  {
   "cell_type": "markdown",
   "metadata": {},
   "source": [
    "It's 'ncodpers', we'll have to drop it."
   ]
  },
  {
   "cell_type": "code",
   "execution_count": 62,
   "metadata": {
    "collapsed": true
   },
   "outputs": [],
   "source": [
    "test = test.drop('ncodpers', axis = 1)"
   ]
  },
  {
   "cell_type": "markdown",
   "metadata": {},
   "source": [
    "The features below are dropped because I have already ran the model once and learned that these features are not useful."
   ]
  },
  {
   "cell_type": "code",
   "execution_count": 63,
   "metadata": {
    "collapsed": true
   },
   "outputs": [],
   "source": [
    "train_final = train_final.drop(['tipodom','HAS_ult_fec_cli_1t','ind_empleado_S','indresi_N','indresi_S', \n",
    "                                'conyuemp_S','conyuemp_Unknown','indfall_S','indrel_1mes_Co-owner', \n",
    "                                'indrel_1mes_Former Primary','indrel_1mes_Primary'],\n",
    "                               axis = 1)\n",
    "\n",
    "test = test.drop(['tipodom','HAS_ult_fec_cli_1t','ind_empleado_S','indresi_N','indresi_S', \n",
    "                  'conyuemp_S','conyuemp_Unknown','indfall_S','indrel_1mes_Co-owner', \n",
    "                  'indrel_1mes_Former Primary','indrel_1mes_Primary'],\n",
    "                  axis = 1)"
   ]
  },
  {
   "cell_type": "markdown",
   "metadata": {},
   "source": [
    "Although I am splitting the data here, I used all of the train_final data for my submission in the Kaggle competition."
   ]
  },
  {
   "cell_type": "code",
   "execution_count": 64,
   "metadata": {},
   "outputs": [],
   "source": [
    "X_train, X_test, y_train, y_test = train_test_split(train_final, labels_final, test_size=0.2, random_state=2)"
   ]
  },
  {
   "cell_type": "markdown",
   "metadata": {},
   "source": [
    "Convert the data into matrices so that they can be used by xgboost."
   ]
  },
  {
   "cell_type": "code",
   "execution_count": 65,
   "metadata": {},
   "outputs": [],
   "source": [
    "import warnings\n",
    "warnings.filterwarnings(\"ignore\")\n",
    "\n",
    "xgtrain = xgb.DMatrix(X_train, label = y_train)\n",
    "xgtest = xgb.DMatrix(X_test, label = y_test)\n",
    "watchlist = [(xgtrain, 'train'), (xgtest, 'eval')] "
   ]
  },
  {
   "cell_type": "code",
   "execution_count": 66,
   "metadata": {},
   "outputs": [
    {
     "data": {
      "text/plain": [
       "' \\nBEST PARAMETERS\\nparams = {\\n        \\'eta\\': 0.05,\\n        \\'max_depth\\': 6,\\n        \\'min_child_weight\\': 4,\\n        \\'subsample\\': 0.9,\\n        \\'colsample_bytree\\': 0.9,\\n        \\'gamma\\': 0,\\n        \\'alpha\\': 0,\\n        \\'lambda\\': 1,\\n        \\'verbose_eval\\': True,\\n        \\'seed\\': random_state,\\n        \\'num_class\\': 16,\\n        \\'objective\\': \"multi:softprob\",\\n        \\'eval_metric\\': \\'mlogloss\\'\\n    }\\nlowest mlogloss: 1.81136, iterations: 143\\n'"
      ]
     },
     "execution_count": 66,
     "metadata": {},
     "output_type": "execute_result"
    }
   ],
   "source": [
    "random_state = 4\n",
    "params = {\n",
    "        'eta': 0.05,\n",
    "        'max_depth': 6,\n",
    "        'min_child_weight': 4,\n",
    "        'subsample': 0.9,\n",
    "        'colsample_bytree': 0.9,\n",
    "        'gamma': 0,\n",
    "        'alpha': 0,\n",
    "        'lambda': 1,\n",
    "        'verbose_eval': True,\n",
    "        'seed': random_state,\n",
    "        'num_class': 24,\n",
    "        'objective': \"multi:softprob\",\n",
    "        'eval_metric': 'mlogloss'\n",
    "    }\n",
    "\n",
    "''' \n",
    "BEST PARAMETERS\n",
    "params = {\n",
    "        'eta': 0.05,\n",
    "        'max_depth': 6,\n",
    "        'min_child_weight': 4,\n",
    "        'subsample': 0.9,\n",
    "        'colsample_bytree': 0.9,\n",
    "        'gamma': 0,\n",
    "        'alpha': 0,\n",
    "        'lambda': 1,\n",
    "        'verbose_eval': True,\n",
    "        'seed': random_state,\n",
    "        'num_class': 16,\n",
    "        'objective': \"multi:softprob\",\n",
    "        'eval_metric': 'mlogloss'\n",
    "    }\n",
    "lowest mlogloss: 1.81136, iterations: 143\n",
    "'''"
   ]
  },
  {
   "cell_type": "markdown",
   "metadata": {},
   "source": [
    "Train the model!"
   ]
  },
  {
   "cell_type": "code",
   "execution_count": 88,
   "metadata": {},
   "outputs": [
    {
     "name": "stdout",
     "output_type": "stream",
     "text": [
      "[0]\ttrain-mlogloss:3.10744\teval-mlogloss:3.1077\n",
      "[1]\ttrain-mlogloss:3.04601\teval-mlogloss:3.04652\n",
      "[2]\ttrain-mlogloss:2.99106\teval-mlogloss:2.99179\n",
      "[3]\ttrain-mlogloss:2.94154\teval-mlogloss:2.94251\n",
      "[4]\ttrain-mlogloss:2.89657\teval-mlogloss:2.89775\n",
      "[5]\ttrain-mlogloss:2.85525\teval-mlogloss:2.85666\n",
      "[6]\ttrain-mlogloss:2.81717\teval-mlogloss:2.81878\n",
      "[7]\ttrain-mlogloss:2.78199\teval-mlogloss:2.78378\n",
      "[8]\ttrain-mlogloss:2.74929\teval-mlogloss:2.75127\n",
      "[9]\ttrain-mlogloss:2.71878\teval-mlogloss:2.72093\n",
      "[10]\ttrain-mlogloss:2.69021\teval-mlogloss:2.69254\n",
      "[11]\ttrain-mlogloss:2.66343\teval-mlogloss:2.66596\n",
      "[12]\ttrain-mlogloss:2.63825\teval-mlogloss:2.64094\n",
      "[13]\ttrain-mlogloss:2.61454\teval-mlogloss:2.61742\n",
      "[14]\ttrain-mlogloss:2.59216\teval-mlogloss:2.5952\n",
      "[15]\ttrain-mlogloss:2.57101\teval-mlogloss:2.57422\n",
      "[16]\ttrain-mlogloss:2.55096\teval-mlogloss:2.55432\n",
      "[17]\ttrain-mlogloss:2.53199\teval-mlogloss:2.53551\n",
      "[18]\ttrain-mlogloss:2.51398\teval-mlogloss:2.51766\n",
      "[19]\ttrain-mlogloss:2.49681\teval-mlogloss:2.50064\n",
      "[20]\ttrain-mlogloss:2.48055\teval-mlogloss:2.48453\n",
      "[21]\ttrain-mlogloss:2.46505\teval-mlogloss:2.46916\n",
      "[22]\ttrain-mlogloss:2.45024\teval-mlogloss:2.45449\n",
      "[23]\ttrain-mlogloss:2.43609\teval-mlogloss:2.4405\n",
      "[24]\ttrain-mlogloss:2.42261\teval-mlogloss:2.42714\n",
      "[25]\ttrain-mlogloss:2.40974\teval-mlogloss:2.41441\n",
      "[26]\ttrain-mlogloss:2.39746\teval-mlogloss:2.40226\n",
      "[27]\ttrain-mlogloss:2.38566\teval-mlogloss:2.39061\n",
      "[28]\ttrain-mlogloss:2.37437\teval-mlogloss:2.37944\n",
      "[29]\ttrain-mlogloss:2.36356\teval-mlogloss:2.36876\n",
      "[30]\ttrain-mlogloss:2.35319\teval-mlogloss:2.35849\n",
      "[31]\ttrain-mlogloss:2.34324\teval-mlogloss:2.34867\n",
      "[32]\ttrain-mlogloss:2.33367\teval-mlogloss:2.33925\n",
      "[33]\ttrain-mlogloss:2.32449\teval-mlogloss:2.3302\n",
      "[34]\ttrain-mlogloss:2.31569\teval-mlogloss:2.32153\n",
      "[35]\ttrain-mlogloss:2.30722\teval-mlogloss:2.31319\n",
      "[36]\ttrain-mlogloss:2.29906\teval-mlogloss:2.30514\n",
      "[37]\ttrain-mlogloss:2.29121\teval-mlogloss:2.29742\n",
      "[38]\ttrain-mlogloss:2.28366\teval-mlogloss:2.29\n",
      "[39]\ttrain-mlogloss:2.2764\teval-mlogloss:2.28289\n"
     ]
    }
   ],
   "source": [
    "iterations = 40\n",
    "printN = 1\n",
    "#early_stopping_rounds = 10\n",
    "\n",
    "xgbModel = xgb.train(params, \n",
    "                      xgtrain, \n",
    "                      iterations, \n",
    "                      watchlist,\n",
    "                      verbose_eval = printN\n",
    "                      #early_stopping_rounds=early_stopping_rounds\n",
    "                      )"
   ]
  },
  {
   "cell_type": "markdown",
   "metadata": {},
   "source": [
    "Use f-score to find the most/least important features. This allowed us to know which features we could remove."
   ]
  },
  {
   "cell_type": "code",
   "execution_count": 90,
   "metadata": {},
   "outputs": [
    {
     "name": "stdout",
     "output_type": "stream",
     "text": [
      "[('tiprel_1mes_P', 12), ('conyuemp_N', 17), ('indrel', 26), ('isSpanish', 44), ('ind_empleado_F', 48), ('indfall_N', 55), ('ind_empleado_B', 56), ('ind_empleado_N', 59), ('indext_S', 75), ('pais_residencia', 89), ('ind_nuevo', 100), ('ind_empleado_A', 104), ('sexo_V', 124), ('segmento_03 - UNIVERSITARIO', 232), ('rentaGroup', 258), ('tiprel_1mes_I', 302), ('antiguedad_years', 317), ('segmento_02 - PARTICULARES', 434), ('ageGroup', 495), ('indext_N', 527), ('segmento_01 - TOP', 587), ('majorCity', 608), ('fecha_dato_year', 655), ('tiprel_1mes_A', 693), ('sexo_H', 891), ('ind_actividad_cliente', 1007), ('fecha_alta_month', 2155), ('nomprov', 2239), ('fecha_alta_year', 2390), ('fecha_dato_month', 2499), ('canal_entrada', 3058), ('antiguedad', 5088), ('age', 6089), ('renta', 6234)]\n",
      "34\n"
     ]
    }
   ],
   "source": [
    "import operator\n",
    "importance = xgbModel.get_fscore()\n",
    "importance = sorted(importance.items(), key=operator.itemgetter(1))\n",
    "print importance\n",
    "print len(importance)"
   ]
  },
  {
   "cell_type": "markdown",
   "metadata": {},
   "source": [
    "Convert labels to integers so that we can use them to find which products customers already have, and thus, do not need to be included in the final prediction."
   ]
  },
  {
   "cell_type": "code",
   "execution_count": 91,
   "metadata": {
    "collapsed": true
   },
   "outputs": [],
   "source": [
    "labels_final_month_final_cat = labels_final_month_final.astype('category').cat.codes"
   ]
  },
  {
   "cell_type": "markdown",
   "metadata": {},
   "source": [
    "used_products are the products that the customers have already used...duh."
   ]
  },
  {
   "cell_type": "code",
   "execution_count": 74,
   "metadata": {},
   "outputs": [],
   "source": [
    "used_products = pd.DataFrame()\n",
    "used_products['product'] = labels_final_month_final_cat\n",
    "used_products['ncodpers'] = final_month_ncodpers\n",
    "used_products = used_products.drop_duplicates(keep = 'last')"
   ]
  },
  {
   "cell_type": "code",
   "execution_count": 75,
   "metadata": {},
   "outputs": [
    {
     "name": "stdout",
     "output_type": "stream",
     "text": [
      "100000\n",
      "200000\n",
      "300000\n",
      "300000\n",
      "400000\n",
      "500000\n",
      "600000\n",
      "600000\n",
      "600000\n",
      "600000\n",
      "600000\n",
      "600000\n"
     ]
    }
   ],
   "source": [
    "#create a dictionary to store each product a customer already has\n",
    "used_recommendation_products = {}\n",
    "target_cols_all = np.array(target_cols_all)\n",
    "#iterate through used_products and add each one to used_recommendation_products\n",
    "for idx,row_val in used_products.iterrows():\n",
    "    used_recommendation_products.setdefault(row_val['ncodpers'],[]).append(target_cols_all[row_val['product']])\n",
    "    if len(used_recommendation_products) % 100000 == 0:\n",
    "        print len(used_recommendation_products)"
   ]
  },
  {
   "cell_type": "code",
   "execution_count": 77,
   "metadata": {},
   "outputs": [
    {
     "data": {
      "text/plain": [
       "696539"
      ]
     },
     "execution_count": 77,
     "metadata": {},
     "output_type": "execute_result"
    }
   ],
   "source": [
    "len(used_recommendation_products)"
   ]
  },
  {
   "cell_type": "markdown",
   "metadata": {},
   "source": [
    "Let's take a look at a customer's used_recommendation_products to see if everything looks alright."
   ]
  },
  {
   "cell_type": "code",
   "execution_count": 78,
   "metadata": {},
   "outputs": [
    {
     "data": {
      "text/plain": [
       "['ind_cco_fin_ult1',\n",
       " 'ind_ctpp_fin_ult1',\n",
       " 'ind_tjcr_fin_ult1',\n",
       " 'ind_valo_fin_ult1']"
      ]
     },
     "execution_count": 78,
     "metadata": {},
     "output_type": "execute_result"
    }
   ],
   "source": [
    "used_recommendation_products[15889]"
   ]
  },
  {
   "cell_type": "markdown",
   "metadata": {},
   "source": [
    "Looks good!"
   ]
  },
  {
   "cell_type": "markdown",
   "metadata": {},
   "source": [
    "Use our model to make the predictions"
   ]
  },
  {
   "cell_type": "code",
   "execution_count": 92,
   "metadata": {},
   "outputs": [],
   "source": [
    "xgbtest = xgb.DMatrix(test)\n",
    "XGBpreds = xgbModel.predict(xgbtest)"
   ]
  },
  {
   "cell_type": "markdown",
   "metadata": {},
   "source": [
    "Let's take a peek at these predictions"
   ]
  },
  {
   "cell_type": "code",
   "execution_count": 93,
   "metadata": {},
   "outputs": [
    {
     "data": {
      "text/plain": [
       "array([[ 0.01378124,  0.01378267,  0.07764912, ...,  0.14549424,\n",
       "         0.03236732,  0.01398927],\n",
       "       [ 0.01377054,  0.01377197,  0.30362314, ...,  0.02878234,\n",
       "         0.01547578,  0.01379019],\n",
       "       [ 0.01290242,  0.01290376,  0.1358742 , ...,  0.0216466 ,\n",
       "         0.01477843,  0.01292084],\n",
       "       ..., \n",
       "       [ 0.01413404,  0.01413551,  0.07362488, ...,  0.14337835,\n",
       "         0.02360014,  0.01433361],\n",
       "       [ 0.01248849,  0.01248979,  0.28581837, ...,  0.03890685,\n",
       "         0.02114886,  0.01375181],\n",
       "       [ 0.01242055,  0.01242184,  0.16417305, ...,  0.04265768,\n",
       "         0.02102165,  0.01259887]], dtype=float32)"
      ]
     },
     "execution_count": 93,
     "metadata": {},
     "output_type": "execute_result"
    }
   ],
   "source": [
    "XGBpreds"
   ]
  },
  {
   "cell_type": "markdown",
   "metadata": {},
   "source": [
    "Sort the predictions, then reverse the order so that they are ranked from most likely to least."
   ]
  },
  {
   "cell_type": "code",
   "execution_count": 94,
   "metadata": {
    "collapsed": true
   },
   "outputs": [],
   "source": [
    "pred = np.argsort(XGBpreds, axis=1)\n",
    "pred = np.fliplr(pred) "
   ]
  },
  {
   "cell_type": "code",
   "execution_count": 95,
   "metadata": {},
   "outputs": [
    {
     "data": {
      "text/plain": [
       "array([21, 20, 15, 16,  2,  4, 12, 19,  7, 22, 10,  6, 13,  3,  8, 17, 11,\n",
       "       18, 14, 23,  9,  1,  0,  5])"
      ]
     },
     "execution_count": 95,
     "metadata": {},
     "output_type": "execute_result"
    }
   ],
   "source": [
    "pred[0]"
   ]
  },
  {
   "cell_type": "markdown",
   "metadata": {},
   "source": [
    "Things look good here because the highest reccommended products are the most common in the training labels."
   ]
  },
  {
   "cell_type": "code",
   "execution_count": 96,
   "metadata": {},
   "outputs": [
    {
     "name": "stdout",
     "output_type": "stream",
     "text": [
      "100000\n",
      "200000\n",
      "300000\n",
      "400000\n",
      "500000\n",
      "600000\n",
      "700000\n",
      "800000\n",
      "900000\n"
     ]
    }
   ],
   "source": [
    "#test_ids are the customer codes for the testing data.\n",
    "test_ids = np.array(pd.read_csv(\"/Users/Dave/Desktop/Programming/Personal Projects/Santander-Kaggle/test.csv\",usecols=['ncodpers'])['ncodpers'])\n",
    "target_cols_all = np.array(target_cols_all)\n",
    "final_preds = []\n",
    "#iterate through our model's predictions (pred) and add the 7 most recommended products that the customer does not have.\n",
    "for idx,predicted in enumerate(pred):\n",
    "    ids = test_ids[idx]\n",
    "    top_product = target_cols_all[predicted]\n",
    "    used_products = used_recommendation_products.get(ids,[])\n",
    "    new_top_product = []\n",
    "    for product in top_product:\n",
    "        if product not in used_products:\n",
    "            new_top_product.append(product)\n",
    "        if len(new_top_product) == 7:\n",
    "            break\n",
    "    final_preds.append(' '.join(new_top_product))\n",
    "    if len(final_preds) % 100000 == 0:\n",
    "        print len(final_preds)"
   ]
  },
  {
   "cell_type": "markdown",
   "metadata": {},
   "source": [
    "Let's take a peek at the final predictions"
   ]
  },
  {
   "cell_type": "code",
   "execution_count": 97,
   "metadata": {},
   "outputs": [
    {
     "data": {
      "text/plain": [
       "['ind_recibo_ult1 ind_nom_pens_ult1 ind_nomina_ult1 ind_cno_fin_ult1 ind_ecue_fin_ult1 ind_reca_fin_ult1 ind_ctop_fin_ult1',\n",
       " 'ind_recibo_ult1 ind_cno_fin_ult1 ind_nom_pens_ult1 ind_nomina_ult1 ind_ecue_fin_ult1 ind_reca_fin_ult1 ind_tjcr_fin_ult1',\n",
       " 'ind_recibo_ult1 ind_nom_pens_ult1 ind_nomina_ult1 ind_cno_fin_ult1 ind_tjcr_fin_ult1 ind_reca_fin_ult1 ind_ecue_fin_ult1',\n",
       " 'ind_recibo_ult1 ind_cno_fin_ult1 ind_nom_pens_ult1 ind_nomina_ult1 ind_reca_fin_ult1 ind_ecue_fin_ult1 ind_dela_fin_ult1',\n",
       " 'ind_recibo_ult1 ind_cno_fin_ult1 ind_nom_pens_ult1 ind_nomina_ult1 ind_reca_fin_ult1 ind_ecue_fin_ult1 ind_dela_fin_ult1',\n",
       " 'ind_recibo_ult1 ind_cno_fin_ult1 ind_nomina_ult1 ind_nom_pens_ult1 ind_reca_fin_ult1 ind_ecue_fin_ult1 ind_valo_fin_ult1',\n",
       " 'ind_nom_pens_ult1 ind_tjcr_fin_ult1 ind_nomina_ult1 ind_cno_fin_ult1 ind_ecue_fin_ult1 ind_reca_fin_ult1 ind_dela_fin_ult1',\n",
       " 'ind_recibo_ult1 ind_cno_fin_ult1 ind_nomina_ult1 ind_nom_pens_ult1 ind_reca_fin_ult1 ind_ecue_fin_ult1 ind_tjcr_fin_ult1',\n",
       " 'ind_recibo_ult1 ind_cno_fin_ult1 ind_nomina_ult1 ind_nom_pens_ult1 ind_reca_fin_ult1 ind_ecue_fin_ult1 ind_valo_fin_ult1',\n",
       " 'ind_recibo_ult1 ind_nom_pens_ult1 ind_nomina_ult1 ind_cno_fin_ult1 ind_tjcr_fin_ult1 ind_ecue_fin_ult1 ind_reca_fin_ult1',\n",
       " 'ind_recibo_ult1 ind_cco_fin_ult1 ind_cno_fin_ult1 ind_nom_pens_ult1 ind_nomina_ult1 ind_reca_fin_ult1 ind_ecue_fin_ult1',\n",
       " 'ind_recibo_ult1 ind_cno_fin_ult1 ind_nom_pens_ult1 ind_nomina_ult1 ind_reca_fin_ult1 ind_ecue_fin_ult1 ind_dela_fin_ult1',\n",
       " 'ind_cco_fin_ult1 ind_recibo_ult1 ind_cno_fin_ult1 ind_nom_pens_ult1 ind_nomina_ult1 ind_reca_fin_ult1 ind_ecue_fin_ult1',\n",
       " 'ind_recibo_ult1 ind_cno_fin_ult1 ind_nomina_ult1 ind_nom_pens_ult1 ind_reca_fin_ult1 ind_ecue_fin_ult1 ind_tjcr_fin_ult1',\n",
       " 'ind_recibo_ult1 ind_cco_fin_ult1 ind_cno_fin_ult1 ind_nom_pens_ult1 ind_nomina_ult1 ind_reca_fin_ult1 ind_ecue_fin_ult1',\n",
       " 'ind_recibo_ult1 ind_nom_pens_ult1 ind_nomina_ult1 ind_cco_fin_ult1 ind_tjcr_fin_ult1 ind_ecue_fin_ult1 ind_reca_fin_ult1',\n",
       " 'ind_recibo_ult1 ind_nom_pens_ult1 ind_cno_fin_ult1 ind_nomina_ult1 ind_tjcr_fin_ult1 ind_reca_fin_ult1 ind_ecue_fin_ult1',\n",
       " 'ind_cco_fin_ult1 ind_recibo_ult1 ind_cno_fin_ult1 ind_nom_pens_ult1 ind_nomina_ult1 ind_ecue_fin_ult1 ind_reca_fin_ult1',\n",
       " 'ind_nom_pens_ult1 ind_nomina_ult1 ind_cno_fin_ult1 ind_tjcr_fin_ult1 ind_ecue_fin_ult1 ind_reca_fin_ult1 ind_dela_fin_ult1',\n",
       " 'ind_recibo_ult1 ind_cno_fin_ult1 ind_nom_pens_ult1 ind_nomina_ult1 ind_reca_fin_ult1 ind_ecue_fin_ult1 ind_tjcr_fin_ult1',\n",
       " 'ind_recibo_ult1 ind_nom_pens_ult1 ind_nomina_ult1 ind_cno_fin_ult1 ind_tjcr_fin_ult1 ind_ecue_fin_ult1 ind_reca_fin_ult1',\n",
       " 'ind_recibo_ult1 ind_cno_fin_ult1 ind_nomina_ult1 ind_nom_pens_ult1 ind_reca_fin_ult1 ind_ecue_fin_ult1 ind_valo_fin_ult1',\n",
       " 'ind_recibo_ult1 ind_nom_pens_ult1 ind_nomina_ult1 ind_cno_fin_ult1 ind_tjcr_fin_ult1 ind_ecue_fin_ult1 ind_reca_fin_ult1',\n",
       " 'ind_nom_pens_ult1 ind_nomina_ult1 ind_tjcr_fin_ult1 ind_cno_fin_ult1 ind_ecue_fin_ult1 ind_reca_fin_ult1 ind_dela_fin_ult1',\n",
       " 'ind_recibo_ult1 ind_nomina_ult1 ind_cno_fin_ult1 ind_nom_pens_ult1 ind_reca_fin_ult1 ind_ecue_fin_ult1 ind_tjcr_fin_ult1',\n",
       " 'ind_recibo_ult1 ind_cno_fin_ult1 ind_nomina_ult1 ind_nom_pens_ult1 ind_reca_fin_ult1 ind_ecue_fin_ult1 ind_valo_fin_ult1',\n",
       " 'ind_recibo_ult1 ind_tjcr_fin_ult1 ind_cco_fin_ult1 ind_ecue_fin_ult1 ind_reca_fin_ult1 ind_dela_fin_ult1 ind_valo_fin_ult1',\n",
       " 'ind_recibo_ult1 ind_cno_fin_ult1 ind_nom_pens_ult1 ind_nomina_ult1 ind_reca_fin_ult1 ind_ecue_fin_ult1 ind_tjcr_fin_ult1',\n",
       " 'ind_recibo_ult1 ind_cno_fin_ult1 ind_nom_pens_ult1 ind_nomina_ult1 ind_reca_fin_ult1 ind_ecue_fin_ult1 ind_dela_fin_ult1',\n",
       " 'ind_recibo_ult1 ind_cco_fin_ult1 ind_nom_pens_ult1 ind_nomina_ult1 ind_tjcr_fin_ult1 ind_reca_fin_ult1 ind_ecue_fin_ult1',\n",
       " 'ind_recibo_ult1 ind_cno_fin_ult1 ind_nom_pens_ult1 ind_nomina_ult1 ind_reca_fin_ult1 ind_ecue_fin_ult1 ind_tjcr_fin_ult1',\n",
       " 'ind_recibo_ult1 ind_cno_fin_ult1 ind_nomina_ult1 ind_nom_pens_ult1 ind_reca_fin_ult1 ind_ecue_fin_ult1 ind_valo_fin_ult1',\n",
       " 'ind_recibo_ult1 ind_cno_fin_ult1 ind_ecue_fin_ult1 ind_nom_pens_ult1 ind_nomina_ult1 ind_reca_fin_ult1 ind_dela_fin_ult1',\n",
       " 'ind_recibo_ult1 ind_ecue_fin_ult1 ind_cno_fin_ult1 ind_nomina_ult1 ind_nom_pens_ult1 ind_dela_fin_ult1 ind_reca_fin_ult1',\n",
       " 'ind_recibo_ult1 ind_cno_fin_ult1 ind_nomina_ult1 ind_nom_pens_ult1 ind_ecue_fin_ult1 ind_reca_fin_ult1 ind_tjcr_fin_ult1',\n",
       " 'ind_recibo_ult1 ind_cno_fin_ult1 ind_nom_pens_ult1 ind_nomina_ult1 ind_reca_fin_ult1 ind_ecue_fin_ult1 ind_dela_fin_ult1',\n",
       " 'ind_recibo_ult1 ind_cno_fin_ult1 ind_nom_pens_ult1 ind_nomina_ult1 ind_reca_fin_ult1 ind_ecue_fin_ult1 ind_valo_fin_ult1',\n",
       " 'ind_recibo_ult1 ind_nom_pens_ult1 ind_nomina_ult1 ind_cno_fin_ult1 ind_tjcr_fin_ult1 ind_ecue_fin_ult1 ind_reca_fin_ult1',\n",
       " 'ind_recibo_ult1 ind_cno_fin_ult1 ind_nom_pens_ult1 ind_nomina_ult1 ind_reca_fin_ult1 ind_ecue_fin_ult1 ind_dela_fin_ult1',\n",
       " 'ind_recibo_ult1 ind_nom_pens_ult1 ind_nomina_ult1 ind_cno_fin_ult1 ind_ecue_fin_ult1 ind_tjcr_fin_ult1 ind_reca_fin_ult1',\n",
       " 'ind_recibo_ult1 ind_nomina_ult1 ind_cno_fin_ult1 ind_nom_pens_ult1 ind_reca_fin_ult1 ind_ecue_fin_ult1 ind_tjcr_fin_ult1',\n",
       " 'ind_recibo_ult1 ind_nom_pens_ult1 ind_nomina_ult1 ind_cno_fin_ult1 ind_tjcr_fin_ult1 ind_ecue_fin_ult1 ind_reca_fin_ult1',\n",
       " 'ind_recibo_ult1 ind_cno_fin_ult1 ind_nomina_ult1 ind_nom_pens_ult1 ind_reca_fin_ult1 ind_ecue_fin_ult1 ind_tjcr_fin_ult1',\n",
       " 'ind_recibo_ult1 ind_nom_pens_ult1 ind_nomina_ult1 ind_cno_fin_ult1 ind_tjcr_fin_ult1 ind_reca_fin_ult1 ind_ecue_fin_ult1',\n",
       " 'ind_recibo_ult1 ind_nomina_ult1 ind_nom_pens_ult1 ind_cno_fin_ult1 ind_ecue_fin_ult1 ind_reca_fin_ult1 ind_dela_fin_ult1',\n",
       " 'ind_recibo_ult1 ind_cno_fin_ult1 ind_nomina_ult1 ind_nom_pens_ult1 ind_reca_fin_ult1 ind_ecue_fin_ult1 ind_tjcr_fin_ult1',\n",
       " 'ind_recibo_ult1 ind_cno_fin_ult1 ind_nomina_ult1 ind_nom_pens_ult1 ind_reca_fin_ult1 ind_ecue_fin_ult1 ind_valo_fin_ult1',\n",
       " 'ind_recibo_ult1 ind_cno_fin_ult1 ind_nomina_ult1 ind_nom_pens_ult1 ind_reca_fin_ult1 ind_ecue_fin_ult1 ind_tjcr_fin_ult1',\n",
       " 'ind_recibo_ult1 ind_cno_fin_ult1 ind_nom_pens_ult1 ind_nomina_ult1 ind_reca_fin_ult1 ind_ecue_fin_ult1 ind_dela_fin_ult1',\n",
       " 'ind_recibo_ult1 ind_cno_fin_ult1 ind_nom_pens_ult1 ind_nomina_ult1 ind_reca_fin_ult1 ind_ecue_fin_ult1 ind_dela_fin_ult1',\n",
       " 'ind_recibo_ult1 ind_nom_pens_ult1 ind_nomina_ult1 ind_cno_fin_ult1 ind_tjcr_fin_ult1 ind_ecue_fin_ult1 ind_reca_fin_ult1',\n",
       " 'ind_cco_fin_ult1 ind_recibo_ult1 ind_cno_fin_ult1 ind_ecue_fin_ult1 ind_nom_pens_ult1 ind_dela_fin_ult1 ind_reca_fin_ult1',\n",
       " 'ind_recibo_ult1 ind_cno_fin_ult1 ind_nomina_ult1 ind_nom_pens_ult1 ind_reca_fin_ult1 ind_ecue_fin_ult1 ind_tjcr_fin_ult1',\n",
       " 'ind_nom_pens_ult1 ind_nomina_ult1 ind_cno_fin_ult1 ind_cco_fin_ult1 ind_tjcr_fin_ult1 ind_ecue_fin_ult1 ind_reca_fin_ult1',\n",
       " 'ind_recibo_ult1 ind_tjcr_fin_ult1 ind_ecue_fin_ult1 ind_reca_fin_ult1 ind_dela_fin_ult1 ind_ctma_fin_ult1 ind_fond_fin_ult1',\n",
       " 'ind_recibo_ult1 ind_cno_fin_ult1 ind_nomina_ult1 ind_nom_pens_ult1 ind_reca_fin_ult1 ind_ecue_fin_ult1 ind_valo_fin_ult1',\n",
       " 'ind_recibo_ult1 ind_tjcr_fin_ult1 ind_nom_pens_ult1 ind_nomina_ult1 ind_cco_fin_ult1 ind_cno_fin_ult1 ind_ecue_fin_ult1',\n",
       " 'ind_recibo_ult1 ind_nom_pens_ult1 ind_nomina_ult1 ind_tjcr_fin_ult1 ind_cno_fin_ult1 ind_ecue_fin_ult1 ind_reca_fin_ult1',\n",
       " 'ind_cco_fin_ult1 ind_tjcr_fin_ult1 ind_ecue_fin_ult1 ind_valo_fin_ult1 ind_dela_fin_ult1 ind_fond_fin_ult1 ind_ctma_fin_ult1',\n",
       " 'ind_recibo_ult1 ind_cno_fin_ult1 ind_nomina_ult1 ind_nom_pens_ult1 ind_reca_fin_ult1 ind_ecue_fin_ult1 ind_tjcr_fin_ult1',\n",
       " 'ind_recibo_ult1 ind_cno_fin_ult1 ind_nomina_ult1 ind_nom_pens_ult1 ind_reca_fin_ult1 ind_ecue_fin_ult1 ind_tjcr_fin_ult1',\n",
       " 'ind_recibo_ult1 ind_cno_fin_ult1 ind_nomina_ult1 ind_nom_pens_ult1 ind_reca_fin_ult1 ind_ecue_fin_ult1 ind_tjcr_fin_ult1',\n",
       " 'ind_recibo_ult1 ind_cno_fin_ult1 ind_nomina_ult1 ind_nom_pens_ult1 ind_reca_fin_ult1 ind_ecue_fin_ult1 ind_tjcr_fin_ult1',\n",
       " 'ind_recibo_ult1 ind_nom_pens_ult1 ind_nomina_ult1 ind_cno_fin_ult1 ind_tjcr_fin_ult1 ind_reca_fin_ult1 ind_ecue_fin_ult1',\n",
       " 'ind_recibo_ult1 ind_cno_fin_ult1 ind_nomina_ult1 ind_nom_pens_ult1 ind_reca_fin_ult1 ind_ecue_fin_ult1 ind_valo_fin_ult1',\n",
       " 'ind_recibo_ult1 ind_cno_fin_ult1 ind_nomina_ult1 ind_nom_pens_ult1 ind_reca_fin_ult1 ind_ecue_fin_ult1 ind_tjcr_fin_ult1',\n",
       " 'ind_recibo_ult1 ind_cno_fin_ult1 ind_nomina_ult1 ind_nom_pens_ult1 ind_reca_fin_ult1 ind_ecue_fin_ult1 ind_valo_fin_ult1',\n",
       " 'ind_recibo_ult1 ind_cno_fin_ult1 ind_nomina_ult1 ind_nom_pens_ult1 ind_reca_fin_ult1 ind_ecue_fin_ult1 ind_tjcr_fin_ult1',\n",
       " 'ind_recibo_ult1 ind_cno_fin_ult1 ind_nomina_ult1 ind_nom_pens_ult1 ind_reca_fin_ult1 ind_ecue_fin_ult1 ind_valo_fin_ult1',\n",
       " 'ind_cco_fin_ult1 ind_recibo_ult1 ind_cno_fin_ult1 ind_nom_pens_ult1 ind_nomina_ult1 ind_ecue_fin_ult1 ind_reca_fin_ult1',\n",
       " 'ind_recibo_ult1 ind_cno_fin_ult1 ind_nom_pens_ult1 ind_nomina_ult1 ind_tjcr_fin_ult1 ind_ecue_fin_ult1 ind_reca_fin_ult1',\n",
       " 'ind_recibo_ult1 ind_cno_fin_ult1 ind_nomina_ult1 ind_nom_pens_ult1 ind_reca_fin_ult1 ind_ecue_fin_ult1 ind_valo_fin_ult1',\n",
       " 'ind_recibo_ult1 ind_cno_fin_ult1 ind_nom_pens_ult1 ind_nomina_ult1 ind_reca_fin_ult1 ind_ecue_fin_ult1 ind_tjcr_fin_ult1',\n",
       " 'ind_recibo_ult1 ind_cno_fin_ult1 ind_nomina_ult1 ind_nom_pens_ult1 ind_reca_fin_ult1 ind_ecue_fin_ult1 ind_valo_fin_ult1',\n",
       " 'ind_cco_fin_ult1 ind_recibo_ult1 ind_cno_fin_ult1 ind_nom_pens_ult1 ind_ecue_fin_ult1 ind_nomina_ult1 ind_reca_fin_ult1',\n",
       " 'ind_recibo_ult1 ind_cno_fin_ult1 ind_nomina_ult1 ind_nom_pens_ult1 ind_reca_fin_ult1 ind_ecue_fin_ult1 ind_tjcr_fin_ult1',\n",
       " 'ind_recibo_ult1 ind_cno_fin_ult1 ind_nomina_ult1 ind_nom_pens_ult1 ind_reca_fin_ult1 ind_ecue_fin_ult1 ind_tjcr_fin_ult1',\n",
       " 'ind_recibo_ult1 ind_cno_fin_ult1 ind_nomina_ult1 ind_nom_pens_ult1 ind_reca_fin_ult1 ind_ecue_fin_ult1 ind_tjcr_fin_ult1',\n",
       " 'ind_tjcr_fin_ult1 ind_cco_fin_ult1 ind_ecue_fin_ult1 ind_reca_fin_ult1 ind_dela_fin_ult1 ind_valo_fin_ult1 ind_fond_fin_ult1',\n",
       " 'ind_recibo_ult1 ind_cno_fin_ult1 ind_nomina_ult1 ind_nom_pens_ult1 ind_reca_fin_ult1 ind_ecue_fin_ult1 ind_tjcr_fin_ult1',\n",
       " 'ind_recibo_ult1 ind_cno_fin_ult1 ind_nom_pens_ult1 ind_nomina_ult1 ind_ecue_fin_ult1 ind_reca_fin_ult1 ind_tjcr_fin_ult1',\n",
       " 'ind_recibo_ult1 ind_cno_fin_ult1 ind_nom_pens_ult1 ind_nomina_ult1 ind_reca_fin_ult1 ind_ecue_fin_ult1 ind_valo_fin_ult1',\n",
       " 'ind_recibo_ult1 ind_cno_fin_ult1 ind_nomina_ult1 ind_nom_pens_ult1 ind_reca_fin_ult1 ind_ecue_fin_ult1 ind_tjcr_fin_ult1',\n",
       " 'ind_recibo_ult1 ind_ecue_fin_ult1 ind_cno_fin_ult1 ind_nom_pens_ult1 ind_nomina_ult1 ind_reca_fin_ult1 ind_tjcr_fin_ult1',\n",
       " 'ind_recibo_ult1 ind_nom_pens_ult1 ind_nomina_ult1 ind_cno_fin_ult1 ind_ecue_fin_ult1 ind_reca_fin_ult1 ind_tjcr_fin_ult1',\n",
       " 'ind_recibo_ult1 ind_nom_pens_ult1 ind_nomina_ult1 ind_cno_fin_ult1 ind_tjcr_fin_ult1 ind_ecue_fin_ult1 ind_reca_fin_ult1',\n",
       " 'ind_tjcr_fin_ult1 ind_cco_fin_ult1 ind_ecue_fin_ult1 ind_reca_fin_ult1 ind_dela_fin_ult1 ind_valo_fin_ult1 ind_fond_fin_ult1',\n",
       " 'ind_cco_fin_ult1 ind_tjcr_fin_ult1 ind_reca_fin_ult1 ind_dela_fin_ult1 ind_valo_fin_ult1 ind_ctma_fin_ult1 ind_fond_fin_ult1',\n",
       " 'ind_cco_fin_ult1 ind_recibo_ult1 ind_ecue_fin_ult1 ind_cno_fin_ult1 ind_nom_pens_ult1 ind_dela_fin_ult1 ind_reca_fin_ult1',\n",
       " 'ind_tjcr_fin_ult1 ind_cco_fin_ult1 ind_reca_fin_ult1 ind_ecue_fin_ult1 ind_valo_fin_ult1 ind_fond_fin_ult1 ind_dela_fin_ult1',\n",
       " 'ind_cco_fin_ult1 ind_recibo_ult1 ind_cno_fin_ult1 ind_ecue_fin_ult1 ind_nomina_ult1 ind_nom_pens_ult1 ind_reca_fin_ult1',\n",
       " 'ind_recibo_ult1 ind_nom_pens_ult1 ind_tjcr_fin_ult1 ind_cno_fin_ult1 ind_nomina_ult1 ind_ecue_fin_ult1 ind_reca_fin_ult1',\n",
       " 'ind_cco_fin_ult1 ind_tjcr_fin_ult1 ind_reca_fin_ult1 ind_dela_fin_ult1 ind_valo_fin_ult1 ind_fond_fin_ult1 ind_ctma_fin_ult1',\n",
       " 'ind_nom_pens_ult1 ind_nomina_ult1 ind_cno_fin_ult1 ind_tjcr_fin_ult1 ind_ecue_fin_ult1 ind_reca_fin_ult1 ind_dela_fin_ult1',\n",
       " 'ind_cco_fin_ult1 ind_recibo_ult1 ind_cno_fin_ult1 ind_nom_pens_ult1 ind_nomina_ult1 ind_ecue_fin_ult1 ind_reca_fin_ult1',\n",
       " 'ind_recibo_ult1 ind_cno_fin_ult1 ind_nom_pens_ult1 ind_nomina_ult1 ind_ecue_fin_ult1 ind_reca_fin_ult1 ind_tjcr_fin_ult1',\n",
       " 'ind_cco_fin_ult1 ind_recibo_ult1 ind_cno_fin_ult1 ind_nom_pens_ult1 ind_nomina_ult1 ind_ecue_fin_ult1 ind_reca_fin_ult1',\n",
       " 'ind_recibo_ult1 ind_nom_pens_ult1 ind_nomina_ult1 ind_cno_fin_ult1 ind_tjcr_fin_ult1 ind_ecue_fin_ult1 ind_reca_fin_ult1',\n",
       " 'ind_cco_fin_ult1 ind_recibo_ult1 ind_cno_fin_ult1 ind_nomina_ult1 ind_nom_pens_ult1 ind_reca_fin_ult1 ind_ecue_fin_ult1',\n",
       " 'ind_tjcr_fin_ult1 ind_cco_fin_ult1 ind_reca_fin_ult1 ind_dela_fin_ult1 ind_fond_fin_ult1 ind_valo_fin_ult1 ind_ctma_fin_ult1',\n",
       " 'ind_recibo_ult1 ind_nom_pens_ult1 ind_nomina_ult1 ind_cno_fin_ult1 ind_ecue_fin_ult1 ind_reca_fin_ult1 ind_tjcr_fin_ult1',\n",
       " 'ind_nom_pens_ult1 ind_nomina_ult1 ind_cno_fin_ult1 ind_tjcr_fin_ult1 ind_ecue_fin_ult1 ind_reca_fin_ult1 ind_valo_fin_ult1',\n",
       " 'ind_cco_fin_ult1 ind_recibo_ult1 ind_cno_fin_ult1 ind_nom_pens_ult1 ind_nomina_ult1 ind_ecue_fin_ult1 ind_reca_fin_ult1',\n",
       " 'ind_nom_pens_ult1 ind_tjcr_fin_ult1 ind_cco_fin_ult1 ind_dela_fin_ult1 ind_nomina_ult1 ind_valo_fin_ult1 ind_fond_fin_ult1',\n",
       " 'ind_nom_pens_ult1 ind_nomina_ult1 ind_cco_fin_ult1 ind_tjcr_fin_ult1 ind_ecue_fin_ult1 ind_reca_fin_ult1 ind_dela_fin_ult1',\n",
       " 'ind_cno_fin_ult1 ind_nom_pens_ult1 ind_nomina_ult1 ind_ecue_fin_ult1 ind_ctma_fin_ult1 ind_tjcr_fin_ult1 ind_reca_fin_ult1',\n",
       " 'ind_recibo_ult1 ind_cno_fin_ult1 ind_nom_pens_ult1 ind_nomina_ult1 ind_ecue_fin_ult1 ind_reca_fin_ult1 ind_tjcr_fin_ult1',\n",
       " 'ind_cco_fin_ult1 ind_recibo_ult1 ind_cno_fin_ult1 ind_nom_pens_ult1 ind_nomina_ult1 ind_ecue_fin_ult1 ind_reca_fin_ult1',\n",
       " 'ind_recibo_ult1 ind_nom_pens_ult1 ind_nomina_ult1 ind_cno_fin_ult1 ind_ecue_fin_ult1 ind_tjcr_fin_ult1 ind_reca_fin_ult1',\n",
       " 'ind_recibo_ult1 ind_nom_pens_ult1 ind_nomina_ult1 ind_tjcr_fin_ult1 ind_cno_fin_ult1 ind_ecue_fin_ult1 ind_valo_fin_ult1',\n",
       " 'ind_cco_fin_ult1 ind_tjcr_fin_ult1 ind_ecue_fin_ult1 ind_reca_fin_ult1 ind_dela_fin_ult1 ind_ctma_fin_ult1 ind_fond_fin_ult1',\n",
       " 'ind_cco_fin_ult1 ind_recibo_ult1 ind_cno_fin_ult1 ind_nomina_ult1 ind_nom_pens_ult1 ind_ecue_fin_ult1 ind_reca_fin_ult1',\n",
       " 'ind_recibo_ult1 ind_cno_fin_ult1 ind_nomina_ult1 ind_nom_pens_ult1 ind_reca_fin_ult1 ind_ecue_fin_ult1 ind_tjcr_fin_ult1',\n",
       " 'ind_recibo_ult1 ind_cno_fin_ult1 ind_nom_pens_ult1 ind_nomina_ult1 ind_reca_fin_ult1 ind_ecue_fin_ult1 ind_valo_fin_ult1',\n",
       " 'ind_recibo_ult1 ind_cno_fin_ult1 ind_ecue_fin_ult1 ind_nomina_ult1 ind_nom_pens_ult1 ind_dela_fin_ult1 ind_reca_fin_ult1',\n",
       " 'ind_recibo_ult1 ind_cno_fin_ult1 ind_nomina_ult1 ind_nom_pens_ult1 ind_reca_fin_ult1 ind_ecue_fin_ult1 ind_tjcr_fin_ult1',\n",
       " 'ind_recibo_ult1 ind_cno_fin_ult1 ind_nom_pens_ult1 ind_nomina_ult1 ind_reca_fin_ult1 ind_dela_fin_ult1 ind_ecue_fin_ult1',\n",
       " 'ind_recibo_ult1 ind_cco_fin_ult1 ind_tjcr_fin_ult1 ind_dela_fin_ult1 ind_ecue_fin_ult1 ind_reca_fin_ult1 ind_ctma_fin_ult1',\n",
       " 'ind_recibo_ult1 ind_nom_pens_ult1 ind_nomina_ult1 ind_cno_fin_ult1 ind_tjcr_fin_ult1 ind_ecue_fin_ult1 ind_reca_fin_ult1',\n",
       " 'ind_recibo_ult1 ind_cno_fin_ult1 ind_nom_pens_ult1 ind_nomina_ult1 ind_reca_fin_ult1 ind_ecue_fin_ult1 ind_dela_fin_ult1',\n",
       " 'ind_recibo_ult1 ind_cno_fin_ult1 ind_nom_pens_ult1 ind_nomina_ult1 ind_reca_fin_ult1 ind_ecue_fin_ult1 ind_dela_fin_ult1',\n",
       " 'ind_recibo_ult1 ind_cno_fin_ult1 ind_nomina_ult1 ind_nom_pens_ult1 ind_reca_fin_ult1 ind_ecue_fin_ult1 ind_valo_fin_ult1',\n",
       " 'ind_recibo_ult1 ind_cno_fin_ult1 ind_nomina_ult1 ind_nom_pens_ult1 ind_reca_fin_ult1 ind_ecue_fin_ult1 ind_tjcr_fin_ult1',\n",
       " 'ind_recibo_ult1 ind_cno_fin_ult1 ind_nomina_ult1 ind_nom_pens_ult1 ind_reca_fin_ult1 ind_ecue_fin_ult1 ind_dela_fin_ult1',\n",
       " 'ind_recibo_ult1 ind_cno_fin_ult1 ind_nomina_ult1 ind_nom_pens_ult1 ind_reca_fin_ult1 ind_ecue_fin_ult1 ind_tjcr_fin_ult1',\n",
       " 'ind_recibo_ult1 ind_cno_fin_ult1 ind_nom_pens_ult1 ind_nomina_ult1 ind_reca_fin_ult1 ind_ecue_fin_ult1 ind_dela_fin_ult1',\n",
       " 'ind_nom_pens_ult1 ind_recibo_ult1 ind_tjcr_fin_ult1 ind_cno_fin_ult1 ind_ecue_fin_ult1 ind_dela_fin_ult1 ind_reca_fin_ult1',\n",
       " 'ind_recibo_ult1 ind_cno_fin_ult1 ind_nomina_ult1 ind_nom_pens_ult1 ind_reca_fin_ult1 ind_ecue_fin_ult1 ind_tjcr_fin_ult1',\n",
       " 'ind_recibo_ult1 ind_cno_fin_ult1 ind_nomina_ult1 ind_nom_pens_ult1 ind_reca_fin_ult1 ind_ecue_fin_ult1 ind_tjcr_fin_ult1',\n",
       " 'ind_recibo_ult1 ind_cno_fin_ult1 ind_nomina_ult1 ind_nom_pens_ult1 ind_reca_fin_ult1 ind_ecue_fin_ult1 ind_valo_fin_ult1',\n",
       " 'ind_recibo_ult1 ind_cno_fin_ult1 ind_nomina_ult1 ind_nom_pens_ult1 ind_reca_fin_ult1 ind_ecue_fin_ult1 ind_tjcr_fin_ult1',\n",
       " 'ind_recibo_ult1 ind_cno_fin_ult1 ind_nomina_ult1 ind_nom_pens_ult1 ind_reca_fin_ult1 ind_dela_fin_ult1 ind_ecue_fin_ult1',\n",
       " 'ind_recibo_ult1 ind_cno_fin_ult1 ind_nomina_ult1 ind_nom_pens_ult1 ind_reca_fin_ult1 ind_ecue_fin_ult1 ind_valo_fin_ult1',\n",
       " 'ind_recibo_ult1 ind_cno_fin_ult1 ind_nomina_ult1 ind_nom_pens_ult1 ind_reca_fin_ult1 ind_ecue_fin_ult1 ind_valo_fin_ult1',\n",
       " 'ind_recibo_ult1 ind_cno_fin_ult1 ind_nomina_ult1 ind_nom_pens_ult1 ind_reca_fin_ult1 ind_ecue_fin_ult1 ind_tjcr_fin_ult1',\n",
       " 'ind_recibo_ult1 ind_cno_fin_ult1 ind_nomina_ult1 ind_nom_pens_ult1 ind_reca_fin_ult1 ind_ecue_fin_ult1 ind_tjcr_fin_ult1',\n",
       " 'ind_recibo_ult1 ind_cno_fin_ult1 ind_nomina_ult1 ind_nom_pens_ult1 ind_reca_fin_ult1 ind_ecue_fin_ult1 ind_dela_fin_ult1',\n",
       " 'ind_recibo_ult1 ind_cno_fin_ult1 ind_nom_pens_ult1 ind_nomina_ult1 ind_reca_fin_ult1 ind_ecue_fin_ult1 ind_tjcr_fin_ult1',\n",
       " 'ind_recibo_ult1 ind_cno_fin_ult1 ind_nom_pens_ult1 ind_nomina_ult1 ind_reca_fin_ult1 ind_ecue_fin_ult1 ind_dela_fin_ult1',\n",
       " 'ind_recibo_ult1 ind_cno_fin_ult1 ind_nomina_ult1 ind_nom_pens_ult1 ind_reca_fin_ult1 ind_ecue_fin_ult1 ind_tjcr_fin_ult1',\n",
       " 'ind_recibo_ult1 ind_nom_pens_ult1 ind_nomina_ult1 ind_cno_fin_ult1 ind_tjcr_fin_ult1 ind_reca_fin_ult1 ind_ecue_fin_ult1',\n",
       " 'ind_recibo_ult1 ind_cno_fin_ult1 ind_nomina_ult1 ind_nom_pens_ult1 ind_reca_fin_ult1 ind_ecue_fin_ult1 ind_valo_fin_ult1',\n",
       " 'ind_cco_fin_ult1 ind_recibo_ult1 ind_cno_fin_ult1 ind_nomina_ult1 ind_nom_pens_ult1 ind_ecue_fin_ult1 ind_reca_fin_ult1',\n",
       " 'ind_recibo_ult1 ind_nom_pens_ult1 ind_nomina_ult1 ind_cno_fin_ult1 ind_tjcr_fin_ult1 ind_reca_fin_ult1 ind_ecue_fin_ult1',\n",
       " 'ind_recibo_ult1 ind_nom_pens_ult1 ind_nomina_ult1 ind_cno_fin_ult1 ind_ecue_fin_ult1 ind_reca_fin_ult1 ind_dela_fin_ult1',\n",
       " 'ind_recibo_ult1 ind_nom_pens_ult1 ind_nomina_ult1 ind_tjcr_fin_ult1 ind_cno_fin_ult1 ind_ecue_fin_ult1 ind_reca_fin_ult1',\n",
       " 'ind_recibo_ult1 ind_cno_fin_ult1 ind_nomina_ult1 ind_nom_pens_ult1 ind_reca_fin_ult1 ind_ecue_fin_ult1 ind_tjcr_fin_ult1',\n",
       " 'ind_recibo_ult1 ind_cno_fin_ult1 ind_nom_pens_ult1 ind_ecue_fin_ult1 ind_nomina_ult1 ind_reca_fin_ult1 ind_tjcr_fin_ult1',\n",
       " 'ind_recibo_ult1 ind_nom_pens_ult1 ind_nomina_ult1 ind_cno_fin_ult1 ind_tjcr_fin_ult1 ind_ecue_fin_ult1 ind_reca_fin_ult1',\n",
       " 'ind_recibo_ult1 ind_cno_fin_ult1 ind_nomina_ult1 ind_nom_pens_ult1 ind_reca_fin_ult1 ind_ecue_fin_ult1 ind_tjcr_fin_ult1',\n",
       " 'ind_recibo_ult1 ind_cno_fin_ult1 ind_nomina_ult1 ind_nom_pens_ult1 ind_reca_fin_ult1 ind_ecue_fin_ult1 ind_valo_fin_ult1',\n",
       " 'ind_recibo_ult1 ind_cno_fin_ult1 ind_nomina_ult1 ind_nom_pens_ult1 ind_reca_fin_ult1 ind_ecue_fin_ult1 ind_valo_fin_ult1',\n",
       " 'ind_recibo_ult1 ind_cno_fin_ult1 ind_nom_pens_ult1 ind_nomina_ult1 ind_reca_fin_ult1 ind_ecue_fin_ult1 ind_dela_fin_ult1',\n",
       " 'ind_recibo_ult1 ind_cno_fin_ult1 ind_nomina_ult1 ind_nom_pens_ult1 ind_reca_fin_ult1 ind_ecue_fin_ult1 ind_valo_fin_ult1',\n",
       " 'ind_nom_pens_ult1 ind_nomina_ult1 ind_cno_fin_ult1 ind_tjcr_fin_ult1 ind_ecue_fin_ult1 ind_reca_fin_ult1 ind_dela_fin_ult1',\n",
       " 'ind_recibo_ult1 ind_cno_fin_ult1 ind_nomina_ult1 ind_nom_pens_ult1 ind_ecue_fin_ult1 ind_reca_fin_ult1 ind_tjcr_fin_ult1',\n",
       " 'ind_nom_pens_ult1 ind_nomina_ult1 ind_tjcr_fin_ult1 ind_cno_fin_ult1 ind_ecue_fin_ult1 ind_reca_fin_ult1 ind_dela_fin_ult1',\n",
       " 'ind_recibo_ult1 ind_cno_fin_ult1 ind_nomina_ult1 ind_nom_pens_ult1 ind_reca_fin_ult1 ind_ecue_fin_ult1 ind_valo_fin_ult1',\n",
       " 'ind_recibo_ult1 ind_cno_fin_ult1 ind_nomina_ult1 ind_nom_pens_ult1 ind_reca_fin_ult1 ind_ecue_fin_ult1 ind_tjcr_fin_ult1',\n",
       " 'ind_recibo_ult1 ind_cno_fin_ult1 ind_nom_pens_ult1 ind_nomina_ult1 ind_reca_fin_ult1 ind_ecue_fin_ult1 ind_dela_fin_ult1',\n",
       " 'ind_recibo_ult1 ind_cno_fin_ult1 ind_nomina_ult1 ind_nom_pens_ult1 ind_reca_fin_ult1 ind_ecue_fin_ult1 ind_tjcr_fin_ult1',\n",
       " 'ind_recibo_ult1 ind_nom_pens_ult1 ind_nomina_ult1 ind_cco_fin_ult1 ind_tjcr_fin_ult1 ind_ecue_fin_ult1 ind_reca_fin_ult1',\n",
       " 'ind_recibo_ult1 ind_nom_pens_ult1 ind_nomina_ult1 ind_cno_fin_ult1 ind_tjcr_fin_ult1 ind_ecue_fin_ult1 ind_reca_fin_ult1',\n",
       " 'ind_recibo_ult1 ind_nom_pens_ult1 ind_cno_fin_ult1 ind_nomina_ult1 ind_reca_fin_ult1 ind_ecue_fin_ult1 ind_dela_fin_ult1',\n",
       " 'ind_recibo_ult1 ind_cno_fin_ult1 ind_nomina_ult1 ind_nom_pens_ult1 ind_reca_fin_ult1 ind_ecue_fin_ult1 ind_valo_fin_ult1',\n",
       " 'ind_recibo_ult1 ind_cno_fin_ult1 ind_nomina_ult1 ind_nom_pens_ult1 ind_reca_fin_ult1 ind_ecue_fin_ult1 ind_valo_fin_ult1',\n",
       " 'ind_recibo_ult1 ind_nom_pens_ult1 ind_cno_fin_ult1 ind_nomina_ult1 ind_tjcr_fin_ult1 ind_ecue_fin_ult1 ind_reca_fin_ult1',\n",
       " 'ind_recibo_ult1 ind_cno_fin_ult1 ind_nomina_ult1 ind_nom_pens_ult1 ind_reca_fin_ult1 ind_ecue_fin_ult1 ind_tjcr_fin_ult1',\n",
       " 'ind_recibo_ult1 ind_cno_fin_ult1 ind_nom_pens_ult1 ind_nomina_ult1 ind_ecue_fin_ult1 ind_reca_fin_ult1 ind_dela_fin_ult1',\n",
       " 'ind_recibo_ult1 ind_nom_pens_ult1 ind_nomina_ult1 ind_cno_fin_ult1 ind_tjcr_fin_ult1 ind_ecue_fin_ult1 ind_reca_fin_ult1',\n",
       " 'ind_recibo_ult1 ind_cno_fin_ult1 ind_nomina_ult1 ind_nom_pens_ult1 ind_reca_fin_ult1 ind_ecue_fin_ult1 ind_tjcr_fin_ult1',\n",
       " 'ind_recibo_ult1 ind_cno_fin_ult1 ind_nomina_ult1 ind_nom_pens_ult1 ind_reca_fin_ult1 ind_ecue_fin_ult1 ind_tjcr_fin_ult1',\n",
       " 'ind_recibo_ult1 ind_nom_pens_ult1 ind_nomina_ult1 ind_cno_fin_ult1 ind_tjcr_fin_ult1 ind_ecue_fin_ult1 ind_reca_fin_ult1',\n",
       " 'ind_recibo_ult1 ind_cno_fin_ult1 ind_nomina_ult1 ind_nom_pens_ult1 ind_reca_fin_ult1 ind_ecue_fin_ult1 ind_dela_fin_ult1',\n",
       " 'ind_recibo_ult1 ind_nom_pens_ult1 ind_nomina_ult1 ind_cno_fin_ult1 ind_tjcr_fin_ult1 ind_ecue_fin_ult1 ind_reca_fin_ult1',\n",
       " 'ind_recibo_ult1 ind_cno_fin_ult1 ind_nomina_ult1 ind_nom_pens_ult1 ind_reca_fin_ult1 ind_ecue_fin_ult1 ind_dela_fin_ult1',\n",
       " 'ind_recibo_ult1 ind_cno_fin_ult1 ind_nomina_ult1 ind_nom_pens_ult1 ind_reca_fin_ult1 ind_ecue_fin_ult1 ind_valo_fin_ult1',\n",
       " 'ind_recibo_ult1 ind_cno_fin_ult1 ind_nomina_ult1 ind_nom_pens_ult1 ind_reca_fin_ult1 ind_ecue_fin_ult1 ind_tjcr_fin_ult1',\n",
       " 'ind_recibo_ult1 ind_cno_fin_ult1 ind_nom_pens_ult1 ind_nomina_ult1 ind_reca_fin_ult1 ind_ecue_fin_ult1 ind_dela_fin_ult1',\n",
       " 'ind_recibo_ult1 ind_cno_fin_ult1 ind_nomina_ult1 ind_nom_pens_ult1 ind_ecue_fin_ult1 ind_reca_fin_ult1 ind_tjcr_fin_ult1',\n",
       " 'ind_recibo_ult1 ind_cno_fin_ult1 ind_nomina_ult1 ind_nom_pens_ult1 ind_reca_fin_ult1 ind_ecue_fin_ult1 ind_valo_fin_ult1',\n",
       " 'ind_recibo_ult1 ind_cno_fin_ult1 ind_nomina_ult1 ind_ecue_fin_ult1 ind_nom_pens_ult1 ind_reca_fin_ult1 ind_dela_fin_ult1',\n",
       " 'ind_recibo_ult1 ind_cno_fin_ult1 ind_nomina_ult1 ind_nom_pens_ult1 ind_reca_fin_ult1 ind_ecue_fin_ult1 ind_valo_fin_ult1',\n",
       " 'ind_recibo_ult1 ind_nom_pens_ult1 ind_nomina_ult1 ind_cno_fin_ult1 ind_tjcr_fin_ult1 ind_ecue_fin_ult1 ind_reca_fin_ult1',\n",
       " 'ind_recibo_ult1 ind_cno_fin_ult1 ind_nomina_ult1 ind_nom_pens_ult1 ind_reca_fin_ult1 ind_ecue_fin_ult1 ind_tjcr_fin_ult1',\n",
       " 'ind_recibo_ult1 ind_nom_pens_ult1 ind_nomina_ult1 ind_cno_fin_ult1 ind_tjcr_fin_ult1 ind_ecue_fin_ult1 ind_reca_fin_ult1',\n",
       " 'ind_recibo_ult1 ind_nomina_ult1 ind_nom_pens_ult1 ind_cno_fin_ult1 ind_reca_fin_ult1 ind_ecue_fin_ult1 ind_valo_fin_ult1',\n",
       " 'ind_cco_fin_ult1 ind_recibo_ult1 ind_cno_fin_ult1 ind_nomina_ult1 ind_nom_pens_ult1 ind_reca_fin_ult1 ind_ecue_fin_ult1',\n",
       " 'ind_recibo_ult1 ind_cno_fin_ult1 ind_nomina_ult1 ind_nom_pens_ult1 ind_reca_fin_ult1 ind_ecue_fin_ult1 ind_valo_fin_ult1',\n",
       " 'ind_recibo_ult1 ind_nom_pens_ult1 ind_ecue_fin_ult1 ind_cno_fin_ult1 ind_dela_fin_ult1 ind_nomina_ult1 ind_reca_fin_ult1',\n",
       " 'ind_recibo_ult1 ind_nom_pens_ult1 ind_nomina_ult1 ind_cno_fin_ult1 ind_tjcr_fin_ult1 ind_ecue_fin_ult1 ind_reca_fin_ult1',\n",
       " 'ind_recibo_ult1 ind_cco_fin_ult1 ind_nomina_ult1 ind_cno_fin_ult1 ind_nom_pens_ult1 ind_reca_fin_ult1 ind_ecue_fin_ult1',\n",
       " 'ind_recibo_ult1 ind_cno_fin_ult1 ind_nomina_ult1 ind_nom_pens_ult1 ind_reca_fin_ult1 ind_ecue_fin_ult1 ind_tjcr_fin_ult1',\n",
       " 'ind_recibo_ult1 ind_cno_fin_ult1 ind_ecue_fin_ult1 ind_nomina_ult1 ind_nom_pens_ult1 ind_reca_fin_ult1 ind_dela_fin_ult1',\n",
       " 'ind_recibo_ult1 ind_cco_fin_ult1 ind_cno_fin_ult1 ind_nomina_ult1 ind_nom_pens_ult1 ind_reca_fin_ult1 ind_ecue_fin_ult1',\n",
       " 'ind_recibo_ult1 ind_cno_fin_ult1 ind_nomina_ult1 ind_nom_pens_ult1 ind_reca_fin_ult1 ind_ecue_fin_ult1 ind_dela_fin_ult1',\n",
       " 'ind_recibo_ult1 ind_cno_fin_ult1 ind_nomina_ult1 ind_nom_pens_ult1 ind_reca_fin_ult1 ind_ecue_fin_ult1 ind_tjcr_fin_ult1',\n",
       " 'ind_recibo_ult1 ind_cno_fin_ult1 ind_nom_pens_ult1 ind_nomina_ult1 ind_reca_fin_ult1 ind_ecue_fin_ult1 ind_dela_fin_ult1',\n",
       " 'ind_recibo_ult1 ind_cno_fin_ult1 ind_nomina_ult1 ind_nom_pens_ult1 ind_reca_fin_ult1 ind_ecue_fin_ult1 ind_valo_fin_ult1',\n",
       " 'ind_recibo_ult1 ind_cno_fin_ult1 ind_nomina_ult1 ind_nom_pens_ult1 ind_reca_fin_ult1 ind_ecue_fin_ult1 ind_valo_fin_ult1',\n",
       " 'ind_recibo_ult1 ind_cno_fin_ult1 ind_nomina_ult1 ind_nom_pens_ult1 ind_reca_fin_ult1 ind_ecue_fin_ult1 ind_valo_fin_ult1',\n",
       " 'ind_recibo_ult1 ind_cno_fin_ult1 ind_nomina_ult1 ind_nom_pens_ult1 ind_reca_fin_ult1 ind_ecue_fin_ult1 ind_valo_fin_ult1',\n",
       " 'ind_recibo_ult1 ind_cco_fin_ult1 ind_nomina_ult1 ind_nom_pens_ult1 ind_tjcr_fin_ult1 ind_ecue_fin_ult1 ind_reca_fin_ult1',\n",
       " 'ind_recibo_ult1 ind_nom_pens_ult1 ind_nomina_ult1 ind_cno_fin_ult1 ind_tjcr_fin_ult1 ind_ecue_fin_ult1 ind_reca_fin_ult1',\n",
       " 'ind_recibo_ult1 ind_cco_fin_ult1 ind_nom_pens_ult1 ind_nomina_ult1 ind_tjcr_fin_ult1 ind_reca_fin_ult1 ind_ecue_fin_ult1',\n",
       " 'ind_recibo_ult1 ind_cno_fin_ult1 ind_nomina_ult1 ind_nom_pens_ult1 ind_reca_fin_ult1 ind_dela_fin_ult1 ind_ecue_fin_ult1',\n",
       " 'ind_recibo_ult1 ind_cno_fin_ult1 ind_nomina_ult1 ind_nom_pens_ult1 ind_reca_fin_ult1 ind_ecue_fin_ult1 ind_tjcr_fin_ult1',\n",
       " 'ind_recibo_ult1 ind_cno_fin_ult1 ind_nomina_ult1 ind_nom_pens_ult1 ind_reca_fin_ult1 ind_ecue_fin_ult1 ind_tjcr_fin_ult1',\n",
       " 'ind_recibo_ult1 ind_cno_fin_ult1 ind_nom_pens_ult1 ind_nomina_ult1 ind_reca_fin_ult1 ind_ecue_fin_ult1 ind_tjcr_fin_ult1',\n",
       " 'ind_recibo_ult1 ind_cno_fin_ult1 ind_nom_pens_ult1 ind_nomina_ult1 ind_reca_fin_ult1 ind_ecue_fin_ult1 ind_valo_fin_ult1',\n",
       " 'ind_recibo_ult1 ind_nom_pens_ult1 ind_cno_fin_ult1 ind_nomina_ult1 ind_reca_fin_ult1 ind_ecue_fin_ult1 ind_dela_fin_ult1',\n",
       " 'ind_cco_fin_ult1 ind_recibo_ult1 ind_cno_fin_ult1 ind_nomina_ult1 ind_nom_pens_ult1 ind_ecue_fin_ult1 ind_reca_fin_ult1',\n",
       " 'ind_recibo_ult1 ind_cno_fin_ult1 ind_nom_pens_ult1 ind_nomina_ult1 ind_reca_fin_ult1 ind_ecue_fin_ult1 ind_tjcr_fin_ult1',\n",
       " 'ind_recibo_ult1 ind_cno_fin_ult1 ind_nomina_ult1 ind_nom_pens_ult1 ind_reca_fin_ult1 ind_ecue_fin_ult1 ind_valo_fin_ult1',\n",
       " 'ind_recibo_ult1 ind_cno_fin_ult1 ind_nomina_ult1 ind_nom_pens_ult1 ind_reca_fin_ult1 ind_ecue_fin_ult1 ind_tjcr_fin_ult1',\n",
       " 'ind_recibo_ult1 ind_nom_pens_ult1 ind_nomina_ult1 ind_cno_fin_ult1 ind_tjcr_fin_ult1 ind_ecue_fin_ult1 ind_reca_fin_ult1',\n",
       " 'ind_recibo_ult1 ind_cno_fin_ult1 ind_nomina_ult1 ind_nom_pens_ult1 ind_reca_fin_ult1 ind_ecue_fin_ult1 ind_valo_fin_ult1',\n",
       " 'ind_recibo_ult1 ind_cno_fin_ult1 ind_nomina_ult1 ind_nom_pens_ult1 ind_reca_fin_ult1 ind_ecue_fin_ult1 ind_valo_fin_ult1',\n",
       " 'ind_cco_fin_ult1 ind_recibo_ult1 ind_cno_fin_ult1 ind_nomina_ult1 ind_nom_pens_ult1 ind_ecue_fin_ult1 ind_reca_fin_ult1',\n",
       " 'ind_recibo_ult1 ind_cno_fin_ult1 ind_nomina_ult1 ind_nom_pens_ult1 ind_reca_fin_ult1 ind_ecue_fin_ult1 ind_tjcr_fin_ult1',\n",
       " 'ind_recibo_ult1 ind_nom_pens_ult1 ind_nomina_ult1 ind_cno_fin_ult1 ind_tjcr_fin_ult1 ind_ecue_fin_ult1 ind_reca_fin_ult1',\n",
       " 'ind_recibo_ult1 ind_nom_pens_ult1 ind_nomina_ult1 ind_cno_fin_ult1 ind_tjcr_fin_ult1 ind_ecue_fin_ult1 ind_reca_fin_ult1',\n",
       " 'ind_cco_fin_ult1 ind_recibo_ult1 ind_cno_fin_ult1 ind_nomina_ult1 ind_nom_pens_ult1 ind_ecue_fin_ult1 ind_reca_fin_ult1',\n",
       " 'ind_recibo_ult1 ind_cno_fin_ult1 ind_nom_pens_ult1 ind_nomina_ult1 ind_reca_fin_ult1 ind_ecue_fin_ult1 ind_tjcr_fin_ult1',\n",
       " 'ind_recibo_ult1 ind_cno_fin_ult1 ind_nomina_ult1 ind_nom_pens_ult1 ind_reca_fin_ult1 ind_ecue_fin_ult1 ind_dela_fin_ult1',\n",
       " 'ind_recibo_ult1 ind_cno_fin_ult1 ind_nomina_ult1 ind_nom_pens_ult1 ind_reca_fin_ult1 ind_ecue_fin_ult1 ind_tjcr_fin_ult1',\n",
       " 'ind_cco_fin_ult1 ind_recibo_ult1 ind_cno_fin_ult1 ind_nomina_ult1 ind_nom_pens_ult1 ind_reca_fin_ult1 ind_ecue_fin_ult1',\n",
       " 'ind_recibo_ult1 ind_cno_fin_ult1 ind_nomina_ult1 ind_nom_pens_ult1 ind_reca_fin_ult1 ind_ecue_fin_ult1 ind_valo_fin_ult1',\n",
       " 'ind_nomina_ult1 ind_nom_pens_ult1 ind_cno_fin_ult1 ind_reca_fin_ult1 ind_ecue_fin_ult1 ind_tjcr_fin_ult1 ind_ctma_fin_ult1',\n",
       " 'ind_recibo_ult1 ind_cno_fin_ult1 ind_nomina_ult1 ind_nom_pens_ult1 ind_reca_fin_ult1 ind_ecue_fin_ult1 ind_tjcr_fin_ult1',\n",
       " 'ind_recibo_ult1 ind_cno_fin_ult1 ind_nomina_ult1 ind_nom_pens_ult1 ind_reca_fin_ult1 ind_ecue_fin_ult1 ind_tjcr_fin_ult1',\n",
       " 'ind_recibo_ult1 ind_cno_fin_ult1 ind_nomina_ult1 ind_nom_pens_ult1 ind_reca_fin_ult1 ind_ecue_fin_ult1 ind_tjcr_fin_ult1',\n",
       " 'ind_recibo_ult1 ind_cno_fin_ult1 ind_nomina_ult1 ind_nom_pens_ult1 ind_reca_fin_ult1 ind_ecue_fin_ult1 ind_tjcr_fin_ult1',\n",
       " 'ind_nom_pens_ult1 ind_cco_fin_ult1 ind_ecue_fin_ult1 ind_cno_fin_ult1 ind_nomina_ult1 ind_recibo_ult1 ind_tjcr_fin_ult1',\n",
       " 'ind_recibo_ult1 ind_cno_fin_ult1 ind_nomina_ult1 ind_nom_pens_ult1 ind_reca_fin_ult1 ind_ecue_fin_ult1 ind_valo_fin_ult1',\n",
       " 'ind_recibo_ult1 ind_nom_pens_ult1 ind_nomina_ult1 ind_cno_fin_ult1 ind_tjcr_fin_ult1 ind_reca_fin_ult1 ind_ecue_fin_ult1',\n",
       " 'ind_recibo_ult1 ind_cno_fin_ult1 ind_nomina_ult1 ind_nom_pens_ult1 ind_reca_fin_ult1 ind_ecue_fin_ult1 ind_tjcr_fin_ult1',\n",
       " 'ind_recibo_ult1 ind_nom_pens_ult1 ind_nomina_ult1 ind_cno_fin_ult1 ind_tjcr_fin_ult1 ind_reca_fin_ult1 ind_ecue_fin_ult1',\n",
       " 'ind_recibo_ult1 ind_cno_fin_ult1 ind_nomina_ult1 ind_nom_pens_ult1 ind_reca_fin_ult1 ind_ecue_fin_ult1 ind_tjcr_fin_ult1',\n",
       " 'ind_nom_pens_ult1 ind_nomina_ult1 ind_cno_fin_ult1 ind_tjcr_fin_ult1 ind_ecue_fin_ult1 ind_reca_fin_ult1 ind_valo_fin_ult1',\n",
       " 'ind_nom_pens_ult1 ind_nomina_ult1 ind_cno_fin_ult1 ind_tjcr_fin_ult1 ind_ecue_fin_ult1 ind_reca_fin_ult1 ind_ctma_fin_ult1',\n",
       " 'ind_recibo_ult1 ind_cco_fin_ult1 ind_cno_fin_ult1 ind_nom_pens_ult1 ind_nomina_ult1 ind_reca_fin_ult1 ind_ecue_fin_ult1',\n",
       " 'ind_cco_fin_ult1 ind_tjcr_fin_ult1 ind_ecue_fin_ult1 ind_reca_fin_ult1 ind_valo_fin_ult1 ind_dela_fin_ult1 ind_fond_fin_ult1',\n",
       " 'ind_recibo_ult1 ind_nomina_ult1 ind_nom_pens_ult1 ind_cno_fin_ult1 ind_tjcr_fin_ult1 ind_ecue_fin_ult1 ind_reca_fin_ult1',\n",
       " 'ind_recibo_ult1 ind_cno_fin_ult1 ind_nom_pens_ult1 ind_nomina_ult1 ind_reca_fin_ult1 ind_ecue_fin_ult1 ind_dela_fin_ult1',\n",
       " 'ind_recibo_ult1 ind_cno_fin_ult1 ind_nom_pens_ult1 ind_nomina_ult1 ind_reca_fin_ult1 ind_ecue_fin_ult1 ind_dela_fin_ult1',\n",
       " 'ind_recibo_ult1 ind_cno_fin_ult1 ind_nomina_ult1 ind_nom_pens_ult1 ind_reca_fin_ult1 ind_ecue_fin_ult1 ind_tjcr_fin_ult1',\n",
       " 'ind_recibo_ult1 ind_nom_pens_ult1 ind_cno_fin_ult1 ind_nomina_ult1 ind_reca_fin_ult1 ind_ecue_fin_ult1 ind_tjcr_fin_ult1',\n",
       " 'ind_recibo_ult1 ind_cno_fin_ult1 ind_nom_pens_ult1 ind_nomina_ult1 ind_reca_fin_ult1 ind_ecue_fin_ult1 ind_valo_fin_ult1',\n",
       " 'ind_recibo_ult1 ind_cno_fin_ult1 ind_nom_pens_ult1 ind_nomina_ult1 ind_reca_fin_ult1 ind_ecue_fin_ult1 ind_tjcr_fin_ult1',\n",
       " 'ind_recibo_ult1 ind_nomina_ult1 ind_nom_pens_ult1 ind_cno_fin_ult1 ind_tjcr_fin_ult1 ind_ecue_fin_ult1 ind_reca_fin_ult1',\n",
       " 'ind_recibo_ult1 ind_cno_fin_ult1 ind_nom_pens_ult1 ind_nomina_ult1 ind_reca_fin_ult1 ind_ecue_fin_ult1 ind_dela_fin_ult1',\n",
       " 'ind_recibo_ult1 ind_cno_fin_ult1 ind_nomina_ult1 ind_nom_pens_ult1 ind_reca_fin_ult1 ind_ecue_fin_ult1 ind_tjcr_fin_ult1',\n",
       " 'ind_recibo_ult1 ind_cno_fin_ult1 ind_nomina_ult1 ind_nom_pens_ult1 ind_reca_fin_ult1 ind_ecue_fin_ult1 ind_tjcr_fin_ult1',\n",
       " 'ind_recibo_ult1 ind_nom_pens_ult1 ind_cno_fin_ult1 ind_nomina_ult1 ind_tjcr_fin_ult1 ind_reca_fin_ult1 ind_ecue_fin_ult1',\n",
       " 'ind_recibo_ult1 ind_cno_fin_ult1 ind_nomina_ult1 ind_nom_pens_ult1 ind_reca_fin_ult1 ind_ecue_fin_ult1 ind_tjcr_fin_ult1',\n",
       " 'ind_recibo_ult1 ind_cno_fin_ult1 ind_nom_pens_ult1 ind_nomina_ult1 ind_reca_fin_ult1 ind_ecue_fin_ult1 ind_tjcr_fin_ult1',\n",
       " 'ind_recibo_ult1 ind_cno_fin_ult1 ind_nomina_ult1 ind_nom_pens_ult1 ind_reca_fin_ult1 ind_ecue_fin_ult1 ind_valo_fin_ult1',\n",
       " 'ind_recibo_ult1 ind_cno_fin_ult1 ind_nomina_ult1 ind_nom_pens_ult1 ind_reca_fin_ult1 ind_ecue_fin_ult1 ind_tjcr_fin_ult1',\n",
       " 'ind_recibo_ult1 ind_cno_fin_ult1 ind_nomina_ult1 ind_nom_pens_ult1 ind_reca_fin_ult1 ind_ecue_fin_ult1 ind_tjcr_fin_ult1',\n",
       " 'ind_recibo_ult1 ind_nom_pens_ult1 ind_nomina_ult1 ind_cno_fin_ult1 ind_tjcr_fin_ult1 ind_ecue_fin_ult1 ind_reca_fin_ult1',\n",
       " 'ind_recibo_ult1 ind_nom_pens_ult1 ind_nomina_ult1 ind_cno_fin_ult1 ind_tjcr_fin_ult1 ind_ecue_fin_ult1 ind_reca_fin_ult1',\n",
       " 'ind_recibo_ult1 ind_nomina_ult1 ind_cno_fin_ult1 ind_nom_pens_ult1 ind_reca_fin_ult1 ind_ecue_fin_ult1 ind_tjcr_fin_ult1',\n",
       " 'ind_recibo_ult1 ind_nomina_ult1 ind_nom_pens_ult1 ind_cno_fin_ult1 ind_tjcr_fin_ult1 ind_ecue_fin_ult1 ind_reca_fin_ult1',\n",
       " 'ind_recibo_ult1 ind_nom_pens_ult1 ind_nomina_ult1 ind_cno_fin_ult1 ind_tjcr_fin_ult1 ind_ecue_fin_ult1 ind_reca_fin_ult1',\n",
       " 'ind_recibo_ult1 ind_cno_fin_ult1 ind_nomina_ult1 ind_nom_pens_ult1 ind_reca_fin_ult1 ind_ecue_fin_ult1 ind_tjcr_fin_ult1',\n",
       " 'ind_recibo_ult1 ind_nom_pens_ult1 ind_nomina_ult1 ind_cno_fin_ult1 ind_tjcr_fin_ult1 ind_ecue_fin_ult1 ind_reca_fin_ult1',\n",
       " 'ind_recibo_ult1 ind_cno_fin_ult1 ind_nom_pens_ult1 ind_nomina_ult1 ind_reca_fin_ult1 ind_ecue_fin_ult1 ind_tjcr_fin_ult1',\n",
       " 'ind_recibo_ult1 ind_nom_pens_ult1 ind_nomina_ult1 ind_cno_fin_ult1 ind_tjcr_fin_ult1 ind_ecue_fin_ult1 ind_reca_fin_ult1',\n",
       " 'ind_recibo_ult1 ind_cno_fin_ult1 ind_nomina_ult1 ind_nom_pens_ult1 ind_reca_fin_ult1 ind_ecue_fin_ult1 ind_tjcr_fin_ult1',\n",
       " 'ind_cco_fin_ult1 ind_recibo_ult1 ind_cno_fin_ult1 ind_nom_pens_ult1 ind_nomina_ult1 ind_reca_fin_ult1 ind_ecue_fin_ult1',\n",
       " 'ind_recibo_ult1 ind_cno_fin_ult1 ind_nomina_ult1 ind_nom_pens_ult1 ind_reca_fin_ult1 ind_ecue_fin_ult1 ind_tjcr_fin_ult1',\n",
       " 'ind_recibo_ult1 ind_cno_fin_ult1 ind_nomina_ult1 ind_nom_pens_ult1 ind_reca_fin_ult1 ind_ecue_fin_ult1 ind_tjcr_fin_ult1',\n",
       " 'ind_recibo_ult1 ind_nom_pens_ult1 ind_nomina_ult1 ind_cno_fin_ult1 ind_tjcr_fin_ult1 ind_ecue_fin_ult1 ind_reca_fin_ult1',\n",
       " 'ind_recibo_ult1 ind_nom_pens_ult1 ind_nomina_ult1 ind_cno_fin_ult1 ind_tjcr_fin_ult1 ind_ecue_fin_ult1 ind_reca_fin_ult1',\n",
       " 'ind_recibo_ult1 ind_cno_fin_ult1 ind_nom_pens_ult1 ind_nomina_ult1 ind_reca_fin_ult1 ind_ecue_fin_ult1 ind_tjcr_fin_ult1',\n",
       " 'ind_recibo_ult1 ind_cno_fin_ult1 ind_nom_pens_ult1 ind_nomina_ult1 ind_reca_fin_ult1 ind_ecue_fin_ult1 ind_dela_fin_ult1',\n",
       " 'ind_recibo_ult1 ind_nom_pens_ult1 ind_nomina_ult1 ind_cno_fin_ult1 ind_tjcr_fin_ult1 ind_ecue_fin_ult1 ind_reca_fin_ult1',\n",
       " 'ind_recibo_ult1 ind_cno_fin_ult1 ind_nomina_ult1 ind_nom_pens_ult1 ind_reca_fin_ult1 ind_ecue_fin_ult1 ind_valo_fin_ult1',\n",
       " 'ind_recibo_ult1 ind_nom_pens_ult1 ind_nomina_ult1 ind_cno_fin_ult1 ind_tjcr_fin_ult1 ind_ecue_fin_ult1 ind_reca_fin_ult1',\n",
       " 'ind_recibo_ult1 ind_cno_fin_ult1 ind_nomina_ult1 ind_nom_pens_ult1 ind_reca_fin_ult1 ind_ecue_fin_ult1 ind_tjcr_fin_ult1',\n",
       " 'ind_recibo_ult1 ind_cno_fin_ult1 ind_nom_pens_ult1 ind_nomina_ult1 ind_reca_fin_ult1 ind_ecue_fin_ult1 ind_valo_fin_ult1',\n",
       " 'ind_nomina_ult1 ind_nom_pens_ult1 ind_cno_fin_ult1 ind_tjcr_fin_ult1 ind_ecue_fin_ult1 ind_reca_fin_ult1 ind_ctma_fin_ult1',\n",
       " 'ind_recibo_ult1 ind_nom_pens_ult1 ind_nomina_ult1 ind_cno_fin_ult1 ind_tjcr_fin_ult1 ind_reca_fin_ult1 ind_ecue_fin_ult1',\n",
       " 'ind_recibo_ult1 ind_cno_fin_ult1 ind_nomina_ult1 ind_nom_pens_ult1 ind_reca_fin_ult1 ind_ecue_fin_ult1 ind_tjcr_fin_ult1',\n",
       " 'ind_cco_fin_ult1 ind_recibo_ult1 ind_cno_fin_ult1 ind_nom_pens_ult1 ind_nomina_ult1 ind_reca_fin_ult1 ind_ecue_fin_ult1',\n",
       " 'ind_recibo_ult1 ind_cno_fin_ult1 ind_nomina_ult1 ind_reca_fin_ult1 ind_nom_pens_ult1 ind_ecue_fin_ult1 ind_valo_fin_ult1',\n",
       " 'ind_recibo_ult1 ind_nomina_ult1 ind_nom_pens_ult1 ind_cno_fin_ult1 ind_tjcr_fin_ult1 ind_reca_fin_ult1 ind_ecue_fin_ult1',\n",
       " 'ind_tjcr_fin_ult1 ind_nom_pens_ult1 ind_nomina_ult1 ind_cno_fin_ult1 ind_ecue_fin_ult1 ind_reca_fin_ult1 ind_dela_fin_ult1',\n",
       " 'ind_cco_fin_ult1 ind_recibo_ult1 ind_cno_fin_ult1 ind_nomina_ult1 ind_nom_pens_ult1 ind_ecue_fin_ult1 ind_reca_fin_ult1',\n",
       " 'ind_recibo_ult1 ind_cno_fin_ult1 ind_nomina_ult1 ind_nom_pens_ult1 ind_reca_fin_ult1 ind_ecue_fin_ult1 ind_tjcr_fin_ult1',\n",
       " 'ind_recibo_ult1 ind_nom_pens_ult1 ind_nomina_ult1 ind_cno_fin_ult1 ind_ecue_fin_ult1 ind_reca_fin_ult1 ind_tjcr_fin_ult1',\n",
       " 'ind_cco_fin_ult1 ind_recibo_ult1 ind_cno_fin_ult1 ind_nomina_ult1 ind_nom_pens_ult1 ind_reca_fin_ult1 ind_ecue_fin_ult1',\n",
       " 'ind_recibo_ult1 ind_nom_pens_ult1 ind_cno_fin_ult1 ind_ecue_fin_ult1 ind_nomina_ult1 ind_reca_fin_ult1 ind_tjcr_fin_ult1',\n",
       " 'ind_recibo_ult1 ind_cno_fin_ult1 ind_nomina_ult1 ind_nom_pens_ult1 ind_reca_fin_ult1 ind_ecue_fin_ult1 ind_valo_fin_ult1',\n",
       " 'ind_cco_fin_ult1 ind_recibo_ult1 ind_cno_fin_ult1 ind_nomina_ult1 ind_nom_pens_ult1 ind_reca_fin_ult1 ind_ecue_fin_ult1',\n",
       " 'ind_recibo_ult1 ind_cco_fin_ult1 ind_cno_fin_ult1 ind_nomina_ult1 ind_nom_pens_ult1 ind_reca_fin_ult1 ind_ecue_fin_ult1',\n",
       " 'ind_recibo_ult1 ind_cco_fin_ult1 ind_cno_fin_ult1 ind_nomina_ult1 ind_nom_pens_ult1 ind_reca_fin_ult1 ind_ecue_fin_ult1',\n",
       " 'ind_cco_fin_ult1 ind_recibo_ult1 ind_cno_fin_ult1 ind_nomina_ult1 ind_nom_pens_ult1 ind_reca_fin_ult1 ind_ecue_fin_ult1',\n",
       " 'ind_cco_fin_ult1 ind_recibo_ult1 ind_cno_fin_ult1 ind_nomina_ult1 ind_nom_pens_ult1 ind_reca_fin_ult1 ind_ecue_fin_ult1',\n",
       " 'ind_recibo_ult1 ind_cno_fin_ult1 ind_nom_pens_ult1 ind_nomina_ult1 ind_reca_fin_ult1 ind_ecue_fin_ult1 ind_valo_fin_ult1',\n",
       " 'ind_cco_fin_ult1 ind_recibo_ult1 ind_cno_fin_ult1 ind_nomina_ult1 ind_nom_pens_ult1 ind_reca_fin_ult1 ind_ecue_fin_ult1',\n",
       " 'ind_recibo_ult1 ind_nom_pens_ult1 ind_nomina_ult1 ind_cno_fin_ult1 ind_tjcr_fin_ult1 ind_ecue_fin_ult1 ind_reca_fin_ult1',\n",
       " 'ind_recibo_ult1 ind_cno_fin_ult1 ind_nomina_ult1 ind_nom_pens_ult1 ind_reca_fin_ult1 ind_ecue_fin_ult1 ind_valo_fin_ult1',\n",
       " 'ind_recibo_ult1 ind_nom_pens_ult1 ind_nomina_ult1 ind_cco_fin_ult1 ind_tjcr_fin_ult1 ind_ecue_fin_ult1 ind_reca_fin_ult1',\n",
       " 'ind_recibo_ult1 ind_cco_fin_ult1 ind_nomina_ult1 ind_tjcr_fin_ult1 ind_reca_fin_ult1 ind_ecue_fin_ult1 ind_valo_fin_ult1',\n",
       " 'ind_nom_pens_ult1 ind_nomina_ult1 ind_cno_fin_ult1 ind_tjcr_fin_ult1 ind_reca_fin_ult1 ind_ecue_fin_ult1 ind_valo_fin_ult1',\n",
       " 'ind_cco_fin_ult1 ind_recibo_ult1 ind_cno_fin_ult1 ind_nom_pens_ult1 ind_nomina_ult1 ind_reca_fin_ult1 ind_ecue_fin_ult1',\n",
       " 'ind_recibo_ult1 ind_cno_fin_ult1 ind_nom_pens_ult1 ind_nomina_ult1 ind_reca_fin_ult1 ind_ecue_fin_ult1 ind_dela_fin_ult1',\n",
       " 'ind_recibo_ult1 ind_cno_fin_ult1 ind_nomina_ult1 ind_nom_pens_ult1 ind_reca_fin_ult1 ind_ecue_fin_ult1 ind_valo_fin_ult1',\n",
       " 'ind_recibo_ult1 ind_cno_fin_ult1 ind_nomina_ult1 ind_reca_fin_ult1 ind_nom_pens_ult1 ind_ecue_fin_ult1 ind_valo_fin_ult1',\n",
       " 'ind_recibo_ult1 ind_cno_fin_ult1 ind_nom_pens_ult1 ind_nomina_ult1 ind_ecue_fin_ult1 ind_reca_fin_ult1 ind_tjcr_fin_ult1',\n",
       " 'ind_recibo_ult1 ind_cco_fin_ult1 ind_cno_fin_ult1 ind_nomina_ult1 ind_nom_pens_ult1 ind_reca_fin_ult1 ind_ecue_fin_ult1',\n",
       " 'ind_recibo_ult1 ind_cno_fin_ult1 ind_nomina_ult1 ind_nom_pens_ult1 ind_reca_fin_ult1 ind_ecue_fin_ult1 ind_tjcr_fin_ult1',\n",
       " 'ind_recibo_ult1 ind_cno_fin_ult1 ind_nom_pens_ult1 ind_nomina_ult1 ind_ecue_fin_ult1 ind_reca_fin_ult1 ind_tjcr_fin_ult1',\n",
       " 'ind_recibo_ult1 ind_cno_fin_ult1 ind_nomina_ult1 ind_nom_pens_ult1 ind_reca_fin_ult1 ind_ecue_fin_ult1 ind_valo_fin_ult1',\n",
       " 'ind_recibo_ult1 ind_cno_fin_ult1 ind_nom_pens_ult1 ind_nomina_ult1 ind_reca_fin_ult1 ind_ecue_fin_ult1 ind_tjcr_fin_ult1',\n",
       " 'ind_recibo_ult1 ind_cno_fin_ult1 ind_nomina_ult1 ind_nom_pens_ult1 ind_reca_fin_ult1 ind_ecue_fin_ult1 ind_tjcr_fin_ult1',\n",
       " 'ind_recibo_ult1 ind_cno_fin_ult1 ind_nomina_ult1 ind_nom_pens_ult1 ind_ecue_fin_ult1 ind_reca_fin_ult1 ind_tjcr_fin_ult1',\n",
       " 'ind_recibo_ult1 ind_nom_pens_ult1 ind_nomina_ult1 ind_cno_fin_ult1 ind_tjcr_fin_ult1 ind_ecue_fin_ult1 ind_reca_fin_ult1',\n",
       " 'ind_recibo_ult1 ind_cno_fin_ult1 ind_nom_pens_ult1 ind_nomina_ult1 ind_reca_fin_ult1 ind_ecue_fin_ult1 ind_dela_fin_ult1',\n",
       " 'ind_recibo_ult1 ind_cno_fin_ult1 ind_nom_pens_ult1 ind_nomina_ult1 ind_ecue_fin_ult1 ind_reca_fin_ult1 ind_tjcr_fin_ult1',\n",
       " 'ind_cco_fin_ult1 ind_recibo_ult1 ind_cno_fin_ult1 ind_nomina_ult1 ind_nom_pens_ult1 ind_reca_fin_ult1 ind_ecue_fin_ult1',\n",
       " 'ind_recibo_ult1 ind_nom_pens_ult1 ind_nomina_ult1 ind_cno_fin_ult1 ind_ecue_fin_ult1 ind_reca_fin_ult1 ind_tjcr_fin_ult1',\n",
       " 'ind_recibo_ult1 ind_nom_pens_ult1 ind_nomina_ult1 ind_cno_fin_ult1 ind_ecue_fin_ult1 ind_reca_fin_ult1 ind_tjcr_fin_ult1',\n",
       " 'ind_cco_fin_ult1 ind_recibo_ult1 ind_cno_fin_ult1 ind_nomina_ult1 ind_nom_pens_ult1 ind_reca_fin_ult1 ind_ecue_fin_ult1',\n",
       " 'ind_recibo_ult1 ind_cco_fin_ult1 ind_cno_fin_ult1 ind_nomina_ult1 ind_nom_pens_ult1 ind_reca_fin_ult1 ind_ecue_fin_ult1',\n",
       " 'ind_recibo_ult1 ind_cno_fin_ult1 ind_nomina_ult1 ind_nom_pens_ult1 ind_reca_fin_ult1 ind_ecue_fin_ult1 ind_tjcr_fin_ult1',\n",
       " 'ind_cco_fin_ult1 ind_recibo_ult1 ind_cno_fin_ult1 ind_nom_pens_ult1 ind_nomina_ult1 ind_reca_fin_ult1 ind_ecue_fin_ult1',\n",
       " 'ind_recibo_ult1 ind_cno_fin_ult1 ind_nomina_ult1 ind_nom_pens_ult1 ind_reca_fin_ult1 ind_ecue_fin_ult1 ind_valo_fin_ult1',\n",
       " 'ind_recibo_ult1 ind_cno_fin_ult1 ind_nom_pens_ult1 ind_nomina_ult1 ind_ecue_fin_ult1 ind_reca_fin_ult1 ind_dela_fin_ult1',\n",
       " 'ind_recibo_ult1 ind_cco_fin_ult1 ind_cno_fin_ult1 ind_nom_pens_ult1 ind_nomina_ult1 ind_reca_fin_ult1 ind_ecue_fin_ult1',\n",
       " 'ind_recibo_ult1 ind_cno_fin_ult1 ind_nomina_ult1 ind_nom_pens_ult1 ind_reca_fin_ult1 ind_ecue_fin_ult1 ind_valo_fin_ult1',\n",
       " 'ind_recibo_ult1 ind_nom_pens_ult1 ind_nomina_ult1 ind_cno_fin_ult1 ind_tjcr_fin_ult1 ind_ecue_fin_ult1 ind_reca_fin_ult1',\n",
       " 'ind_recibo_ult1 ind_cno_fin_ult1 ind_nom_pens_ult1 ind_nomina_ult1 ind_reca_fin_ult1 ind_ecue_fin_ult1 ind_dela_fin_ult1',\n",
       " 'ind_cco_fin_ult1 ind_recibo_ult1 ind_cno_fin_ult1 ind_nomina_ult1 ind_nom_pens_ult1 ind_reca_fin_ult1 ind_ecue_fin_ult1',\n",
       " 'ind_recibo_ult1 ind_cco_fin_ult1 ind_cno_fin_ult1 ind_nomina_ult1 ind_nom_pens_ult1 ind_reca_fin_ult1 ind_ecue_fin_ult1',\n",
       " 'ind_recibo_ult1 ind_nom_pens_ult1 ind_nomina_ult1 ind_cno_fin_ult1 ind_ecue_fin_ult1 ind_tjcr_fin_ult1 ind_reca_fin_ult1',\n",
       " 'ind_recibo_ult1 ind_cno_fin_ult1 ind_nomina_ult1 ind_nom_pens_ult1 ind_ecue_fin_ult1 ind_reca_fin_ult1 ind_tjcr_fin_ult1',\n",
       " 'ind_recibo_ult1 ind_nom_pens_ult1 ind_nomina_ult1 ind_cno_fin_ult1 ind_reca_fin_ult1 ind_ecue_fin_ult1 ind_valo_fin_ult1',\n",
       " 'ind_cco_fin_ult1 ind_recibo_ult1 ind_cno_fin_ult1 ind_nom_pens_ult1 ind_nomina_ult1 ind_reca_fin_ult1 ind_ecue_fin_ult1',\n",
       " 'ind_recibo_ult1 ind_cno_fin_ult1 ind_nom_pens_ult1 ind_nomina_ult1 ind_reca_fin_ult1 ind_ecue_fin_ult1 ind_valo_fin_ult1',\n",
       " 'ind_recibo_ult1 ind_nom_pens_ult1 ind_nomina_ult1 ind_cno_fin_ult1 ind_tjcr_fin_ult1 ind_ecue_fin_ult1 ind_reca_fin_ult1',\n",
       " 'ind_recibo_ult1 ind_nomina_ult1 ind_cno_fin_ult1 ind_nom_pens_ult1 ind_reca_fin_ult1 ind_ecue_fin_ult1 ind_tjcr_fin_ult1',\n",
       " 'ind_recibo_ult1 ind_nom_pens_ult1 ind_nomina_ult1 ind_tjcr_fin_ult1 ind_cno_fin_ult1 ind_ecue_fin_ult1 ind_reca_fin_ult1',\n",
       " 'ind_recibo_ult1 ind_nom_pens_ult1 ind_nomina_ult1 ind_tjcr_fin_ult1 ind_cno_fin_ult1 ind_ecue_fin_ult1 ind_reca_fin_ult1',\n",
       " 'ind_nom_pens_ult1 ind_tjcr_fin_ult1 ind_cno_fin_ult1 ind_nomina_ult1 ind_ecue_fin_ult1 ind_reca_fin_ult1 ind_dela_fin_ult1',\n",
       " 'ind_recibo_ult1 ind_nom_pens_ult1 ind_nomina_ult1 ind_cno_fin_ult1 ind_tjcr_fin_ult1 ind_ecue_fin_ult1 ind_reca_fin_ult1',\n",
       " 'ind_recibo_ult1 ind_cno_fin_ult1 ind_nomina_ult1 ind_nom_pens_ult1 ind_reca_fin_ult1 ind_ecue_fin_ult1 ind_valo_fin_ult1',\n",
       " 'ind_recibo_ult1 ind_cno_fin_ult1 ind_nomina_ult1 ind_nom_pens_ult1 ind_reca_fin_ult1 ind_ecue_fin_ult1 ind_tjcr_fin_ult1',\n",
       " 'ind_recibo_ult1 ind_nom_pens_ult1 ind_nomina_ult1 ind_cno_fin_ult1 ind_tjcr_fin_ult1 ind_ecue_fin_ult1 ind_reca_fin_ult1',\n",
       " 'ind_recibo_ult1 ind_cno_fin_ult1 ind_nomina_ult1 ind_nom_pens_ult1 ind_reca_fin_ult1 ind_ecue_fin_ult1 ind_valo_fin_ult1',\n",
       " 'ind_recibo_ult1 ind_cno_fin_ult1 ind_nomina_ult1 ind_nom_pens_ult1 ind_reca_fin_ult1 ind_ecue_fin_ult1 ind_valo_fin_ult1',\n",
       " 'ind_recibo_ult1 ind_cno_fin_ult1 ind_nomina_ult1 ind_nom_pens_ult1 ind_reca_fin_ult1 ind_ecue_fin_ult1 ind_tjcr_fin_ult1',\n",
       " 'ind_recibo_ult1 ind_nom_pens_ult1 ind_nomina_ult1 ind_cco_fin_ult1 ind_tjcr_fin_ult1 ind_ecue_fin_ult1 ind_reca_fin_ult1',\n",
       " 'ind_recibo_ult1 ind_cno_fin_ult1 ind_nom_pens_ult1 ind_nomina_ult1 ind_reca_fin_ult1 ind_ecue_fin_ult1 ind_dela_fin_ult1',\n",
       " 'ind_cco_fin_ult1 ind_recibo_ult1 ind_cno_fin_ult1 ind_nomina_ult1 ind_nom_pens_ult1 ind_reca_fin_ult1 ind_ecue_fin_ult1',\n",
       " 'ind_recibo_ult1 ind_nom_pens_ult1 ind_nomina_ult1 ind_cno_fin_ult1 ind_tjcr_fin_ult1 ind_ecue_fin_ult1 ind_reca_fin_ult1',\n",
       " 'ind_nom_pens_ult1 ind_nomina_ult1 ind_tjcr_fin_ult1 ind_cno_fin_ult1 ind_ecue_fin_ult1 ind_reca_fin_ult1 ind_dela_fin_ult1',\n",
       " 'ind_recibo_ult1 ind_nomina_ult1 ind_nom_pens_ult1 ind_cno_fin_ult1 ind_reca_fin_ult1 ind_ecue_fin_ult1 ind_tjcr_fin_ult1',\n",
       " 'ind_nom_pens_ult1 ind_nomina_ult1 ind_cno_fin_ult1 ind_tjcr_fin_ult1 ind_reca_fin_ult1 ind_ecue_fin_ult1 ind_ctma_fin_ult1',\n",
       " 'ind_recibo_ult1 ind_nom_pens_ult1 ind_nomina_ult1 ind_cno_fin_ult1 ind_tjcr_fin_ult1 ind_ecue_fin_ult1 ind_fond_fin_ult1',\n",
       " 'ind_recibo_ult1 ind_cno_fin_ult1 ind_nom_pens_ult1 ind_nomina_ult1 ind_reca_fin_ult1 ind_ecue_fin_ult1 ind_dela_fin_ult1',\n",
       " 'ind_recibo_ult1 ind_cno_fin_ult1 ind_nom_pens_ult1 ind_nomina_ult1 ind_reca_fin_ult1 ind_ecue_fin_ult1 ind_dela_fin_ult1',\n",
       " 'ind_nom_pens_ult1 ind_nomina_ult1 ind_cno_fin_ult1 ind_ecue_fin_ult1 ind_reca_fin_ult1 ind_dela_fin_ult1 ind_ctma_fin_ult1',\n",
       " 'ind_recibo_ult1 ind_nom_pens_ult1 ind_nomina_ult1 ind_tjcr_fin_ult1 ind_cco_fin_ult1 ind_ecue_fin_ult1 ind_reca_fin_ult1',\n",
       " 'ind_recibo_ult1 ind_cno_fin_ult1 ind_nomina_ult1 ind_nom_pens_ult1 ind_reca_fin_ult1 ind_ecue_fin_ult1 ind_valo_fin_ult1',\n",
       " 'ind_recibo_ult1 ind_nom_pens_ult1 ind_nomina_ult1 ind_cno_fin_ult1 ind_tjcr_fin_ult1 ind_reca_fin_ult1 ind_ecue_fin_ult1',\n",
       " 'ind_recibo_ult1 ind_cno_fin_ult1 ind_nomina_ult1 ind_nom_pens_ult1 ind_reca_fin_ult1 ind_ecue_fin_ult1 ind_tjcr_fin_ult1',\n",
       " 'ind_recibo_ult1 ind_cno_fin_ult1 ind_nomina_ult1 ind_nom_pens_ult1 ind_reca_fin_ult1 ind_ecue_fin_ult1 ind_valo_fin_ult1',\n",
       " 'ind_recibo_ult1 ind_cno_fin_ult1 ind_nomina_ult1 ind_nom_pens_ult1 ind_reca_fin_ult1 ind_ecue_fin_ult1 ind_valo_fin_ult1',\n",
       " 'ind_recibo_ult1 ind_nom_pens_ult1 ind_nomina_ult1 ind_cno_fin_ult1 ind_cco_fin_ult1 ind_tjcr_fin_ult1 ind_reca_fin_ult1',\n",
       " 'ind_recibo_ult1 ind_cno_fin_ult1 ind_nomina_ult1 ind_nom_pens_ult1 ind_reca_fin_ult1 ind_ecue_fin_ult1 ind_tjcr_fin_ult1',\n",
       " 'ind_recibo_ult1 ind_cno_fin_ult1 ind_nomina_ult1 ind_nom_pens_ult1 ind_reca_fin_ult1 ind_ecue_fin_ult1 ind_valo_fin_ult1',\n",
       " 'ind_recibo_ult1 ind_cno_fin_ult1 ind_nom_pens_ult1 ind_ecue_fin_ult1 ind_nomina_ult1 ind_reca_fin_ult1 ind_tjcr_fin_ult1',\n",
       " 'ind_recibo_ult1 ind_nom_pens_ult1 ind_nomina_ult1 ind_cno_fin_ult1 ind_tjcr_fin_ult1 ind_ecue_fin_ult1 ind_reca_fin_ult1',\n",
       " 'ind_recibo_ult1 ind_nom_pens_ult1 ind_nomina_ult1 ind_cno_fin_ult1 ind_tjcr_fin_ult1 ind_reca_fin_ult1 ind_ecue_fin_ult1',\n",
       " 'ind_recibo_ult1 ind_nomina_ult1 ind_nom_pens_ult1 ind_cno_fin_ult1 ind_tjcr_fin_ult1 ind_reca_fin_ult1 ind_ecue_fin_ult1',\n",
       " 'ind_recibo_ult1 ind_cno_fin_ult1 ind_nomina_ult1 ind_nom_pens_ult1 ind_reca_fin_ult1 ind_ecue_fin_ult1 ind_tjcr_fin_ult1',\n",
       " 'ind_recibo_ult1 ind_cno_fin_ult1 ind_nomina_ult1 ind_nom_pens_ult1 ind_reca_fin_ult1 ind_ecue_fin_ult1 ind_valo_fin_ult1',\n",
       " 'ind_recibo_ult1 ind_nomina_ult1 ind_nom_pens_ult1 ind_cno_fin_ult1 ind_tjcr_fin_ult1 ind_ecue_fin_ult1 ind_reca_fin_ult1',\n",
       " 'ind_recibo_ult1 ind_cno_fin_ult1 ind_nomina_ult1 ind_nom_pens_ult1 ind_reca_fin_ult1 ind_ecue_fin_ult1 ind_valo_fin_ult1',\n",
       " 'ind_recibo_ult1 ind_cno_fin_ult1 ind_nomina_ult1 ind_nom_pens_ult1 ind_reca_fin_ult1 ind_ecue_fin_ult1 ind_tjcr_fin_ult1',\n",
       " 'ind_nom_pens_ult1 ind_nomina_ult1 ind_tjcr_fin_ult1 ind_cno_fin_ult1 ind_ecue_fin_ult1 ind_reca_fin_ult1 ind_dela_fin_ult1',\n",
       " 'ind_recibo_ult1 ind_cno_fin_ult1 ind_nomina_ult1 ind_nom_pens_ult1 ind_reca_fin_ult1 ind_ecue_fin_ult1 ind_tjcr_fin_ult1',\n",
       " 'ind_cco_fin_ult1 ind_recibo_ult1 ind_cno_fin_ult1 ind_nom_pens_ult1 ind_nomina_ult1 ind_ecue_fin_ult1 ind_reca_fin_ult1',\n",
       " 'ind_recibo_ult1 ind_cno_fin_ult1 ind_nomina_ult1 ind_nom_pens_ult1 ind_reca_fin_ult1 ind_ecue_fin_ult1 ind_valo_fin_ult1',\n",
       " 'ind_cco_fin_ult1 ind_recibo_ult1 ind_cno_fin_ult1 ind_nomina_ult1 ind_nom_pens_ult1 ind_reca_fin_ult1 ind_ecue_fin_ult1',\n",
       " 'ind_recibo_ult1 ind_nomina_ult1 ind_nom_pens_ult1 ind_cno_fin_ult1 ind_tjcr_fin_ult1 ind_reca_fin_ult1 ind_ecue_fin_ult1',\n",
       " 'ind_recibo_ult1 ind_cno_fin_ult1 ind_nom_pens_ult1 ind_nomina_ult1 ind_reca_fin_ult1 ind_ecue_fin_ult1 ind_dela_fin_ult1',\n",
       " 'ind_cco_fin_ult1 ind_recibo_ult1 ind_cno_fin_ult1 ind_ecue_fin_ult1 ind_nom_pens_ult1 ind_nomina_ult1 ind_reca_fin_ult1',\n",
       " 'ind_recibo_ult1 ind_cno_fin_ult1 ind_nom_pens_ult1 ind_nomina_ult1 ind_reca_fin_ult1 ind_ecue_fin_ult1 ind_valo_fin_ult1',\n",
       " 'ind_recibo_ult1 ind_cno_fin_ult1 ind_nomina_ult1 ind_nom_pens_ult1 ind_reca_fin_ult1 ind_ecue_fin_ult1 ind_tjcr_fin_ult1',\n",
       " 'ind_recibo_ult1 ind_nom_pens_ult1 ind_nomina_ult1 ind_cno_fin_ult1 ind_tjcr_fin_ult1 ind_ecue_fin_ult1 ind_reca_fin_ult1',\n",
       " 'ind_recibo_ult1 ind_nom_pens_ult1 ind_nomina_ult1 ind_cno_fin_ult1 ind_tjcr_fin_ult1 ind_ecue_fin_ult1 ind_reca_fin_ult1',\n",
       " 'ind_recibo_ult1 ind_cno_fin_ult1 ind_nom_pens_ult1 ind_nomina_ult1 ind_reca_fin_ult1 ind_ecue_fin_ult1 ind_dela_fin_ult1',\n",
       " 'ind_recibo_ult1 ind_cno_fin_ult1 ind_nomina_ult1 ind_nom_pens_ult1 ind_reca_fin_ult1 ind_ecue_fin_ult1 ind_valo_fin_ult1',\n",
       " 'ind_cno_fin_ult1 ind_nom_pens_ult1 ind_nomina_ult1 ind_ctma_fin_ult1 ind_ecue_fin_ult1 ind_reca_fin_ult1 ind_tjcr_fin_ult1',\n",
       " 'ind_recibo_ult1 ind_nom_pens_ult1 ind_nomina_ult1 ind_cno_fin_ult1 ind_tjcr_fin_ult1 ind_ecue_fin_ult1 ind_reca_fin_ult1',\n",
       " 'ind_cco_fin_ult1 ind_tjcr_fin_ult1 ind_reca_fin_ult1 ind_dela_fin_ult1 ind_ctma_fin_ult1 ind_valo_fin_ult1 ind_fond_fin_ult1',\n",
       " 'ind_recibo_ult1 ind_nom_pens_ult1 ind_nomina_ult1 ind_cno_fin_ult1 ind_ecue_fin_ult1 ind_reca_fin_ult1 ind_tjcr_fin_ult1',\n",
       " 'ind_recibo_ult1 ind_nom_pens_ult1 ind_nomina_ult1 ind_cno_fin_ult1 ind_tjcr_fin_ult1 ind_ecue_fin_ult1 ind_reca_fin_ult1',\n",
       " 'ind_recibo_ult1 ind_cno_fin_ult1 ind_nom_pens_ult1 ind_nomina_ult1 ind_reca_fin_ult1 ind_ecue_fin_ult1 ind_dela_fin_ult1',\n",
       " 'ind_recibo_ult1 ind_cno_fin_ult1 ind_nom_pens_ult1 ind_nomina_ult1 ind_reca_fin_ult1 ind_ecue_fin_ult1 ind_tjcr_fin_ult1',\n",
       " 'ind_cco_fin_ult1 ind_recibo_ult1 ind_cno_fin_ult1 ind_nomina_ult1 ind_nom_pens_ult1 ind_ecue_fin_ult1 ind_reca_fin_ult1',\n",
       " 'ind_recibo_ult1 ind_cno_fin_ult1 ind_nomina_ult1 ind_nom_pens_ult1 ind_reca_fin_ult1 ind_ecue_fin_ult1 ind_tjcr_fin_ult1',\n",
       " 'ind_recibo_ult1 ind_cno_fin_ult1 ind_nom_pens_ult1 ind_nomina_ult1 ind_reca_fin_ult1 ind_ecue_fin_ult1 ind_tjcr_fin_ult1',\n",
       " 'ind_recibo_ult1 ind_cno_fin_ult1 ind_nom_pens_ult1 ind_nomina_ult1 ind_reca_fin_ult1 ind_ecue_fin_ult1 ind_dela_fin_ult1',\n",
       " 'ind_recibo_ult1 ind_cno_fin_ult1 ind_nom_pens_ult1 ind_nomina_ult1 ind_reca_fin_ult1 ind_ecue_fin_ult1 ind_tjcr_fin_ult1',\n",
       " 'ind_recibo_ult1 ind_cno_fin_ult1 ind_nom_pens_ult1 ind_nomina_ult1 ind_reca_fin_ult1 ind_ecue_fin_ult1 ind_valo_fin_ult1',\n",
       " 'ind_recibo_ult1 ind_nom_pens_ult1 ind_cno_fin_ult1 ind_nomina_ult1 ind_tjcr_fin_ult1 ind_ecue_fin_ult1 ind_reca_fin_ult1',\n",
       " 'ind_recibo_ult1 ind_cno_fin_ult1 ind_nom_pens_ult1 ind_nomina_ult1 ind_reca_fin_ult1 ind_ecue_fin_ult1 ind_tjcr_fin_ult1',\n",
       " 'ind_recibo_ult1 ind_cno_fin_ult1 ind_nom_pens_ult1 ind_nomina_ult1 ind_reca_fin_ult1 ind_ecue_fin_ult1 ind_tjcr_fin_ult1',\n",
       " 'ind_recibo_ult1 ind_cno_fin_ult1 ind_nom_pens_ult1 ind_nomina_ult1 ind_ecue_fin_ult1 ind_reca_fin_ult1 ind_tjcr_fin_ult1',\n",
       " 'ind_nom_pens_ult1 ind_nomina_ult1 ind_cno_fin_ult1 ind_tjcr_fin_ult1 ind_ecue_fin_ult1 ind_reca_fin_ult1 ind_dela_fin_ult1',\n",
       " 'ind_nom_pens_ult1 ind_cco_fin_ult1 ind_recibo_ult1 ind_cno_fin_ult1 ind_nomina_ult1 ind_ecue_fin_ult1 ind_tjcr_fin_ult1',\n",
       " 'ind_recibo_ult1 ind_cno_fin_ult1 ind_nomina_ult1 ind_nom_pens_ult1 ind_ecue_fin_ult1 ind_reca_fin_ult1 ind_tjcr_fin_ult1',\n",
       " 'ind_cco_fin_ult1 ind_recibo_ult1 ind_cno_fin_ult1 ind_nomina_ult1 ind_nom_pens_ult1 ind_reca_fin_ult1 ind_ecue_fin_ult1',\n",
       " 'ind_recibo_ult1 ind_nomina_ult1 ind_nom_pens_ult1 ind_cno_fin_ult1 ind_tjcr_fin_ult1 ind_ecue_fin_ult1 ind_reca_fin_ult1',\n",
       " 'ind_recibo_ult1 ind_cno_fin_ult1 ind_nomina_ult1 ind_nom_pens_ult1 ind_reca_fin_ult1 ind_ecue_fin_ult1 ind_tjcr_fin_ult1',\n",
       " 'ind_recibo_ult1 ind_nom_pens_ult1 ind_nomina_ult1 ind_cno_fin_ult1 ind_tjcr_fin_ult1 ind_ecue_fin_ult1 ind_reca_fin_ult1',\n",
       " 'ind_recibo_ult1 ind_cno_fin_ult1 ind_nomina_ult1 ind_nom_pens_ult1 ind_reca_fin_ult1 ind_ecue_fin_ult1 ind_tjcr_fin_ult1',\n",
       " 'ind_recibo_ult1 ind_nom_pens_ult1 ind_nomina_ult1 ind_cno_fin_ult1 ind_tjcr_fin_ult1 ind_ecue_fin_ult1 ind_reca_fin_ult1',\n",
       " 'ind_recibo_ult1 ind_cno_fin_ult1 ind_nom_pens_ult1 ind_nomina_ult1 ind_reca_fin_ult1 ind_ecue_fin_ult1 ind_valo_fin_ult1',\n",
       " 'ind_recibo_ult1 ind_nom_pens_ult1 ind_nomina_ult1 ind_tjcr_fin_ult1 ind_cno_fin_ult1 ind_ecue_fin_ult1 ind_dela_fin_ult1',\n",
       " 'ind_recibo_ult1 ind_nom_pens_ult1 ind_nomina_ult1 ind_cno_fin_ult1 ind_tjcr_fin_ult1 ind_reca_fin_ult1 ind_valo_fin_ult1',\n",
       " 'ind_cco_fin_ult1 ind_recibo_ult1 ind_cno_fin_ult1 ind_nomina_ult1 ind_nom_pens_ult1 ind_ecue_fin_ult1 ind_reca_fin_ult1',\n",
       " 'ind_cco_fin_ult1 ind_recibo_ult1 ind_cno_fin_ult1 ind_nomina_ult1 ind_nom_pens_ult1 ind_reca_fin_ult1 ind_ecue_fin_ult1',\n",
       " 'ind_recibo_ult1 ind_cno_fin_ult1 ind_nomina_ult1 ind_nom_pens_ult1 ind_reca_fin_ult1 ind_ecue_fin_ult1 ind_valo_fin_ult1',\n",
       " 'ind_cco_fin_ult1 ind_recibo_ult1 ind_cno_fin_ult1 ind_nomina_ult1 ind_nom_pens_ult1 ind_ecue_fin_ult1 ind_reca_fin_ult1',\n",
       " 'ind_recibo_ult1 ind_cno_fin_ult1 ind_nomina_ult1 ind_nom_pens_ult1 ind_reca_fin_ult1 ind_ecue_fin_ult1 ind_valo_fin_ult1',\n",
       " 'ind_recibo_ult1 ind_nomina_ult1 ind_nom_pens_ult1 ind_cno_fin_ult1 ind_reca_fin_ult1 ind_ecue_fin_ult1 ind_valo_fin_ult1',\n",
       " 'ind_recibo_ult1 ind_cno_fin_ult1 ind_nomina_ult1 ind_nom_pens_ult1 ind_reca_fin_ult1 ind_ecue_fin_ult1 ind_tjcr_fin_ult1',\n",
       " 'ind_nom_pens_ult1 ind_nomina_ult1 ind_tjcr_fin_ult1 ind_cno_fin_ult1 ind_ecue_fin_ult1 ind_reca_fin_ult1 ind_valo_fin_ult1',\n",
       " 'ind_recibo_ult1 ind_cno_fin_ult1 ind_nomina_ult1 ind_nom_pens_ult1 ind_reca_fin_ult1 ind_ecue_fin_ult1 ind_tjcr_fin_ult1',\n",
       " 'ind_recibo_ult1 ind_cno_fin_ult1 ind_nomina_ult1 ind_nom_pens_ult1 ind_reca_fin_ult1 ind_ecue_fin_ult1 ind_tjcr_fin_ult1',\n",
       " 'ind_recibo_ult1 ind_cno_fin_ult1 ind_nomina_ult1 ind_nom_pens_ult1 ind_reca_fin_ult1 ind_ecue_fin_ult1 ind_tjcr_fin_ult1',\n",
       " 'ind_recibo_ult1 ind_nom_pens_ult1 ind_tjcr_fin_ult1 ind_nomina_ult1 ind_cno_fin_ult1 ind_ecue_fin_ult1 ind_fond_fin_ult1',\n",
       " 'ind_nom_pens_ult1 ind_tjcr_fin_ult1 ind_nomina_ult1 ind_cco_fin_ult1 ind_ecue_fin_ult1 ind_dela_fin_ult1 ind_valo_fin_ult1',\n",
       " 'ind_recibo_ult1 ind_nom_pens_ult1 ind_nomina_ult1 ind_tjcr_fin_ult1 ind_cno_fin_ult1 ind_ecue_fin_ult1 ind_reca_fin_ult1',\n",
       " 'ind_nom_pens_ult1 ind_nomina_ult1 ind_tjcr_fin_ult1 ind_cno_fin_ult1 ind_ecue_fin_ult1 ind_reca_fin_ult1 ind_dela_fin_ult1',\n",
       " 'ind_cco_fin_ult1 ind_reca_fin_ult1 ind_dela_fin_ult1 ind_valo_fin_ult1 ind_fond_fin_ult1 ind_ctma_fin_ult1 ind_plan_fin_ult1',\n",
       " 'ind_recibo_ult1 ind_nom_pens_ult1 ind_nomina_ult1 ind_cno_fin_ult1 ind_tjcr_fin_ult1 ind_ecue_fin_ult1 ind_reca_fin_ult1',\n",
       " 'ind_recibo_ult1 ind_nom_pens_ult1 ind_cno_fin_ult1 ind_nomina_ult1 ind_reca_fin_ult1 ind_tjcr_fin_ult1 ind_dela_fin_ult1',\n",
       " 'ind_recibo_ult1 ind_cno_fin_ult1 ind_nom_pens_ult1 ind_nomina_ult1 ind_ecue_fin_ult1 ind_reca_fin_ult1 ind_tjcr_fin_ult1',\n",
       " 'ind_recibo_ult1 ind_cno_fin_ult1 ind_nom_pens_ult1 ind_ecue_fin_ult1 ind_nomina_ult1 ind_reca_fin_ult1 ind_tjcr_fin_ult1',\n",
       " 'ind_recibo_ult1 ind_nom_pens_ult1 ind_nomina_ult1 ind_cno_fin_ult1 ind_tjcr_fin_ult1 ind_ecue_fin_ult1 ind_reca_fin_ult1',\n",
       " 'ind_cco_fin_ult1 ind_recibo_ult1 ind_cno_fin_ult1 ind_nom_pens_ult1 ind_nomina_ult1 ind_ecue_fin_ult1 ind_reca_fin_ult1',\n",
       " 'ind_cco_fin_ult1 ind_reca_fin_ult1 ind_dela_fin_ult1 ind_fond_fin_ult1 ind_ctma_fin_ult1 ind_valo_fin_ult1 ind_deme_fin_ult1',\n",
       " 'ind_nom_pens_ult1 ind_nomina_ult1 ind_tjcr_fin_ult1 ind_cno_fin_ult1 ind_ecue_fin_ult1 ind_reca_fin_ult1 ind_dela_fin_ult1',\n",
       " 'ind_recibo_ult1 ind_tjcr_fin_ult1 ind_nom_pens_ult1 ind_nomina_ult1 ind_cno_fin_ult1 ind_dela_fin_ult1 ind_reca_fin_ult1',\n",
       " 'ind_cco_fin_ult1 ind_recibo_ult1 ind_cno_fin_ult1 ind_nom_pens_ult1 ind_nomina_ult1 ind_ecue_fin_ult1 ind_reca_fin_ult1',\n",
       " 'ind_recibo_ult1 ind_nom_pens_ult1 ind_tjcr_fin_ult1 ind_nomina_ult1 ind_cno_fin_ult1 ind_ecue_fin_ult1 ind_dela_fin_ult1',\n",
       " 'ind_cco_fin_ult1 ind_recibo_ult1 ind_cno_fin_ult1 ind_nom_pens_ult1 ind_nomina_ult1 ind_reca_fin_ult1 ind_ecue_fin_ult1',\n",
       " 'ind_recibo_ult1 ind_nom_pens_ult1 ind_nomina_ult1 ind_cno_fin_ult1 ind_tjcr_fin_ult1 ind_reca_fin_ult1 ind_ecue_fin_ult1',\n",
       " 'ind_recibo_ult1 ind_cno_fin_ult1 ind_nom_pens_ult1 ind_nomina_ult1 ind_reca_fin_ult1 ind_ecue_fin_ult1 ind_dela_fin_ult1',\n",
       " 'ind_recibo_ult1 ind_cno_fin_ult1 ind_nomina_ult1 ind_nom_pens_ult1 ind_reca_fin_ult1 ind_ecue_fin_ult1 ind_tjcr_fin_ult1',\n",
       " 'ind_recibo_ult1 ind_nom_pens_ult1 ind_cno_fin_ult1 ind_nomina_ult1 ind_reca_fin_ult1 ind_ecue_fin_ult1 ind_dela_fin_ult1',\n",
       " 'ind_recibo_ult1 ind_cno_fin_ult1 ind_nomina_ult1 ind_nom_pens_ult1 ind_reca_fin_ult1 ind_ecue_fin_ult1 ind_valo_fin_ult1',\n",
       " 'ind_recibo_ult1 ind_nom_pens_ult1 ind_nomina_ult1 ind_cno_fin_ult1 ind_tjcr_fin_ult1 ind_ecue_fin_ult1 ind_reca_fin_ult1',\n",
       " 'ind_cco_fin_ult1 ind_recibo_ult1 ind_cno_fin_ult1 ind_nomina_ult1 ind_nom_pens_ult1 ind_reca_fin_ult1 ind_ecue_fin_ult1',\n",
       " 'ind_recibo_ult1 ind_cno_fin_ult1 ind_nomina_ult1 ind_nom_pens_ult1 ind_reca_fin_ult1 ind_ecue_fin_ult1 ind_valo_fin_ult1',\n",
       " 'ind_recibo_ult1 ind_nomina_ult1 ind_nom_pens_ult1 ind_cno_fin_ult1 ind_tjcr_fin_ult1 ind_ecue_fin_ult1 ind_reca_fin_ult1',\n",
       " 'ind_recibo_ult1 ind_nomina_ult1 ind_cno_fin_ult1 ind_nom_pens_ult1 ind_reca_fin_ult1 ind_ecue_fin_ult1 ind_tjcr_fin_ult1',\n",
       " 'ind_recibo_ult1 ind_nom_pens_ult1 ind_nomina_ult1 ind_cno_fin_ult1 ind_tjcr_fin_ult1 ind_ecue_fin_ult1 ind_reca_fin_ult1',\n",
       " 'ind_recibo_ult1 ind_nom_pens_ult1 ind_nomina_ult1 ind_cno_fin_ult1 ind_tjcr_fin_ult1 ind_reca_fin_ult1 ind_ecue_fin_ult1',\n",
       " 'ind_nom_pens_ult1 ind_nomina_ult1 ind_cno_fin_ult1 ind_tjcr_fin_ult1 ind_ecue_fin_ult1 ind_reca_fin_ult1 ind_dela_fin_ult1',\n",
       " 'ind_recibo_ult1 ind_cno_fin_ult1 ind_nomina_ult1 ind_nom_pens_ult1 ind_reca_fin_ult1 ind_ecue_fin_ult1 ind_valo_fin_ult1',\n",
       " 'ind_recibo_ult1 ind_cno_fin_ult1 ind_nomina_ult1 ind_nom_pens_ult1 ind_reca_fin_ult1 ind_ecue_fin_ult1 ind_tjcr_fin_ult1',\n",
       " 'ind_recibo_ult1 ind_nom_pens_ult1 ind_nomina_ult1 ind_cno_fin_ult1 ind_tjcr_fin_ult1 ind_ecue_fin_ult1 ind_reca_fin_ult1',\n",
       " 'ind_recibo_ult1 ind_cco_fin_ult1 ind_nom_pens_ult1 ind_nomina_ult1 ind_tjcr_fin_ult1 ind_ecue_fin_ult1 ind_reca_fin_ult1',\n",
       " 'ind_recibo_ult1 ind_nom_pens_ult1 ind_nomina_ult1 ind_cno_fin_ult1 ind_tjcr_fin_ult1 ind_ecue_fin_ult1 ind_reca_fin_ult1',\n",
       " 'ind_recibo_ult1 ind_cno_fin_ult1 ind_nomina_ult1 ind_nom_pens_ult1 ind_reca_fin_ult1 ind_ecue_fin_ult1 ind_valo_fin_ult1',\n",
       " 'ind_recibo_ult1 ind_cno_fin_ult1 ind_nomina_ult1 ind_nom_pens_ult1 ind_reca_fin_ult1 ind_ecue_fin_ult1 ind_tjcr_fin_ult1',\n",
       " 'ind_recibo_ult1 ind_cno_fin_ult1 ind_nomina_ult1 ind_nom_pens_ult1 ind_reca_fin_ult1 ind_ecue_fin_ult1 ind_tjcr_fin_ult1',\n",
       " 'ind_recibo_ult1 ind_nom_pens_ult1 ind_nomina_ult1 ind_cno_fin_ult1 ind_tjcr_fin_ult1 ind_ecue_fin_ult1 ind_reca_fin_ult1',\n",
       " 'ind_cco_fin_ult1 ind_recibo_ult1 ind_cno_fin_ult1 ind_nom_pens_ult1 ind_nomina_ult1 ind_reca_fin_ult1 ind_ecue_fin_ult1',\n",
       " 'ind_recibo_ult1 ind_cno_fin_ult1 ind_nomina_ult1 ind_nom_pens_ult1 ind_reca_fin_ult1 ind_ecue_fin_ult1 ind_valo_fin_ult1',\n",
       " 'ind_cco_fin_ult1 ind_recibo_ult1 ind_cno_fin_ult1 ind_ecue_fin_ult1 ind_nomina_ult1 ind_nom_pens_ult1 ind_reca_fin_ult1',\n",
       " 'ind_cco_fin_ult1 ind_recibo_ult1 ind_cno_fin_ult1 ind_nom_pens_ult1 ind_nomina_ult1 ind_ecue_fin_ult1 ind_reca_fin_ult1',\n",
       " 'ind_recibo_ult1 ind_nom_pens_ult1 ind_nomina_ult1 ind_cno_fin_ult1 ind_tjcr_fin_ult1 ind_ecue_fin_ult1 ind_reca_fin_ult1',\n",
       " 'ind_recibo_ult1 ind_nom_pens_ult1 ind_nomina_ult1 ind_cno_fin_ult1 ind_tjcr_fin_ult1 ind_ecue_fin_ult1 ind_reca_fin_ult1',\n",
       " 'ind_recibo_ult1 ind_nom_pens_ult1 ind_nomina_ult1 ind_cno_fin_ult1 ind_tjcr_fin_ult1 ind_reca_fin_ult1 ind_ecue_fin_ult1',\n",
       " 'ind_recibo_ult1 ind_nomina_ult1 ind_nom_pens_ult1 ind_cno_fin_ult1 ind_tjcr_fin_ult1 ind_reca_fin_ult1 ind_ecue_fin_ult1',\n",
       " 'ind_recibo_ult1 ind_cno_fin_ult1 ind_nomina_ult1 ind_nom_pens_ult1 ind_reca_fin_ult1 ind_ecue_fin_ult1 ind_tjcr_fin_ult1',\n",
       " 'ind_recibo_ult1 ind_cno_fin_ult1 ind_nomina_ult1 ind_nom_pens_ult1 ind_reca_fin_ult1 ind_ecue_fin_ult1 ind_tjcr_fin_ult1',\n",
       " 'ind_nom_pens_ult1 ind_recibo_ult1 ind_cno_fin_ult1 ind_ecue_fin_ult1 ind_dela_fin_ult1 ind_tjcr_fin_ult1 ind_reca_fin_ult1',\n",
       " 'ind_recibo_ult1 ind_nom_pens_ult1 ind_nomina_ult1 ind_cno_fin_ult1 ind_tjcr_fin_ult1 ind_ecue_fin_ult1 ind_reca_fin_ult1',\n",
       " 'ind_recibo_ult1 ind_nom_pens_ult1 ind_nomina_ult1 ind_cno_fin_ult1 ind_tjcr_fin_ult1 ind_reca_fin_ult1 ind_valo_fin_ult1',\n",
       " 'ind_recibo_ult1 ind_nom_pens_ult1 ind_nomina_ult1 ind_cno_fin_ult1 ind_ecue_fin_ult1 ind_tjcr_fin_ult1 ind_dela_fin_ult1',\n",
       " 'ind_recibo_ult1 ind_cno_fin_ult1 ind_nomina_ult1 ind_nom_pens_ult1 ind_reca_fin_ult1 ind_ecue_fin_ult1 ind_tjcr_fin_ult1',\n",
       " 'ind_recibo_ult1 ind_cno_fin_ult1 ind_nom_pens_ult1 ind_nomina_ult1 ind_reca_fin_ult1 ind_ecue_fin_ult1 ind_valo_fin_ult1',\n",
       " 'ind_recibo_ult1 ind_cno_fin_ult1 ind_nomina_ult1 ind_nom_pens_ult1 ind_reca_fin_ult1 ind_ecue_fin_ult1 ind_valo_fin_ult1',\n",
       " 'ind_recibo_ult1 ind_cno_fin_ult1 ind_nomina_ult1 ind_nom_pens_ult1 ind_reca_fin_ult1 ind_ecue_fin_ult1 ind_tjcr_fin_ult1',\n",
       " 'ind_recibo_ult1 ind_cno_fin_ult1 ind_nom_pens_ult1 ind_nomina_ult1 ind_reca_fin_ult1 ind_ecue_fin_ult1 ind_valo_fin_ult1',\n",
       " 'ind_recibo_ult1 ind_nom_pens_ult1 ind_nomina_ult1 ind_cno_fin_ult1 ind_tjcr_fin_ult1 ind_ecue_fin_ult1 ind_reca_fin_ult1',\n",
       " 'ind_recibo_ult1 ind_cno_fin_ult1 ind_nomina_ult1 ind_nom_pens_ult1 ind_reca_fin_ult1 ind_ecue_fin_ult1 ind_tjcr_fin_ult1',\n",
       " 'ind_cco_fin_ult1 ind_recibo_ult1 ind_cno_fin_ult1 ind_nomina_ult1 ind_nom_pens_ult1 ind_reca_fin_ult1 ind_ecue_fin_ult1',\n",
       " 'ind_recibo_ult1 ind_cco_fin_ult1 ind_nom_pens_ult1 ind_nomina_ult1 ind_cno_fin_ult1 ind_tjcr_fin_ult1 ind_reca_fin_ult1',\n",
       " 'ind_recibo_ult1 ind_cno_fin_ult1 ind_nomina_ult1 ind_nom_pens_ult1 ind_reca_fin_ult1 ind_ecue_fin_ult1 ind_valo_fin_ult1',\n",
       " 'ind_recibo_ult1 ind_cno_fin_ult1 ind_nomina_ult1 ind_nom_pens_ult1 ind_reca_fin_ult1 ind_ecue_fin_ult1 ind_valo_fin_ult1',\n",
       " 'ind_recibo_ult1 ind_cno_fin_ult1 ind_nomina_ult1 ind_nom_pens_ult1 ind_reca_fin_ult1 ind_ecue_fin_ult1 ind_tjcr_fin_ult1',\n",
       " 'ind_recibo_ult1 ind_cco_fin_ult1 ind_tjcr_fin_ult1 ind_ecue_fin_ult1 ind_reca_fin_ult1 ind_dela_fin_ult1 ind_valo_fin_ult1',\n",
       " 'ind_recibo_ult1 ind_nom_pens_ult1 ind_nomina_ult1 ind_cno_fin_ult1 ind_ecue_fin_ult1 ind_tjcr_fin_ult1 ind_reca_fin_ult1',\n",
       " 'ind_recibo_ult1 ind_cno_fin_ult1 ind_nom_pens_ult1 ind_nomina_ult1 ind_reca_fin_ult1 ind_ecue_fin_ult1 ind_valo_fin_ult1',\n",
       " 'ind_recibo_ult1 ind_cno_fin_ult1 ind_nom_pens_ult1 ind_nomina_ult1 ind_reca_fin_ult1 ind_ecue_fin_ult1 ind_dela_fin_ult1',\n",
       " 'ind_recibo_ult1 ind_cno_fin_ult1 ind_nomina_ult1 ind_nom_pens_ult1 ind_reca_fin_ult1 ind_ecue_fin_ult1 ind_valo_fin_ult1',\n",
       " 'ind_recibo_ult1 ind_nom_pens_ult1 ind_nomina_ult1 ind_cno_fin_ult1 ind_tjcr_fin_ult1 ind_ecue_fin_ult1 ind_reca_fin_ult1',\n",
       " 'ind_recibo_ult1 ind_cno_fin_ult1 ind_nomina_ult1 ind_nom_pens_ult1 ind_reca_fin_ult1 ind_ecue_fin_ult1 ind_valo_fin_ult1',\n",
       " 'ind_recibo_ult1 ind_cno_fin_ult1 ind_nomina_ult1 ind_nom_pens_ult1 ind_reca_fin_ult1 ind_ecue_fin_ult1 ind_tjcr_fin_ult1',\n",
       " 'ind_recibo_ult1 ind_cno_fin_ult1 ind_nomina_ult1 ind_nom_pens_ult1 ind_reca_fin_ult1 ind_ecue_fin_ult1 ind_valo_fin_ult1',\n",
       " 'ind_recibo_ult1 ind_cno_fin_ult1 ind_nom_pens_ult1 ind_nomina_ult1 ind_reca_fin_ult1 ind_ecue_fin_ult1 ind_dela_fin_ult1',\n",
       " 'ind_recibo_ult1 ind_cco_fin_ult1 ind_cno_fin_ult1 ind_nomina_ult1 ind_nom_pens_ult1 ind_reca_fin_ult1 ind_ecue_fin_ult1',\n",
       " 'ind_recibo_ult1 ind_nom_pens_ult1 ind_cno_fin_ult1 ind_nomina_ult1 ind_reca_fin_ult1 ind_ecue_fin_ult1 ind_tjcr_fin_ult1',\n",
       " 'ind_recibo_ult1 ind_cno_fin_ult1 ind_nomina_ult1 ind_nom_pens_ult1 ind_reca_fin_ult1 ind_ecue_fin_ult1 ind_tjcr_fin_ult1',\n",
       " 'ind_recibo_ult1 ind_cno_fin_ult1 ind_nom_pens_ult1 ind_nomina_ult1 ind_reca_fin_ult1 ind_ecue_fin_ult1 ind_dela_fin_ult1',\n",
       " 'ind_recibo_ult1 ind_cno_fin_ult1 ind_nom_pens_ult1 ind_nomina_ult1 ind_reca_fin_ult1 ind_ecue_fin_ult1 ind_tjcr_fin_ult1',\n",
       " 'ind_recibo_ult1 ind_nom_pens_ult1 ind_cno_fin_ult1 ind_nomina_ult1 ind_reca_fin_ult1 ind_ecue_fin_ult1 ind_tjcr_fin_ult1',\n",
       " 'ind_recibo_ult1 ind_nom_pens_ult1 ind_nomina_ult1 ind_cno_fin_ult1 ind_ecue_fin_ult1 ind_reca_fin_ult1 ind_tjcr_fin_ult1',\n",
       " 'ind_recibo_ult1 ind_cno_fin_ult1 ind_nomina_ult1 ind_nom_pens_ult1 ind_reca_fin_ult1 ind_ecue_fin_ult1 ind_tjcr_fin_ult1',\n",
       " 'ind_recibo_ult1 ind_cno_fin_ult1 ind_nomina_ult1 ind_nom_pens_ult1 ind_reca_fin_ult1 ind_ecue_fin_ult1 ind_tjcr_fin_ult1',\n",
       " 'ind_recibo_ult1 ind_cno_fin_ult1 ind_nomina_ult1 ind_nom_pens_ult1 ind_reca_fin_ult1 ind_ecue_fin_ult1 ind_tjcr_fin_ult1',\n",
       " 'ind_recibo_ult1 ind_cno_fin_ult1 ind_nomina_ult1 ind_nom_pens_ult1 ind_reca_fin_ult1 ind_ecue_fin_ult1 ind_valo_fin_ult1',\n",
       " 'ind_nom_pens_ult1 ind_nomina_ult1 ind_cno_fin_ult1 ind_tjcr_fin_ult1 ind_reca_fin_ult1 ind_ecue_fin_ult1 ind_valo_fin_ult1',\n",
       " 'ind_recibo_ult1 ind_cno_fin_ult1 ind_nomina_ult1 ind_nom_pens_ult1 ind_reca_fin_ult1 ind_ecue_fin_ult1 ind_tjcr_fin_ult1',\n",
       " 'ind_recibo_ult1 ind_cno_fin_ult1 ind_nomina_ult1 ind_nom_pens_ult1 ind_reca_fin_ult1 ind_ecue_fin_ult1 ind_tjcr_fin_ult1',\n",
       " 'ind_recibo_ult1 ind_nom_pens_ult1 ind_nomina_ult1 ind_cno_fin_ult1 ind_tjcr_fin_ult1 ind_ecue_fin_ult1 ind_reca_fin_ult1',\n",
       " 'ind_recibo_ult1 ind_cno_fin_ult1 ind_nomina_ult1 ind_nom_pens_ult1 ind_reca_fin_ult1 ind_ecue_fin_ult1 ind_valo_fin_ult1',\n",
       " 'ind_recibo_ult1 ind_cno_fin_ult1 ind_nomina_ult1 ind_nom_pens_ult1 ind_reca_fin_ult1 ind_ecue_fin_ult1 ind_tjcr_fin_ult1',\n",
       " 'ind_recibo_ult1 ind_cno_fin_ult1 ind_nomina_ult1 ind_nom_pens_ult1 ind_reca_fin_ult1 ind_ecue_fin_ult1 ind_tjcr_fin_ult1',\n",
       " 'ind_recibo_ult1 ind_cno_fin_ult1 ind_nom_pens_ult1 ind_nomina_ult1 ind_reca_fin_ult1 ind_ecue_fin_ult1 ind_dela_fin_ult1',\n",
       " 'ind_recibo_ult1 ind_cno_fin_ult1 ind_nomina_ult1 ind_nom_pens_ult1 ind_reca_fin_ult1 ind_ecue_fin_ult1 ind_valo_fin_ult1',\n",
       " 'ind_recibo_ult1 ind_cno_fin_ult1 ind_nomina_ult1 ind_nom_pens_ult1 ind_reca_fin_ult1 ind_ecue_fin_ult1 ind_valo_fin_ult1',\n",
       " 'ind_recibo_ult1 ind_nom_pens_ult1 ind_nomina_ult1 ind_cno_fin_ult1 ind_tjcr_fin_ult1 ind_ecue_fin_ult1 ind_reca_fin_ult1',\n",
       " 'ind_recibo_ult1 ind_cno_fin_ult1 ind_nomina_ult1 ind_nom_pens_ult1 ind_reca_fin_ult1 ind_ecue_fin_ult1 ind_tjcr_fin_ult1',\n",
       " 'ind_recibo_ult1 ind_cno_fin_ult1 ind_reca_fin_ult1 ind_nomina_ult1 ind_nom_pens_ult1 ind_ecue_fin_ult1 ind_tjcr_fin_ult1',\n",
       " 'ind_recibo_ult1 ind_nomina_ult1 ind_nom_pens_ult1 ind_cno_fin_ult1 ind_tjcr_fin_ult1 ind_ecue_fin_ult1 ind_reca_fin_ult1',\n",
       " 'ind_recibo_ult1 ind_nomina_ult1 ind_cno_fin_ult1 ind_nom_pens_ult1 ind_reca_fin_ult1 ind_ecue_fin_ult1 ind_tjcr_fin_ult1',\n",
       " 'ind_cco_fin_ult1 ind_recibo_ult1 ind_cno_fin_ult1 ind_nomina_ult1 ind_nom_pens_ult1 ind_reca_fin_ult1 ind_ecue_fin_ult1',\n",
       " 'ind_recibo_ult1 ind_cno_fin_ult1 ind_nomina_ult1 ind_nom_pens_ult1 ind_reca_fin_ult1 ind_ecue_fin_ult1 ind_tjcr_fin_ult1',\n",
       " 'ind_recibo_ult1 ind_cno_fin_ult1 ind_nomina_ult1 ind_nom_pens_ult1 ind_reca_fin_ult1 ind_ecue_fin_ult1 ind_tjcr_fin_ult1',\n",
       " 'ind_recibo_ult1 ind_cno_fin_ult1 ind_nomina_ult1 ind_nom_pens_ult1 ind_ecue_fin_ult1 ind_reca_fin_ult1 ind_tjcr_fin_ult1',\n",
       " 'ind_recibo_ult1 ind_nomina_ult1 ind_cno_fin_ult1 ind_nom_pens_ult1 ind_reca_fin_ult1 ind_ecue_fin_ult1 ind_tjcr_fin_ult1',\n",
       " 'ind_recibo_ult1 ind_cno_fin_ult1 ind_nomina_ult1 ind_nom_pens_ult1 ind_reca_fin_ult1 ind_ecue_fin_ult1 ind_tjcr_fin_ult1',\n",
       " 'ind_recibo_ult1 ind_cno_fin_ult1 ind_nom_pens_ult1 ind_nomina_ult1 ind_reca_fin_ult1 ind_ecue_fin_ult1 ind_valo_fin_ult1',\n",
       " 'ind_recibo_ult1 ind_cno_fin_ult1 ind_nomina_ult1 ind_nom_pens_ult1 ind_reca_fin_ult1 ind_ecue_fin_ult1 ind_tjcr_fin_ult1',\n",
       " 'ind_recibo_ult1 ind_nom_pens_ult1 ind_nomina_ult1 ind_cno_fin_ult1 ind_tjcr_fin_ult1 ind_reca_fin_ult1 ind_ecue_fin_ult1',\n",
       " 'ind_recibo_ult1 ind_cno_fin_ult1 ind_nom_pens_ult1 ind_nomina_ult1 ind_ecue_fin_ult1 ind_reca_fin_ult1 ind_dela_fin_ult1',\n",
       " 'ind_nom_pens_ult1 ind_nomina_ult1 ind_cno_fin_ult1 ind_tjcr_fin_ult1 ind_ecue_fin_ult1 ind_reca_fin_ult1 ind_valo_fin_ult1',\n",
       " 'ind_recibo_ult1 ind_nom_pens_ult1 ind_nomina_ult1 ind_cno_fin_ult1 ind_ecue_fin_ult1 ind_tjcr_fin_ult1 ind_reca_fin_ult1',\n",
       " 'ind_recibo_ult1 ind_cno_fin_ult1 ind_nom_pens_ult1 ind_nomina_ult1 ind_ecue_fin_ult1 ind_reca_fin_ult1 ind_dela_fin_ult1',\n",
       " 'ind_recibo_ult1 ind_nomina_ult1 ind_nom_pens_ult1 ind_cno_fin_ult1 ind_tjcr_fin_ult1 ind_ecue_fin_ult1 ind_reca_fin_ult1',\n",
       " 'ind_recibo_ult1 ind_cno_fin_ult1 ind_nomina_ult1 ind_nom_pens_ult1 ind_reca_fin_ult1 ind_ecue_fin_ult1 ind_tjcr_fin_ult1',\n",
       " 'ind_recibo_ult1 ind_cno_fin_ult1 ind_nomina_ult1 ind_nom_pens_ult1 ind_reca_fin_ult1 ind_ecue_fin_ult1 ind_valo_fin_ult1',\n",
       " 'ind_recibo_ult1 ind_cno_fin_ult1 ind_nomina_ult1 ind_nom_pens_ult1 ind_reca_fin_ult1 ind_ecue_fin_ult1 ind_tjcr_fin_ult1',\n",
       " 'ind_recibo_ult1 ind_nom_pens_ult1 ind_nomina_ult1 ind_cno_fin_ult1 ind_reca_fin_ult1 ind_ecue_fin_ult1 ind_valo_fin_ult1',\n",
       " 'ind_recibo_ult1 ind_cno_fin_ult1 ind_nom_pens_ult1 ind_nomina_ult1 ind_reca_fin_ult1 ind_ecue_fin_ult1 ind_tjcr_fin_ult1',\n",
       " 'ind_recibo_ult1 ind_cno_fin_ult1 ind_nomina_ult1 ind_nom_pens_ult1 ind_reca_fin_ult1 ind_ecue_fin_ult1 ind_valo_fin_ult1',\n",
       " 'ind_nom_pens_ult1 ind_nomina_ult1 ind_cno_fin_ult1 ind_tjcr_fin_ult1 ind_ecue_fin_ult1 ind_reca_fin_ult1 ind_ctma_fin_ult1',\n",
       " 'ind_recibo_ult1 ind_nomina_ult1 ind_nom_pens_ult1 ind_cno_fin_ult1 ind_reca_fin_ult1 ind_ecue_fin_ult1 ind_tjcr_fin_ult1',\n",
       " 'ind_recibo_ult1 ind_cno_fin_ult1 ind_nomina_ult1 ind_nom_pens_ult1 ind_reca_fin_ult1 ind_ecue_fin_ult1 ind_tjcr_fin_ult1',\n",
       " 'ind_recibo_ult1 ind_cno_fin_ult1 ind_nom_pens_ult1 ind_nomina_ult1 ind_reca_fin_ult1 ind_ecue_fin_ult1 ind_tjcr_fin_ult1',\n",
       " 'ind_recibo_ult1 ind_cno_fin_ult1 ind_nomina_ult1 ind_nom_pens_ult1 ind_reca_fin_ult1 ind_ecue_fin_ult1 ind_tjcr_fin_ult1',\n",
       " 'ind_recibo_ult1 ind_cno_fin_ult1 ind_nom_pens_ult1 ind_nomina_ult1 ind_reca_fin_ult1 ind_ecue_fin_ult1 ind_tjcr_fin_ult1',\n",
       " 'ind_cco_fin_ult1 ind_recibo_ult1 ind_cno_fin_ult1 ind_nomina_ult1 ind_nom_pens_ult1 ind_reca_fin_ult1 ind_ecue_fin_ult1',\n",
       " 'ind_recibo_ult1 ind_cno_fin_ult1 ind_nomina_ult1 ind_nom_pens_ult1 ind_reca_fin_ult1 ind_ecue_fin_ult1 ind_tjcr_fin_ult1',\n",
       " 'ind_recibo_ult1 ind_cno_fin_ult1 ind_nomina_ult1 ind_nom_pens_ult1 ind_ecue_fin_ult1 ind_reca_fin_ult1 ind_tjcr_fin_ult1',\n",
       " 'ind_recibo_ult1 ind_cno_fin_ult1 ind_nom_pens_ult1 ind_nomina_ult1 ind_ecue_fin_ult1 ind_reca_fin_ult1 ind_tjcr_fin_ult1',\n",
       " 'ind_recibo_ult1 ind_nom_pens_ult1 ind_nomina_ult1 ind_cno_fin_ult1 ind_ecue_fin_ult1 ind_tjcr_fin_ult1 ind_dela_fin_ult1',\n",
       " 'ind_recibo_ult1 ind_cno_fin_ult1 ind_nom_pens_ult1 ind_nomina_ult1 ind_reca_fin_ult1 ind_ecue_fin_ult1 ind_dela_fin_ult1',\n",
       " 'ind_recibo_ult1 ind_cno_fin_ult1 ind_nom_pens_ult1 ind_nomina_ult1 ind_reca_fin_ult1 ind_ecue_fin_ult1 ind_dela_fin_ult1',\n",
       " 'ind_recibo_ult1 ind_nom_pens_ult1 ind_nomina_ult1 ind_cno_fin_ult1 ind_tjcr_fin_ult1 ind_ecue_fin_ult1 ind_reca_fin_ult1',\n",
       " 'ind_recibo_ult1 ind_nom_pens_ult1 ind_nomina_ult1 ind_cno_fin_ult1 ind_tjcr_fin_ult1 ind_ecue_fin_ult1 ind_reca_fin_ult1',\n",
       " 'ind_recibo_ult1 ind_nom_pens_ult1 ind_nomina_ult1 ind_cno_fin_ult1 ind_tjcr_fin_ult1 ind_ecue_fin_ult1 ind_reca_fin_ult1',\n",
       " 'ind_recibo_ult1 ind_cno_fin_ult1 ind_nom_pens_ult1 ind_nomina_ult1 ind_ecue_fin_ult1 ind_reca_fin_ult1 ind_tjcr_fin_ult1',\n",
       " 'ind_recibo_ult1 ind_cno_fin_ult1 ind_nom_pens_ult1 ind_nomina_ult1 ind_reca_fin_ult1 ind_ecue_fin_ult1 ind_dela_fin_ult1',\n",
       " 'ind_cco_fin_ult1 ind_ecue_fin_ult1 ind_reca_fin_ult1 ind_valo_fin_ult1 ind_fond_fin_ult1 ind_dela_fin_ult1 ind_ctma_fin_ult1',\n",
       " 'ind_recibo_ult1 ind_nom_pens_ult1 ind_nomina_ult1 ind_cno_fin_ult1 ind_tjcr_fin_ult1 ind_ecue_fin_ult1 ind_reca_fin_ult1',\n",
       " 'ind_recibo_ult1 ind_nom_pens_ult1 ind_nomina_ult1 ind_cno_fin_ult1 ind_ecue_fin_ult1 ind_reca_fin_ult1 ind_valo_fin_ult1',\n",
       " 'ind_recibo_ult1 ind_nom_pens_ult1 ind_nomina_ult1 ind_cno_fin_ult1 ind_tjcr_fin_ult1 ind_ecue_fin_ult1 ind_reca_fin_ult1',\n",
       " 'ind_recibo_ult1 ind_cno_fin_ult1 ind_nom_pens_ult1 ind_nomina_ult1 ind_reca_fin_ult1 ind_ecue_fin_ult1 ind_valo_fin_ult1',\n",
       " 'ind_recibo_ult1 ind_nom_pens_ult1 ind_nomina_ult1 ind_cno_fin_ult1 ind_tjcr_fin_ult1 ind_ecue_fin_ult1 ind_reca_fin_ult1',\n",
       " 'ind_recibo_ult1 ind_cco_fin_ult1 ind_ecue_fin_ult1 ind_reca_fin_ult1 ind_dela_fin_ult1 ind_ctma_fin_ult1 ind_valo_fin_ult1',\n",
       " 'ind_recibo_ult1 ind_cno_fin_ult1 ind_nomina_ult1 ind_nom_pens_ult1 ind_reca_fin_ult1 ind_ecue_fin_ult1 ind_valo_fin_ult1',\n",
       " 'ind_recibo_ult1 ind_cno_fin_ult1 ind_nomina_ult1 ind_nom_pens_ult1 ind_reca_fin_ult1 ind_ecue_fin_ult1 ind_valo_fin_ult1',\n",
       " 'ind_recibo_ult1 ind_nomina_ult1 ind_nom_pens_ult1 ind_cno_fin_ult1 ind_tjcr_fin_ult1 ind_ecue_fin_ult1 ind_reca_fin_ult1',\n",
       " 'ind_nom_pens_ult1 ind_nomina_ult1 ind_cno_fin_ult1 ind_tjcr_fin_ult1 ind_valo_fin_ult1 ind_dela_fin_ult1 ind_fond_fin_ult1',\n",
       " 'ind_recibo_ult1 ind_cno_fin_ult1 ind_nom_pens_ult1 ind_nomina_ult1 ind_reca_fin_ult1 ind_ecue_fin_ult1 ind_dela_fin_ult1',\n",
       " 'ind_recibo_ult1 ind_nom_pens_ult1 ind_nomina_ult1 ind_cno_fin_ult1 ind_tjcr_fin_ult1 ind_ecue_fin_ult1 ind_reca_fin_ult1',\n",
       " 'ind_recibo_ult1 ind_cno_fin_ult1 ind_nomina_ult1 ind_nom_pens_ult1 ind_reca_fin_ult1 ind_ecue_fin_ult1 ind_valo_fin_ult1',\n",
       " 'ind_recibo_ult1 ind_cno_fin_ult1 ind_nom_pens_ult1 ind_nomina_ult1 ind_reca_fin_ult1 ind_ecue_fin_ult1 ind_tjcr_fin_ult1',\n",
       " 'ind_recibo_ult1 ind_nom_pens_ult1 ind_nomina_ult1 ind_cno_fin_ult1 ind_tjcr_fin_ult1 ind_reca_fin_ult1 ind_ecue_fin_ult1',\n",
       " 'ind_recibo_ult1 ind_cno_fin_ult1 ind_nomina_ult1 ind_nom_pens_ult1 ind_reca_fin_ult1 ind_ecue_fin_ult1 ind_valo_fin_ult1',\n",
       " 'ind_cco_fin_ult1 ind_recibo_ult1 ind_cno_fin_ult1 ind_nom_pens_ult1 ind_nomina_ult1 ind_reca_fin_ult1 ind_ecue_fin_ult1',\n",
       " 'ind_recibo_ult1 ind_nomina_ult1 ind_nom_pens_ult1 ind_cno_fin_ult1 ind_tjcr_fin_ult1 ind_reca_fin_ult1 ind_ecue_fin_ult1',\n",
       " 'ind_cco_fin_ult1 ind_tjcr_fin_ult1 ind_reca_fin_ult1 ind_valo_fin_ult1 ind_dela_fin_ult1 ind_fond_fin_ult1 ind_ctma_fin_ult1',\n",
       " 'ind_recibo_ult1 ind_nom_pens_ult1 ind_nomina_ult1 ind_cno_fin_ult1 ind_tjcr_fin_ult1 ind_ecue_fin_ult1 ind_reca_fin_ult1',\n",
       " 'ind_recibo_ult1 ind_cno_fin_ult1 ind_nomina_ult1 ind_nom_pens_ult1 ind_reca_fin_ult1 ind_ecue_fin_ult1 ind_valo_fin_ult1',\n",
       " 'ind_recibo_ult1 ind_cno_fin_ult1 ind_nomina_ult1 ind_nom_pens_ult1 ind_reca_fin_ult1 ind_ecue_fin_ult1 ind_valo_fin_ult1',\n",
       " 'ind_recibo_ult1 ind_cno_fin_ult1 ind_nomina_ult1 ind_nom_pens_ult1 ind_reca_fin_ult1 ind_ecue_fin_ult1 ind_valo_fin_ult1',\n",
       " 'ind_recibo_ult1 ind_nom_pens_ult1 ind_nomina_ult1 ind_cno_fin_ult1 ind_tjcr_fin_ult1 ind_ecue_fin_ult1 ind_reca_fin_ult1',\n",
       " 'ind_recibo_ult1 ind_nom_pens_ult1 ind_nomina_ult1 ind_cno_fin_ult1 ind_tjcr_fin_ult1 ind_ecue_fin_ult1 ind_reca_fin_ult1',\n",
       " 'ind_recibo_ult1 ind_nom_pens_ult1 ind_nomina_ult1 ind_cno_fin_ult1 ind_tjcr_fin_ult1 ind_ecue_fin_ult1 ind_reca_fin_ult1',\n",
       " 'ind_recibo_ult1 ind_cno_fin_ult1 ind_nomina_ult1 ind_nom_pens_ult1 ind_reca_fin_ult1 ind_ecue_fin_ult1 ind_tjcr_fin_ult1',\n",
       " 'ind_recibo_ult1 ind_cno_fin_ult1 ind_nom_pens_ult1 ind_ecue_fin_ult1 ind_nomina_ult1 ind_reca_fin_ult1 ind_tjcr_fin_ult1',\n",
       " 'ind_recibo_ult1 ind_cco_fin_ult1 ind_cno_fin_ult1 ind_nom_pens_ult1 ind_nomina_ult1 ind_reca_fin_ult1 ind_ecue_fin_ult1',\n",
       " 'ind_recibo_ult1 ind_cno_fin_ult1 ind_nomina_ult1 ind_nom_pens_ult1 ind_reca_fin_ult1 ind_ecue_fin_ult1 ind_valo_fin_ult1',\n",
       " 'ind_recibo_ult1 ind_cno_fin_ult1 ind_nom_pens_ult1 ind_nomina_ult1 ind_reca_fin_ult1 ind_ecue_fin_ult1 ind_tjcr_fin_ult1',\n",
       " 'ind_recibo_ult1 ind_cno_fin_ult1 ind_nomina_ult1 ind_nom_pens_ult1 ind_reca_fin_ult1 ind_ecue_fin_ult1 ind_tjcr_fin_ult1',\n",
       " 'ind_recibo_ult1 ind_nom_pens_ult1 ind_nomina_ult1 ind_cno_fin_ult1 ind_tjcr_fin_ult1 ind_ecue_fin_ult1 ind_reca_fin_ult1',\n",
       " 'ind_recibo_ult1 ind_nom_pens_ult1 ind_nomina_ult1 ind_cno_fin_ult1 ind_tjcr_fin_ult1 ind_ecue_fin_ult1 ind_reca_fin_ult1',\n",
       " 'ind_recibo_ult1 ind_cno_fin_ult1 ind_nomina_ult1 ind_nom_pens_ult1 ind_reca_fin_ult1 ind_ecue_fin_ult1 ind_tjcr_fin_ult1',\n",
       " 'ind_cco_fin_ult1 ind_tjcr_fin_ult1 ind_ecue_fin_ult1 ind_reca_fin_ult1 ind_dela_fin_ult1 ind_ctma_fin_ult1 ind_valo_fin_ult1',\n",
       " 'ind_cco_fin_ult1 ind_recibo_ult1 ind_cno_fin_ult1 ind_nomina_ult1 ind_nom_pens_ult1 ind_reca_fin_ult1 ind_ecue_fin_ult1',\n",
       " 'ind_recibo_ult1 ind_nom_pens_ult1 ind_nomina_ult1 ind_cco_fin_ult1 ind_cno_fin_ult1 ind_tjcr_fin_ult1 ind_ecue_fin_ult1',\n",
       " 'ind_recibo_ult1 ind_nom_pens_ult1 ind_nomina_ult1 ind_cno_fin_ult1 ind_tjcr_fin_ult1 ind_reca_fin_ult1 ind_ecue_fin_ult1',\n",
       " 'ind_recibo_ult1 ind_tjcr_fin_ult1 ind_nom_pens_ult1 ind_nomina_ult1 ind_cno_fin_ult1 ind_ecue_fin_ult1 ind_reca_fin_ult1',\n",
       " 'ind_recibo_ult1 ind_cno_fin_ult1 ind_nomina_ult1 ind_nom_pens_ult1 ind_reca_fin_ult1 ind_ecue_fin_ult1 ind_tjcr_fin_ult1',\n",
       " 'ind_nom_pens_ult1 ind_nomina_ult1 ind_cno_fin_ult1 ind_tjcr_fin_ult1 ind_ecue_fin_ult1 ind_reca_fin_ult1 ind_valo_fin_ult1',\n",
       " 'ind_recibo_ult1 ind_cno_fin_ult1 ind_nomina_ult1 ind_nom_pens_ult1 ind_reca_fin_ult1 ind_ecue_fin_ult1 ind_tjcr_fin_ult1',\n",
       " 'ind_recibo_ult1 ind_cno_fin_ult1 ind_nomina_ult1 ind_nom_pens_ult1 ind_reca_fin_ult1 ind_ecue_fin_ult1 ind_tjcr_fin_ult1',\n",
       " 'ind_recibo_ult1 ind_nom_pens_ult1 ind_nomina_ult1 ind_cno_fin_ult1 ind_tjcr_fin_ult1 ind_ecue_fin_ult1 ind_reca_fin_ult1',\n",
       " 'ind_recibo_ult1 ind_nom_pens_ult1 ind_nomina_ult1 ind_tjcr_fin_ult1 ind_cno_fin_ult1 ind_ecue_fin_ult1 ind_reca_fin_ult1',\n",
       " 'ind_recibo_ult1 ind_cno_fin_ult1 ind_nom_pens_ult1 ind_nomina_ult1 ind_reca_fin_ult1 ind_ecue_fin_ult1 ind_dela_fin_ult1',\n",
       " 'ind_recibo_ult1 ind_nom_pens_ult1 ind_nomina_ult1 ind_cno_fin_ult1 ind_tjcr_fin_ult1 ind_ecue_fin_ult1 ind_reca_fin_ult1',\n",
       " 'ind_cco_fin_ult1 ind_recibo_ult1 ind_cno_fin_ult1 ind_ecue_fin_ult1 ind_nom_pens_ult1 ind_nomina_ult1 ind_reca_fin_ult1',\n",
       " 'ind_recibo_ult1 ind_cno_fin_ult1 ind_nom_pens_ult1 ind_nomina_ult1 ind_reca_fin_ult1 ind_ecue_fin_ult1 ind_dela_fin_ult1',\n",
       " 'ind_recibo_ult1 ind_nom_pens_ult1 ind_nomina_ult1 ind_cno_fin_ult1 ind_tjcr_fin_ult1 ind_ecue_fin_ult1 ind_reca_fin_ult1',\n",
       " 'ind_nom_pens_ult1 ind_cco_fin_ult1 ind_ecue_fin_ult1 ind_cno_fin_ult1 ind_nomina_ult1 ind_tjcr_fin_ult1 ind_recibo_ult1',\n",
       " 'ind_recibo_ult1 ind_cno_fin_ult1 ind_nomina_ult1 ind_nom_pens_ult1 ind_reca_fin_ult1 ind_ecue_fin_ult1 ind_tjcr_fin_ult1',\n",
       " 'ind_recibo_ult1 ind_cco_fin_ult1 ind_nom_pens_ult1 ind_cno_fin_ult1 ind_nomina_ult1 ind_tjcr_fin_ult1 ind_ecue_fin_ult1',\n",
       " 'ind_recibo_ult1 ind_cno_fin_ult1 ind_nomina_ult1 ind_nom_pens_ult1 ind_reca_fin_ult1 ind_ecue_fin_ult1 ind_tjcr_fin_ult1',\n",
       " 'ind_recibo_ult1 ind_nom_pens_ult1 ind_nomina_ult1 ind_cno_fin_ult1 ind_tjcr_fin_ult1 ind_ecue_fin_ult1 ind_reca_fin_ult1',\n",
       " 'ind_recibo_ult1 ind_cno_fin_ult1 ind_nom_pens_ult1 ind_nomina_ult1 ind_reca_fin_ult1 ind_ecue_fin_ult1 ind_tjcr_fin_ult1',\n",
       " 'ind_recibo_ult1 ind_nom_pens_ult1 ind_nomina_ult1 ind_cno_fin_ult1 ind_tjcr_fin_ult1 ind_reca_fin_ult1 ind_ecue_fin_ult1',\n",
       " 'ind_recibo_ult1 ind_nom_pens_ult1 ind_nomina_ult1 ind_cno_fin_ult1 ind_tjcr_fin_ult1 ind_ecue_fin_ult1 ind_reca_fin_ult1',\n",
       " 'ind_recibo_ult1 ind_cco_fin_ult1 ind_nom_pens_ult1 ind_cno_fin_ult1 ind_nomina_ult1 ind_tjcr_fin_ult1 ind_ecue_fin_ult1',\n",
       " 'ind_recibo_ult1 ind_cno_fin_ult1 ind_nomina_ult1 ind_nom_pens_ult1 ind_reca_fin_ult1 ind_ecue_fin_ult1 ind_valo_fin_ult1',\n",
       " 'ind_recibo_ult1 ind_nom_pens_ult1 ind_nomina_ult1 ind_cno_fin_ult1 ind_tjcr_fin_ult1 ind_ecue_fin_ult1 ind_reca_fin_ult1',\n",
       " 'ind_recibo_ult1 ind_cno_fin_ult1 ind_nom_pens_ult1 ind_nomina_ult1 ind_reca_fin_ult1 ind_ecue_fin_ult1 ind_dela_fin_ult1',\n",
       " 'ind_recibo_ult1 ind_nom_pens_ult1 ind_nomina_ult1 ind_cno_fin_ult1 ind_tjcr_fin_ult1 ind_reca_fin_ult1 ind_ecue_fin_ult1',\n",
       " 'ind_recibo_ult1 ind_cno_fin_ult1 ind_nomina_ult1 ind_nom_pens_ult1 ind_reca_fin_ult1 ind_ecue_fin_ult1 ind_tjcr_fin_ult1',\n",
       " 'ind_recibo_ult1 ind_cno_fin_ult1 ind_nomina_ult1 ind_ecue_fin_ult1 ind_nom_pens_ult1 ind_reca_fin_ult1 ind_dela_fin_ult1',\n",
       " 'ind_recibo_ult1 ind_nom_pens_ult1 ind_nomina_ult1 ind_cno_fin_ult1 ind_tjcr_fin_ult1 ind_ecue_fin_ult1 ind_reca_fin_ult1',\n",
       " 'ind_recibo_ult1 ind_cno_fin_ult1 ind_nomina_ult1 ind_nom_pens_ult1 ind_reca_fin_ult1 ind_ecue_fin_ult1 ind_valo_fin_ult1',\n",
       " 'ind_recibo_ult1 ind_nom_pens_ult1 ind_nomina_ult1 ind_cno_fin_ult1 ind_tjcr_fin_ult1 ind_reca_fin_ult1 ind_ecue_fin_ult1',\n",
       " 'ind_recibo_ult1 ind_cno_fin_ult1 ind_nomina_ult1 ind_nom_pens_ult1 ind_reca_fin_ult1 ind_ecue_fin_ult1 ind_tjcr_fin_ult1',\n",
       " 'ind_recibo_ult1 ind_nomina_ult1 ind_nom_pens_ult1 ind_cno_fin_ult1 ind_tjcr_fin_ult1 ind_ecue_fin_ult1 ind_reca_fin_ult1',\n",
       " 'ind_recibo_ult1 ind_nom_pens_ult1 ind_nomina_ult1 ind_cno_fin_ult1 ind_tjcr_fin_ult1 ind_reca_fin_ult1 ind_ecue_fin_ult1',\n",
       " 'ind_recibo_ult1 ind_cno_fin_ult1 ind_nomina_ult1 ind_nom_pens_ult1 ind_reca_fin_ult1 ind_ecue_fin_ult1 ind_tjcr_fin_ult1',\n",
       " 'ind_recibo_ult1 ind_nom_pens_ult1 ind_nomina_ult1 ind_cno_fin_ult1 ind_ecue_fin_ult1 ind_reca_fin_ult1 ind_valo_fin_ult1',\n",
       " 'ind_recibo_ult1 ind_cno_fin_ult1 ind_nomina_ult1 ind_nom_pens_ult1 ind_reca_fin_ult1 ind_ecue_fin_ult1 ind_tjcr_fin_ult1',\n",
       " 'ind_recibo_ult1 ind_nomina_ult1 ind_nom_pens_ult1 ind_cno_fin_ult1 ind_reca_fin_ult1 ind_ecue_fin_ult1 ind_tjcr_fin_ult1',\n",
       " 'ind_recibo_ult1 ind_nom_pens_ult1 ind_nomina_ult1 ind_cno_fin_ult1 ind_tjcr_fin_ult1 ind_reca_fin_ult1 ind_ecue_fin_ult1',\n",
       " 'ind_recibo_ult1 ind_cno_fin_ult1 ind_nom_pens_ult1 ind_nomina_ult1 ind_reca_fin_ult1 ind_ecue_fin_ult1 ind_tjcr_fin_ult1',\n",
       " 'ind_recibo_ult1 ind_nom_pens_ult1 ind_nomina_ult1 ind_cno_fin_ult1 ind_tjcr_fin_ult1 ind_reca_fin_ult1 ind_ecue_fin_ult1',\n",
       " 'ind_nom_pens_ult1 ind_nomina_ult1 ind_tjcr_fin_ult1 ind_cno_fin_ult1 ind_ecue_fin_ult1 ind_reca_fin_ult1 ind_dela_fin_ult1',\n",
       " 'ind_recibo_ult1 ind_nom_pens_ult1 ind_nomina_ult1 ind_tjcr_fin_ult1 ind_cno_fin_ult1 ind_ecue_fin_ult1 ind_reca_fin_ult1',\n",
       " 'ind_recibo_ult1 ind_nom_pens_ult1 ind_nomina_ult1 ind_cno_fin_ult1 ind_tjcr_fin_ult1 ind_reca_fin_ult1 ind_valo_fin_ult1',\n",
       " 'ind_recibo_ult1 ind_cco_fin_ult1 ind_cno_fin_ult1 ind_nomina_ult1 ind_nom_pens_ult1 ind_reca_fin_ult1 ind_ecue_fin_ult1',\n",
       " 'ind_recibo_ult1 ind_nom_pens_ult1 ind_nomina_ult1 ind_cno_fin_ult1 ind_tjcr_fin_ult1 ind_reca_fin_ult1 ind_ecue_fin_ult1',\n",
       " 'ind_recibo_ult1 ind_nom_pens_ult1 ind_nomina_ult1 ind_cco_fin_ult1 ind_tjcr_fin_ult1 ind_ecue_fin_ult1 ind_reca_fin_ult1',\n",
       " 'ind_recibo_ult1 ind_nom_pens_ult1 ind_nomina_ult1 ind_cno_fin_ult1 ind_reca_fin_ult1 ind_ecue_fin_ult1 ind_valo_fin_ult1',\n",
       " 'ind_recibo_ult1 ind_cno_fin_ult1 ind_nomina_ult1 ind_nom_pens_ult1 ind_reca_fin_ult1 ind_ecue_fin_ult1 ind_tjcr_fin_ult1',\n",
       " 'ind_recibo_ult1 ind_cno_fin_ult1 ind_nomina_ult1 ind_nom_pens_ult1 ind_reca_fin_ult1 ind_ecue_fin_ult1 ind_valo_fin_ult1',\n",
       " 'ind_recibo_ult1 ind_cco_fin_ult1 ind_tjcr_fin_ult1 ind_ecue_fin_ult1 ind_reca_fin_ult1 ind_ctma_fin_ult1 ind_dela_fin_ult1',\n",
       " 'ind_recibo_ult1 ind_cco_fin_ult1 ind_cno_fin_ult1 ind_nomina_ult1 ind_nom_pens_ult1 ind_reca_fin_ult1 ind_ecue_fin_ult1',\n",
       " 'ind_recibo_ult1 ind_cno_fin_ult1 ind_nomina_ult1 ind_nom_pens_ult1 ind_reca_fin_ult1 ind_ecue_fin_ult1 ind_tjcr_fin_ult1',\n",
       " 'ind_recibo_ult1 ind_nom_pens_ult1 ind_nomina_ult1 ind_cno_fin_ult1 ind_tjcr_fin_ult1 ind_ecue_fin_ult1 ind_reca_fin_ult1',\n",
       " 'ind_recibo_ult1 ind_cno_fin_ult1 ind_nom_pens_ult1 ind_nomina_ult1 ind_reca_fin_ult1 ind_ecue_fin_ult1 ind_tjcr_fin_ult1',\n",
       " 'ind_tjcr_fin_ult1 ind_nom_pens_ult1 ind_nomina_ult1 ind_ecue_fin_ult1 ind_cno_fin_ult1 ind_dela_fin_ult1 ind_fond_fin_ult1',\n",
       " 'ind_cco_fin_ult1 ind_recibo_ult1 ind_nom_pens_ult1 ind_cno_fin_ult1 ind_ecue_fin_ult1 ind_nomina_ult1 ind_ctma_fin_ult1',\n",
       " 'ind_recibo_ult1 ind_nom_pens_ult1 ind_nomina_ult1 ind_cno_fin_ult1 ind_reca_fin_ult1 ind_ecue_fin_ult1 ind_valo_fin_ult1',\n",
       " 'ind_recibo_ult1 ind_nom_pens_ult1 ind_nomina_ult1 ind_cno_fin_ult1 ind_tjcr_fin_ult1 ind_ecue_fin_ult1 ind_reca_fin_ult1',\n",
       " 'ind_nom_pens_ult1 ind_nomina_ult1 ind_cno_fin_ult1 ind_ecue_fin_ult1 ind_tjcr_fin_ult1 ind_reca_fin_ult1 ind_ctma_fin_ult1',\n",
       " 'ind_recibo_ult1 ind_nomina_ult1 ind_nom_pens_ult1 ind_cno_fin_ult1 ind_tjcr_fin_ult1 ind_ecue_fin_ult1 ind_reca_fin_ult1',\n",
       " 'ind_recibo_ult1 ind_cco_fin_ult1 ind_nom_pens_ult1 ind_nomina_ult1 ind_tjcr_fin_ult1 ind_ecue_fin_ult1 ind_reca_fin_ult1',\n",
       " 'ind_nom_pens_ult1 ind_nomina_ult1 ind_cno_fin_ult1 ind_ecue_fin_ult1 ind_reca_fin_ult1 ind_tjcr_fin_ult1 ind_valo_fin_ult1',\n",
       " 'ind_recibo_ult1 ind_cno_fin_ult1 ind_nom_pens_ult1 ind_nomina_ult1 ind_reca_fin_ult1 ind_ecue_fin_ult1 ind_tjcr_fin_ult1',\n",
       " 'ind_recibo_ult1 ind_cco_fin_ult1 ind_cno_fin_ult1 ind_nom_pens_ult1 ind_nomina_ult1 ind_reca_fin_ult1 ind_ecue_fin_ult1',\n",
       " 'ind_recibo_ult1 ind_tjcr_fin_ult1 ind_cno_fin_ult1 ind_nom_pens_ult1 ind_nomina_ult1 ind_ecue_fin_ult1 ind_reca_fin_ult1',\n",
       " 'ind_recibo_ult1 ind_nom_pens_ult1 ind_nomina_ult1 ind_cno_fin_ult1 ind_tjcr_fin_ult1 ind_ecue_fin_ult1 ind_reca_fin_ult1',\n",
       " 'ind_nom_pens_ult1 ind_nomina_ult1 ind_tjcr_fin_ult1 ind_ecue_fin_ult1 ind_reca_fin_ult1 ind_dela_fin_ult1 ind_fond_fin_ult1',\n",
       " 'ind_recibo_ult1 ind_nom_pens_ult1 ind_nomina_ult1 ind_cno_fin_ult1 ind_tjcr_fin_ult1 ind_reca_fin_ult1 ind_ecue_fin_ult1',\n",
       " 'ind_recibo_ult1 ind_nom_pens_ult1 ind_cno_fin_ult1 ind_nomina_ult1 ind_reca_fin_ult1 ind_ecue_fin_ult1 ind_dela_fin_ult1',\n",
       " 'ind_recibo_ult1 ind_nom_pens_ult1 ind_nomina_ult1 ind_cno_fin_ult1 ind_tjcr_fin_ult1 ind_ecue_fin_ult1 ind_reca_fin_ult1',\n",
       " 'ind_recibo_ult1 ind_cno_fin_ult1 ind_nom_pens_ult1 ind_nomina_ult1 ind_reca_fin_ult1 ind_ecue_fin_ult1 ind_dela_fin_ult1',\n",
       " 'ind_cco_fin_ult1 ind_recibo_ult1 ind_cno_fin_ult1 ind_nomina_ult1 ind_nom_pens_ult1 ind_reca_fin_ult1 ind_dela_fin_ult1',\n",
       " 'ind_recibo_ult1 ind_nom_pens_ult1 ind_nomina_ult1 ind_cno_fin_ult1 ind_tjcr_fin_ult1 ind_ecue_fin_ult1 ind_reca_fin_ult1',\n",
       " 'ind_recibo_ult1 ind_cno_fin_ult1 ind_nomina_ult1 ind_nom_pens_ult1 ind_reca_fin_ult1 ind_ecue_fin_ult1 ind_valo_fin_ult1',\n",
       " 'ind_recibo_ult1 ind_cno_fin_ult1 ind_nom_pens_ult1 ind_nomina_ult1 ind_reca_fin_ult1 ind_ecue_fin_ult1 ind_tjcr_fin_ult1',\n",
       " 'ind_nom_pens_ult1 ind_nomina_ult1 ind_tjcr_fin_ult1 ind_cno_fin_ult1 ind_ecue_fin_ult1 ind_reca_fin_ult1 ind_dela_fin_ult1',\n",
       " 'ind_recibo_ult1 ind_cno_fin_ult1 ind_nomina_ult1 ind_nom_pens_ult1 ind_reca_fin_ult1 ind_ecue_fin_ult1 ind_valo_fin_ult1',\n",
       " 'ind_nom_pens_ult1 ind_nomina_ult1 ind_tjcr_fin_ult1 ind_cno_fin_ult1 ind_ecue_fin_ult1 ind_reca_fin_ult1 ind_dela_fin_ult1',\n",
       " 'ind_recibo_ult1 ind_nom_pens_ult1 ind_nomina_ult1 ind_cno_fin_ult1 ind_tjcr_fin_ult1 ind_reca_fin_ult1 ind_ecue_fin_ult1',\n",
       " 'ind_recibo_ult1 ind_nom_pens_ult1 ind_nomina_ult1 ind_cno_fin_ult1 ind_tjcr_fin_ult1 ind_ecue_fin_ult1 ind_reca_fin_ult1',\n",
       " 'ind_recibo_ult1 ind_nom_pens_ult1 ind_nomina_ult1 ind_cno_fin_ult1 ind_tjcr_fin_ult1 ind_reca_fin_ult1 ind_ecue_fin_ult1',\n",
       " 'ind_recibo_ult1 ind_cno_fin_ult1 ind_nom_pens_ult1 ind_nomina_ult1 ind_reca_fin_ult1 ind_ecue_fin_ult1 ind_dela_fin_ult1',\n",
       " 'ind_cco_fin_ult1 ind_recibo_ult1 ind_cno_fin_ult1 ind_nomina_ult1 ind_nom_pens_ult1 ind_reca_fin_ult1 ind_ecue_fin_ult1',\n",
       " 'ind_cco_fin_ult1 ind_recibo_ult1 ind_cno_fin_ult1 ind_nomina_ult1 ind_nom_pens_ult1 ind_reca_fin_ult1 ind_ecue_fin_ult1',\n",
       " 'ind_recibo_ult1 ind_nomina_ult1 ind_nom_pens_ult1 ind_cno_fin_ult1 ind_reca_fin_ult1 ind_ecue_fin_ult1 ind_valo_fin_ult1',\n",
       " 'ind_recibo_ult1 ind_cno_fin_ult1 ind_nomina_ult1 ind_nom_pens_ult1 ind_reca_fin_ult1 ind_ecue_fin_ult1 ind_tjcr_fin_ult1',\n",
       " 'ind_recibo_ult1 ind_cno_fin_ult1 ind_nomina_ult1 ind_nom_pens_ult1 ind_reca_fin_ult1 ind_ecue_fin_ult1 ind_valo_fin_ult1',\n",
       " 'ind_recibo_ult1 ind_cno_fin_ult1 ind_nom_pens_ult1 ind_nomina_ult1 ind_reca_fin_ult1 ind_ecue_fin_ult1 ind_tjcr_fin_ult1',\n",
       " 'ind_recibo_ult1 ind_nom_pens_ult1 ind_nomina_ult1 ind_cno_fin_ult1 ind_tjcr_fin_ult1 ind_ecue_fin_ult1 ind_reca_fin_ult1',\n",
       " 'ind_cco_fin_ult1 ind_recibo_ult1 ind_nomina_ult1 ind_nom_pens_ult1 ind_reca_fin_ult1 ind_ecue_fin_ult1 ind_valo_fin_ult1',\n",
       " 'ind_recibo_ult1 ind_nomina_ult1 ind_nom_pens_ult1 ind_cno_fin_ult1 ind_tjcr_fin_ult1 ind_ecue_fin_ult1 ind_reca_fin_ult1',\n",
       " 'ind_recibo_ult1 ind_nomina_ult1 ind_nom_pens_ult1 ind_cno_fin_ult1 ind_reca_fin_ult1 ind_ecue_fin_ult1 ind_valo_fin_ult1',\n",
       " 'ind_recibo_ult1 ind_nom_pens_ult1 ind_nomina_ult1 ind_cno_fin_ult1 ind_tjcr_fin_ult1 ind_ecue_fin_ult1 ind_reca_fin_ult1',\n",
       " 'ind_recibo_ult1 ind_nom_pens_ult1 ind_nomina_ult1 ind_cno_fin_ult1 ind_tjcr_fin_ult1 ind_ecue_fin_ult1 ind_reca_fin_ult1',\n",
       " 'ind_recibo_ult1 ind_nomina_ult1 ind_nom_pens_ult1 ind_cno_fin_ult1 ind_tjcr_fin_ult1 ind_ecue_fin_ult1 ind_reca_fin_ult1',\n",
       " 'ind_recibo_ult1 ind_cno_fin_ult1 ind_nomina_ult1 ind_nom_pens_ult1 ind_reca_fin_ult1 ind_ecue_fin_ult1 ind_tjcr_fin_ult1',\n",
       " 'ind_recibo_ult1 ind_cno_fin_ult1 ind_nomina_ult1 ind_nom_pens_ult1 ind_reca_fin_ult1 ind_ecue_fin_ult1 ind_valo_fin_ult1',\n",
       " 'ind_cco_fin_ult1 ind_recibo_ult1 ind_cno_fin_ult1 ind_nomina_ult1 ind_nom_pens_ult1 ind_reca_fin_ult1 ind_ecue_fin_ult1',\n",
       " 'ind_recibo_ult1 ind_cno_fin_ult1 ind_nom_pens_ult1 ind_nomina_ult1 ind_reca_fin_ult1 ind_ecue_fin_ult1 ind_dela_fin_ult1',\n",
       " 'ind_recibo_ult1 ind_nom_pens_ult1 ind_nomina_ult1 ind_cno_fin_ult1 ind_tjcr_fin_ult1 ind_ecue_fin_ult1 ind_reca_fin_ult1',\n",
       " 'ind_nom_pens_ult1 ind_nomina_ult1 ind_tjcr_fin_ult1 ind_cno_fin_ult1 ind_ecue_fin_ult1 ind_reca_fin_ult1 ind_dela_fin_ult1',\n",
       " 'ind_recibo_ult1 ind_cno_fin_ult1 ind_nomina_ult1 ind_nom_pens_ult1 ind_reca_fin_ult1 ind_ecue_fin_ult1 ind_tjcr_fin_ult1',\n",
       " 'ind_recibo_ult1 ind_cno_fin_ult1 ind_nomina_ult1 ind_nom_pens_ult1 ind_reca_fin_ult1 ind_ecue_fin_ult1 ind_tjcr_fin_ult1',\n",
       " 'ind_recibo_ult1 ind_nomina_ult1 ind_nom_pens_ult1 ind_cno_fin_ult1 ind_tjcr_fin_ult1 ind_reca_fin_ult1 ind_ecue_fin_ult1',\n",
       " 'ind_recibo_ult1 ind_cno_fin_ult1 ind_nomina_ult1 ind_nom_pens_ult1 ind_reca_fin_ult1 ind_ecue_fin_ult1 ind_valo_fin_ult1',\n",
       " 'ind_nom_pens_ult1 ind_nomina_ult1 ind_cno_fin_ult1 ind_tjcr_fin_ult1 ind_reca_fin_ult1 ind_ecue_fin_ult1 ind_valo_fin_ult1',\n",
       " 'ind_recibo_ult1 ind_nom_pens_ult1 ind_nomina_ult1 ind_cco_fin_ult1 ind_tjcr_fin_ult1 ind_ecue_fin_ult1 ind_reca_fin_ult1',\n",
       " 'ind_recibo_ult1 ind_cno_fin_ult1 ind_nomina_ult1 ind_nom_pens_ult1 ind_reca_fin_ult1 ind_ecue_fin_ult1 ind_tjcr_fin_ult1',\n",
       " 'ind_recibo_ult1 ind_cno_fin_ult1 ind_nom_pens_ult1 ind_nomina_ult1 ind_reca_fin_ult1 ind_ecue_fin_ult1 ind_dela_fin_ult1',\n",
       " 'ind_recibo_ult1 ind_cno_fin_ult1 ind_nom_pens_ult1 ind_nomina_ult1 ind_reca_fin_ult1 ind_ecue_fin_ult1 ind_dela_fin_ult1',\n",
       " 'ind_recibo_ult1 ind_cno_fin_ult1 ind_nomina_ult1 ind_nom_pens_ult1 ind_reca_fin_ult1 ind_ecue_fin_ult1 ind_valo_fin_ult1',\n",
       " 'ind_nom_pens_ult1 ind_nomina_ult1 ind_cno_fin_ult1 ind_tjcr_fin_ult1 ind_reca_fin_ult1 ind_ecue_fin_ult1 ind_valo_fin_ult1',\n",
       " 'ind_recibo_ult1 ind_nom_pens_ult1 ind_nomina_ult1 ind_cno_fin_ult1 ind_reca_fin_ult1 ind_ecue_fin_ult1 ind_valo_fin_ult1',\n",
       " 'ind_recibo_ult1 ind_cno_fin_ult1 ind_nom_pens_ult1 ind_nomina_ult1 ind_reca_fin_ult1 ind_ecue_fin_ult1 ind_tjcr_fin_ult1',\n",
       " 'ind_recibo_ult1 ind_nomina_ult1 ind_nom_pens_ult1 ind_cno_fin_ult1 ind_reca_fin_ult1 ind_ecue_fin_ult1 ind_tjcr_fin_ult1',\n",
       " 'ind_recibo_ult1 ind_nom_pens_ult1 ind_nomina_ult1 ind_cno_fin_ult1 ind_tjcr_fin_ult1 ind_reca_fin_ult1 ind_ecue_fin_ult1',\n",
       " 'ind_recibo_ult1 ind_cno_fin_ult1 ind_nomina_ult1 ind_nom_pens_ult1 ind_reca_fin_ult1 ind_ecue_fin_ult1 ind_valo_fin_ult1',\n",
       " 'ind_recibo_ult1 ind_nom_pens_ult1 ind_nomina_ult1 ind_cno_fin_ult1 ind_tjcr_fin_ult1 ind_ecue_fin_ult1 ind_reca_fin_ult1',\n",
       " 'ind_recibo_ult1 ind_nom_pens_ult1 ind_nomina_ult1 ind_cno_fin_ult1 ind_tjcr_fin_ult1 ind_ecue_fin_ult1 ind_reca_fin_ult1',\n",
       " 'ind_recibo_ult1 ind_cno_fin_ult1 ind_nomina_ult1 ind_nom_pens_ult1 ind_reca_fin_ult1 ind_ecue_fin_ult1 ind_tjcr_fin_ult1',\n",
       " 'ind_tjcr_fin_ult1 ind_cco_fin_ult1 ind_ecue_fin_ult1 ind_reca_fin_ult1 ind_dela_fin_ult1 ind_fond_fin_ult1 ind_valo_fin_ult1',\n",
       " 'ind_cco_fin_ult1 ind_recibo_ult1 ind_cno_fin_ult1 ind_nomina_ult1 ind_nom_pens_ult1 ind_ecue_fin_ult1 ind_tjcr_fin_ult1',\n",
       " 'ind_recibo_ult1 ind_cno_fin_ult1 ind_nomina_ult1 ind_nom_pens_ult1 ind_reca_fin_ult1 ind_ecue_fin_ult1 ind_valo_fin_ult1',\n",
       " 'ind_recibo_ult1 ind_nomina_ult1 ind_nom_pens_ult1 ind_cno_fin_ult1 ind_tjcr_fin_ult1 ind_reca_fin_ult1 ind_ecue_fin_ult1',\n",
       " 'ind_recibo_ult1 ind_cno_fin_ult1 ind_nomina_ult1 ind_nom_pens_ult1 ind_reca_fin_ult1 ind_ecue_fin_ult1 ind_valo_fin_ult1',\n",
       " 'ind_recibo_ult1 ind_cno_fin_ult1 ind_nomina_ult1 ind_nom_pens_ult1 ind_reca_fin_ult1 ind_ecue_fin_ult1 ind_dela_fin_ult1',\n",
       " 'ind_nom_pens_ult1 ind_nomina_ult1 ind_tjcr_fin_ult1 ind_cno_fin_ult1 ind_ecue_fin_ult1 ind_reca_fin_ult1 ind_dela_fin_ult1',\n",
       " 'ind_recibo_ult1 ind_cno_fin_ult1 ind_nomina_ult1 ind_nom_pens_ult1 ind_reca_fin_ult1 ind_dela_fin_ult1 ind_ecue_fin_ult1',\n",
       " 'ind_cco_fin_ult1 ind_recibo_ult1 ind_cno_fin_ult1 ind_ecue_fin_ult1 ind_nom_pens_ult1 ind_nomina_ult1 ind_reca_fin_ult1',\n",
       " 'ind_recibo_ult1 ind_cno_fin_ult1 ind_nomina_ult1 ind_nom_pens_ult1 ind_reca_fin_ult1 ind_ecue_fin_ult1 ind_tjcr_fin_ult1',\n",
       " 'ind_tjcr_fin_ult1 ind_cco_fin_ult1 ind_ecue_fin_ult1 ind_reca_fin_ult1 ind_dela_fin_ult1 ind_valo_fin_ult1 ind_fond_fin_ult1',\n",
       " 'ind_recibo_ult1 ind_cno_fin_ult1 ind_nom_pens_ult1 ind_nomina_ult1 ind_reca_fin_ult1 ind_ecue_fin_ult1 ind_tjcr_fin_ult1',\n",
       " 'ind_cco_fin_ult1 ind_recibo_ult1 ind_cno_fin_ult1 ind_ecue_fin_ult1 ind_nom_pens_ult1 ind_nomina_ult1 ind_reca_fin_ult1',\n",
       " 'ind_recibo_ult1 ind_nom_pens_ult1 ind_nomina_ult1 ind_cno_fin_ult1 ind_tjcr_fin_ult1 ind_ecue_fin_ult1 ind_reca_fin_ult1',\n",
       " 'ind_recibo_ult1 ind_nom_pens_ult1 ind_nomina_ult1 ind_cno_fin_ult1 ind_tjcr_fin_ult1 ind_ecue_fin_ult1 ind_reca_fin_ult1',\n",
       " 'ind_recibo_ult1 ind_nom_pens_ult1 ind_nomina_ult1 ind_cco_fin_ult1 ind_tjcr_fin_ult1 ind_ecue_fin_ult1 ind_reca_fin_ult1',\n",
       " 'ind_cco_fin_ult1 ind_nom_pens_ult1 ind_nomina_ult1 ind_tjcr_fin_ult1 ind_reca_fin_ult1 ind_dela_fin_ult1 ind_fond_fin_ult1',\n",
       " 'ind_recibo_ult1 ind_nom_pens_ult1 ind_nomina_ult1 ind_cno_fin_ult1 ind_tjcr_fin_ult1 ind_ecue_fin_ult1 ind_reca_fin_ult1',\n",
       " 'ind_recibo_ult1 ind_nom_pens_ult1 ind_nomina_ult1 ind_cno_fin_ult1 ind_tjcr_fin_ult1 ind_reca_fin_ult1 ind_ecue_fin_ult1',\n",
       " 'ind_recibo_ult1 ind_nom_pens_ult1 ind_nomina_ult1 ind_tjcr_fin_ult1 ind_cno_fin_ult1 ind_reca_fin_ult1 ind_dela_fin_ult1',\n",
       " 'ind_recibo_ult1 ind_nom_pens_ult1 ind_nomina_ult1 ind_cno_fin_ult1 ind_tjcr_fin_ult1 ind_reca_fin_ult1 ind_ecue_fin_ult1',\n",
       " 'ind_recibo_ult1 ind_cco_fin_ult1 ind_cno_fin_ult1 ind_nomina_ult1 ind_nom_pens_ult1 ind_reca_fin_ult1 ind_ecue_fin_ult1',\n",
       " 'ind_recibo_ult1 ind_cno_fin_ult1 ind_ecue_fin_ult1 ind_nom_pens_ult1 ind_reca_fin_ult1 ind_nomina_ult1 ind_tjcr_fin_ult1',\n",
       " 'ind_recibo_ult1 ind_nom_pens_ult1 ind_nomina_ult1 ind_cno_fin_ult1 ind_tjcr_fin_ult1 ind_ecue_fin_ult1 ind_reca_fin_ult1',\n",
       " 'ind_cco_fin_ult1 ind_ecue_fin_ult1 ind_reca_fin_ult1 ind_dela_fin_ult1 ind_fond_fin_ult1 ind_valo_fin_ult1 ind_ctma_fin_ult1',\n",
       " 'ind_recibo_ult1 ind_cco_fin_ult1 ind_cno_fin_ult1 ind_nomina_ult1 ind_nom_pens_ult1 ind_reca_fin_ult1 ind_ecue_fin_ult1',\n",
       " 'ind_nom_pens_ult1 ind_nomina_ult1 ind_cno_fin_ult1 ind_tjcr_fin_ult1 ind_ecue_fin_ult1 ind_reca_fin_ult1 ind_ctma_fin_ult1',\n",
       " 'ind_recibo_ult1 ind_cno_fin_ult1 ind_nomina_ult1 ind_nom_pens_ult1 ind_reca_fin_ult1 ind_ecue_fin_ult1 ind_valo_fin_ult1',\n",
       " 'ind_recibo_ult1 ind_nom_pens_ult1 ind_nomina_ult1 ind_cno_fin_ult1 ind_tjcr_fin_ult1 ind_ecue_fin_ult1 ind_reca_fin_ult1',\n",
       " 'ind_recibo_ult1 ind_nom_pens_ult1 ind_nomina_ult1 ind_tjcr_fin_ult1 ind_cno_fin_ult1 ind_ecue_fin_ult1 ind_reca_fin_ult1',\n",
       " 'ind_recibo_ult1 ind_cno_fin_ult1 ind_nom_pens_ult1 ind_nomina_ult1 ind_reca_fin_ult1 ind_ecue_fin_ult1 ind_dela_fin_ult1',\n",
       " 'ind_recibo_ult1 ind_cno_fin_ult1 ind_nomina_ult1 ind_nom_pens_ult1 ind_ecue_fin_ult1 ind_reca_fin_ult1 ind_tjcr_fin_ult1',\n",
       " 'ind_recibo_ult1 ind_cno_fin_ult1 ind_nom_pens_ult1 ind_nomina_ult1 ind_ecue_fin_ult1 ind_reca_fin_ult1 ind_tjcr_fin_ult1',\n",
       " 'ind_recibo_ult1 ind_nomina_ult1 ind_nom_pens_ult1 ind_cno_fin_ult1 ind_tjcr_fin_ult1 ind_ecue_fin_ult1 ind_reca_fin_ult1',\n",
       " 'ind_recibo_ult1 ind_nomina_ult1 ind_nom_pens_ult1 ind_cno_fin_ult1 ind_tjcr_fin_ult1 ind_reca_fin_ult1 ind_ecue_fin_ult1',\n",
       " 'ind_tjcr_fin_ult1 ind_cco_fin_ult1 ind_reca_fin_ult1 ind_dela_fin_ult1 ind_fond_fin_ult1 ind_valo_fin_ult1 ind_ctma_fin_ult1',\n",
       " 'ind_recibo_ult1 ind_nom_pens_ult1 ind_nomina_ult1 ind_cno_fin_ult1 ind_tjcr_fin_ult1 ind_ecue_fin_ult1 ind_reca_fin_ult1',\n",
       " 'ind_recibo_ult1 ind_nomina_ult1 ind_nom_pens_ult1 ind_cno_fin_ult1 ind_reca_fin_ult1 ind_ecue_fin_ult1 ind_tjcr_fin_ult1',\n",
       " 'ind_recibo_ult1 ind_nom_pens_ult1 ind_nomina_ult1 ind_cno_fin_ult1 ind_tjcr_fin_ult1 ind_reca_fin_ult1 ind_ecue_fin_ult1',\n",
       " 'ind_recibo_ult1 ind_nom_pens_ult1 ind_nomina_ult1 ind_cno_fin_ult1 ind_tjcr_fin_ult1 ind_reca_fin_ult1 ind_ecue_fin_ult1',\n",
       " 'ind_recibo_ult1 ind_cno_fin_ult1 ind_nomina_ult1 ind_nom_pens_ult1 ind_reca_fin_ult1 ind_ecue_fin_ult1 ind_valo_fin_ult1',\n",
       " 'ind_cco_fin_ult1 ind_recibo_ult1 ind_cno_fin_ult1 ind_nom_pens_ult1 ind_nomina_ult1 ind_ecue_fin_ult1 ind_reca_fin_ult1',\n",
       " 'ind_recibo_ult1 ind_nom_pens_ult1 ind_nomina_ult1 ind_tjcr_fin_ult1 ind_cno_fin_ult1 ind_ecue_fin_ult1 ind_reca_fin_ult1',\n",
       " 'ind_tjcr_fin_ult1 ind_cco_fin_ult1 ind_ecue_fin_ult1 ind_reca_fin_ult1 ind_dela_fin_ult1 ind_valo_fin_ult1 ind_ctma_fin_ult1',\n",
       " 'ind_recibo_ult1 ind_tjcr_fin_ult1 ind_nom_pens_ult1 ind_nomina_ult1 ind_cno_fin_ult1 ind_ecue_fin_ult1 ind_reca_fin_ult1',\n",
       " 'ind_recibo_ult1 ind_cno_fin_ult1 ind_nomina_ult1 ind_nom_pens_ult1 ind_reca_fin_ult1 ind_ecue_fin_ult1 ind_tjcr_fin_ult1',\n",
       " 'ind_recibo_ult1 ind_tjcr_fin_ult1 ind_cco_fin_ult1 ind_reca_fin_ult1 ind_dela_fin_ult1 ind_fond_fin_ult1 ind_valo_fin_ult1',\n",
       " 'ind_cco_fin_ult1 ind_recibo_ult1 ind_ecue_fin_ult1 ind_nom_pens_ult1 ind_cno_fin_ult1 ind_dela_fin_ult1 ind_nomina_ult1',\n",
       " 'ind_recibo_ult1 ind_cno_fin_ult1 ind_nomina_ult1 ind_nom_pens_ult1 ind_reca_fin_ult1 ind_ecue_fin_ult1 ind_tjcr_fin_ult1',\n",
       " 'ind_nom_pens_ult1 ind_nomina_ult1 ind_cco_fin_ult1 ind_tjcr_fin_ult1 ind_ecue_fin_ult1 ind_reca_fin_ult1 ind_valo_fin_ult1',\n",
       " 'ind_recibo_ult1 ind_cno_fin_ult1 ind_nomina_ult1 ind_nom_pens_ult1 ind_reca_fin_ult1 ind_ecue_fin_ult1 ind_tjcr_fin_ult1',\n",
       " 'ind_recibo_ult1 ind_nomina_ult1 ind_cno_fin_ult1 ind_nom_pens_ult1 ind_reca_fin_ult1 ind_ecue_fin_ult1 ind_tjcr_fin_ult1',\n",
       " 'ind_cco_fin_ult1 ind_recibo_ult1 ind_cno_fin_ult1 ind_nom_pens_ult1 ind_nomina_ult1 ind_ecue_fin_ult1 ind_reca_fin_ult1',\n",
       " 'ind_recibo_ult1 ind_nom_pens_ult1 ind_tjcr_fin_ult1 ind_nomina_ult1 ind_cno_fin_ult1 ind_reca_fin_ult1 ind_dela_fin_ult1',\n",
       " 'ind_cco_fin_ult1 ind_recibo_ult1 ind_cno_fin_ult1 ind_nom_pens_ult1 ind_nomina_ult1 ind_ecue_fin_ult1 ind_reca_fin_ult1',\n",
       " 'ind_nom_pens_ult1 ind_nomina_ult1 ind_cco_fin_ult1 ind_tjcr_fin_ult1 ind_ecue_fin_ult1 ind_reca_fin_ult1 ind_dela_fin_ult1',\n",
       " 'ind_recibo_ult1 ind_cno_fin_ult1 ind_nomina_ult1 ind_nom_pens_ult1 ind_reca_fin_ult1 ind_ecue_fin_ult1 ind_dela_fin_ult1',\n",
       " 'ind_nom_pens_ult1 ind_nomina_ult1 ind_cno_fin_ult1 ind_tjcr_fin_ult1 ind_ecue_fin_ult1 ind_reca_fin_ult1 ind_valo_fin_ult1',\n",
       " 'ind_nom_pens_ult1 ind_nomina_ult1 ind_tjcr_fin_ult1 ind_cno_fin_ult1 ind_ecue_fin_ult1 ind_reca_fin_ult1 ind_dela_fin_ult1',\n",
       " 'ind_recibo_ult1 ind_cno_fin_ult1 ind_nomina_ult1 ind_nom_pens_ult1 ind_reca_fin_ult1 ind_ecue_fin_ult1 ind_tjcr_fin_ult1',\n",
       " 'ind_cco_fin_ult1 ind_recibo_ult1 ind_cno_fin_ult1 ind_nom_pens_ult1 ind_nomina_ult1 ind_ecue_fin_ult1 ind_reca_fin_ult1',\n",
       " 'ind_recibo_ult1 ind_nom_pens_ult1 ind_nomina_ult1 ind_tjcr_fin_ult1 ind_cno_fin_ult1 ind_ecue_fin_ult1 ind_reca_fin_ult1',\n",
       " 'ind_recibo_ult1 ind_cno_fin_ult1 ind_nomina_ult1 ind_nom_pens_ult1 ind_reca_fin_ult1 ind_ecue_fin_ult1 ind_tjcr_fin_ult1',\n",
       " 'ind_recibo_ult1 ind_cno_fin_ult1 ind_nomina_ult1 ind_nom_pens_ult1 ind_reca_fin_ult1 ind_ecue_fin_ult1 ind_tjcr_fin_ult1',\n",
       " 'ind_recibo_ult1 ind_nom_pens_ult1 ind_nomina_ult1 ind_cno_fin_ult1 ind_tjcr_fin_ult1 ind_reca_fin_ult1 ind_ecue_fin_ult1',\n",
       " 'ind_cco_fin_ult1 ind_recibo_ult1 ind_cno_fin_ult1 ind_nom_pens_ult1 ind_nomina_ult1 ind_tjcr_fin_ult1 ind_ecue_fin_ult1',\n",
       " 'ind_recibo_ult1 ind_nom_pens_ult1 ind_nomina_ult1 ind_cno_fin_ult1 ind_tjcr_fin_ult1 ind_ecue_fin_ult1 ind_reca_fin_ult1',\n",
       " 'ind_recibo_ult1 ind_cno_fin_ult1 ind_nomina_ult1 ind_nom_pens_ult1 ind_reca_fin_ult1 ind_ecue_fin_ult1 ind_tjcr_fin_ult1',\n",
       " 'ind_recibo_ult1 ind_cno_fin_ult1 ind_nomina_ult1 ind_nom_pens_ult1 ind_reca_fin_ult1 ind_ecue_fin_ult1 ind_tjcr_fin_ult1',\n",
       " 'ind_recibo_ult1 ind_cno_fin_ult1 ind_nomina_ult1 ind_nom_pens_ult1 ind_reca_fin_ult1 ind_ecue_fin_ult1 ind_tjcr_fin_ult1',\n",
       " 'ind_recibo_ult1 ind_cno_fin_ult1 ind_nom_pens_ult1 ind_nomina_ult1 ind_reca_fin_ult1 ind_ecue_fin_ult1 ind_tjcr_fin_ult1',\n",
       " 'ind_recibo_ult1 ind_nom_pens_ult1 ind_nomina_ult1 ind_cno_fin_ult1 ind_tjcr_fin_ult1 ind_ecue_fin_ult1 ind_reca_fin_ult1',\n",
       " 'ind_recibo_ult1 ind_cno_fin_ult1 ind_nomina_ult1 ind_nom_pens_ult1 ind_reca_fin_ult1 ind_ecue_fin_ult1 ind_tjcr_fin_ult1',\n",
       " 'ind_recibo_ult1 ind_nomina_ult1 ind_nom_pens_ult1 ind_cno_fin_ult1 ind_tjcr_fin_ult1 ind_reca_fin_ult1 ind_ecue_fin_ult1',\n",
       " 'ind_recibo_ult1 ind_cno_fin_ult1 ind_nom_pens_ult1 ind_nomina_ult1 ind_reca_fin_ult1 ind_ecue_fin_ult1 ind_tjcr_fin_ult1',\n",
       " 'ind_recibo_ult1 ind_cno_fin_ult1 ind_nomina_ult1 ind_nom_pens_ult1 ind_reca_fin_ult1 ind_ecue_fin_ult1 ind_tjcr_fin_ult1',\n",
       " 'ind_nom_pens_ult1 ind_nomina_ult1 ind_cno_fin_ult1 ind_ecue_fin_ult1 ind_reca_fin_ult1 ind_dela_fin_ult1 ind_fond_fin_ult1',\n",
       " 'ind_recibo_ult1 ind_cco_fin_ult1 ind_cno_fin_ult1 ind_nom_pens_ult1 ind_nomina_ult1 ind_reca_fin_ult1 ind_ecue_fin_ult1',\n",
       " 'ind_recibo_ult1 ind_cno_fin_ult1 ind_nomina_ult1 ind_nom_pens_ult1 ind_reca_fin_ult1 ind_ecue_fin_ult1 ind_valo_fin_ult1',\n",
       " 'ind_recibo_ult1 ind_cno_fin_ult1 ind_nomina_ult1 ind_nom_pens_ult1 ind_reca_fin_ult1 ind_ecue_fin_ult1 ind_valo_fin_ult1',\n",
       " 'ind_recibo_ult1 ind_nom_pens_ult1 ind_nomina_ult1 ind_cno_fin_ult1 ind_tjcr_fin_ult1 ind_reca_fin_ult1 ind_ecue_fin_ult1',\n",
       " 'ind_recibo_ult1 ind_nom_pens_ult1 ind_nomina_ult1 ind_cno_fin_ult1 ind_tjcr_fin_ult1 ind_ecue_fin_ult1 ind_reca_fin_ult1',\n",
       " 'ind_recibo_ult1 ind_nomina_ult1 ind_cno_fin_ult1 ind_nom_pens_ult1 ind_reca_fin_ult1 ind_ecue_fin_ult1 ind_tjcr_fin_ult1',\n",
       " 'ind_cco_fin_ult1 ind_tjcr_fin_ult1 ind_ecue_fin_ult1 ind_fond_fin_ult1 ind_valo_fin_ult1 ind_reca_fin_ult1 ind_dela_fin_ult1',\n",
       " 'ind_recibo_ult1 ind_nom_pens_ult1 ind_nomina_ult1 ind_cno_fin_ult1 ind_tjcr_fin_ult1 ind_ecue_fin_ult1 ind_reca_fin_ult1',\n",
       " 'ind_recibo_ult1 ind_cno_fin_ult1 ind_nomina_ult1 ind_nom_pens_ult1 ind_reca_fin_ult1 ind_ecue_fin_ult1 ind_tjcr_fin_ult1',\n",
       " 'ind_recibo_ult1 ind_cno_fin_ult1 ind_nomina_ult1 ind_nom_pens_ult1 ind_reca_fin_ult1 ind_ecue_fin_ult1 ind_valo_fin_ult1',\n",
       " 'ind_nom_pens_ult1 ind_nomina_ult1 ind_cno_fin_ult1 ind_tjcr_fin_ult1 ind_ecue_fin_ult1 ind_reca_fin_ult1 ind_valo_fin_ult1',\n",
       " 'ind_recibo_ult1 ind_nom_pens_ult1 ind_nomina_ult1 ind_cno_fin_ult1 ind_tjcr_fin_ult1 ind_reca_fin_ult1 ind_ecue_fin_ult1',\n",
       " 'ind_recibo_ult1 ind_cno_fin_ult1 ind_nomina_ult1 ind_nom_pens_ult1 ind_reca_fin_ult1 ind_ecue_fin_ult1 ind_valo_fin_ult1',\n",
       " 'ind_recibo_ult1 ind_cno_fin_ult1 ind_nomina_ult1 ind_nom_pens_ult1 ind_reca_fin_ult1 ind_ecue_fin_ult1 ind_tjcr_fin_ult1',\n",
       " 'ind_recibo_ult1 ind_cno_fin_ult1 ind_nom_pens_ult1 ind_nomina_ult1 ind_ecue_fin_ult1 ind_reca_fin_ult1 ind_dela_fin_ult1',\n",
       " 'ind_recibo_ult1 ind_nom_pens_ult1 ind_nomina_ult1 ind_cno_fin_ult1 ind_ecue_fin_ult1 ind_reca_fin_ult1 ind_valo_fin_ult1',\n",
       " 'ind_recibo_ult1 ind_cno_fin_ult1 ind_nomina_ult1 ind_nom_pens_ult1 ind_ecue_fin_ult1 ind_reca_fin_ult1 ind_tjcr_fin_ult1',\n",
       " 'ind_recibo_ult1 ind_cno_fin_ult1 ind_nom_pens_ult1 ind_nomina_ult1 ind_reca_fin_ult1 ind_ecue_fin_ult1 ind_tjcr_fin_ult1',\n",
       " 'ind_recibo_ult1 ind_cno_fin_ult1 ind_nomina_ult1 ind_nom_pens_ult1 ind_reca_fin_ult1 ind_ecue_fin_ult1 ind_valo_fin_ult1',\n",
       " 'ind_recibo_ult1 ind_cno_fin_ult1 ind_nomina_ult1 ind_nom_pens_ult1 ind_reca_fin_ult1 ind_ecue_fin_ult1 ind_tjcr_fin_ult1',\n",
       " 'ind_recibo_ult1 ind_cno_fin_ult1 ind_nomina_ult1 ind_nom_pens_ult1 ind_reca_fin_ult1 ind_ecue_fin_ult1 ind_valo_fin_ult1',\n",
       " 'ind_recibo_ult1 ind_cno_fin_ult1 ind_nomina_ult1 ind_nom_pens_ult1 ind_reca_fin_ult1 ind_ecue_fin_ult1 ind_tjcr_fin_ult1',\n",
       " 'ind_recibo_ult1 ind_cno_fin_ult1 ind_nomina_ult1 ind_nom_pens_ult1 ind_reca_fin_ult1 ind_ecue_fin_ult1 ind_tjcr_fin_ult1',\n",
       " 'ind_recibo_ult1 ind_cno_fin_ult1 ind_nomina_ult1 ind_nom_pens_ult1 ind_reca_fin_ult1 ind_ecue_fin_ult1 ind_valo_fin_ult1',\n",
       " 'ind_recibo_ult1 ind_cno_fin_ult1 ind_nomina_ult1 ind_nom_pens_ult1 ind_reca_fin_ult1 ind_ecue_fin_ult1 ind_tjcr_fin_ult1',\n",
       " 'ind_recibo_ult1 ind_cco_fin_ult1 ind_cno_fin_ult1 ind_nom_pens_ult1 ind_nomina_ult1 ind_reca_fin_ult1 ind_ecue_fin_ult1',\n",
       " 'ind_recibo_ult1 ind_cno_fin_ult1 ind_nomina_ult1 ind_nom_pens_ult1 ind_ecue_fin_ult1 ind_reca_fin_ult1 ind_tjcr_fin_ult1',\n",
       " 'ind_recibo_ult1 ind_cno_fin_ult1 ind_nom_pens_ult1 ind_nomina_ult1 ind_reca_fin_ult1 ind_ecue_fin_ult1 ind_dela_fin_ult1',\n",
       " 'ind_recibo_ult1 ind_cno_fin_ult1 ind_nomina_ult1 ind_nom_pens_ult1 ind_reca_fin_ult1 ind_ecue_fin_ult1 ind_valo_fin_ult1',\n",
       " 'ind_recibo_ult1 ind_cno_fin_ult1 ind_nomina_ult1 ind_nom_pens_ult1 ind_reca_fin_ult1 ind_ecue_fin_ult1 ind_tjcr_fin_ult1',\n",
       " 'ind_recibo_ult1 ind_cno_fin_ult1 ind_nom_pens_ult1 ind_nomina_ult1 ind_reca_fin_ult1 ind_ecue_fin_ult1 ind_tjcr_fin_ult1',\n",
       " 'ind_nom_pens_ult1 ind_nomina_ult1 ind_cno_fin_ult1 ind_tjcr_fin_ult1 ind_reca_fin_ult1 ind_ecue_fin_ult1 ind_valo_fin_ult1',\n",
       " 'ind_recibo_ult1 ind_cno_fin_ult1 ind_nom_pens_ult1 ind_nomina_ult1 ind_ecue_fin_ult1 ind_reca_fin_ult1 ind_tjcr_fin_ult1',\n",
       " 'ind_recibo_ult1 ind_cno_fin_ult1 ind_nom_pens_ult1 ind_nomina_ult1 ind_reca_fin_ult1 ind_ecue_fin_ult1 ind_tjcr_fin_ult1',\n",
       " 'ind_nom_pens_ult1 ind_nomina_ult1 ind_cno_fin_ult1 ind_tjcr_fin_ult1 ind_reca_fin_ult1 ind_ecue_fin_ult1 ind_valo_fin_ult1',\n",
       " 'ind_recibo_ult1 ind_nom_pens_ult1 ind_nomina_ult1 ind_cno_fin_ult1 ind_ecue_fin_ult1 ind_reca_fin_ult1 ind_tjcr_fin_ult1',\n",
       " 'ind_recibo_ult1 ind_nom_pens_ult1 ind_nomina_ult1 ind_cno_fin_ult1 ind_tjcr_fin_ult1 ind_reca_fin_ult1 ind_ecue_fin_ult1',\n",
       " 'ind_recibo_ult1 ind_cno_fin_ult1 ind_nomina_ult1 ind_nom_pens_ult1 ind_reca_fin_ult1 ind_ecue_fin_ult1 ind_tjcr_fin_ult1',\n",
       " 'ind_recibo_ult1 ind_cno_fin_ult1 ind_nomina_ult1 ind_nom_pens_ult1 ind_reca_fin_ult1 ind_ecue_fin_ult1 ind_tjcr_fin_ult1',\n",
       " 'ind_recibo_ult1 ind_nom_pens_ult1 ind_nomina_ult1 ind_cno_fin_ult1 ind_ecue_fin_ult1 ind_tjcr_fin_ult1 ind_reca_fin_ult1',\n",
       " 'ind_recibo_ult1 ind_cno_fin_ult1 ind_nomina_ult1 ind_nom_pens_ult1 ind_reca_fin_ult1 ind_ecue_fin_ult1 ind_tjcr_fin_ult1',\n",
       " 'ind_recibo_ult1 ind_cno_fin_ult1 ind_nomina_ult1 ind_nom_pens_ult1 ind_reca_fin_ult1 ind_ecue_fin_ult1 ind_valo_fin_ult1',\n",
       " 'ind_recibo_ult1 ind_cno_fin_ult1 ind_nomina_ult1 ind_nom_pens_ult1 ind_reca_fin_ult1 ind_ecue_fin_ult1 ind_tjcr_fin_ult1',\n",
       " 'ind_cco_fin_ult1 ind_tjcr_fin_ult1 ind_ecue_fin_ult1 ind_reca_fin_ult1 ind_dela_fin_ult1 ind_valo_fin_ult1 ind_ctma_fin_ult1',\n",
       " 'ind_recibo_ult1 ind_nom_pens_ult1 ind_nomina_ult1 ind_cno_fin_ult1 ind_tjcr_fin_ult1 ind_ecue_fin_ult1 ind_reca_fin_ult1',\n",
       " 'ind_recibo_ult1 ind_ecue_fin_ult1 ind_cno_fin_ult1 ind_nom_pens_ult1 ind_nomina_ult1 ind_reca_fin_ult1 ind_dela_fin_ult1',\n",
       " 'ind_nom_pens_ult1 ind_nomina_ult1 ind_cco_fin_ult1 ind_tjcr_fin_ult1 ind_ecue_fin_ult1 ind_reca_fin_ult1 ind_valo_fin_ult1',\n",
       " 'ind_recibo_ult1 ind_cno_fin_ult1 ind_ecue_fin_ult1 ind_nom_pens_ult1 ind_nomina_ult1 ind_reca_fin_ult1 ind_tjcr_fin_ult1',\n",
       " 'ind_tjcr_fin_ult1 ind_cco_fin_ult1 ind_ecue_fin_ult1 ind_dela_fin_ult1 ind_fond_fin_ult1 ind_valo_fin_ult1 ind_ctma_fin_ult1',\n",
       " 'ind_recibo_ult1 ind_nom_pens_ult1 ind_nomina_ult1 ind_cno_fin_ult1 ind_ecue_fin_ult1 ind_reca_fin_ult1 ind_ctma_fin_ult1',\n",
       " 'ind_nomina_ult1 ind_nom_pens_ult1 ind_tjcr_fin_ult1 ind_cno_fin_ult1 ind_ecue_fin_ult1 ind_reca_fin_ult1 ind_dela_fin_ult1',\n",
       " 'ind_nom_pens_ult1 ind_nomina_ult1 ind_tjcr_fin_ult1 ind_cno_fin_ult1 ind_ecue_fin_ult1 ind_reca_fin_ult1 ind_valo_fin_ult1',\n",
       " 'ind_nom_pens_ult1 ind_nomina_ult1 ind_cno_fin_ult1 ind_tjcr_fin_ult1 ind_ecue_fin_ult1 ind_reca_fin_ult1 ind_valo_fin_ult1',\n",
       " 'ind_recibo_ult1 ind_cno_fin_ult1 ind_nomina_ult1 ind_nom_pens_ult1 ind_reca_fin_ult1 ind_ecue_fin_ult1 ind_valo_fin_ult1',\n",
       " 'ind_cco_fin_ult1 ind_recibo_ult1 ind_cno_fin_ult1 ind_nomina_ult1 ind_nom_pens_ult1 ind_ecue_fin_ult1 ind_reca_fin_ult1',\n",
       " 'ind_nom_pens_ult1 ind_nomina_ult1 ind_cno_fin_ult1 ind_tjcr_fin_ult1 ind_ecue_fin_ult1 ind_reca_fin_ult1 ind_valo_fin_ult1',\n",
       " 'ind_tjcr_fin_ult1 ind_cco_fin_ult1 ind_ecue_fin_ult1 ind_reca_fin_ult1 ind_dela_fin_ult1 ind_valo_fin_ult1 ind_fond_fin_ult1',\n",
       " 'ind_cco_fin_ult1 ind_recibo_ult1 ind_ecue_fin_ult1 ind_cno_fin_ult1 ind_dela_fin_ult1 ind_nom_pens_ult1 ind_nomina_ult1',\n",
       " 'ind_cco_fin_ult1 ind_tjcr_fin_ult1 ind_reca_fin_ult1 ind_fond_fin_ult1 ind_dela_fin_ult1 ind_ctma_fin_ult1 ind_valo_fin_ult1',\n",
       " 'ind_tjcr_fin_ult1 ind_cco_fin_ult1 ind_ecue_fin_ult1 ind_reca_fin_ult1 ind_dela_fin_ult1 ind_valo_fin_ult1 ind_fond_fin_ult1',\n",
       " 'ind_recibo_ult1 ind_cno_fin_ult1 ind_nom_pens_ult1 ind_nomina_ult1 ind_ecue_fin_ult1 ind_reca_fin_ult1 ind_tjcr_fin_ult1',\n",
       " 'ind_recibo_ult1 ind_nom_pens_ult1 ind_nomina_ult1 ind_tjcr_fin_ult1 ind_cno_fin_ult1 ind_ecue_fin_ult1 ind_reca_fin_ult1',\n",
       " 'ind_recibo_ult1 ind_tjcr_fin_ult1 ind_nom_pens_ult1 ind_cno_fin_ult1 ind_nomina_ult1 ind_ecue_fin_ult1 ind_reca_fin_ult1',\n",
       " 'ind_cco_fin_ult1 ind_recibo_ult1 ind_cno_fin_ult1 ind_nom_pens_ult1 ind_ecue_fin_ult1 ind_nomina_ult1 ind_reca_fin_ult1',\n",
       " 'ind_recibo_ult1 ind_cco_fin_ult1 ind_cno_fin_ult1 ind_nom_pens_ult1 ind_nomina_ult1 ind_tjcr_fin_ult1 ind_ecue_fin_ult1',\n",
       " 'ind_recibo_ult1 ind_cno_fin_ult1 ind_nom_pens_ult1 ind_nomina_ult1 ind_ecue_fin_ult1 ind_reca_fin_ult1 ind_tjcr_fin_ult1',\n",
       " 'ind_cco_fin_ult1 ind_recibo_ult1 ind_cno_fin_ult1 ind_ecue_fin_ult1 ind_nomina_ult1 ind_nom_pens_ult1 ind_tjcr_fin_ult1',\n",
       " 'ind_recibo_ult1 ind_cno_fin_ult1 ind_nomina_ult1 ind_nom_pens_ult1 ind_reca_fin_ult1 ind_ecue_fin_ult1 ind_tjcr_fin_ult1',\n",
       " 'ind_recibo_ult1 ind_nom_pens_ult1 ind_nomina_ult1 ind_cno_fin_ult1 ind_tjcr_fin_ult1 ind_ecue_fin_ult1 ind_reca_fin_ult1',\n",
       " 'ind_recibo_ult1 ind_nom_pens_ult1 ind_tjcr_fin_ult1 ind_nomina_ult1 ind_cno_fin_ult1 ind_ecue_fin_ult1 ind_reca_fin_ult1',\n",
       " 'ind_nom_pens_ult1 ind_nomina_ult1 ind_tjcr_fin_ult1 ind_cno_fin_ult1 ind_ecue_fin_ult1 ind_reca_fin_ult1 ind_valo_fin_ult1',\n",
       " 'ind_recibo_ult1 ind_cno_fin_ult1 ind_nomina_ult1 ind_nom_pens_ult1 ind_reca_fin_ult1 ind_ecue_fin_ult1 ind_tjcr_fin_ult1',\n",
       " 'ind_recibo_ult1 ind_nom_pens_ult1 ind_nomina_ult1 ind_cno_fin_ult1 ind_tjcr_fin_ult1 ind_ecue_fin_ult1 ind_reca_fin_ult1',\n",
       " 'ind_cco_fin_ult1 ind_ecue_fin_ult1 ind_reca_fin_ult1 ind_fond_fin_ult1 ind_dela_fin_ult1 ind_ctma_fin_ult1 ind_plan_fin_ult1',\n",
       " 'ind_cco_fin_ult1 ind_recibo_ult1 ind_cno_fin_ult1 ind_nomina_ult1 ind_nom_pens_ult1 ind_reca_fin_ult1 ind_ecue_fin_ult1',\n",
       " 'ind_recibo_ult1 ind_cno_fin_ult1 ind_nomina_ult1 ind_nom_pens_ult1 ind_reca_fin_ult1 ind_ecue_fin_ult1 ind_tjcr_fin_ult1',\n",
       " 'ind_ctju_fin_ult1 ind_recibo_ult1 ind_cco_fin_ult1 ind_cno_fin_ult1 ind_nom_pens_ult1 ind_ecue_fin_ult1 ind_reca_fin_ult1',\n",
       " 'ind_cco_fin_ult1 ind_recibo_ult1 ind_cno_fin_ult1 ind_nom_pens_ult1 ind_nomina_ult1 ind_reca_fin_ult1 ind_ecue_fin_ult1',\n",
       " 'ind_recibo_ult1 ind_cno_fin_ult1 ind_nom_pens_ult1 ind_nomina_ult1 ind_ecue_fin_ult1 ind_reca_fin_ult1 ind_tjcr_fin_ult1',\n",
       " 'ind_recibo_ult1 ind_nom_pens_ult1 ind_nomina_ult1 ind_cno_fin_ult1 ind_tjcr_fin_ult1 ind_ecue_fin_ult1 ind_valo_fin_ult1',\n",
       " 'ind_recibo_ult1 ind_cno_fin_ult1 ind_nom_pens_ult1 ind_nomina_ult1 ind_reca_fin_ult1 ind_ecue_fin_ult1 ind_tjcr_fin_ult1',\n",
       " 'ind_recibo_ult1 ind_nom_pens_ult1 ind_nomina_ult1 ind_tjcr_fin_ult1 ind_cno_fin_ult1 ind_ecue_fin_ult1 ind_reca_fin_ult1',\n",
       " 'ind_recibo_ult1 ind_cno_fin_ult1 ind_nom_pens_ult1 ind_nomina_ult1 ind_reca_fin_ult1 ind_ecue_fin_ult1 ind_dela_fin_ult1',\n",
       " 'ind_recibo_ult1 ind_nom_pens_ult1 ind_nomina_ult1 ind_tjcr_fin_ult1 ind_cno_fin_ult1 ind_ecue_fin_ult1 ind_reca_fin_ult1',\n",
       " 'ind_cco_fin_ult1 ind_recibo_ult1 ind_nom_pens_ult1 ind_cno_fin_ult1 ind_nomina_ult1 ind_ecue_fin_ult1 ind_reca_fin_ult1',\n",
       " 'ind_nom_pens_ult1 ind_nomina_ult1 ind_tjcr_fin_ult1 ind_cno_fin_ult1 ind_reca_fin_ult1 ind_dela_fin_ult1 ind_valo_fin_ult1',\n",
       " 'ind_recibo_ult1 ind_cno_fin_ult1 ind_nomina_ult1 ind_nom_pens_ult1 ind_reca_fin_ult1 ind_ecue_fin_ult1 ind_valo_fin_ult1',\n",
       " 'ind_cco_fin_ult1 ind_recibo_ult1 ind_cno_fin_ult1 ind_ecue_fin_ult1 ind_nom_pens_ult1 ind_nomina_ult1 ind_reca_fin_ult1',\n",
       " 'ind_cco_fin_ult1 ind_recibo_ult1 ind_cno_fin_ult1 ind_nom_pens_ult1 ind_nomina_ult1 ind_reca_fin_ult1 ind_ecue_fin_ult1',\n",
       " 'ind_cco_fin_ult1 ind_recibo_ult1 ind_cno_fin_ult1 ind_nomina_ult1 ind_nom_pens_ult1 ind_reca_fin_ult1 ind_ecue_fin_ult1',\n",
       " 'ind_recibo_ult1 ind_cno_fin_ult1 ind_nomina_ult1 ind_nom_pens_ult1 ind_reca_fin_ult1 ind_ecue_fin_ult1 ind_tjcr_fin_ult1',\n",
       " 'ind_cco_fin_ult1 ind_recibo_ult1 ind_cno_fin_ult1 ind_nomina_ult1 ind_nom_pens_ult1 ind_reca_fin_ult1 ind_ecue_fin_ult1',\n",
       " 'ind_cco_fin_ult1 ind_recibo_ult1 ind_cno_fin_ult1 ind_nomina_ult1 ind_nom_pens_ult1 ind_ecue_fin_ult1 ind_reca_fin_ult1',\n",
       " 'ind_recibo_ult1 ind_nom_pens_ult1 ind_nomina_ult1 ind_cno_fin_ult1 ind_tjcr_fin_ult1 ind_ecue_fin_ult1 ind_reca_fin_ult1',\n",
       " 'ind_recibo_ult1 ind_cno_fin_ult1 ind_nom_pens_ult1 ind_nomina_ult1 ind_reca_fin_ult1 ind_ecue_fin_ult1 ind_dela_fin_ult1',\n",
       " 'ind_recibo_ult1 ind_cno_fin_ult1 ind_nom_pens_ult1 ind_nomina_ult1 ind_reca_fin_ult1 ind_ecue_fin_ult1 ind_valo_fin_ult1',\n",
       " 'ind_cco_fin_ult1 ind_recibo_ult1 ind_cno_fin_ult1 ind_nom_pens_ult1 ind_nomina_ult1 ind_reca_fin_ult1 ind_ecue_fin_ult1',\n",
       " 'ind_recibo_ult1 ind_cco_fin_ult1 ind_cno_fin_ult1 ind_nomina_ult1 ind_nom_pens_ult1 ind_reca_fin_ult1 ind_ecue_fin_ult1',\n",
       " 'ind_cco_fin_ult1 ind_recibo_ult1 ind_cno_fin_ult1 ind_nomina_ult1 ind_nom_pens_ult1 ind_reca_fin_ult1 ind_ecue_fin_ult1',\n",
       " 'ind_cco_fin_ult1 ind_recibo_ult1 ind_cno_fin_ult1 ind_nom_pens_ult1 ind_nomina_ult1 ind_ecue_fin_ult1 ind_reca_fin_ult1',\n",
       " 'ind_recibo_ult1 ind_nom_pens_ult1 ind_cno_fin_ult1 ind_nomina_ult1 ind_tjcr_fin_ult1 ind_ecue_fin_ult1 ind_reca_fin_ult1',\n",
       " 'ind_recibo_ult1 ind_nom_pens_ult1 ind_nomina_ult1 ind_cno_fin_ult1 ind_tjcr_fin_ult1 ind_ecue_fin_ult1 ind_reca_fin_ult1',\n",
       " 'ind_recibo_ult1 ind_cno_fin_ult1 ind_nomina_ult1 ind_nom_pens_ult1 ind_reca_fin_ult1 ind_ecue_fin_ult1 ind_tjcr_fin_ult1',\n",
       " 'ind_cco_fin_ult1 ind_recibo_ult1 ind_ecue_fin_ult1 ind_nom_pens_ult1 ind_cno_fin_ult1 ind_dela_fin_ult1 ind_reca_fin_ult1',\n",
       " 'ind_recibo_ult1 ind_cno_fin_ult1 ind_nom_pens_ult1 ind_nomina_ult1 ind_reca_fin_ult1 ind_ecue_fin_ult1 ind_dela_fin_ult1',\n",
       " 'ind_recibo_ult1 ind_cno_fin_ult1 ind_nom_pens_ult1 ind_nomina_ult1 ind_reca_fin_ult1 ind_ecue_fin_ult1 ind_tjcr_fin_ult1',\n",
       " 'ind_recibo_ult1 ind_cno_fin_ult1 ind_nomina_ult1 ind_nom_pens_ult1 ind_reca_fin_ult1 ind_ecue_fin_ult1 ind_valo_fin_ult1',\n",
       " 'ind_recibo_ult1 ind_cno_fin_ult1 ind_nomina_ult1 ind_nom_pens_ult1 ind_reca_fin_ult1 ind_ecue_fin_ult1 ind_tjcr_fin_ult1',\n",
       " 'ind_recibo_ult1 ind_cno_fin_ult1 ind_nomina_ult1 ind_nom_pens_ult1 ind_reca_fin_ult1 ind_ecue_fin_ult1 ind_tjcr_fin_ult1',\n",
       " 'ind_recibo_ult1 ind_cno_fin_ult1 ind_nomina_ult1 ind_nom_pens_ult1 ind_reca_fin_ult1 ind_ecue_fin_ult1 ind_dela_fin_ult1',\n",
       " 'ind_recibo_ult1 ind_nom_pens_ult1 ind_nomina_ult1 ind_cco_fin_ult1 ind_tjcr_fin_ult1 ind_ecue_fin_ult1 ind_reca_fin_ult1',\n",
       " 'ind_recibo_ult1 ind_cno_fin_ult1 ind_nomina_ult1 ind_nom_pens_ult1 ind_reca_fin_ult1 ind_ecue_fin_ult1 ind_dela_fin_ult1',\n",
       " 'ind_cco_fin_ult1 ind_recibo_ult1 ind_cno_fin_ult1 ind_nomina_ult1 ind_nom_pens_ult1 ind_reca_fin_ult1 ind_ecue_fin_ult1',\n",
       " 'ind_cco_fin_ult1 ind_recibo_ult1 ind_cno_fin_ult1 ind_nomina_ult1 ind_nom_pens_ult1 ind_reca_fin_ult1 ind_ecue_fin_ult1',\n",
       " 'ind_recibo_ult1 ind_cno_fin_ult1 ind_nomina_ult1 ind_nom_pens_ult1 ind_reca_fin_ult1 ind_ecue_fin_ult1 ind_tjcr_fin_ult1',\n",
       " 'ind_recibo_ult1 ind_cno_fin_ult1 ind_nomina_ult1 ind_nom_pens_ult1 ind_reca_fin_ult1 ind_ecue_fin_ult1 ind_valo_fin_ult1',\n",
       " 'ind_recibo_ult1 ind_cno_fin_ult1 ind_nomina_ult1 ind_nom_pens_ult1 ind_reca_fin_ult1 ind_ecue_fin_ult1 ind_tjcr_fin_ult1',\n",
       " 'ind_recibo_ult1 ind_cno_fin_ult1 ind_nomina_ult1 ind_nom_pens_ult1 ind_reca_fin_ult1 ind_ecue_fin_ult1 ind_dela_fin_ult1',\n",
       " 'ind_recibo_ult1 ind_cno_fin_ult1 ind_nom_pens_ult1 ind_nomina_ult1 ind_reca_fin_ult1 ind_ecue_fin_ult1 ind_valo_fin_ult1',\n",
       " 'ind_recibo_ult1 ind_nom_pens_ult1 ind_cno_fin_ult1 ind_nomina_ult1 ind_reca_fin_ult1 ind_ecue_fin_ult1 ind_dela_fin_ult1',\n",
       " 'ind_recibo_ult1 ind_cno_fin_ult1 ind_nom_pens_ult1 ind_nomina_ult1 ind_reca_fin_ult1 ind_ecue_fin_ult1 ind_dela_fin_ult1',\n",
       " 'ind_recibo_ult1 ind_cno_fin_ult1 ind_nomina_ult1 ind_nom_pens_ult1 ind_reca_fin_ult1 ind_ecue_fin_ult1 ind_tjcr_fin_ult1',\n",
       " 'ind_recibo_ult1 ind_cno_fin_ult1 ind_nomina_ult1 ind_nom_pens_ult1 ind_reca_fin_ult1 ind_ecue_fin_ult1 ind_tjcr_fin_ult1',\n",
       " 'ind_recibo_ult1 ind_cno_fin_ult1 ind_nomina_ult1 ind_nom_pens_ult1 ind_reca_fin_ult1 ind_ecue_fin_ult1 ind_tjcr_fin_ult1',\n",
       " 'ind_cco_fin_ult1 ind_ecue_fin_ult1 ind_reca_fin_ult1 ind_dela_fin_ult1 ind_valo_fin_ult1 ind_fond_fin_ult1 ind_ctma_fin_ult1',\n",
       " 'ind_recibo_ult1 ind_nom_pens_ult1 ind_nomina_ult1 ind_cno_fin_ult1 ind_tjcr_fin_ult1 ind_ecue_fin_ult1 ind_reca_fin_ult1',\n",
       " 'ind_recibo_ult1 ind_cno_fin_ult1 ind_nomina_ult1 ind_nom_pens_ult1 ind_reca_fin_ult1 ind_ecue_fin_ult1 ind_valo_fin_ult1',\n",
       " 'ind_recibo_ult1 ind_nom_pens_ult1 ind_nomina_ult1 ind_cno_fin_ult1 ind_tjcr_fin_ult1 ind_ecue_fin_ult1 ind_reca_fin_ult1',\n",
       " 'ind_tjcr_fin_ult1 ind_cco_fin_ult1 ind_ecue_fin_ult1 ind_dela_fin_ult1 ind_fond_fin_ult1 ind_valo_fin_ult1 ind_plan_fin_ult1',\n",
       " 'ind_recibo_ult1 ind_nom_pens_ult1 ind_nomina_ult1 ind_cno_fin_ult1 ind_ecue_fin_ult1 ind_tjcr_fin_ult1 ind_reca_fin_ult1',\n",
       " 'ind_cco_fin_ult1 ind_recibo_ult1 ind_cno_fin_ult1 ind_nomina_ult1 ind_nom_pens_ult1 ind_ecue_fin_ult1 ind_reca_fin_ult1',\n",
       " 'ind_recibo_ult1 ind_cno_fin_ult1 ind_ecue_fin_ult1 ind_nomina_ult1 ind_nom_pens_ult1 ind_reca_fin_ult1 ind_tjcr_fin_ult1',\n",
       " 'ind_cco_fin_ult1 ind_recibo_ult1 ind_cno_fin_ult1 ind_nomina_ult1 ind_nom_pens_ult1 ind_reca_fin_ult1 ind_ecue_fin_ult1',\n",
       " 'ind_cco_fin_ult1 ind_recibo_ult1 ind_ecue_fin_ult1 ind_cno_fin_ult1 ind_nom_pens_ult1 ind_dela_fin_ult1 ind_reca_fin_ult1',\n",
       " 'ind_nom_pens_ult1 ind_nomina_ult1 ind_cno_fin_ult1 ind_tjcr_fin_ult1 ind_ecue_fin_ult1 ind_reca_fin_ult1 ind_valo_fin_ult1',\n",
       " 'ind_nom_pens_ult1 ind_tjcr_fin_ult1 ind_nomina_ult1 ind_ecue_fin_ult1 ind_cno_fin_ult1 ind_dela_fin_ult1 ind_reca_fin_ult1',\n",
       " 'ind_nom_pens_ult1 ind_recibo_ult1 ind_ecue_fin_ult1 ind_cno_fin_ult1 ind_nomina_ult1 ind_dela_fin_ult1 ind_reca_fin_ult1',\n",
       " 'ind_nom_pens_ult1 ind_nomina_ult1 ind_cco_fin_ult1 ind_tjcr_fin_ult1 ind_ecue_fin_ult1 ind_reca_fin_ult1 ind_valo_fin_ult1',\n",
       " 'ind_recibo_ult1 ind_nom_pens_ult1 ind_nomina_ult1 ind_tjcr_fin_ult1 ind_cno_fin_ult1 ind_ecue_fin_ult1 ind_reca_fin_ult1',\n",
       " 'ind_recibo_ult1 ind_nom_pens_ult1 ind_nomina_ult1 ind_cno_fin_ult1 ind_ecue_fin_ult1 ind_reca_fin_ult1 ind_tjcr_fin_ult1',\n",
       " 'ind_recibo_ult1 ind_nom_pens_ult1 ind_cno_fin_ult1 ind_nomina_ult1 ind_ecue_fin_ult1 ind_reca_fin_ult1 ind_tjcr_fin_ult1',\n",
       " 'ind_cco_fin_ult1 ind_recibo_ult1 ind_cno_fin_ult1 ind_nom_pens_ult1 ind_ecue_fin_ult1 ind_nomina_ult1 ind_reca_fin_ult1',\n",
       " 'ind_nom_pens_ult1 ind_nomina_ult1 ind_cno_fin_ult1 ind_tjcr_fin_ult1 ind_ecue_fin_ult1 ind_reca_fin_ult1 ind_dela_fin_ult1',\n",
       " 'ind_recibo_ult1 ind_nom_pens_ult1 ind_nomina_ult1 ind_cno_fin_ult1 ind_ecue_fin_ult1 ind_tjcr_fin_ult1 ind_reca_fin_ult1',\n",
       " 'ind_recibo_ult1 ind_tjcr_fin_ult1 ind_ecue_fin_ult1 ind_reca_fin_ult1 ind_dela_fin_ult1 ind_fond_fin_ult1 ind_ctma_fin_ult1',\n",
       " 'ind_recibo_ult1 ind_nom_pens_ult1 ind_nomina_ult1 ind_tjcr_fin_ult1 ind_cco_fin_ult1 ind_cno_fin_ult1 ind_ecue_fin_ult1',\n",
       " 'ind_nom_pens_ult1 ind_tjcr_fin_ult1 ind_nomina_ult1 ind_cco_fin_ult1 ind_ecue_fin_ult1 ind_reca_fin_ult1 ind_dela_fin_ult1',\n",
       " 'ind_nom_pens_ult1 ind_nomina_ult1 ind_tjcr_fin_ult1 ind_cno_fin_ult1 ind_ecue_fin_ult1 ind_reca_fin_ult1 ind_dela_fin_ult1',\n",
       " 'ind_recibo_ult1 ind_nom_pens_ult1 ind_nomina_ult1 ind_tjcr_fin_ult1 ind_cno_fin_ult1 ind_ecue_fin_ult1 ind_reca_fin_ult1',\n",
       " 'ind_nom_pens_ult1 ind_nomina_ult1 ind_cno_fin_ult1 ind_tjcr_fin_ult1 ind_ecue_fin_ult1 ind_reca_fin_ult1 ind_dela_fin_ult1',\n",
       " 'ind_cco_fin_ult1 ind_recibo_ult1 ind_cno_fin_ult1 ind_ecue_fin_ult1 ind_nom_pens_ult1 ind_nomina_ult1 ind_reca_fin_ult1',\n",
       " 'ind_nom_pens_ult1 ind_recibo_ult1 ind_tjcr_fin_ult1 ind_ecue_fin_ult1 ind_cno_fin_ult1 ind_dela_fin_ult1 ind_reca_fin_ult1',\n",
       " 'ind_recibo_ult1 ind_cno_fin_ult1 ind_nom_pens_ult1 ind_nomina_ult1 ind_reca_fin_ult1 ind_ecue_fin_ult1 ind_valo_fin_ult1',\n",
       " 'ind_cco_fin_ult1 ind_recibo_ult1 ind_cno_fin_ult1 ind_nomina_ult1 ind_nom_pens_ult1 ind_tjcr_fin_ult1 ind_ecue_fin_ult1',\n",
       " 'ind_recibo_ult1 ind_cno_fin_ult1 ind_nomina_ult1 ind_nom_pens_ult1 ind_reca_fin_ult1 ind_ecue_fin_ult1 ind_tjcr_fin_ult1',\n",
       " 'ind_recibo_ult1 ind_nom_pens_ult1 ind_nomina_ult1 ind_tjcr_fin_ult1 ind_cno_fin_ult1 ind_ecue_fin_ult1 ind_reca_fin_ult1',\n",
       " 'ind_recibo_ult1 ind_cno_fin_ult1 ind_nomina_ult1 ind_nom_pens_ult1 ind_reca_fin_ult1 ind_ecue_fin_ult1 ind_tjcr_fin_ult1',\n",
       " 'ind_recibo_ult1 ind_nomina_ult1 ind_nom_pens_ult1 ind_cno_fin_ult1 ind_reca_fin_ult1 ind_ecue_fin_ult1 ind_tjcr_fin_ult1',\n",
       " 'ind_recibo_ult1 ind_nom_pens_ult1 ind_nomina_ult1 ind_cno_fin_ult1 ind_tjcr_fin_ult1 ind_reca_fin_ult1 ind_ecue_fin_ult1',\n",
       " 'ind_recibo_ult1 ind_nom_pens_ult1 ind_nomina_ult1 ind_cno_fin_ult1 ind_tjcr_fin_ult1 ind_reca_fin_ult1 ind_ecue_fin_ult1',\n",
       " 'ind_recibo_ult1 ind_nomina_ult1 ind_nom_pens_ult1 ind_cno_fin_ult1 ind_ecue_fin_ult1 ind_reca_fin_ult1 ind_dela_fin_ult1',\n",
       " 'ind_recibo_ult1 ind_cno_fin_ult1 ind_nomina_ult1 ind_nom_pens_ult1 ind_reca_fin_ult1 ind_ecue_fin_ult1 ind_dela_fin_ult1',\n",
       " 'ind_recibo_ult1 ind_cno_fin_ult1 ind_nomina_ult1 ind_nom_pens_ult1 ind_reca_fin_ult1 ind_ecue_fin_ult1 ind_valo_fin_ult1',\n",
       " 'ind_recibo_ult1 ind_cno_fin_ult1 ind_nomina_ult1 ind_nom_pens_ult1 ind_ecue_fin_ult1 ind_reca_fin_ult1 ind_dela_fin_ult1',\n",
       " 'ind_recibo_ult1 ind_nom_pens_ult1 ind_nomina_ult1 ind_cno_fin_ult1 ind_tjcr_fin_ult1 ind_reca_fin_ult1 ind_ecue_fin_ult1',\n",
       " 'ind_recibo_ult1 ind_cno_fin_ult1 ind_nomina_ult1 ind_nom_pens_ult1 ind_reca_fin_ult1 ind_ecue_fin_ult1 ind_valo_fin_ult1',\n",
       " 'ind_recibo_ult1 ind_cno_fin_ult1 ind_nomina_ult1 ind_nom_pens_ult1 ind_reca_fin_ult1 ind_ecue_fin_ult1 ind_tjcr_fin_ult1',\n",
       " 'ind_recibo_ult1 ind_cno_fin_ult1 ind_nomina_ult1 ind_reca_fin_ult1 ind_nom_pens_ult1 ind_ecue_fin_ult1 ind_valo_fin_ult1',\n",
       " 'ind_recibo_ult1 ind_cno_fin_ult1 ind_nomina_ult1 ind_nom_pens_ult1 ind_reca_fin_ult1 ind_ecue_fin_ult1 ind_valo_fin_ult1',\n",
       " 'ind_nom_pens_ult1 ind_nomina_ult1 ind_cco_fin_ult1 ind_tjcr_fin_ult1 ind_ecue_fin_ult1 ind_reca_fin_ult1 ind_dela_fin_ult1',\n",
       " 'ind_cco_fin_ult1 ind_recibo_ult1 ind_cno_fin_ult1 ind_nomina_ult1 ind_nom_pens_ult1 ind_reca_fin_ult1 ind_ecue_fin_ult1',\n",
       " 'ind_recibo_ult1 ind_cco_fin_ult1 ind_cno_fin_ult1 ind_nomina_ult1 ind_nom_pens_ult1 ind_reca_fin_ult1 ind_ecue_fin_ult1',\n",
       " 'ind_recibo_ult1 ind_nom_pens_ult1 ind_nomina_ult1 ind_cno_fin_ult1 ind_reca_fin_ult1 ind_tjcr_fin_ult1 ind_ecue_fin_ult1',\n",
       " 'ind_recibo_ult1 ind_nom_pens_ult1 ind_nomina_ult1 ind_cno_fin_ult1 ind_tjcr_fin_ult1 ind_ecue_fin_ult1 ind_reca_fin_ult1',\n",
       " 'ind_recibo_ult1 ind_cno_fin_ult1 ind_nomina_ult1 ind_nom_pens_ult1 ind_reca_fin_ult1 ind_ecue_fin_ult1 ind_tjcr_fin_ult1',\n",
       " 'ind_recibo_ult1 ind_nom_pens_ult1 ind_nomina_ult1 ind_cno_fin_ult1 ind_tjcr_fin_ult1 ind_ecue_fin_ult1 ind_reca_fin_ult1',\n",
       " 'ind_recibo_ult1 ind_cno_fin_ult1 ind_nomina_ult1 ind_nom_pens_ult1 ind_reca_fin_ult1 ind_ecue_fin_ult1 ind_tjcr_fin_ult1',\n",
       " 'ind_recibo_ult1 ind_cno_fin_ult1 ind_nomina_ult1 ind_nom_pens_ult1 ind_reca_fin_ult1 ind_ecue_fin_ult1 ind_dela_fin_ult1',\n",
       " 'ind_recibo_ult1 ind_cno_fin_ult1 ind_nomina_ult1 ind_nom_pens_ult1 ind_reca_fin_ult1 ind_ecue_fin_ult1 ind_tjcr_fin_ult1',\n",
       " 'ind_recibo_ult1 ind_nom_pens_ult1 ind_nomina_ult1 ind_cno_fin_ult1 ind_tjcr_fin_ult1 ind_ecue_fin_ult1 ind_reca_fin_ult1',\n",
       " 'ind_recibo_ult1 ind_nom_pens_ult1 ind_nomina_ult1 ind_cno_fin_ult1 ind_tjcr_fin_ult1 ind_reca_fin_ult1 ind_ecue_fin_ult1',\n",
       " 'ind_recibo_ult1 ind_cno_fin_ult1 ind_nomina_ult1 ind_nom_pens_ult1 ind_reca_fin_ult1 ind_ecue_fin_ult1 ind_tjcr_fin_ult1',\n",
       " 'ind_recibo_ult1 ind_cno_fin_ult1 ind_nom_pens_ult1 ind_nomina_ult1 ind_reca_fin_ult1 ind_ecue_fin_ult1 ind_valo_fin_ult1',\n",
       " 'ind_recibo_ult1 ind_cno_fin_ult1 ind_nomina_ult1 ind_nom_pens_ult1 ind_reca_fin_ult1 ind_ecue_fin_ult1 ind_valo_fin_ult1',\n",
       " 'ind_recibo_ult1 ind_cno_fin_ult1 ind_nomina_ult1 ind_nom_pens_ult1 ind_reca_fin_ult1 ind_ecue_fin_ult1 ind_valo_fin_ult1',\n",
       " 'ind_recibo_ult1 ind_cno_fin_ult1 ind_nomina_ult1 ind_nom_pens_ult1 ind_reca_fin_ult1 ind_ecue_fin_ult1 ind_dela_fin_ult1',\n",
       " 'ind_recibo_ult1 ind_cno_fin_ult1 ind_nomina_ult1 ind_nom_pens_ult1 ind_reca_fin_ult1 ind_ecue_fin_ult1 ind_valo_fin_ult1',\n",
       " ...]"
      ]
     },
     "execution_count": 97,
     "metadata": {},
     "output_type": "execute_result"
    }
   ],
   "source": [
    "final_preds"
   ]
  },
  {
   "cell_type": "markdown",
   "metadata": {},
   "source": [
    "final_preds is looking good because the most common products in the training labels are appearing often."
   ]
  },
  {
   "cell_type": "markdown",
   "metadata": {},
   "source": [
    "Let's make our submission to Kaggle by combining the customer codes (ncodpers) with our predictions"
   ]
  },
  {
   "cell_type": "code",
   "execution_count": 98,
   "metadata": {},
   "outputs": [],
   "source": [
    "submission = pd.DataFrame({'ncodpers':test_ids,'added_products':final_preds})\n",
    "submission.to_csv('/Users/Dave/Desktop/Programming/Personal Projects/Santander-Kaggle/submission.csv',index=False)"
   ]
  },
  {
   "cell_type": "markdown",
   "metadata": {},
   "source": [
    "Let's check our submission to see if everything looks alright."
   ]
  },
  {
   "cell_type": "code",
   "execution_count": 511,
   "metadata": {},
   "outputs": [
    {
     "data": {
      "text/html": [
       "<div>\n",
       "<table border=\"1\" class=\"dataframe\">\n",
       "  <thead>\n",
       "    <tr style=\"text-align: right;\">\n",
       "      <th></th>\n",
       "      <th>added_products</th>\n",
       "      <th>ncodpers</th>\n",
       "    </tr>\n",
       "  </thead>\n",
       "  <tbody>\n",
       "    <tr>\n",
       "      <th>0</th>\n",
       "      <td>ind_recibo_ult1 ind_nom_pens_ult1 ind_nomina_u...</td>\n",
       "      <td>15889</td>\n",
       "    </tr>\n",
       "    <tr>\n",
       "      <th>1</th>\n",
       "      <td>ind_recibo_ult1 ind_cno_fin_ult1 ind_nom_pens_...</td>\n",
       "      <td>1170544</td>\n",
       "    </tr>\n",
       "    <tr>\n",
       "      <th>2</th>\n",
       "      <td>ind_recibo_ult1 ind_nom_pens_ult1 ind_nomina_u...</td>\n",
       "      <td>1170545</td>\n",
       "    </tr>\n",
       "    <tr>\n",
       "      <th>3</th>\n",
       "      <td>ind_nom_pens_ult1 ind_recibo_ult1 ind_cno_fin_...</td>\n",
       "      <td>1170547</td>\n",
       "    </tr>\n",
       "    <tr>\n",
       "      <th>4</th>\n",
       "      <td>ind_recibo_ult1 ind_nom_pens_ult1 ind_nomina_u...</td>\n",
       "      <td>1170548</td>\n",
       "    </tr>\n",
       "    <tr>\n",
       "      <th>5</th>\n",
       "      <td>ind_recibo_ult1 ind_nom_pens_ult1 ind_cno_fin_...</td>\n",
       "      <td>1170550</td>\n",
       "    </tr>\n",
       "    <tr>\n",
       "      <th>6</th>\n",
       "      <td>ind_nom_pens_ult1 ind_nomina_ult1 ind_cno_fin_...</td>\n",
       "      <td>1170552</td>\n",
       "    </tr>\n",
       "    <tr>\n",
       "      <th>7</th>\n",
       "      <td>ind_recibo_ult1 ind_nomina_ult1 ind_nom_pens_u...</td>\n",
       "      <td>1170553</td>\n",
       "    </tr>\n",
       "    <tr>\n",
       "      <th>8</th>\n",
       "      <td>ind_recibo_ult1 ind_nom_pens_ult1 ind_cno_fin_...</td>\n",
       "      <td>1170555</td>\n",
       "    </tr>\n",
       "    <tr>\n",
       "      <th>9</th>\n",
       "      <td>ind_recibo_ult1 ind_nom_pens_ult1 ind_nomina_u...</td>\n",
       "      <td>1170557</td>\n",
       "    </tr>\n",
       "    <tr>\n",
       "      <th>10</th>\n",
       "      <td>ind_cco_fin_ult1 ind_recibo_ult1 ind_nom_pens_...</td>\n",
       "      <td>1170559</td>\n",
       "    </tr>\n",
       "    <tr>\n",
       "      <th>11</th>\n",
       "      <td>ind_recibo_ult1 ind_nom_pens_ult1 ind_nomina_u...</td>\n",
       "      <td>1170563</td>\n",
       "    </tr>\n",
       "  </tbody>\n",
       "</table>\n",
       "</div>"
      ],
      "text/plain": [
       "                                       added_products  ncodpers\n",
       "0   ind_recibo_ult1 ind_nom_pens_ult1 ind_nomina_u...     15889\n",
       "1   ind_recibo_ult1 ind_cno_fin_ult1 ind_nom_pens_...   1170544\n",
       "2   ind_recibo_ult1 ind_nom_pens_ult1 ind_nomina_u...   1170545\n",
       "3   ind_nom_pens_ult1 ind_recibo_ult1 ind_cno_fin_...   1170547\n",
       "4   ind_recibo_ult1 ind_nom_pens_ult1 ind_nomina_u...   1170548\n",
       "5   ind_recibo_ult1 ind_nom_pens_ult1 ind_cno_fin_...   1170550\n",
       "6   ind_nom_pens_ult1 ind_nomina_ult1 ind_cno_fin_...   1170552\n",
       "7   ind_recibo_ult1 ind_nomina_ult1 ind_nom_pens_u...   1170553\n",
       "8   ind_recibo_ult1 ind_nom_pens_ult1 ind_cno_fin_...   1170555\n",
       "9   ind_recibo_ult1 ind_nom_pens_ult1 ind_nomina_u...   1170557\n",
       "10  ind_cco_fin_ult1 ind_recibo_ult1 ind_nom_pens_...   1170559\n",
       "11  ind_recibo_ult1 ind_nom_pens_ult1 ind_nomina_u...   1170563"
      ]
     },
     "execution_count": 511,
     "metadata": {},
     "output_type": "execute_result"
    }
   ],
   "source": [
    "submission.head(10)"
   ]
  },
  {
   "cell_type": "code",
   "execution_count": 102,
   "metadata": {},
   "outputs": [
    {
     "name": "stdout",
     "output_type": "stream",
     "text": [
      "929615\n",
      "929615\n"
     ]
    }
   ],
   "source": [
    "print len(submission)\n",
    "print len(test)"
   ]
  },
  {
   "cell_type": "markdown",
   "metadata": {},
   "source": [
    "# Summary Report"
   ]
  },
  {
   "cell_type": "markdown",
   "metadata": {},
   "source": [
    "The goal of this model was to recommend new products to customers of Santander Bank. This was done by comparing the products that a customer had in each month with the previous month. If a customer had a new product in a given month, that month's data would be used to train the model. In order to avoid recommending products that a customer already had, the month prior to the prediction, May 2016, would be compared to the prediction month, June 2016. Any products that a customer had in May 2016 would be removed from the prediction set.\n",
    "\n",
    "As part of the requirements for the Kaggle competition, only seven products were needed to be recommended to each customer. The seven products that were most frequently recommended were (English translations are in paraeneses): ind_recibo_ult1 (Direct Debit), ind_nom_pens_ult1 (Pensions), ind_nomina_ult1 (Payroll), ind_cco_fin_ult1 (Current Accounts), ind_tjcr_fin_ult1 (Credit Card), ind_cno_fin_ult1 (Payroll Account), and ind_ecue_fin_ult1 (e-account).\n",
    "\n",
    "The seven most common products that customers already had were: ind_cco_fin_ult1(Current Accounts), ind_recibo_ult1 (Direct Debit), ind_ctop_fin_ult1 (Particular Account), ind_ecue_fin_ult1 (e-account), ind_cno_fin_ult1 (Payroll Account), ind_nom_pens_ult1 (Pensions), and ind_nomina_ult1 (Payroll).\n",
    "\n",
    "Although I did not perform as well as I would have liked to, and normally do, in this Kaggle Competition, I believe that I still have a useful model. The 'Sample Submission Benchmark' score was 0.004211, my score was 0.0220795, and the winning score was 0.031409 (a like to how the score was caluclated: https://www.kaggle.com/c/santander-product-recommendation/details/evaluation). Although I scored far closer to the winning score than the Sample Submission Benchmark, there is still room for improvement. This could have been done with greater feature engineering, using cross-validation (I chose not to do this given the amount of time it would have taken to train the model), or using an ensemble of models. I joined this competition days before it finished, which gave me some time to be creative and find a useful solution, but more time would have likely been beneficial to improving my final score."
   ]
  },
  {
   "cell_type": "code",
   "execution_count": null,
   "metadata": {
    "collapsed": true
   },
   "outputs": [],
   "source": []
  }
 ],
 "metadata": {
  "celltoolbar": "Raw Cell Format",
  "kernelspec": {
   "display_name": "Python 3",
   "language": "python",
   "name": "python3"
  },
  "language_info": {
   "codemirror_mode": {
    "name": "ipython",
    "version": 3
   },
   "file_extension": ".py",
   "mimetype": "text/x-python",
   "name": "python",
   "nbconvert_exporter": "python",
   "pygments_lexer": "ipython3",
   "version": "3.7.1"
  }
 },
 "nbformat": 4,
 "nbformat_minor": 1
}
